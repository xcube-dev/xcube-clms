{
 "cells": [
  {
   "cell_type": "markdown",
   "id": "50985101-4004-4e4d-b982-d7d32945bcaa",
   "metadata": {},
   "source": [
    "## Tutorial on how to use the CLMS Data Store powered by xcube"
   ]
  },
  {
   "cell_type": "code",
   "execution_count": 1,
   "id": "250f9f6f-af1d-42b5-a710-07ddf5cd92cc",
   "metadata": {},
   "outputs": [],
   "source": [
    "from xcube.core.store import new_data_store"
   ]
  },
  {
   "cell_type": "markdown",
   "id": "f348d2f4-5e98-483b-b5b3-e435ed1c337a",
   "metadata": {},
   "source": [
    "To get the credentials.json, please follow the steps outlined here. https://eea.github.io/clms-api-docs/authentication.html"
   ]
  },
  {
   "cell_type": "code",
   "execution_count": 2,
   "id": "63d5217a-6656-4d4a-b87b-60af717aa6ab",
   "metadata": {},
   "outputs": [],
   "source": [
    "import json\n",
    "json_file_path = \"credentials.json\"\n",
    "with open(json_file_path, 'r') as j:\n",
    "     credentials = json.loads(j.read())"
   ]
  },
  {
   "cell_type": "markdown",
   "id": "2d0e67eb-c063-4878-ad2c-66c321379cc2",
   "metadata": {},
   "source": [
    "When the user creates a new CLMS data store, it already sends requests to the CLMS API to get the catalog information. If no path is provided for the cache location, it will create a `preload_cache/` in the current directory to store all the downloaded data and initialize a local file store"
   ]
  },
  {
   "cell_type": "code",
   "execution_count": 4,
   "id": "d385ac31-4b59-458b-ab65-207eb317145a",
   "metadata": {
    "collapsed": true,
    "jupyter": {
     "outputs_hidden": true
    },
    "scrolled": true
   },
   "outputs": [
    {
     "name": "stderr",
     "output_type": "stream",
     "text": [
      "xcube.clms - 2024-12-06 21:51:32,982 -  INFO - Making a request to https://land.copernicus.eu/@@oauth2-token\n"
     ]
    },
    {
     "name": "stdout",
     "output_type": "stream",
     "text": [
      "Task: Waiting for response for server for the request: https://land.copernicus.eu/@@oauth2-token: ◐ Elapsed time: 0s"
     ]
    },
    {
     "name": "stderr",
     "output_type": "stream",
     "text": [
      "xcube.clms - 2024-12-06 21:51:33,284 -  INFO - Token refreshed successfully.\n",
      "xcube.clms - 2024-12-06 21:51:33,285 -  INFO - Local Filestore for preload cache created at /home/yogesh/Projects/BC/xcube-clms/examples/notebooks/preload_cache/\n",
      "xcube.clms - 2024-12-06 21:51:33,288 -  INFO - Fetching datasets metadata from https://land.copernicus.eu/api\n",
      "xcube.clms - 2024-12-06 21:51:33,289 -  INFO - Making a request to https://land.copernicus.eu/api/@search/?portal_type=DataSet&fullobjects=1\n"
     ]
    },
    {
     "name": "stdout",
     "output_type": "stream",
     "text": [
      "Task: Waiting for response for server for the request: https://land.copernicus.eu/@@oauth2-token: Done!                                                  \n",
      "Task: Waiting for response for server for the request: https://land.copernicus.eu/api/@search/?portal_type=DataSet&fullobjects=1: ◒ Elapsed time: 2s"
     ]
    },
    {
     "name": "stderr",
     "output_type": "stream",
     "text": [
      "xcube.clms - 2024-12-06 21:51:35,701 -  INFO - Making a request to https://land.copernicus.eu/api/@search/?b_start=25&portal_type=DataSet&fullobjects=1\n"
     ]
    },
    {
     "name": "stdout",
     "output_type": "stream",
     "text": [
      "Task: Waiting for response for server for the request: https://land.copernicus.eu/api/@search/?portal_type=DataSet&fullobjects=1: Done!                                                  \n",
      "Task: Waiting for response for server for the request: https://land.copernicus.eu/api/@search/?b_start=25&portal_type=DataSet&fullobjects=1: ◓ Elapsed time: 1s"
     ]
    },
    {
     "name": "stderr",
     "output_type": "stream",
     "text": [
      "xcube.clms - 2024-12-06 21:51:37,515 -  INFO - Making a request to https://land.copernicus.eu/api/@search/?b_start=50&portal_type=DataSet&fullobjects=1\n"
     ]
    },
    {
     "name": "stdout",
     "output_type": "stream",
     "text": [
      "Task: Waiting for response for server for the request: https://land.copernicus.eu/api/@search/?b_start=25&portal_type=DataSet&fullobjects=1: Done!                                                  \n",
      "Task: Waiting for response for server for the request: https://land.copernicus.eu/api/@search/?b_start=50&portal_type=DataSet&fullobjects=1: ◓ Elapsed time: 1s"
     ]
    },
    {
     "name": "stderr",
     "output_type": "stream",
     "text": [
      "xcube.clms - 2024-12-06 21:51:39,327 -  INFO - Making a request to https://land.copernicus.eu/api/@search/?b_start=75&portal_type=DataSet&fullobjects=1\n"
     ]
    },
    {
     "name": "stdout",
     "output_type": "stream",
     "text": [
      "Task: Waiting for response for server for the request: https://land.copernicus.eu/api/@search/?b_start=50&portal_type=DataSet&fullobjects=1: Done!                                                  \n",
      "Task: Waiting for response for server for the request: https://land.copernicus.eu/api/@search/?b_start=75&portal_type=DataSet&fullobjects=1: ◒ Elapsed time: 2s"
     ]
    },
    {
     "name": "stderr",
     "output_type": "stream",
     "text": [
      "xcube.clms - 2024-12-06 21:51:41,759 -  INFO - Making a request to https://land.copernicus.eu/api/@search/?b_start=100&portal_type=DataSet&fullobjects=1\n"
     ]
    },
    {
     "name": "stdout",
     "output_type": "stream",
     "text": [
      "Task: Waiting for response for server for the request: https://land.copernicus.eu/api/@search/?b_start=75&portal_type=DataSet&fullobjects=1: Done!                                                  \n",
      "Task: Waiting for response for server for the request: https://land.copernicus.eu/api/@search/?b_start=100&portal_type=DataSet&fullobjects=1: ◓ Elapsed time: 1s"
     ]
    },
    {
     "name": "stderr",
     "output_type": "stream",
     "text": [
      "xcube.clms - 2024-12-06 21:51:43,571 -  INFO - Making a request to https://land.copernicus.eu/api/@search/?b_start=125&portal_type=DataSet&fullobjects=1\n"
     ]
    },
    {
     "name": "stdout",
     "output_type": "stream",
     "text": [
      "Task: Waiting for response for server for the request: https://land.copernicus.eu/api/@search/?b_start=100&portal_type=DataSet&fullobjects=1: Done!                                                  \n",
      "Task: Waiting for response for server for the request: https://land.copernicus.eu/api/@search/?b_start=125&portal_type=DataSet&fullobjects=1: ◐ Elapsed time: 1s"
     ]
    },
    {
     "name": "stderr",
     "output_type": "stream",
     "text": [
      "xcube.clms - 2024-12-06 21:51:45,082 -  INFO - Making a request to https://land.copernicus.eu/api/@search/?b_start=150&portal_type=DataSet&fullobjects=1\n"
     ]
    },
    {
     "name": "stdout",
     "output_type": "stream",
     "text": [
      "Task: Waiting for response for server for the request: https://land.copernicus.eu/api/@search/?b_start=125&portal_type=DataSet&fullobjects=1: Done!                                                  \n",
      "Task: Waiting for response for server for the request: https://land.copernicus.eu/api/@search/?b_start=150&portal_type=DataSet&fullobjects=1: ◑ Elapsed time: 1s"
     ]
    },
    {
     "name": "stderr",
     "output_type": "stream",
     "text": [
      "xcube.clms - 2024-12-06 21:51:47,193 -  INFO - Making a request to https://land.copernicus.eu/api/@search/?b_start=175&portal_type=DataSet&fullobjects=1\n"
     ]
    },
    {
     "name": "stdout",
     "output_type": "stream",
     "text": [
      "Task: Waiting for response for server for the request: https://land.copernicus.eu/api/@search/?b_start=150&portal_type=DataSet&fullobjects=1: Done!                                                  \n",
      "Task: Waiting for response for server for the request: https://land.copernicus.eu/api/@search/?b_start=175&portal_type=DataSet&fullobjects=1: Done!                                                  \n"
     ]
    }
   ],
   "source": [
    "url = \"https://land.copernicus.eu/api\"\n",
    "cds = new_data_store(\"clms\", url=url, credentials=credentials)"
   ]
  },
  {
   "cell_type": "code",
   "execution_count": 5,
   "id": "c331de1d-7ba4-4efc-8635-ee1af6e8c1c4",
   "metadata": {},
   "outputs": [
    {
     "data": {
      "application/json": {
       "additionalProperties": false,
       "properties": {
        "cleanup": {
         "title": "Option to cleanup the directory in case there were multiple files downloaded for the same data_id. Defaults to True ",
         "type": "boolean"
        },
        "credentials": {
         "properties": {
          "client_id": {
           "type": "string"
          },
          "issued": {
           "type": "string"
          },
          "key_id": {
           "type": "string"
          },
          "private_key": {
           "type": "string"
          },
          "title": {
           "type": "string"
          },
          "token_uri": {
           "type": "string"
          },
          "user_id": {
           "type": "string"
          }
         },
         "required": [
          "client_id",
          "user_id",
          "token_uri",
          "private_key"
         ],
         "type": "object"
        },
        "path": {
         "title": "Temporary path to store the downloaded data.",
         "type": "string"
        },
        "url": {
         "title": "URL of CLMS API",
         "type": "string"
        }
       },
       "required": [
        "url",
        "credentials"
       ],
       "type": "object"
      },
      "text/plain": [
       "<xcube.util.jsonschema.JsonObjectSchema at 0x7d38873d5820>"
      ]
     },
     "execution_count": 5,
     "metadata": {},
     "output_type": "execute_result"
    }
   ],
   "source": [
    "cds.get_data_store_params_schema()"
   ]
  },
  {
   "cell_type": "markdown",
   "id": "4c0b03bb-c0ad-43f6-b8ed-00ab8173f023",
   "metadata": {},
   "source": [
    "With the following commands, the users can see how the data_ids look like for the CLMS store. Due to the nature of the API, we came up with the computed data_id that combines the product_id and item_id along with the `|` separator. But as a user, you dont have to worry about how it is created, but just that you need to use the complete data_id for interacting with any of the methods of this store"
   ]
  },
  {
   "cell_type": "code",
   "execution_count": 6,
   "id": "0b17f698-d9c7-49f5-b74e-0f001a8480be",
   "metadata": {
    "scrolled": true
   },
   "outputs": [
    {
     "data": {
      "text/plain": [
       "['clc-backbone-2021|CLMS_CLCplus_RASTER_2021',\n",
       " 'clc-backbone-2018|CLMS_CLCplus_RASTER_2018_010m_eu_03035_V1_1',\n",
       " 'season-maximum-value-2023-raster-300m-global-yearly-version-1|(SEASON 1) c_gls_LSP300-MAXV-S1_202301010000_GLOBE_OLCI_V1.0.1.tiff',\n",
       " 'season-maximum-value-2023-raster-300m-global-yearly-version-1|(SEASON 2) c_gls_LSP300-MAXV-S2_202301010000_GLOBE_OLCI_V1.0.1.tiff',\n",
       " 'slope_of_green-up-period-2023-raster-300m-global-yearly-version-1|(SEASON 1) c_gls_LSP300-LSLOPE-S1_202301010000_GLOBE_OLCI_V1.0.1.tiff',\n",
       " 'slope_of_green-up-period-2023-raster-300m-global-yearly-version-1|(SEASON 2) c_gls_LSP300-LSLOPE-S2_202301010000_GLOBE_OLCI_V1.0.1.tiff',\n",
       " 'slope_of_green-down-period-2023-raster-300m-global-yearly-version-1|(SEASON 1) c_gls_LSP300-RSLOPE-S1_202301010000_GLOBE_OLCI_V1.0.1.tiff',\n",
       " 'slope_of_green-down-period-2023-raster-300m-global-yearly-version-1|(SEASON 2) c_gls_LSP300-RSLOPE-S2_202301010000_GLOBE_OLCI_V1.0.1.tiff',\n",
       " 'start-of-season-value-2023-raster-300m-global-yearly-version-1|(SEASON 1) c_gls_LSP300-SOSV-S1_202301010000_GLOBE_OLCI_V1.0.1.tiff',\n",
       " 'start-of-season-value-2023-raster-300m-global-yearly-version-1|(SEASON 2) c_gls_LSP300-SOSV-S2_202301010000_GLOBE_OLCI_V1.0.1.tiff',\n",
       " 'total-productivity-2023-raster-300m-global-yearly-version-1|(SEASON 1) c_gls_LSP300-TPROD-S1_202301010000_GLOBE_OLCI_V1.0.1.tiff',\n",
       " 'total-productivity-2023-raster-300m-global-yearly-version-1|(SEASON 2) c_gls_LSP300-TPROD-S2_202301010000_GLOBE_OLCI_V1.0.1.tiff',\n",
       " 'season-minimum-value-2023-raster-300m-global-yearly-version-1|(SEASON 1) c_gls_LSP300-MINV-S1_202301010000_GLOBE_OLCI_V1.0.1.tiff',\n",
       " 'season-minimum-value-2023-raster-300m-global-yearly-version-1|(SEASON 2) c_gls_LSP300-MINV-S2_202301010000_GLOBE_OLCI_V1.0.1.tiff',\n",
       " 'season-length-2023-raster-300m-global-yearly-version-1|(SEASON 1) c_gls_LSP300-LENGTH-S1_202301010000_GLOBE_OLCI_V1.0.1.tiff',\n",
       " 'season-length-2023-raster-300m-global-yearly-version-1|(SEASON 2) c_gls_LSP300-LENGTH-S2_202301010000_GLOBE_OLCI_V1.0.1.tiff',\n",
       " 'season-amplitude-value-2023-raster-300m-global-yearly-version-1|(SEASON 1) c_gls_LSP300-AMPL-S1_202301010000_GLOBE_OLCI_V1.0.1.tiff',\n",
       " 'season-amplitude-value-2023-raster-300m-global-yearly-version-1|(SEASON 2) c_gls_LSP300-AMPL-S2_202301010000_GLOBE_OLCI_V1.0.1.tiff',\n",
       " 'season-maximum-date-2023-raster-300m-global-yearly-version-1|(SEASON 1) c_gls_LSP300-MAXD-S1_202301010000_GLOBE_OLCI_V1.0.1.tiff',\n",
       " 'season-maximum-date-2023-raster-300m-global-yearly-version-1|(SEASON 2) c_gls_LSP300-MAXD-S2_202301010000_GLOBE_OLCI_V1.0.1.tiff',\n",
       " 'start-of-season-date-2023-raster-300m-global-yearly-version-1|(SEASON 1) c_gls_LSP300-SOSD-S1_202301010000_GLOBE_OLCI_V1.0.1.tiff',\n",
       " 'start-of-season-date-2023-raster-300m-global-yearly-version-1|(SEASON 2) c_gls_LSP300-SOSD-S2_202301010000_GLOBE_OLCI_V1.0.1.tiff',\n",
       " 'seasonal-productivity-2023-raster-300m-global-yearly-version-1|(SEASON 1) c_gls_LSP300-SPROD-S1_202301010000_GLOBE_OLCI_V1.0.1.tiff',\n",
       " 'seasonal-productivity-2023-raster-300m-global-yearly-version-1| (SEASON 2) c_gls_LSP300-SPROD-S2_202301010000_GLOBE_OLCI_V1.0.1.tiff',\n",
       " 'vpp-parameters-quality-flag-2023-raster-300m-global-yearly-version-1|(SEASON 1) c_gls_LSP300-QA-S1_202301010000_GLOBE_OLCI_V1.0.1.tiff',\n",
       " 'vpp-parameters-quality-flag-2023-raster-300m-global-yearly-version-1|(SEASON 2) c_gls_LSP300-QA-S2_202301010000_GLOBE_OLCI_V1.0.1.tiff',\n",
       " 'end-of-season-date-2023-raster-300m-global-yearly-version-1|(SEASON 1) c_gls_LSP300-EOSD-S1_202301010000_GLOBE_OLCI_V1.0.1.tiff',\n",
       " 'end-of-season-date-2023-raster-300m-global-yearly-version-1|(SEASON 2) c_gls_LSP300-EOSD-S2_202301010000_GLOBE_OLCI_V1.0.1.tiff',\n",
       " 'clc2018|u2018_clc2018_v2020_20u1_raster100m',\n",
       " 'clc2018|u2018_clc2018_v2020_20u1_fgdb',\n",
       " 'clc2018|u2018_clc2018_v2020_20u1_geoPackage',\n",
       " 'clc-2012|u2018_clc2012_v2020_20u1_raster100m',\n",
       " 'clc-2012|u2018_clc2012_v2020_20u1_fgdb',\n",
       " 'clc-2012|u2018_clc2012_v2020_20u1_geoPackage',\n",
       " 'clc-2006|u2012_clc2006_v2020_20u1_raster100m',\n",
       " 'clc-2006|u2012_clc2006_v2020_20u1_fgdb',\n",
       " 'clc-2006|u2012_clc2006_v2020_20u1_geoPackage',\n",
       " 'clc-2000|u2006_clc2000_v2020_20u1_raster100m',\n",
       " 'clc-2000|u2006_clc2000_v2020_20u1_fgdb',\n",
       " 'clc-2000|u2006_clc2000_v2020_20u1_geoPackage',\n",
       " 'clc-1990|u2000_clc1990_v2020_20u1_raster100m',\n",
       " 'clc-1990|u2000_clc1990_v2020_20u1_fgdb',\n",
       " 'clc-1990|u2000_clc1990_v2020_20u1_geoPackage',\n",
       " 'lcc-2012-2018|u2018_cha1218_v2020_20u1_raster100m',\n",
       " 'lcc-2012-2018|u2018_cha1218_v2020_20u1_fgdb',\n",
       " 'lcc-2012-2018|u2018_cha1218_v2020_20u1_geoPackage',\n",
       " 'cha-2006-2012|u2012_cha0612_v2020_20u1_raster100m',\n",
       " 'cha-2006-2012|u2012_cha0612_v2020_20u1_fgdb',\n",
       " 'cha-2006-2012|u2012_cha0612_v2020_20u1_geoPackage',\n",
       " 'cha-2000-2006|u2006_cha0006_v2020_20u1_raster100m',\n",
       " 'cha-2000-2006|u2006_cha0006_v2020_20u1_fgdb',\n",
       " 'cha-2000-2006|u2006_cha0006_v2020_20u1_geoPackage',\n",
       " 'cha-1990-2000|u2000_cha9000_v2020_20u1_raster100m',\n",
       " 'cha-1990-2000|u2000_cha9000_v2020_20u1_fgdb',\n",
       " 'cha-1990-2000|u2000_cha9000_v2020_20u1_geoPackage',\n",
       " 'imperviousness-density-2018|IMD_2018_100m_eu_03035_v020',\n",
       " 'imperviousness-density-2018|IMD_2018_010m_eu_03035_v020',\n",
       " 'imperviousness-density-2018|IMD_2018_010m_al_03035_v020',\n",
       " 'imperviousness-density-2018|IMD_2018_010m_at_03035_v020',\n",
       " 'imperviousness-density-2018|IMD_2018_010m_ba_03035_v020',\n",
       " 'imperviousness-density-2018|IMD_2018_010m_be_03035_v020',\n",
       " 'imperviousness-density-2018|IMD_2018_010m_bg_03035_v020',\n",
       " 'imperviousness-density-2018|IMD_2018_010m_ch_03035_v020',\n",
       " 'imperviousness-density-2018|IMD_2018_010m_cy_03035_v020',\n",
       " 'imperviousness-density-2018|IMD_2018_010m_cz_03035_v020',\n",
       " 'imperviousness-density-2018|IMD_2018_010m_de_03035_v020',\n",
       " 'imperviousness-density-2018|IMD_2018_010m_dk_03035_v020',\n",
       " 'imperviousness-density-2018|IMD_2018_010m_ee_03035_v020',\n",
       " 'imperviousness-density-2018|IMD_2018_010m_es_03035_v020',\n",
       " 'imperviousness-density-2018|IMD_2018_010m_fi_03035_v020',\n",
       " 'imperviousness-density-2018|IMD_2018_010m_fr_03035_v020',\n",
       " 'imperviousness-density-2018|IMD_2018_010m_gb_03035_v020',\n",
       " 'imperviousness-density-2018|IMD_2018_010m_gr_03035_v020',\n",
       " 'imperviousness-density-2018|IMD_2018_010m_hr_03035_v020',\n",
       " 'imperviousness-density-2018|IMD_2018_010m_hu_03035_v020',\n",
       " 'imperviousness-density-2018|IMD_2018_010m_ie_03035_v020',\n",
       " 'imperviousness-density-2018|IMD_2018_010m_is_03035_v020',\n",
       " 'imperviousness-density-2018|IMD_2018_010m_it_03035_v020',\n",
       " 'imperviousness-density-2018|IMD_2018_010m_ks_03035_v020',\n",
       " 'imperviousness-density-2018|IMD_2018_010m_li_03035_v020',\n",
       " 'imperviousness-density-2018|IMD_2018_010m_lt_03035_v020',\n",
       " 'imperviousness-density-2018|IMD_2018_010m_lu_03035_v020',\n",
       " 'imperviousness-density-2018|IMD_2018_010m_lv_03035_v020',\n",
       " 'imperviousness-density-2018|IMD_2018_010m_me_03035_v020',\n",
       " 'imperviousness-density-2018|IMD_2018_010m_mk_03035_v020',\n",
       " 'imperviousness-density-2018|IMD_2018_010m_mt_03035_v020',\n",
       " 'imperviousness-density-2018|IMD_2018_010m_nl_03035_v020',\n",
       " 'imperviousness-density-2018|IMD_2018_010m_no_03035_v020',\n",
       " 'imperviousness-density-2018|IMD_2018_010m_pl_03035_v020',\n",
       " 'imperviousness-density-2018|IMD_2018_010m_pt_03035_v020',\n",
       " 'imperviousness-density-2018|IMD_2018_010m_ro_03035_v020',\n",
       " 'imperviousness-density-2018|IMD_2018_010m_rs_03035_v020',\n",
       " 'imperviousness-density-2018|IMD_2018_010m_se_03035_v020',\n",
       " 'imperviousness-density-2018|IMD_2018_010m_si_03035_v020',\n",
       " 'imperviousness-density-2018|IMD_2018_010m_sk_03035_v020',\n",
       " 'imperviousness-density-2018|IMD_2018_010m_tr_03035_v020',\n",
       " 'imperviousness-density-2015|IMD_2015_100m_eu_03035_d03_Full',\n",
       " 'imperviousness-density-2015|IMD_2015_020m_eu_03035_d05_Full',\n",
       " 'imperviousness-density-2015|IMD_2015_020m_eu_03035_d05_E00N20',\n",
       " 'imperviousness-density-2015|IMD_2015_020m_eu_03035_d05_E10N00',\n",
       " 'imperviousness-density-2015|IMD_2015_020m_eu_03035_d05_E10N10',\n",
       " 'imperviousness-density-2015|IMD_2015_020m_eu_03035_d05_E10N20',\n",
       " 'imperviousness-density-2015|IMD_2015_020m_eu_03035_d05_E20N10',\n",
       " 'imperviousness-density-2015|IMD_2015_020m_eu_03035_d05_E20N20',\n",
       " 'imperviousness-density-2015|IMD_2015_020m_eu_03035_d05_E20N30',\n",
       " 'imperviousness-density-2015|IMD_2015_020m_eu_03035_d05_E20N40',\n",
       " 'imperviousness-density-2015|IMD_2015_020m_eu_03035_d05_E20N50',\n",
       " 'imperviousness-density-2015|IMD_2015_020m_eu_03035_d05_E30N10',\n",
       " 'imperviousness-density-2015|IMD_2015_020m_eu_03035_d05_E30N20',\n",
       " 'imperviousness-density-2015|IMD_2015_020m_eu_03035_d05_E30N30',\n",
       " 'imperviousness-density-2015|IMD_2015_020m_eu_03035_d05_E30N40',\n",
       " 'imperviousness-density-2015|IMD_2015_020m_eu_03035_d05_E30N50',\n",
       " 'imperviousness-density-2015|IMD_2015_020m_eu_03035_d05_E40N10',\n",
       " 'imperviousness-density-2015|IMD_2015_020m_eu_03035_d05_E40N20',\n",
       " 'imperviousness-density-2015|IMD_2015_020m_eu_03035_d05_E40N30',\n",
       " 'imperviousness-density-2015|IMD_2015_020m_eu_03035_d05_E40N40',\n",
       " 'imperviousness-density-2015|IMD_2015_020m_eu_03035_d05_E40N50',\n",
       " 'imperviousness-density-2015|IMD_2015_020m_eu_03035_d05_E50N10',\n",
       " 'imperviousness-density-2015|IMD_2015_020m_eu_03035_d05_E50N20',\n",
       " 'imperviousness-density-2015|IMD_2015_020m_eu_03035_d05_E50N30',\n",
       " 'imperviousness-density-2015|IMD_2015_020m_eu_03035_d05_E50N40',\n",
       " 'imperviousness-density-2015|IMD_2015_020m_eu_03035_d05_E50N50',\n",
       " 'imperviousness-density-2015|IMD_2015_020m_eu_03035_d05_E60N10',\n",
       " 'imperviousness-density-2015|IMD_2015_020m_eu_03035_d05_E60N20',\n",
       " 'imperviousness-density-2015|IMD_2015_020m_eu_03035_d05_E70N20',\n",
       " 'imperviousness-density-2015|IMD_2015_100m_E00N20_03035_d03',\n",
       " 'imperviousness-density-2015|IMD_2015_100m_E10N00_03035_d03',\n",
       " 'imperviousness-density-2015|IMD_2015_100m_E10N10_03035_d03',\n",
       " 'imperviousness-density-2015|IMD_2015_100m_E10N20_03035_d03',\n",
       " 'imperviousness-density-2015|IMD_2015_100m_E20N10_03035_d03',\n",
       " 'imperviousness-density-2015|IMD_2015_100m_E20N20_03035_d03',\n",
       " 'imperviousness-density-2015|IMD_2015_100m_E20N30_03035_d03',\n",
       " 'imperviousness-density-2015|IMD_2015_100m_E20N40_03035_d03',\n",
       " 'imperviousness-density-2015|IMD_2015_100m_E20N50_03035_d03',\n",
       " 'imperviousness-density-2015|IMD_2015_100m_E30N10_03035_d03',\n",
       " 'imperviousness-density-2015|IMD_2015_100m_E30N20_03035_d03',\n",
       " 'imperviousness-density-2015|IMD_2015_100m_E30N30_03035_d03',\n",
       " 'imperviousness-density-2015|IMD_2015_100m_E30N40_03035_d03',\n",
       " 'imperviousness-density-2015|IMD_2015_100m_E30N50_03035_d03',\n",
       " 'imperviousness-density-2015|IMD_2015_100m_E40N10_03035_d03',\n",
       " 'imperviousness-density-2015|IMD_2015_100m_E40N20_03035_d03',\n",
       " 'imperviousness-density-2015|IMD_2015_100m_E40N30_03035_d03',\n",
       " 'imperviousness-density-2015|IMD_2015_100m_E40N40_03035_d03',\n",
       " 'imperviousness-density-2015|IMD_2015_100m_E40N50_03035_d03',\n",
       " 'imperviousness-density-2015|IMD_2015_100m_E50N10_03035_d03',\n",
       " 'imperviousness-density-2015|IMD_2015_100m_E50N20_03035_d03',\n",
       " 'imperviousness-density-2015|IMD_2015_100m_E50N30_03035_d03',\n",
       " 'imperviousness-density-2015|IMD_2015_100m_E50N40_03035_d03',\n",
       " 'imperviousness-density-2015|IMD_2015_100m_E50N50_03035_d03',\n",
       " 'imperviousness-density-2015|IMD_2015_100m_E60N10_03035_d03',\n",
       " 'imperviousness-density-2015|IMD_2015_100m_E60N20_03035_d03',\n",
       " 'imperviousness-density-2015|IMD_2015_100m_E70N20_03035_d03',\n",
       " 'imperviousness-density-2012|IMD_2012_100m_eu_03035_d03_Full',\n",
       " 'imperviousness-density-2012|IMD_2012_020m_eu_03035_d03_Full',\n",
       " 'imperviousness-density-2012|IMD_2012_020m_eu_03035_d03_E00N20',\n",
       " 'imperviousness-density-2012|IMD_2012_020m_eu_03035_d03_E10N00',\n",
       " 'imperviousness-density-2012|IMD_2012_020m_eu_03035_d03_E10N10',\n",
       " 'imperviousness-density-2012|IMD_2012_020m_eu_03035_d03_E10N20',\n",
       " 'imperviousness-density-2012|IMD_2012_020m_eu_03035_d03_E20N10',\n",
       " 'imperviousness-density-2012|IMD_2012_020m_eu_03035_d03_E20N20',\n",
       " 'imperviousness-density-2012|IMD_2012_020m_eu_03035_d03_E20N30',\n",
       " 'imperviousness-density-2012|IMD_2012_020m_eu_03035_d03_E20N40',\n",
       " 'imperviousness-density-2012|IMD_2012_020m_eu_03035_d03_E20N50',\n",
       " 'imperviousness-density-2012|IMD_2012_020m_eu_03035_d03_E30N10',\n",
       " 'imperviousness-density-2012|IMD_2012_020m_eu_03035_d03_E30N20',\n",
       " 'imperviousness-density-2012|IMD_2012_020m_eu_03035_d03_E30N30',\n",
       " 'imperviousness-density-2012|IMD_2012_020m_eu_03035_d03_E30N40',\n",
       " 'imperviousness-density-2012|IMD_2012_020m_eu_03035_d03_E30N50',\n",
       " 'imperviousness-density-2012|IMD_2012_020m_eu_03035_d03_E40N10',\n",
       " 'imperviousness-density-2012|IMD_2012_020m_eu_03035_d03_E40N20',\n",
       " 'imperviousness-density-2012|IMD_2012_020m_eu_03035_d03_E40N30',\n",
       " 'imperviousness-density-2012|IMD_2012_020m_eu_03035_d03_E40N40',\n",
       " 'imperviousness-density-2012|IMD_2012_020m_eu_03035_d03_E40N50',\n",
       " 'imperviousness-density-2012|IMD_2012_020m_eu_03035_d03_E50N10',\n",
       " 'imperviousness-density-2012|IMD_2012_020m_eu_03035_d03_E50N20',\n",
       " 'imperviousness-density-2012|IMD_2012_020m_eu_03035_d03_E50N30',\n",
       " 'imperviousness-density-2012|IMD_2012_020m_eu_03035_d03_E50N40',\n",
       " 'imperviousness-density-2012|IMD_2012_020m_eu_03035_d03_E50N50',\n",
       " 'imperviousness-density-2012|IMD_2012_020m_eu_03035_d03_E60N10',\n",
       " 'imperviousness-density-2012|IMD_2012_020m_eu_03035_d03_E60N20',\n",
       " 'imperviousness-density-2012|IMD_2012_020m_eu_03035_d03_E70N20',\n",
       " 'imperviousness-density-2012|IMD_2012_100m_eu_03035_d03_E00N20',\n",
       " 'imperviousness-density-2012|IMD_2012_100m_eu_03035_d03_E10N00',\n",
       " 'imperviousness-density-2012|IMD_2012_100m_eu_03035_d03_E10N10',\n",
       " 'imperviousness-density-2012|IMD_2012_100m_eu_03035_d03_E10N20',\n",
       " 'imperviousness-density-2012|IMD_2012_100m_eu_03035_d03_E20N10',\n",
       " 'imperviousness-density-2012|IMD_2012_100m_eu_03035_d03_E20N20',\n",
       " 'imperviousness-density-2012|IMD_2012_100m_eu_03035_d03_E20N30',\n",
       " 'imperviousness-density-2012|IMD_2012_100m_eu_03035_d03_E20N40',\n",
       " 'imperviousness-density-2012|IMD_2012_100m_eu_03035_d03_E20N50',\n",
       " 'imperviousness-density-2012|IMD_2012_100m_eu_03035_d03_E30N10',\n",
       " 'imperviousness-density-2012|IMD_2012_100m_eu_03035_d03_E30N20',\n",
       " 'imperviousness-density-2012|IMD_2012_100m_eu_03035_d03_E30N30',\n",
       " 'imperviousness-density-2012|IMD_2012_100m_eu_03035_d03_E30N40',\n",
       " 'imperviousness-density-2012|IMD_2012_100m_eu_03035_d03_E30N50',\n",
       " 'imperviousness-density-2012|IMD_2012_100m_eu_03035_d03_E40N10',\n",
       " 'imperviousness-density-2012|IMD_2012_100m_eu_03035_d03_E40N20',\n",
       " 'imperviousness-density-2012|IMD_2012_100m_eu_03035_d03_E40N30',\n",
       " 'imperviousness-density-2012|IMD_2012_100m_eu_03035_d03_E40N40',\n",
       " 'imperviousness-density-2012|IMD_2012_100m_eu_03035_d03_E40N50',\n",
       " 'imperviousness-density-2012|IMD_2012_100m_eu_03035_d03_E50N10',\n",
       " 'imperviousness-density-2012|IMD_2012_100m_eu_03035_d03_E50N20',\n",
       " 'imperviousness-density-2012|IMD_2012_100m_eu_03035_d03_E50N30',\n",
       " 'imperviousness-density-2012|IMD_2012_100m_eu_03035_d03_E50N40',\n",
       " 'imperviousness-density-2012|IMD_2012_100m_eu_03035_d03_E50N50',\n",
       " 'imperviousness-density-2012|IMD_2012_100m_eu_03035_d03_E60N10',\n",
       " 'imperviousness-density-2012|IMD_2012_100m_eu_03035_d03_E60N20',\n",
       " 'imperviousness-density-2012|IMD_2012_100m_eu_03035_d03_E70N20',\n",
       " 'imperviousness-density-2009|IMD_2009_100m_eu_03035_d03_Full',\n",
       " 'imperviousness-density-2009|IMD_2009_20m_eu_03035_d03_Full',\n",
       " 'imperviousness-density-2009|IMD_2009_20m_eu_03035_d03_E00N20',\n",
       " 'imperviousness-density-2009|IMD_2009_20m_eu_03035_d03_E10N00',\n",
       " 'imperviousness-density-2009|IMD_2009_20m_eu_03035_d03_E10N10',\n",
       " 'imperviousness-density-2009|IMD_2009_20m_eu_03035_d03_E10N20',\n",
       " 'imperviousness-density-2009|IMD_2009_20m_eu_03035_d03_E20N10',\n",
       " 'imperviousness-density-2009|IMD_2009_20m_eu_03035_d03_E20N20',\n",
       " 'imperviousness-density-2009|IMD_2009_20m_eu_03035_d03_E20N30',\n",
       " 'imperviousness-density-2009|IMD_2009_20m_eu_03035_d03_E20N40',\n",
       " 'imperviousness-density-2009|IMD_2009_20m_eu_03035_d03_E20N50',\n",
       " 'imperviousness-density-2009|IMD_2009_20m_eu_03035_d03_E30N10',\n",
       " 'imperviousness-density-2009|IMD_2009_20m_eu_03035_d03_E30N20',\n",
       " 'imperviousness-density-2009|IMD_2009_20m_eu_03035_d03_E30N30',\n",
       " 'imperviousness-density-2009|IMD_2009_20m_eu_03035_d03_E30N40',\n",
       " 'imperviousness-density-2009|IMD_2009_20m_eu_03035_d03_E30N50',\n",
       " 'imperviousness-density-2009|IMD_2009_20m_eu_03035_d03_E40N10',\n",
       " 'imperviousness-density-2009|IMD_2009_20m_eu_03035_d03_E40N20',\n",
       " 'imperviousness-density-2009|IMD_2009_20m_eu_03035_d03_E40N30',\n",
       " 'imperviousness-density-2009|IMD_2009_20m_eu_03035_d03_E40N40',\n",
       " 'imperviousness-density-2009|IMD_2009_20m_eu_03035_d03_E40N50',\n",
       " 'imperviousness-density-2009|IMD_2009_20m_eu_03035_d03_E50N10',\n",
       " 'imperviousness-density-2009|IMD_2009_20m_eu_03035_d03_E50N20',\n",
       " 'imperviousness-density-2009|IMD_2009_20m_eu_03035_d03_E50N30',\n",
       " 'imperviousness-density-2009|IMD_2009_20m_eu_03035_d03_E50N40',\n",
       " 'imperviousness-density-2009|IMD_2009_20m_eu_03035_d03_E50N50',\n",
       " 'imperviousness-density-2009|IMD_2009_20m_eu_03035_d03_E60N10',\n",
       " 'imperviousness-density-2009|IMD_2009_20m_eu_03035_d03_E60N20',\n",
       " 'imperviousness-density-2009|IMD_2009_20m_eu_03035_d03_E70N20',\n",
       " 'imperviousness-density-2009|IMD_2009_100m_eu_03035_d03_E00N20',\n",
       " 'imperviousness-density-2009|IMD_2009_100m_eu_03035_d03_E10N00',\n",
       " 'imperviousness-density-2009|IMD_2009_100m_eu_03035_d03_E10N10',\n",
       " 'imperviousness-density-2009|IMD_2009_100m_eu_03035_d03_E10N20',\n",
       " 'imperviousness-density-2009|IMD_2009_100m_eu_03035_d03_E20N10',\n",
       " 'imperviousness-density-2009|IMD_2009_100m_eu_03035_d03_E20N20',\n",
       " 'imperviousness-density-2009|IMD_2009_100m_eu_03035_d03_E20N30',\n",
       " 'imperviousness-density-2009|IMD_2009_100m_eu_03035_d03_E20N40',\n",
       " 'imperviousness-density-2009|IMD_2009_100m_eu_03035_d03_E20N50',\n",
       " 'imperviousness-density-2009|IMD_2009_100m_eu_03035_d03_E30N10',\n",
       " 'imperviousness-density-2009|IMD_2009_100m_eu_03035_d03_E30N20',\n",
       " 'imperviousness-density-2009|IMD_2009_100m_eu_03035_d03_E30N30',\n",
       " 'imperviousness-density-2009|IMD_2009_100m_eu_03035_d03_E30N40',\n",
       " 'imperviousness-density-2009|IMD_2009_100m_eu_03035_d03_E30N50',\n",
       " 'imperviousness-density-2009|IMD_2009_100m_eu_03035_d03_E40N10',\n",
       " 'imperviousness-density-2009|IMD_2009_100m_eu_03035_d03_E40N20',\n",
       " 'imperviousness-density-2009|IMD_2009_100m_eu_03035_d03_E40N30',\n",
       " 'imperviousness-density-2009|IMD_2009_100m_eu_03035_d03_E40N40',\n",
       " 'imperviousness-density-2009|IMD_2009_100m_eu_03035_d03_E40N50',\n",
       " 'imperviousness-density-2009|IMD_2009_100m_eu_03035_d03_E50N10',\n",
       " 'imperviousness-density-2009|IMD_2009_100m_eu_03035_d03_E50N20',\n",
       " 'imperviousness-density-2009|IMD_2009_100m_eu_03035_d03_E50N30',\n",
       " 'imperviousness-density-2009|IMD_2009_100m_eu_03035_d03_E50N40',\n",
       " 'imperviousness-density-2009|IMD_2009_100m_eu_03035_d03_E50N50',\n",
       " 'imperviousness-density-2009|IMD_2009_100m_eu_03035_d03_E60N10',\n",
       " 'imperviousness-density-2009|IMD_2009_100m_eu_03035_d03_E60N20',\n",
       " 'imperviousness-density-2009|IMD_2009_100m_eu_03035_d03_E70N20',\n",
       " 'imperviousness-density-2006|IMD_2006_100m_eu_03035_d03_Full',\n",
       " 'imperviousness-density-2006|IMD_2006_020m_eu_03035_d03_Full',\n",
       " 'imperviousness-density-2006|IMD_2006_020m_eu_03035_d03_E00N20',\n",
       " 'imperviousness-density-2006|IMD_2006_020m_eu_03035_d03_E10N00',\n",
       " 'imperviousness-density-2006|IMD_2006_020m_eu_03035_d03_E10N10',\n",
       " 'imperviousness-density-2006|IMD_2006_020m_eu_03035_d03_E10N20',\n",
       " 'imperviousness-density-2006|IMD_2006_020m_eu_03035_d03_E20N10',\n",
       " 'imperviousness-density-2006|IMD_2006_020m_eu_03035_d03_E20N20',\n",
       " 'imperviousness-density-2006|IMD_2006_020m_eu_03035_d03_E20N30',\n",
       " 'imperviousness-density-2006|IMD_2006_020m_eu_03035_d03_E20N40',\n",
       " 'imperviousness-density-2006|IMD_2006_020m_eu_03035_d03_E20N50',\n",
       " 'imperviousness-density-2006|IMD_2006_020m_eu_03035_d03_E30N10',\n",
       " 'imperviousness-density-2006|IMD_2006_020m_eu_03035_d03_E30N20',\n",
       " 'imperviousness-density-2006|IMD_2006_020m_eu_03035_d03_E30N30',\n",
       " 'imperviousness-density-2006|IMD_2006_020m_eu_03035_d03_E30N40',\n",
       " 'imperviousness-density-2006|IMD_2006_020m_eu_03035_d03_E30N50',\n",
       " 'imperviousness-density-2006|IMD_2006_020m_eu_03035_d03_E40N10',\n",
       " 'imperviousness-density-2006|IMD_2006_020m_eu_03035_d03_E40N20',\n",
       " 'imperviousness-density-2006|IMD_2006_020m_eu_03035_d03_E40N30',\n",
       " 'imperviousness-density-2006|IMD_2006_020m_eu_03035_d03_E40N40',\n",
       " 'imperviousness-density-2006|IMD_2006_020m_eu_03035_d03_E40N50',\n",
       " 'imperviousness-density-2006|IMD_2006_020m_eu_03035_d03_E50N10',\n",
       " 'imperviousness-density-2006|IMD_2006_020m_eu_03035_d03_E50N20',\n",
       " 'imperviousness-density-2006|IMD_2006_020m_eu_03035_d03_E50N30',\n",
       " 'imperviousness-density-2006|IMD_2006_020m_eu_03035_d03_E50N40',\n",
       " 'imperviousness-density-2006|IMD_2006_020m_eu_03035_d03_E50N50',\n",
       " 'imperviousness-density-2006|IMD_2006_020m_eu_03035_d03_E60N10',\n",
       " 'imperviousness-density-2006|IMD_2006_020m_eu_03035_d03_E60N20',\n",
       " 'imperviousness-density-2006|IMD_2006_020m_eu_03035_d03_E70N20',\n",
       " 'imperviousness-density-2006|IMD_2006_100m_eu_03035_d03_E00N20',\n",
       " 'imperviousness-density-2006|IMD_2006_100m_eu_03035_d03_E10N00',\n",
       " 'imperviousness-density-2006|IMD_2006_100m_eu_03035_d03_E10N10',\n",
       " 'imperviousness-density-2006|IMD_2006_100m_eu_03035_d03_E10N20',\n",
       " 'imperviousness-density-2006|IMD_2006_100m_eu_03035_d03_E20N10',\n",
       " 'imperviousness-density-2006|IMD_2006_100m_eu_03035_d03_E20N20',\n",
       " 'imperviousness-density-2006|IMD_2006_100m_eu_03035_d03_E20N30',\n",
       " 'imperviousness-density-2006|IMD_2006_100m_eu_03035_d03_E20N40',\n",
       " 'imperviousness-density-2006|IMD_2006_100m_eu_03035_d03_E20N50',\n",
       " 'imperviousness-density-2006|IMD_2006_100m_eu_03035_d03_E30N10',\n",
       " 'imperviousness-density-2006|IMD_2006_100m_eu_03035_d03_E30N20',\n",
       " 'imperviousness-density-2006|IMD_2006_100m_eu_03035_d03_E30N30',\n",
       " 'imperviousness-density-2006|IMD_2006_100m_eu_03035_d03_E30N40',\n",
       " 'imperviousness-density-2006|IMD_2006_100m_eu_03035_d03_E30N50',\n",
       " 'imperviousness-density-2006|IMD_2006_100m_eu_03035_d03_E40N10',\n",
       " 'imperviousness-density-2006|IMD_2006_100m_eu_03035_d03_E40N20',\n",
       " 'imperviousness-density-2006|IMD_2006_100m_eu_03035_d03_E40N30',\n",
       " 'imperviousness-density-2006|IMD_2006_100m_eu_03035_d03_E40N40',\n",
       " 'imperviousness-density-2006|IMD_2006_100m_eu_03035_d03_E40N50',\n",
       " 'imperviousness-density-2006|IMD_2006_100m_eu_03035_d03_E50N10',\n",
       " 'imperviousness-density-2006|IMD_2006_100m_eu_03035_d03_E50N20',\n",
       " 'imperviousness-density-2006|IMD_2006_100m_eu_03035_d03_E50N30',\n",
       " 'imperviousness-density-2006|IMD_2006_100m_eu_03035_d03_E50N40',\n",
       " 'imperviousness-density-2006|IMD_2006_100m_eu_03035_d03_E50N50',\n",
       " 'imperviousness-density-2006|IMD_2006_100m_eu_03035_d03_E60N10',\n",
       " 'imperviousness-density-2006|IMD_2006_100m_eu_03035_d03_E60N20',\n",
       " 'imperviousness-density-2006|IMD_2006_100m_eu_03035_d03_E70N20',\n",
       " 'imperviousness-change-2015-2018|IMC_1518_100m_eu_03035_v010',\n",
       " 'imperviousness-change-2015-2018|IMC_1518_020m_eu_03035_v010',\n",
       " 'imperviousness-change-2015-2018|IMC_1518_020m_al_03035_v010',\n",
       " 'imperviousness-change-2015-2018|IMC_1518_020m_at_03035_v010',\n",
       " 'imperviousness-change-2015-2018|IMC_1518_020m_ba_03035_v010',\n",
       " 'imperviousness-change-2015-2018|IMC_1518_020m_be_03035_v010',\n",
       " 'imperviousness-change-2015-2018|IMC_1518_020m_bg_03035_v010',\n",
       " 'imperviousness-change-2015-2018|IMC_1518_020m_ch_03035_v010',\n",
       " 'imperviousness-change-2015-2018|IMC_1518_020m_cy_03035_v010',\n",
       " 'imperviousness-change-2015-2018|IMC_1518_020m_cz_03035_v010',\n",
       " 'imperviousness-change-2015-2018|IMC_1518_020m_de_03035_v010',\n",
       " 'imperviousness-change-2015-2018|IMC_1518_020m_dk_03035_v010',\n",
       " 'imperviousness-change-2015-2018|IMC_1518_020m_ee_03035_v010',\n",
       " 'imperviousness-change-2015-2018|IMC_1518_020m_es_03035_v010',\n",
       " 'imperviousness-change-2015-2018|IMC_1518_020m_fi_03035_v010',\n",
       " 'imperviousness-change-2015-2018|IMC_1518_020m_fr_03035_v010',\n",
       " 'imperviousness-change-2015-2018|IMC_1518_020m_gb_03035_v010',\n",
       " 'imperviousness-change-2015-2018|IMC_1518_020m_gr_03035_v010',\n",
       " 'imperviousness-change-2015-2018|IMC_1518_020m_hr_03035_v010',\n",
       " 'imperviousness-change-2015-2018|IMC_1518_020m_hu_03035_v010',\n",
       " 'imperviousness-change-2015-2018|IMC_1518_020m_ie_03035_v010',\n",
       " 'imperviousness-change-2015-2018|IMC_1518_020m_is_03035_v010',\n",
       " 'imperviousness-change-2015-2018|IMC_1518_020m_it_03035_v010',\n",
       " 'imperviousness-change-2015-2018|IMC_1518_020m_ks_03035_v010',\n",
       " 'imperviousness-change-2015-2018|IMC_1518_020m_li_03035_v010',\n",
       " 'imperviousness-change-2015-2018|IMC_1518_020m_lt_03035_v010',\n",
       " 'imperviousness-change-2015-2018|IMC_1518_020m_lu_03035_v010',\n",
       " 'imperviousness-change-2015-2018|IMC_1518_020m_lv_03035_v010',\n",
       " 'imperviousness-change-2015-2018|IMC_1518_020m_me_03035_v010',\n",
       " 'imperviousness-change-2015-2018|IMC_1518_020m_mk_03035_v010',\n",
       " 'imperviousness-change-2015-2018|IMC_1518_020m_mt_03035_v010',\n",
       " 'imperviousness-change-2015-2018|IMC_1518_020m_nl_03035_v010',\n",
       " 'imperviousness-change-2015-2018|IMC_1518_020m_no_03035_v010',\n",
       " 'imperviousness-change-2015-2018|IMC_1518_020m_pl_03035_v010',\n",
       " 'imperviousness-change-2015-2018|IMC_1518_020m_pt_03035_v010',\n",
       " 'imperviousness-change-2015-2018|IMC_1518_020m_ro_03035_v010',\n",
       " 'imperviousness-change-2015-2018|IMC_1518_020m_rs_03035_v010',\n",
       " 'imperviousness-change-2015-2018|IMC_1518_020m_se_03035_v010',\n",
       " 'imperviousness-change-2015-2018|IMC_1518_020m_si_03035_v010',\n",
       " 'imperviousness-change-2015-2018|IMC_1518_020m_sk_03035_v010',\n",
       " 'imperviousness-change-2015-2018|IMC_1518_020m_tr_03035_v010',\n",
       " 'imperviousness-classified-change-2015-2018|IMCC_1518_020m_eu_03035_v010',\n",
       " 'imperviousness-classified-change-2015-2018|IMCC_1518_020m_al_03035_v010',\n",
       " 'imperviousness-classified-change-2015-2018|IMCC_1518_020m_at_03035_v010',\n",
       " 'imperviousness-classified-change-2015-2018|IMCC_1518_020m_ba_03035_v010',\n",
       " 'imperviousness-classified-change-2015-2018|IMCC_1518_020m_be_03035_v010',\n",
       " 'imperviousness-classified-change-2015-2018|IMCC_1518_020m_bg_03035_v010',\n",
       " 'imperviousness-classified-change-2015-2018|IMCC_1518_020m_ch_03035_v010',\n",
       " 'imperviousness-classified-change-2015-2018|IMCC_1518_020m_cy_03035_v010',\n",
       " 'imperviousness-classified-change-2015-2018|IMCC_1518_020m_cz_03035_v010',\n",
       " 'imperviousness-classified-change-2015-2018|IMCC_1518_020m_de_03035_v010',\n",
       " 'imperviousness-classified-change-2015-2018|IMCC_1518_020m_dk_03035_v010',\n",
       " 'imperviousness-classified-change-2015-2018|IMCC_1518_020m_ee_03035_v010',\n",
       " 'imperviousness-classified-change-2015-2018|IMCC_1518_020m_es_03035_v010',\n",
       " 'imperviousness-classified-change-2015-2018|IMCC_1518_020m_fi_03035_v010',\n",
       " 'imperviousness-classified-change-2015-2018|IMCC_1518_020m_fr_03035_v010',\n",
       " 'imperviousness-classified-change-2015-2018|IMCC_1518_020m_gb_03035_v010',\n",
       " 'imperviousness-classified-change-2015-2018|IMCC_1518_020m_gr_03035_v010',\n",
       " 'imperviousness-classified-change-2015-2018|IMCC_1518_020m_hr_03035_v010',\n",
       " 'imperviousness-classified-change-2015-2018|IMCC_1518_020m_hu_03035_v010',\n",
       " 'imperviousness-classified-change-2015-2018|IMCC_1518_020m_ie_03035_v010',\n",
       " 'imperviousness-classified-change-2015-2018|IMCC_1518_020m_is_03035_v010',\n",
       " 'imperviousness-classified-change-2015-2018|IMCC_1518_020m_it_03035_v010',\n",
       " 'imperviousness-classified-change-2015-2018|IMCC_1518_020m_ks_03035_v010',\n",
       " 'imperviousness-classified-change-2015-2018|IMCC_1518_020m_li_03035_v010',\n",
       " 'imperviousness-classified-change-2015-2018|IMCC_1518_020m_lt_03035_v010',\n",
       " 'imperviousness-classified-change-2015-2018|IMCC_1518_020m_lu_03035_v010',\n",
       " 'imperviousness-classified-change-2015-2018|IMCC_1518_020m_lv_03035_v010',\n",
       " 'imperviousness-classified-change-2015-2018|IMCC_1518_020m_me_03035_v010',\n",
       " 'imperviousness-classified-change-2015-2018|IMCC_1518_020m_mk_03035_v010',\n",
       " 'imperviousness-classified-change-2015-2018|IMCC_1518_020m_mt_03035_v010',\n",
       " 'imperviousness-classified-change-2015-2018|IMCC_1518_020m_nl_03035_v010',\n",
       " 'imperviousness-classified-change-2015-2018|IMCC_1518_020m_no_03035_v010',\n",
       " 'imperviousness-classified-change-2015-2018|IMCC_1518_020m_pl_03035_v010',\n",
       " 'imperviousness-classified-change-2015-2018|IMCC_1518_020m_pt_03035_v010',\n",
       " 'imperviousness-classified-change-2015-2018|IMCC_1518_020m_ro_03035_v010',\n",
       " 'imperviousness-classified-change-2015-2018|IMCC_1518_020m_rs_03035_v010',\n",
       " 'imperviousness-classified-change-2015-2018|IMCC_1518_020m_se_03035_v010',\n",
       " 'imperviousness-classified-change-2015-2018|IMCC_1518_020m_si_03035_v010',\n",
       " 'imperviousness-classified-change-2015-2018|IMCC_1518_020m_sk_03035_v010',\n",
       " 'imperviousness-classified-change-2015-2018|IMCC_1518_020m_tr_03035_v010',\n",
       " 'imperviousness-change-2012-2015|IMC_1215_100m_eu_03035_d03_Full',\n",
       " 'imperviousness-change-2012-2015|IMC_1215_020m_eu_03035_d03_Full',\n",
       " 'imperviousness-change-2012-2015|IMC_1215_020m_eu_03035_d03_E00N20',\n",
       " 'imperviousness-change-2012-2015|IMC_1215_020m_eu_03035_d03_E10N00',\n",
       " 'imperviousness-change-2012-2015|IMC_1215_020m_eu_03035_d03_E10N10',\n",
       " 'imperviousness-change-2012-2015|IMC_1215_020m_eu_03035_d03_E10N20',\n",
       " 'imperviousness-change-2012-2015|IMC_1215_020m_eu_03035_d03_E20N10',\n",
       " 'imperviousness-change-2012-2015|IMC_1215_020m_eu_03035_d03_E20N20',\n",
       " 'imperviousness-change-2012-2015|IMC_1215_020m_eu_03035_d03_E20N30',\n",
       " 'imperviousness-change-2012-2015|IMC_1215_020m_eu_03035_d03_E20N40',\n",
       " 'imperviousness-change-2012-2015|IMC_1215_020m_eu_03035_d03_E20N50',\n",
       " 'imperviousness-change-2012-2015|IMC_1215_020m_eu_03035_d03_E30N10',\n",
       " 'imperviousness-change-2012-2015|IMC_1215_020m_eu_03035_d03_E30N20',\n",
       " 'imperviousness-change-2012-2015|IMC_1215_020m_eu_03035_d03_E30N30',\n",
       " 'imperviousness-change-2012-2015|IMC_1215_020m_eu_03035_d03_E30N40',\n",
       " 'imperviousness-change-2012-2015|IMC_1215_020m_eu_03035_d03_E30N50',\n",
       " 'imperviousness-change-2012-2015|IMC_1215_020m_eu_03035_d03_E40N10',\n",
       " 'imperviousness-change-2012-2015|IMC_1215_020m_eu_03035_d03_E40N20',\n",
       " 'imperviousness-change-2012-2015|IMC_1215_020m_eu_03035_d03_E40N30',\n",
       " 'imperviousness-change-2012-2015|IMC_1215_020m_eu_03035_d03_E40N40',\n",
       " 'imperviousness-change-2012-2015|IMC_1215_020m_eu_03035_d03_E40N50',\n",
       " 'imperviousness-change-2012-2015|IMC_1215_020m_eu_03035_d03_E50N10',\n",
       " 'imperviousness-change-2012-2015|IMC_1215_020m_eu_03035_d03_E50N20',\n",
       " 'imperviousness-change-2012-2015|IMC_1215_020m_eu_03035_d03_E50N30',\n",
       " 'imperviousness-change-2012-2015|IMC_1215_020m_eu_03035_d03_E50N40',\n",
       " 'imperviousness-change-2012-2015|IMC_1215_020m_eu_03035_d03_E50N50',\n",
       " 'imperviousness-change-2012-2015|IMC_1215_020m_eu_03035_d03_E60N10',\n",
       " 'imperviousness-change-2012-2015|IMC_1215_020m_eu_03035_d03_E60N20',\n",
       " 'imperviousness-change-2012-2015|IMC_1215_020m_eu_03035_d03_E70N20',\n",
       " 'imperviousness-change-2012-2015|IMC_1215_100m_eu_03035_d03_E00N20',\n",
       " 'imperviousness-change-2012-2015|IMC_1215_100m_eu_03035_d03_E10N00',\n",
       " 'imperviousness-change-2012-2015|IMC_1215_100m_eu_03035_d03_E10N10',\n",
       " 'imperviousness-change-2012-2015|IMC_1215_100m_eu_03035_d03_E10N20',\n",
       " 'imperviousness-change-2012-2015|IMC_1215_100m_eu_03035_d03_E20N10',\n",
       " 'imperviousness-change-2012-2015|IMC_1215_100m_eu_03035_d03_E20N20',\n",
       " 'imperviousness-change-2012-2015|IMC_1215_100m_eu_03035_d03_E20N30',\n",
       " 'imperviousness-change-2012-2015|IMC_1215_100m_eu_03035_d03_E20N40',\n",
       " 'imperviousness-change-2012-2015|IMC_1215_100m_eu_03035_d03_E20N50',\n",
       " 'imperviousness-change-2012-2015|IMC_1215_100m_eu_03035_d03_E30N10',\n",
       " 'imperviousness-change-2012-2015|IMC_1215_100m_eu_03035_d03_E30N20',\n",
       " 'imperviousness-change-2012-2015|IMC_1215_100m_eu_03035_d03_E30N30',\n",
       " 'imperviousness-change-2012-2015|IMC_1215_100m_eu_03035_d03_E30N40',\n",
       " 'imperviousness-change-2012-2015|IMC_1215_100m_eu_03035_d03_E30N50',\n",
       " 'imperviousness-change-2012-2015|IMC_1215_100m_eu_03035_d03_E40N10',\n",
       " 'imperviousness-change-2012-2015|IMC_1215_100m_eu_03035_d03_E40N20',\n",
       " 'imperviousness-change-2012-2015|IMC_1215_100m_eu_03035_d03_E40N30',\n",
       " 'imperviousness-change-2012-2015|IMC_1215_100m_eu_03035_d03_E40N40',\n",
       " 'imperviousness-change-2012-2015|IMC_1215_100m_eu_03035_d03_E40N50',\n",
       " 'imperviousness-change-2012-2015|IMC_1215_100m_eu_03035_d03_E50N10',\n",
       " 'imperviousness-change-2012-2015|IMC_1215_100m_eu_03035_d03_E50N20',\n",
       " 'imperviousness-change-2012-2015|IMC_1215_100m_eu_03035_d03_E50N30',\n",
       " 'imperviousness-change-2012-2015|IMC_1215_100m_eu_03035_d03_E50N40',\n",
       " 'imperviousness-change-2012-2015|IMC_1215_100m_eu_03035_d03_E50N50',\n",
       " 'imperviousness-change-2012-2015|IMC_1215_100m_eu_03035_d03_E60N10',\n",
       " 'imperviousness-change-2012-2015|IMC_1215_100m_eu_03035_d03_E60N20',\n",
       " 'imperviousness-change-2012-2015|IMC_1215_100m_eu_03035_d03_E70N20',\n",
       " 'imperviousness-classified-change-2012-2015|IMCC_1215_020m_eu_03035_d03_Full',\n",
       " 'imperviousness-classified-change-2012-2015|IMCC_1215_020m_eu_03035_d03_E00N20',\n",
       " 'imperviousness-classified-change-2012-2015|IMCC_1215_020m_eu_03035_d03_E10N00',\n",
       " 'imperviousness-classified-change-2012-2015|IMCC_1215_020m_eu_03035_d03_E10N10',\n",
       " 'imperviousness-classified-change-2012-2015|IMCC_1215_020m_eu_03035_d03_E10N20',\n",
       " 'imperviousness-classified-change-2012-2015|IMCC_1215_020m_eu_03035_d03_E20N10',\n",
       " 'imperviousness-classified-change-2012-2015|IMCC_1215_020m_eu_03035_d03_E20N20',\n",
       " 'imperviousness-classified-change-2012-2015|IMCC_1215_020m_eu_03035_d03_E20N30',\n",
       " 'imperviousness-classified-change-2012-2015|IMCC_1215_020m_eu_03035_d03_E20N40',\n",
       " 'imperviousness-classified-change-2012-2015|IMCC_1215_020m_eu_03035_d03_E20N50',\n",
       " 'imperviousness-classified-change-2012-2015|IMCC_1215_020m_eu_03035_d03_E30N10',\n",
       " 'imperviousness-classified-change-2012-2015|IMCC_1215_020m_eu_03035_d03_E30N20',\n",
       " 'imperviousness-classified-change-2012-2015|IMCC_1215_020m_eu_03035_d03_E30N30',\n",
       " 'imperviousness-classified-change-2012-2015|IMCC_1215_020m_eu_03035_d03_E30N40',\n",
       " 'imperviousness-classified-change-2012-2015|IMCC_1215_020m_eu_03035_d03_E30N50',\n",
       " 'imperviousness-classified-change-2012-2015|IMCC_1215_020m_eu_03035_d03_E40N10',\n",
       " 'imperviousness-classified-change-2012-2015|IMCC_1215_020m_eu_03035_d03_E40N20',\n",
       " 'imperviousness-classified-change-2012-2015|IMCC_1215_020m_eu_03035_d03_E40N30',\n",
       " 'imperviousness-classified-change-2012-2015|IMCC_1215_020m_eu_03035_d03_E40N40',\n",
       " 'imperviousness-classified-change-2012-2015|IMCC_1215_020m_eu_03035_d03_E40N50',\n",
       " 'imperviousness-classified-change-2012-2015|IMCC_1215_020m_eu_03035_d03_E50N10',\n",
       " 'imperviousness-classified-change-2012-2015|IMCC_1215_020m_eu_03035_d03_E50N20',\n",
       " 'imperviousness-classified-change-2012-2015|IMCC_1215_020m_eu_03035_d03_E50N30',\n",
       " 'imperviousness-classified-change-2012-2015|IMCC_1215_020m_eu_03035_d03_E50N40',\n",
       " 'imperviousness-classified-change-2012-2015|IMCC_1215_020m_eu_03035_d03_E50N50',\n",
       " 'imperviousness-classified-change-2012-2015|IMCC_1215_020m_eu_03035_d03_E60N10',\n",
       " 'imperviousness-classified-change-2012-2015|IMCC_1215_020m_eu_03035_d03_E60N20',\n",
       " 'imperviousness-classified-change-2012-2015|IMCC_1215_020m_eu_03035_d03_E70N20',\n",
       " 'imperviousness-change-2009-2012|IMC_0912_100m_eu_03035_d03_Full',\n",
       " 'imperviousness-change-2009-2012|IMC_0912_020m_eu_03035_d03_Full',\n",
       " 'imperviousness-change-2009-2012|IMC_0912_020m_eu_03035_d03_E00N20',\n",
       " 'imperviousness-change-2009-2012|IMC_0912_020m_eu_03035_d03_E10N00',\n",
       " 'imperviousness-change-2009-2012|IMC_0912_020m_eu_03035_d03_E10N10',\n",
       " 'imperviousness-change-2009-2012|IMC_0912_020m_eu_03035_d03_E10N20',\n",
       " 'imperviousness-change-2009-2012|IMC_0912_020m_eu_03035_d03_E20N10',\n",
       " 'imperviousness-change-2009-2012|IMC_0912_020m_eu_03035_d03_E20N20',\n",
       " 'imperviousness-change-2009-2012|IMC_0912_020m_eu_03035_d03_E20N30',\n",
       " 'imperviousness-change-2009-2012|IMC_0912_020m_eu_03035_d03_E20N40',\n",
       " 'imperviousness-change-2009-2012|IMC_0912_020m_eu_03035_d03_E20N50',\n",
       " 'imperviousness-change-2009-2012|IMC_0912_020m_eu_03035_d03_E30N10',\n",
       " 'imperviousness-change-2009-2012|IMC_0912_020m_eu_03035_d03_E30N20',\n",
       " 'imperviousness-change-2009-2012|IMC_0912_020m_eu_03035_d03_E30N30',\n",
       " 'imperviousness-change-2009-2012|IMC_0912_020m_eu_03035_d03_E30N40',\n",
       " 'imperviousness-change-2009-2012|IMC_0912_020m_eu_03035_d03_E30N50',\n",
       " 'imperviousness-change-2009-2012|IMC_0912_020m_eu_03035_d03_E40N10',\n",
       " 'imperviousness-change-2009-2012|IMC_0912_020m_eu_03035_d03_E40N20',\n",
       " 'imperviousness-change-2009-2012|IMC_0912_020m_eu_03035_d03_E40N30',\n",
       " 'imperviousness-change-2009-2012|IMC_0912_020m_eu_03035_d03_E40N40',\n",
       " 'imperviousness-change-2009-2012|IMC_0912_020m_eu_03035_d03_E40N50',\n",
       " 'imperviousness-change-2009-2012|IMC_0912_020m_eu_03035_d03_E50N10',\n",
       " 'imperviousness-change-2009-2012|IMC_0912_020m_eu_03035_d03_E50N20',\n",
       " 'imperviousness-change-2009-2012|IMC_0912_020m_eu_03035_d03_E50N30',\n",
       " 'imperviousness-change-2009-2012|IMC_0912_020m_eu_03035_d03_E50N40',\n",
       " 'imperviousness-change-2009-2012|IMC_0912_020m_eu_03035_d03_E50N50',\n",
       " 'imperviousness-change-2009-2012|IMC_0912_020m_eu_03035_d03_E60N10',\n",
       " 'imperviousness-change-2009-2012|IMC_0912_020m_eu_03035_d03_E60N20',\n",
       " 'imperviousness-change-2009-2012|IMC_0912_020m_eu_03035_d03_E70N20',\n",
       " 'imperviousness-change-2009-2012|IMC_0912_100m_eu_03035_d03_E00N20',\n",
       " 'imperviousness-change-2009-2012|IMC_0912_100m_eu_03035_d03_E10N00',\n",
       " 'imperviousness-change-2009-2012|IMC_0912_100m_eu_03035_d03_E10N10',\n",
       " 'imperviousness-change-2009-2012|IMC_0912_100m_eu_03035_d03_E10N20',\n",
       " 'imperviousness-change-2009-2012|IMC_0912_100m_eu_03035_d03_E20N10',\n",
       " 'imperviousness-change-2009-2012|IMC_0912_100m_eu_03035_d03_E20N20',\n",
       " 'imperviousness-change-2009-2012|IMC_0912_100m_eu_03035_d03_E20N30',\n",
       " 'imperviousness-change-2009-2012|IMC_0912_100m_eu_03035_d03_E20N40',\n",
       " 'imperviousness-change-2009-2012|IMC_0912_100m_eu_03035_d03_E20N50',\n",
       " 'imperviousness-change-2009-2012|IMC_0912_100m_eu_03035_d03_E30N10',\n",
       " 'imperviousness-change-2009-2012|IMC_0912_100m_eu_03035_d03_E30N20',\n",
       " 'imperviousness-change-2009-2012|IMC_0912_100m_eu_03035_d03_E30N30',\n",
       " 'imperviousness-change-2009-2012|IMC_0912_100m_eu_03035_d03_E30N40',\n",
       " 'imperviousness-change-2009-2012|IMC_0912_100m_eu_03035_d03_E30N50',\n",
       " 'imperviousness-change-2009-2012|IMC_0912_100m_eu_03035_d03_E40N10',\n",
       " 'imperviousness-change-2009-2012|IMC_0912_100m_eu_03035_d03_E40N20',\n",
       " 'imperviousness-change-2009-2012|IMC_0912_100m_eu_03035_d03_E40N30',\n",
       " 'imperviousness-change-2009-2012|IMC_0912_100m_eu_03035_d03_E40N40',\n",
       " 'imperviousness-change-2009-2012|IMC_0912_100m_eu_03035_d03_E40N50',\n",
       " 'imperviousness-change-2009-2012|IMC_0912_100m_eu_03035_d03_E50N10',\n",
       " 'imperviousness-change-2009-2012|IMC_0912_100m_eu_03035_d03_E50N20',\n",
       " 'imperviousness-change-2009-2012|IMC_0912_100m_eu_03035_d03_E50N30',\n",
       " 'imperviousness-change-2009-2012|IMC_0912_100m_eu_03035_d03_E50N40',\n",
       " 'imperviousness-change-2009-2012|IMC_0912_100m_eu_03035_d03_E50N50',\n",
       " 'imperviousness-change-2009-2012|IMC_0912_100m_eu_03035_d03_E60N10',\n",
       " 'imperviousness-change-2009-2012|IMC_0912_100m_eu_03035_d03_E60N20',\n",
       " 'imperviousness-change-2009-2012|IMC_0912_100m_eu_03035_d03_E70N20',\n",
       " 'imperviousness-classified-change-2009-2012|IMCC_0912_020m_eu_03035_d03_Full',\n",
       " 'imperviousness-classified-change-2009-2012|IMCC_0912_020m_eu_03035_d03_E00N20',\n",
       " 'imperviousness-classified-change-2009-2012|IMCC_0912_020m_eu_03035_d03_E10N00',\n",
       " 'imperviousness-classified-change-2009-2012|IMCC_0912_020m_eu_03035_d03_E10N10',\n",
       " 'imperviousness-classified-change-2009-2012|IMCC_0912_020m_eu_03035_d03_E10N20',\n",
       " 'imperviousness-classified-change-2009-2012|IMCC_0912_020m_eu_03035_d03_E20N10',\n",
       " 'imperviousness-classified-change-2009-2012|IMCC_0912_020m_eu_03035_d03_E20N20',\n",
       " 'imperviousness-classified-change-2009-2012|IMCC_0912_020m_eu_03035_d03_E20N30',\n",
       " 'imperviousness-classified-change-2009-2012|IMCC_0912_020m_eu_03035_d03_E20N40',\n",
       " 'imperviousness-classified-change-2009-2012|IMCC_0912_020m_eu_03035_d03_E20N50',\n",
       " 'imperviousness-classified-change-2009-2012|IMCC_0912_020m_eu_03035_d03_E30N10',\n",
       " 'imperviousness-classified-change-2009-2012|IMCC_0912_020m_eu_03035_d03_E30N20',\n",
       " 'imperviousness-classified-change-2009-2012|IMCC_0912_020m_eu_03035_d03_E30N30',\n",
       " 'imperviousness-classified-change-2009-2012|IMCC_0912_020m_eu_03035_d03_E30N40',\n",
       " 'imperviousness-classified-change-2009-2012|IMCC_0912_020m_eu_03035_d03_E30N50',\n",
       " 'imperviousness-classified-change-2009-2012|IMCC_0912_020m_eu_03035_d03_E40N10',\n",
       " 'imperviousness-classified-change-2009-2012|IMCC_0912_020m_eu_03035_d03_E40N20',\n",
       " 'imperviousness-classified-change-2009-2012|IMCC_0912_020m_eu_03035_d03_E40N30',\n",
       " 'imperviousness-classified-change-2009-2012|IMCC_0912_020m_eu_03035_d03_E40N40',\n",
       " 'imperviousness-classified-change-2009-2012|IMCC_0912_020m_eu_03035_d03_E40N50',\n",
       " 'imperviousness-classified-change-2009-2012|IMCC_0912_020m_eu_03035_d03_E50N10',\n",
       " 'imperviousness-classified-change-2009-2012|IMCC_0912_020m_eu_03035_d03_E50N20',\n",
       " 'imperviousness-classified-change-2009-2012|IMCC_0912_020m_eu_03035_d03_E50N30',\n",
       " 'imperviousness-classified-change-2009-2012|IMCC_0912_020m_eu_03035_d03_E50N40',\n",
       " 'imperviousness-classified-change-2009-2012|IMCC_0912_020m_eu_03035_d03_E50N50',\n",
       " 'imperviousness-classified-change-2009-2012|IMCC_0912_020m_eu_03035_d03_E60N10',\n",
       " 'imperviousness-classified-change-2009-2012|IMCC_0912_020m_eu_03035_d03_E60N20',\n",
       " 'imperviousness-classified-change-2009-2012|IMCC_0912_020m_eu_03035_d03_E70N20',\n",
       " 'imperviousness-change-2006-2012|IMC_0612_100m_eu_03035_d03_Full',\n",
       " 'imperviousness-change-2006-2012|IMC_0612_020m_eu_03035_d03_Full',\n",
       " 'imperviousness-change-2006-2012|IMC_0612_020m_eu_03035_d03_E00N20',\n",
       " 'imperviousness-change-2006-2012|IMC_0612_020m_eu_03035_d03_E10N00',\n",
       " 'imperviousness-change-2006-2012|IMC_0612_020m_eu_03035_d03_E10N10',\n",
       " 'imperviousness-change-2006-2012|IMC_0612_020m_eu_03035_d03_E10N20',\n",
       " 'imperviousness-change-2006-2012|IMC_0612_020m_eu_03035_d03_E20N10',\n",
       " 'imperviousness-change-2006-2012|IMC_0612_020m_eu_03035_d03_E20N20',\n",
       " 'imperviousness-change-2006-2012|IMC_0612_020m_eu_03035_d03_E20N30',\n",
       " 'imperviousness-change-2006-2012|IMC_0612_020m_eu_03035_d03_E20N40',\n",
       " 'imperviousness-change-2006-2012|IMC_0612_020m_eu_03035_d03_E20N50',\n",
       " 'imperviousness-change-2006-2012|IMC_0612_020m_eu_03035_d03_E30N10',\n",
       " 'imperviousness-change-2006-2012|IMC_0612_020m_eu_03035_d03_E30N20',\n",
       " 'imperviousness-change-2006-2012|IMC_0612_020m_eu_03035_d03_E30N30',\n",
       " 'imperviousness-change-2006-2012|IMC_0612_020m_eu_03035_d03_E30N40',\n",
       " 'imperviousness-change-2006-2012|IMC_0612_020m_eu_03035_d03_E30N50',\n",
       " 'imperviousness-change-2006-2012|IMC_0612_020m_eu_03035_d03_E40N10',\n",
       " 'imperviousness-change-2006-2012|IMC_0612_020m_eu_03035_d03_E40N20',\n",
       " 'imperviousness-change-2006-2012|IMC_0612_020m_eu_03035_d03_E40N30',\n",
       " 'imperviousness-change-2006-2012|IMC_0612_020m_eu_03035_d03_E40N40',\n",
       " 'imperviousness-change-2006-2012|IMC_0612_020m_eu_03035_d03_E40N50',\n",
       " 'imperviousness-change-2006-2012|IMC_0612_020m_eu_03035_d03_E50N10',\n",
       " 'imperviousness-change-2006-2012|IMC_0612_020m_eu_03035_d03_E50N20',\n",
       " 'imperviousness-change-2006-2012|IMC_0612_020m_eu_03035_d03_E50N30',\n",
       " 'imperviousness-change-2006-2012|IMC_0612_020m_eu_03035_d03_E50N40',\n",
       " 'imperviousness-change-2006-2012|IMC_0612_020m_eu_03035_d03_E50N50',\n",
       " 'imperviousness-change-2006-2012|IMC_0612_020m_eu_03035_d03_E60N10',\n",
       " 'imperviousness-change-2006-2012|IMC_0612_020m_eu_03035_d03_E60N20',\n",
       " 'imperviousness-change-2006-2012|IMC_0612_020m_eu_03035_d03_E70N20',\n",
       " 'imperviousness-change-2006-2012|IMC_0612_100m_eu_03035_d03_E00N20',\n",
       " 'imperviousness-change-2006-2012|IMC_0612_100m_eu_03035_d03_E10N00',\n",
       " 'imperviousness-change-2006-2012|IMC_0612_100m_eu_03035_d03_E10N10',\n",
       " 'imperviousness-change-2006-2012|IMC_0612_100m_eu_03035_d03_E10N20',\n",
       " 'imperviousness-change-2006-2012|IMC_0612_100m_eu_03035_d03_E20N10',\n",
       " 'imperviousness-change-2006-2012|IMC_0612_100m_eu_03035_d03_E20N20',\n",
       " 'imperviousness-change-2006-2012|IMC_0612_100m_eu_03035_d03_E20N30',\n",
       " 'imperviousness-change-2006-2012|IMC_0612_100m_eu_03035_d03_E20N40',\n",
       " 'imperviousness-change-2006-2012|IMC_0612_100m_eu_03035_d03_E20N50',\n",
       " 'imperviousness-change-2006-2012|IMC_0612_100m_eu_03035_d03_E30N10',\n",
       " 'imperviousness-change-2006-2012|IMC_0612_100m_eu_03035_d03_E30N20',\n",
       " 'imperviousness-change-2006-2012|IMC_0612_100m_eu_03035_d03_E30N30',\n",
       " 'imperviousness-change-2006-2012|IMC_0612_100m_eu_03035_d03_E30N40',\n",
       " 'imperviousness-change-2006-2012|IMC_0612_100m_eu_03035_d03_E30N50',\n",
       " 'imperviousness-change-2006-2012|IMC_0612_100m_eu_03035_d03_E40N10',\n",
       " 'imperviousness-change-2006-2012|IMC_0612_100m_eu_03035_d03_E40N20',\n",
       " 'imperviousness-change-2006-2012|IMC_0612_100m_eu_03035_d03_E40N30',\n",
       " 'imperviousness-change-2006-2012|IMC_0612_100m_eu_03035_d03_E40N40',\n",
       " 'imperviousness-change-2006-2012|IMC_0612_100m_eu_03035_d03_E40N50',\n",
       " 'imperviousness-change-2006-2012|IMC_0612_100m_eu_03035_d03_E50N10',\n",
       " 'imperviousness-change-2006-2012|IMC_0612_100m_eu_03035_d03_E50N20',\n",
       " 'imperviousness-change-2006-2012|IMC_0612_100m_eu_03035_d03_E50N30',\n",
       " 'imperviousness-change-2006-2012|IMC_0612_100m_eu_03035_d03_E50N40',\n",
       " 'imperviousness-change-2006-2012|IMC_0612_100m_eu_03035_d03_E50N50',\n",
       " 'imperviousness-change-2006-2012|IMC_0612_100m_eu_03035_d03_E60N10',\n",
       " 'imperviousness-change-2006-2012|IMC_0612_100m_eu_03035_d03_E60N20',\n",
       " 'imperviousness-change-2006-2012|IMC_0612_100m_eu_03035_d03_E70N20',\n",
       " 'imperviousness-classified-change-2006-2012|IMCC_0612_020m_eu_03035_d03_Full',\n",
       " 'imperviousness-classified-change-2006-2012|IMCC_0612_020m_eu_03035_d03_E00N20',\n",
       " 'imperviousness-classified-change-2006-2012|IMCC_0612_020m_eu_03035_d03_E10N00',\n",
       " 'imperviousness-classified-change-2006-2012|IMCC_0612_020m_eu_03035_d03_E10N10',\n",
       " 'imperviousness-classified-change-2006-2012|IMCC_0612_020m_eu_03035_d03_E10N20',\n",
       " 'imperviousness-classified-change-2006-2012|IMCC_0612_020m_eu_03035_d03_E20N10',\n",
       " 'imperviousness-classified-change-2006-2012|IMCC_0612_020m_eu_03035_d03_E20N20',\n",
       " 'imperviousness-classified-change-2006-2012|IMCC_0612_020m_eu_03035_d03_E20N30',\n",
       " 'imperviousness-classified-change-2006-2012|IMCC_0612_020m_eu_03035_d03_E20N40',\n",
       " 'imperviousness-classified-change-2006-2012|IMCC_0612_020m_eu_03035_d03_E20N50',\n",
       " 'imperviousness-classified-change-2006-2012|IMCC_0612_020m_eu_03035_d03_E30N10',\n",
       " 'imperviousness-classified-change-2006-2012|IMCC_0612_020m_eu_03035_d03_E30N20',\n",
       " 'imperviousness-classified-change-2006-2012|IMCC_0612_020m_eu_03035_d03_E30N30',\n",
       " 'imperviousness-classified-change-2006-2012|IMCC_0612_020m_eu_03035_d03_E30N40',\n",
       " 'imperviousness-classified-change-2006-2012|IMCC_0612_020m_eu_03035_d03_E30N50',\n",
       " 'imperviousness-classified-change-2006-2012|IMCC_0612_020m_eu_03035_d03_E40N10',\n",
       " 'imperviousness-classified-change-2006-2012|IMCC_0612_020m_eu_03035_d03_E40N20',\n",
       " 'imperviousness-classified-change-2006-2012|IMCC_0612_020m_eu_03035_d03_E40N30',\n",
       " 'imperviousness-classified-change-2006-2012|IMCC_0612_020m_eu_03035_d03_E40N40',\n",
       " 'imperviousness-classified-change-2006-2012|IMCC_0612_020m_eu_03035_d03_E40N50',\n",
       " 'imperviousness-classified-change-2006-2012|IMCC_0612_020m_eu_03035_d03_E50N10',\n",
       " 'imperviousness-classified-change-2006-2012|IMCC_0612_020m_eu_03035_d03_E50N20',\n",
       " 'imperviousness-classified-change-2006-2012|IMCC_0612_020m_eu_03035_d03_E50N30',\n",
       " 'imperviousness-classified-change-2006-2012|IMCC_0612_020m_eu_03035_d03_E50N40',\n",
       " 'imperviousness-classified-change-2006-2012|IMCC_0612_020m_eu_03035_d03_E50N50',\n",
       " 'imperviousness-classified-change-2006-2012|IMCC_0612_020m_eu_03035_d03_E60N10',\n",
       " 'imperviousness-classified-change-2006-2012|IMCC_0612_020m_eu_03035_d03_E60N20',\n",
       " 'imperviousness-classified-change-2006-2012|IMCC_0612_020m_eu_03035_d03_E70N20',\n",
       " 'imperviousness-change-2006-2009|IMC_0609_100m_eu_03035_d03_Full',\n",
       " 'imperviousness-change-2006-2009|IMC_0609_020m_eu_03035_d03_Full',\n",
       " 'imperviousness-change-2006-2009|IMC_0609_020m_eu_03035_d03_E00N20',\n",
       " 'imperviousness-change-2006-2009|IMC_0609_020m_eu_03035_d03_E10N00',\n",
       " 'imperviousness-change-2006-2009|IMC_0609_020m_eu_03035_d03_E10N10',\n",
       " 'imperviousness-change-2006-2009|IMC_0609_020m_eu_03035_d03_E10N20',\n",
       " 'imperviousness-change-2006-2009|IMC_0609_020m_eu_03035_d03_E20N10',\n",
       " 'imperviousness-change-2006-2009|IMC_0609_020m_eu_03035_d03_E20N20',\n",
       " 'imperviousness-change-2006-2009|IMC_0609_020m_eu_03035_d03_E20N30',\n",
       " 'imperviousness-change-2006-2009|IMC_0609_020m_eu_03035_d03_E20N40',\n",
       " 'imperviousness-change-2006-2009|IMC_0609_020m_eu_03035_d03_E20N50',\n",
       " 'imperviousness-change-2006-2009|IMC_0609_020m_eu_03035_d03_E30N10',\n",
       " 'imperviousness-change-2006-2009|IMC_0609_020m_eu_03035_d03_E30N20',\n",
       " 'imperviousness-change-2006-2009|IMC_0609_020m_eu_03035_d03_E30N30',\n",
       " 'imperviousness-change-2006-2009|IMC_0609_020m_eu_03035_d03_E30N40',\n",
       " 'imperviousness-change-2006-2009|IMC_0609_020m_eu_03035_d03_E30N50',\n",
       " 'imperviousness-change-2006-2009|IMC_0609_020m_eu_03035_d03_E40N10',\n",
       " 'imperviousness-change-2006-2009|IMC_0609_020m_eu_03035_d03_E40N20',\n",
       " 'imperviousness-change-2006-2009|IMC_0609_020m_eu_03035_d03_E40N30',\n",
       " 'imperviousness-change-2006-2009|IMC_0609_020m_eu_03035_d03_E40N40',\n",
       " 'imperviousness-change-2006-2009|IMC_0609_020m_eu_03035_d03_E40N50',\n",
       " 'imperviousness-change-2006-2009|IMC_0609_020m_eu_03035_d03_E50N10',\n",
       " 'imperviousness-change-2006-2009|IMC_0609_020m_eu_03035_d03_E50N20',\n",
       " 'imperviousness-change-2006-2009|IMC_0609_020m_eu_03035_d03_E50N30',\n",
       " 'imperviousness-change-2006-2009|IMC_0609_020m_eu_03035_d03_E50N40',\n",
       " 'imperviousness-change-2006-2009|IMC_0609_020m_eu_03035_d03_E50N50',\n",
       " 'imperviousness-change-2006-2009|IMC_0609_020m_eu_03035_d03_E60N10',\n",
       " 'imperviousness-change-2006-2009|IMC_0609_020m_eu_03035_d03_E60N20',\n",
       " 'imperviousness-change-2006-2009|IMC_0609_020m_eu_03035_d03_E70N20',\n",
       " 'imperviousness-change-2006-2009|IMC_0609_100m_eu_03035_d03_E00N20',\n",
       " 'imperviousness-change-2006-2009|IMC_0609_100m_eu_03035_d03_E10N00',\n",
       " 'imperviousness-change-2006-2009|IMC_0609_100m_eu_03035_d03_E10N10',\n",
       " 'imperviousness-change-2006-2009|IMC_0609_100m_eu_03035_d03_E10N20',\n",
       " 'imperviousness-change-2006-2009|IMC_0609_100m_eu_03035_d03_E20N10',\n",
       " 'imperviousness-change-2006-2009|IMC_0609_100m_eu_03035_d03_E20N20',\n",
       " 'imperviousness-change-2006-2009|IMC_0609_100m_eu_03035_d03_E20N30',\n",
       " 'imperviousness-change-2006-2009|IMC_0609_100m_eu_03035_d03_E20N40',\n",
       " 'imperviousness-change-2006-2009|IMC_0609_100m_eu_03035_d03_E20N50',\n",
       " 'imperviousness-change-2006-2009|IMC_0609_100m_eu_03035_d03_E30N10',\n",
       " 'imperviousness-change-2006-2009|IMC_0609_100m_eu_03035_d03_E30N20',\n",
       " 'imperviousness-change-2006-2009|IMC_0609_100m_eu_03035_d03_E30N30',\n",
       " 'imperviousness-change-2006-2009|IMC_0609_100m_eu_03035_d03_E30N40',\n",
       " 'imperviousness-change-2006-2009|IMC_0609_100m_eu_03035_d03_E30N50',\n",
       " 'imperviousness-change-2006-2009|IMC_0609_100m_eu_03035_d03_E40N10',\n",
       " 'imperviousness-change-2006-2009|IMC_0609_100m_eu_03035_d03_E40N20',\n",
       " 'imperviousness-change-2006-2009|IMC_0609_100m_eu_03035_d03_E40N30',\n",
       " 'imperviousness-change-2006-2009|IMC_0609_100m_eu_03035_d03_E40N40',\n",
       " 'imperviousness-change-2006-2009|IMC_0609_100m_eu_03035_d03_E40N50',\n",
       " 'imperviousness-change-2006-2009|IMC_0609_100m_eu_03035_d03_E50N10',\n",
       " 'imperviousness-change-2006-2009|IMC_0609_100m_eu_03035_d03_E50N20',\n",
       " 'imperviousness-change-2006-2009|IMC_0609_100m_eu_03035_d03_E50N30',\n",
       " 'imperviousness-change-2006-2009|IMC_0609_100m_eu_03035_d03_E50N40',\n",
       " 'imperviousness-change-2006-2009|IMC_0609_100m_eu_03035_d03_E50N50',\n",
       " 'imperviousness-change-2006-2009|IMC_0609_100m_eu_03035_d03_E60N10',\n",
       " 'imperviousness-change-2006-2009|IMC_0609_100m_eu_03035_d03_E60N20',\n",
       " 'imperviousness-change-2006-2009|IMC_0609_100m_eu_03035_d03_E70N20',\n",
       " 'imperviousness-classified-change-2006-2009|IMCC_0609_020m_eu_03035_d03_Full',\n",
       " 'imperviousness-classified-change-2006-2009|IMCC_0609_020m_eu_03035_d03_E00N20',\n",
       " 'imperviousness-classified-change-2006-2009|IMCC_0609_020m_eu_03035_d03_E10N00',\n",
       " 'imperviousness-classified-change-2006-2009|IMCC_0609_020m_eu_03035_d03_E10N10',\n",
       " 'imperviousness-classified-change-2006-2009|IMCC_0609_020m_eu_03035_d03_E10N20',\n",
       " 'imperviousness-classified-change-2006-2009|IMCC_0609_020m_eu_03035_d03_E20N10',\n",
       " 'imperviousness-classified-change-2006-2009|IMCC_0609_020m_eu_03035_d03_E20N20',\n",
       " 'imperviousness-classified-change-2006-2009|IMCC_0609_020m_eu_03035_d03_E20N30',\n",
       " 'imperviousness-classified-change-2006-2009|IMCC_0609_020m_eu_03035_d03_E20N40',\n",
       " 'imperviousness-classified-change-2006-2009|IMCC_0609_020m_eu_03035_d03_E20N50',\n",
       " 'imperviousness-classified-change-2006-2009|IMCC_0609_020m_eu_03035_d03_E30N10',\n",
       " 'imperviousness-classified-change-2006-2009|IMCC_0609_020m_eu_03035_d03_E30N20',\n",
       " 'imperviousness-classified-change-2006-2009|IMCC_0609_020m_eu_03035_d03_E30N30',\n",
       " 'imperviousness-classified-change-2006-2009|IMCC_0609_020m_eu_03035_d03_E30N40',\n",
       " 'imperviousness-classified-change-2006-2009|IMCC_0609_020m_eu_03035_d03_E30N50',\n",
       " 'imperviousness-classified-change-2006-2009|IMCC_0609_020m_eu_03035_d03_E40N10',\n",
       " 'imperviousness-classified-change-2006-2009|IMCC_0609_020m_eu_03035_d03_E40N20',\n",
       " 'imperviousness-classified-change-2006-2009|IMCC_0609_020m_eu_03035_d03_E40N30',\n",
       " 'imperviousness-classified-change-2006-2009|IMCC_0609_020m_eu_03035_d03_E40N40',\n",
       " 'imperviousness-classified-change-2006-2009|IMCC_0609_020m_eu_03035_d03_E40N50',\n",
       " 'imperviousness-classified-change-2006-2009|IMCC_0609_020m_eu_03035_d03_E50N10',\n",
       " 'imperviousness-classified-change-2006-2009|IMCC_0609_020m_eu_03035_d03_E50N20',\n",
       " 'imperviousness-classified-change-2006-2009|IMCC_0609_020m_eu_03035_d03_E50N30',\n",
       " 'imperviousness-classified-change-2006-2009|IMCC_0609_020m_eu_03035_d03_E50N40',\n",
       " 'imperviousness-classified-change-2006-2009|IMCC_0609_020m_eu_03035_d03_E50N50',\n",
       " 'imperviousness-classified-change-2006-2009|IMCC_0609_020m_eu_03035_d03_E60N10',\n",
       " 'imperviousness-classified-change-2006-2009|IMCC_0609_020m_eu_03035_d03_E60N20',\n",
       " 'imperviousness-classified-change-2006-2009|IMCC_0609_020m_eu_03035_d03_E70N20',\n",
       " 'impervious-built-up-2018|SBU_2018_100m_eu_03035_v010',\n",
       " 'impervious-built-up-2018|IBU_2018_010m_eu_03035_v010',\n",
       " 'impervious-built-up-2018|IBU_2018_010m_al_03035_v010',\n",
       " 'impervious-built-up-2018|IBU_2018_010m_at_03035_v010',\n",
       " 'impervious-built-up-2018|IBU_2018_010m_ba_03035_v010',\n",
       " 'impervious-built-up-2018|IBU_2018_010m_be_03035_v010',\n",
       " 'impervious-built-up-2018|IBU_2018_010m_bg_03035_v010',\n",
       " 'impervious-built-up-2018|IBU_2018_010m_ch_03035_v010',\n",
       " 'impervious-built-up-2018|IBU_2018_010m_cy_03035_v010',\n",
       " 'impervious-built-up-2018|IBU_2018_010m_cz_03035_v010',\n",
       " 'impervious-built-up-2018|IBU_2018_010m_de_03035_v010',\n",
       " 'impervious-built-up-2018|IBU_2018_010m_dk_03035_v010',\n",
       " 'impervious-built-up-2018|IBU_2018_010m_ee_03035_v010',\n",
       " 'impervious-built-up-2018|IBU_2018_010m_es_03035_v010',\n",
       " 'impervious-built-up-2018|IBU_2018_010m_fi_03035_v010',\n",
       " 'impervious-built-up-2018|IBU_2018_010m_fr_03035_v010',\n",
       " 'impervious-built-up-2018|IBU_2018_010m_gb_03035_v010',\n",
       " 'impervious-built-up-2018|IBU_2018_010m_gr_03035_v010',\n",
       " 'impervious-built-up-2018|IBU_2018_010m_hr_03035_v010',\n",
       " 'impervious-built-up-2018|IBU_2018_010m_hu_03035_v010',\n",
       " 'impervious-built-up-2018|IBU_2018_010m_ie_03035_v010',\n",
       " 'impervious-built-up-2018|IBU_2018_010m_is_03035_v010',\n",
       " 'impervious-built-up-2018|IBU_2018_010m_it_03035_v010',\n",
       " 'impervious-built-up-2018|IBU_2018_010m_ks_03035_v010',\n",
       " 'impervious-built-up-2018|IBU_2018_010m_li_03035_v010',\n",
       " 'impervious-built-up-2018|IBU_2018_010m_lt_03035_v010',\n",
       " 'impervious-built-up-2018|IBU_2018_010m_lu_03035_v010',\n",
       " 'impervious-built-up-2018|IBU_2018_010m_lv_03035_v010',\n",
       " 'impervious-built-up-2018|IBU_2018_010m_me_03035_v010',\n",
       " 'impervious-built-up-2018|IBU_2018_010m_mk_03035_v010',\n",
       " 'impervious-built-up-2018|IBU_2018_010m_mt_03035_v010',\n",
       " 'impervious-built-up-2018|IBU_2018_010m_nl_03035_v010',\n",
       " 'impervious-built-up-2018|IBU_2018_010m_no_03035_v010',\n",
       " 'impervious-built-up-2018|IBU_2018_010m_pl_03035_v010',\n",
       " 'impervious-built-up-2018|IBU_2018_010m_pt_03035_v010',\n",
       " 'impervious-built-up-2018|IBU_2018_010m_ro_03035_v010',\n",
       " 'impervious-built-up-2018|IBU_2018_010m_rs_03035_v010',\n",
       " 'impervious-built-up-2018|IBU_2018_010m_se_03035_v010',\n",
       " 'impervious-built-up-2018|IBU_2018_010m_si_03035_v010',\n",
       " 'impervious-built-up-2018|IBU_2018_010m_sk_03035_v010',\n",
       " 'impervious-built-up-2018|IBU_2018_010m_tr_03035_v010',\n",
       " 'dominant-leaf-type-2018|DLT_2018_010m_eu_03035_v020',\n",
       " 'dominant-leaf-type-2018|DLT_2018_010m_al_03035_v020',\n",
       " 'dominant-leaf-type-2018|DLT_2018_010m_at_03035_v020',\n",
       " 'dominant-leaf-type-2018|DLT_2018_010m_ba_03035_v020',\n",
       " 'dominant-leaf-type-2018|DLT_2018_010m_be_03035_v020',\n",
       " 'dominant-leaf-type-2018|DLT_2018_010m_bg_03035_v020',\n",
       " 'dominant-leaf-type-2018|DLT_2018_010m_ch_03035_v020',\n",
       " 'dominant-leaf-type-2018|DLT_2018_010m_cy_03035_v020',\n",
       " 'dominant-leaf-type-2018|DLT_2018_010m_cz_03035_v020',\n",
       " 'dominant-leaf-type-2018|DLT_2018_010m_de_03035_v020',\n",
       " 'dominant-leaf-type-2018|DLT_2018_010m_dk_03035_v020',\n",
       " 'dominant-leaf-type-2018|DLT_2018_010m_ee_03035_v020',\n",
       " 'dominant-leaf-type-2018|DLT_2018_010m_es_03035_v020',\n",
       " 'dominant-leaf-type-2018|DLT_2018_010m_fi_03035_v020',\n",
       " 'dominant-leaf-type-2018|DLT_2018_010m_fr_03035_v020',\n",
       " 'dominant-leaf-type-2018|DLT_2018_010m_gb_03035_v020',\n",
       " 'dominant-leaf-type-2018|DLT_2018_010m_gr_03035_v020',\n",
       " 'dominant-leaf-type-2018|DLT_2018_010m_hr_03035_v020',\n",
       " 'dominant-leaf-type-2018|DLT_2018_010m_hu_03035_v020',\n",
       " 'dominant-leaf-type-2018|DLT_2018_010m_ie_03035_v020',\n",
       " 'dominant-leaf-type-2018|DLT_2018_010m_is_03035_v020',\n",
       " 'dominant-leaf-type-2018|DLT_2018_010m_it_03035_v020',\n",
       " 'dominant-leaf-type-2018|DLT_2018_010m_ks_03035_v020',\n",
       " 'dominant-leaf-type-2018|DLT_2018_010m_li_03035_v020',\n",
       " 'dominant-leaf-type-2018|DLT_2018_010m_lt_03035_v020',\n",
       " 'dominant-leaf-type-2018|DLT_2018_010m_lu_03035_v020',\n",
       " 'dominant-leaf-type-2018|DLT_2018_010m_lv_03035_v020',\n",
       " 'dominant-leaf-type-2018|DLT_2018_010m_me_03035_v020',\n",
       " 'dominant-leaf-type-2018|DLT_2018_010m_mk_03035_v020',\n",
       " 'dominant-leaf-type-2018|DLT_2018_010m_mt_03035_v020',\n",
       " 'dominant-leaf-type-2018|DLT_2018_010m_nl_03035_v020',\n",
       " 'dominant-leaf-type-2018|DLT_2018_010m_no_03035_v020',\n",
       " 'dominant-leaf-type-2018|DLT_2018_010m_pl_03035_v020',\n",
       " 'dominant-leaf-type-2018|DLT_2018_010m_pt_03035_v020',\n",
       " 'dominant-leaf-type-2018|DLT_2018_010m_ro_03035_v020',\n",
       " 'dominant-leaf-type-2018|DLT_2018_010m_rs_03035_v020',\n",
       " 'dominant-leaf-type-2018|DLT_2018_010m_se_03035_v020',\n",
       " 'dominant-leaf-type-2018|DLT_2018_010m_si_03035_v020',\n",
       " 'dominant-leaf-type-2018|DLT_2018_010m_sk_03035_v020',\n",
       " 'dominant-leaf-type-2018|DLT_2018_010m_tr_03035_v020',\n",
       " 'dominant-leaf-type-2015|DLT_2015_020m_eu_03035_d04_Full',\n",
       " 'dominant-leaf-type-2015|DLT_2015_020m_eu_03035_d04_E00N20',\n",
       " 'dominant-leaf-type-2015|DLT_2015_020m_eu_03035_d04_E10N00',\n",
       " 'dominant-leaf-type-2015|DLT_2015_020m_eu_03035_d04_E10N10',\n",
       " 'dominant-leaf-type-2015|DLT_2015_020m_eu_03035_d04_E10N20',\n",
       " 'dominant-leaf-type-2015|DLT_2015_020m_eu_03035_d04_E20N10',\n",
       " 'dominant-leaf-type-2015|DLT_2015_020m_eu_03035_d04_E20N20',\n",
       " 'dominant-leaf-type-2015|DLT_2015_020m_eu_03035_d04_E20N30',\n",
       " 'dominant-leaf-type-2015|DLT_2015_020m_eu_03035_d04_E20N40',\n",
       " 'dominant-leaf-type-2015|DLT_2015_020m_eu_03035_d04_E20N50',\n",
       " 'dominant-leaf-type-2015|DLT_2015_020m_eu_03035_d04_E30N10',\n",
       " 'dominant-leaf-type-2015|DLT_2015_020m_eu_03035_d04_E30N20',\n",
       " 'dominant-leaf-type-2015|DLT_2015_020m_eu_03035_d04_E30N30',\n",
       " 'dominant-leaf-type-2015|DLT_2015_020m_eu_03035_d04_E30N40',\n",
       " 'dominant-leaf-type-2015|DLT_2015_020m_eu_03035_d04_E30N50',\n",
       " 'dominant-leaf-type-2015|DLT_2015_020m_eu_03035_d04_E40N10',\n",
       " 'dominant-leaf-type-2015|DLT_2015_020m_eu_03035_d04_E40N20',\n",
       " 'dominant-leaf-type-2015|DLT_2015_020m_eu_03035_d04_E40N30',\n",
       " 'dominant-leaf-type-2015|DLT_2015_020m_eu_03035_d04_E40N40',\n",
       " 'dominant-leaf-type-2015|DLT_2015_020m_eu_03035_d04_E40N50',\n",
       " 'dominant-leaf-type-2015|DLT_2015_020m_eu_03035_d04_E50N10',\n",
       " 'dominant-leaf-type-2015|DLT_2015_020m_eu_03035_d04_E50N20',\n",
       " 'dominant-leaf-type-2015|DLT_2015_020m_eu_03035_d04_E50N30',\n",
       " 'dominant-leaf-type-2015|DLT_2015_020m_eu_03035_d04_E50N40',\n",
       " 'dominant-leaf-type-2015|DLT_2015_020m_eu_03035_d04_E50N50',\n",
       " 'dominant-leaf-type-2015|DLT_2015_020m_eu_03035_d04_E60N10',\n",
       " 'dominant-leaf-type-2015|DLT_2015_020m_eu_03035_d04_E60N20',\n",
       " 'dominant-leaf-type-2015|DLT_2015_020m_eu_03035_d04_E70N20',\n",
       " 'dominant-leaf-type-2012|DLT_2012_020m_eu_03035_d03_Full',\n",
       " 'dominant-leaf-type-2012|DLT_2012_020m_E00N20_03035_d03',\n",
       " 'dominant-leaf-type-2012|DLT_2012_020m_E10N00_03035_d03',\n",
       " 'dominant-leaf-type-2012|DLT_2012_020m_E10N10_03035_d03',\n",
       " 'dominant-leaf-type-2012|DLT_2012_020m_E10N20_03035_d03',\n",
       " 'dominant-leaf-type-2012|DLT_2012_020m_E20N10_03035_d03',\n",
       " 'dominant-leaf-type-2012|DLT_2012_020m_E20N20_03035_d03',\n",
       " 'dominant-leaf-type-2012|DLT_2012_020m_E20N30_03035_d03',\n",
       " 'dominant-leaf-type-2012|DLT_2012_020m_E20N40_03035_d03',\n",
       " 'dominant-leaf-type-2012|DLT_2012_020m_E20N50_03035_d03',\n",
       " 'dominant-leaf-type-2012|DLT_2012_020m_E30N10_03035_d03',\n",
       " 'dominant-leaf-type-2012|DLT_2012_020m_E30N20_03035_d03',\n",
       " 'dominant-leaf-type-2012|DLT_2012_020m_E30N30_03035_d03',\n",
       " 'dominant-leaf-type-2012|DLT_2012_020m_E30N40_03035_d03',\n",
       " 'dominant-leaf-type-2012|DLT_2012_020m_E30N50_03035_d03',\n",
       " 'dominant-leaf-type-2012|DLT_2012_020m_E40N10_03035_d03',\n",
       " 'dominant-leaf-type-2012|DLT_2012_020m_E40N20_03035_d03',\n",
       " 'dominant-leaf-type-2012|DLT_2012_020m_E40N30_03035_d03',\n",
       " 'dominant-leaf-type-2012|DLT_2012_020m_E40N40_03035_d03',\n",
       " 'dominant-leaf-type-2012|DLT_2012_020m_E40N50_03035_d03',\n",
       " 'dominant-leaf-type-2012|DLT_2012_020m_E50N10_03035_d03',\n",
       " 'dominant-leaf-type-2012|DLT_2012_020m_E50N20_03035_d03',\n",
       " 'dominant-leaf-type-2012|DLT_2012_020m_E50N30_03035_d03',\n",
       " 'dominant-leaf-type-2012|DLT_2012_020m_E50N40_03035_d03',\n",
       " 'dominant-leaf-type-2012|DLT_2012_020m_E50N50_03035_d03',\n",
       " 'dominant-leaf-type-2012|DLT_2012_020m_E60N10_03035_d03',\n",
       " 'dominant-leaf-type-2012|DLT_2012_020m_E60N20_03035_d03',\n",
       " 'dominant-leaf-type-2012|DLT_2012_020m_E70N20_03035_d03',\n",
       " 'dominant-leaf-type-change-2015-2018|DLTC_1518_020m_eu_03035_v010',\n",
       " 'dominant-leaf-type-change-2015-2018|DLTC_1518_020m_al_03035_v010',\n",
       " 'dominant-leaf-type-change-2015-2018|DLTC_1518_020m_at_03035_v010',\n",
       " 'dominant-leaf-type-change-2015-2018|DLTC_1518_020m_ba_03035_v010',\n",
       " 'dominant-leaf-type-change-2015-2018|DLTC_1518_020m_be_03035_v010',\n",
       " 'dominant-leaf-type-change-2015-2018|DLTC_1518_020m_bg_03035_v010',\n",
       " 'dominant-leaf-type-change-2015-2018|DLTC_1518_020m_ch_03035_v010',\n",
       " 'dominant-leaf-type-change-2015-2018|DLTC_1518_020m_cy_03035_v010',\n",
       " 'dominant-leaf-type-change-2015-2018|DLTC_1518_020m_cz_03035_v010',\n",
       " 'dominant-leaf-type-change-2015-2018|DLTC_1518_020m_de_03035_v010',\n",
       " 'dominant-leaf-type-change-2015-2018|DLTC_1518_020m_dk_03035_v010',\n",
       " 'dominant-leaf-type-change-2015-2018|DLTC_1518_020m_ee_03035_v010',\n",
       " 'dominant-leaf-type-change-2015-2018|DLTC_1518_020m_es_03035_v010',\n",
       " 'dominant-leaf-type-change-2015-2018|DLTC_1518_020m_fi_03035_v010',\n",
       " 'dominant-leaf-type-change-2015-2018|DLTC_1518_020m_fr_03035_v010',\n",
       " 'dominant-leaf-type-change-2015-2018|DLTC_1518_020m_gb_03035_v010',\n",
       " 'dominant-leaf-type-change-2015-2018|DLTC_1518_020m_gr_03035_v010',\n",
       " 'dominant-leaf-type-change-2015-2018|DLTC_1518_020m_hr_03035_v010',\n",
       " 'dominant-leaf-type-change-2015-2018|DLTC_1518_020m_hu_03035_v010',\n",
       " 'dominant-leaf-type-change-2015-2018|DLTC_1518_020m_ie_03035_v010',\n",
       " 'dominant-leaf-type-change-2015-2018|DLTC_1518_020m_is_03035_v010',\n",
       " 'dominant-leaf-type-change-2015-2018|DLTC_1518_020m_it_03035_v010',\n",
       " 'dominant-leaf-type-change-2015-2018|DLTC_1518_020m_ks_03035_v010',\n",
       " 'dominant-leaf-type-change-2015-2018|DLTC_1518_020m_li_03035_v010',\n",
       " 'dominant-leaf-type-change-2015-2018|DLTC_1518_020m_lt_03035_v010',\n",
       " 'dominant-leaf-type-change-2015-2018|DLTC_1518_020m_lu_03035_v010',\n",
       " 'dominant-leaf-type-change-2015-2018|DLTC_1518_020m_lv_03035_v010',\n",
       " 'dominant-leaf-type-change-2015-2018|DLTC_1518_020m_me_03035_v010',\n",
       " 'dominant-leaf-type-change-2015-2018|DLTC_1518_020m_mk_03035_v010',\n",
       " 'dominant-leaf-type-change-2015-2018|DLTC_1518_020m_mt_03035_v010',\n",
       " 'dominant-leaf-type-change-2015-2018|DLTC_1518_020m_nl_03035_v010',\n",
       " 'dominant-leaf-type-change-2015-2018|DLTC_1518_020m_no_03035_v010',\n",
       " 'dominant-leaf-type-change-2015-2018|DLTC_1518_020m_pl_03035_v010',\n",
       " 'dominant-leaf-type-change-2015-2018|DLTC_1518_020m_pt_03035_v010',\n",
       " 'dominant-leaf-type-change-2015-2018|DLTC_1518_020m_ro_03035_v010',\n",
       " 'dominant-leaf-type-change-2015-2018|DLTC_1518_020m_rs_03035_v010',\n",
       " 'dominant-leaf-type-change-2015-2018|DLTC_1518_020m_se_03035_v010',\n",
       " 'dominant-leaf-type-change-2015-2018|DLTC_1518_020m_si_03035_v010',\n",
       " 'dominant-leaf-type-change-2015-2018|DLTC_1518_020m_sk_03035_v010',\n",
       " 'dominant-leaf-type-change-2015-2018|DLTC_1518_020m_tr_03035_v010',\n",
       " 'forest-type-2018|FTY_2018_100m_eu_03035_v010',\n",
       " 'forest-type-2018|FTY_2018_010m_eu_03035_v010',\n",
       " 'forest-type-2018|FTY_2018_010m_al_03035_v010',\n",
       " 'forest-type-2018|FTY_2018_010m_at_03035_v010',\n",
       " 'forest-type-2018|FTY_2018_010m_ba_03035_v010',\n",
       " 'forest-type-2018|FTY_2018_010m_be_03035_v010',\n",
       " 'forest-type-2018|FTY_2018_010m_bg_03035_v010',\n",
       " 'forest-type-2018|FTY_2018_010m_ch_03035_v010',\n",
       " 'forest-type-2018|FTY_2018_010m_cy_03035_v010',\n",
       " 'forest-type-2018|FTY_2018_010m_cz_03035_v010',\n",
       " 'forest-type-2018|FTY_2018_010m_de_03035_v010',\n",
       " 'forest-type-2018|FTY_2018_010m_dk_03035_v010',\n",
       " 'forest-type-2018|FTY_2018_010m_ee_03035_v010',\n",
       " 'forest-type-2018|FTY_2018_010m_es_03035_v010',\n",
       " 'forest-type-2018|FTY_2018_010m_fi_03035_v010',\n",
       " 'forest-type-2018|FTY_2018_010m_fr_03035_v010',\n",
       " 'forest-type-2018|FTY_2018_010m_gb_03035_v010',\n",
       " 'forest-type-2018|FTY_2018_010m_gr_03035_v010',\n",
       " 'forest-type-2018|FTY_2018_010m_hr_03035_v010',\n",
       " 'forest-type-2018|FTY_2018_010m_hu_03035_v010',\n",
       " 'forest-type-2018|FTY_2018_010m_ie_03035_v010',\n",
       " 'forest-type-2018|FTY_2018_010m_is_03035_v010',\n",
       " 'forest-type-2018|FTY_2018_010m_it_03035_v010',\n",
       " 'forest-type-2018|FTY_2018_010m_ks_03035_v010',\n",
       " 'forest-type-2018|FTY_2018_010m_li_03035_v010',\n",
       " 'forest-type-2018|FTY_2018_010m_lt_03035_v010',\n",
       " 'forest-type-2018|FTY_2018_010m_lu_03035_v010',\n",
       " 'forest-type-2018|FTY_2018_010m_lv_03035_v010',\n",
       " 'forest-type-2018|FTY_2018_010m_me_03035_v010',\n",
       " 'forest-type-2018|FTY_2018_010m_mk_03035_v010',\n",
       " 'forest-type-2018|FTY_2018_010m_mt_03035_v010',\n",
       " 'forest-type-2018|FTY_2018_010m_nl_03035_v010',\n",
       " 'forest-type-2018|FTY_2018_010m_no_03035_v010',\n",
       " 'forest-type-2018|FTY_2018_010m_pl_03035_v010',\n",
       " 'forest-type-2018|FTY_2018_010m_pt_03035_v010',\n",
       " 'forest-type-2018|FTY_2018_010m_ro_03035_v010',\n",
       " 'forest-type-2018|FTY_2018_010m_rs_03035_v010',\n",
       " 'forest-type-2018|FTY_2018_010m_se_03035_v010',\n",
       " 'forest-type-2018|FTY_2018_010m_si_03035_v010',\n",
       " 'forest-type-2018|FTY_2018_010m_sk_03035_v010',\n",
       " 'forest-type-2018|FTY_2018_010m_tr_03035_v010',\n",
       " 'forest-type-2015|FTY_2015_100m_eu_03035_d02_Full',\n",
       " 'forest-type-2015|FTY_2015_020m_eu_03035_d04_Full',\n",
       " 'forest-type-2015|FTY_2015_020m_eu_03035_d04_E00N20',\n",
       " 'forest-type-2015|FTY_2015_020m_eu_03035_d04_E10N00',\n",
       " 'forest-type-2015|FTY_2015_020m_eu_03035_d04_E10N10',\n",
       " 'forest-type-2015|FTY_2015_020m_eu_03035_d04_E10N20',\n",
       " 'forest-type-2015|FTY_2015_020m_eu_03035_d04_E20N10',\n",
       " 'forest-type-2015|FTY_2015_020m_eu_03035_d04_E20N20',\n",
       " 'forest-type-2015|FTY_2015_020m_eu_03035_d04_E20N30',\n",
       " 'forest-type-2015|FTY_2015_020m_eu_03035_d04_E20N40',\n",
       " 'forest-type-2015|FTY_2015_020m_eu_03035_d04_E20N50',\n",
       " 'forest-type-2015|FTY_2015_020m_eu_03035_d04_E30N10',\n",
       " 'forest-type-2015|FTY_2015_020m_eu_03035_d04_E30N20',\n",
       " 'forest-type-2015|FTY_2015_020m_eu_03035_d04_E30N30',\n",
       " 'forest-type-2015|FTY_2015_020m_eu_03035_d04_E30N40',\n",
       " 'forest-type-2015|FTY_2015_020m_eu_03035_d04_E30N50',\n",
       " 'forest-type-2015|FTY_2015_020m_eu_03035_d04_E40N10',\n",
       " 'forest-type-2015|FTY_2015_020m_eu_03035_d04_E40N20',\n",
       " 'forest-type-2015|FTY_2015_020m_eu_03035_d04_E40N30',\n",
       " 'forest-type-2015|FTY_2015_020m_eu_03035_d04_E40N40',\n",
       " 'forest-type-2015|FTY_2015_020m_eu_03035_d04_E40N50',\n",
       " 'forest-type-2015|FTY_2015_020m_eu_03035_d04_E50N10',\n",
       " 'forest-type-2015|FTY_2015_020m_eu_03035_d04_E50N20',\n",
       " 'forest-type-2015|FTY_2015_020m_eu_03035_d04_E50N30',\n",
       " 'forest-type-2015|FTY_2015_020m_eu_03035_d04_E50N40',\n",
       " 'forest-type-2015|FTY_2015_020m_eu_03035_d04_E50N50',\n",
       " 'forest-type-2015|FTY_2015_020m_eu_03035_d04_E60N10',\n",
       " 'forest-type-2015|FTY_2015_020m_eu_03035_d04_E60N20',\n",
       " 'forest-type-2015|FTY_2015_020m_eu_03035_d04_E70N20',\n",
       " 'forest-type-2015|FTY_2015_100m_eu_03035_d02_E00N20',\n",
       " 'forest-type-2015|FTY_2015_100m_eu_03035_d02_E10N00',\n",
       " 'forest-type-2015|FTY_2015_100m_eu_03035_d02_E10N10',\n",
       " 'forest-type-2015|FTY_2015_100m_eu_03035_d02_E10N20',\n",
       " 'forest-type-2015|FTY_2015_100m_eu_03035_d02_E20N10',\n",
       " 'forest-type-2015|FTY_2015_100m_eu_03035_d02_E20N20',\n",
       " 'forest-type-2015|FTY_2015_100m_eu_03035_d02_E20N30',\n",
       " 'forest-type-2015|FTY_2015_100m_eu_03035_d02_E20N40',\n",
       " 'forest-type-2015|FTY_2015_100m_eu_03035_d02_E20N50',\n",
       " 'forest-type-2015|FTY_2015_100m_eu_03035_d02_E30N10',\n",
       " 'forest-type-2015|FTY_2015_100m_eu_03035_d02_E30N20',\n",
       " 'forest-type-2015|FTY_2015_100m_eu_03035_d02_E30N30',\n",
       " 'forest-type-2015|FTY_2015_100m_eu_03035_d02_E30N40',\n",
       " 'forest-type-2015|FTY_2015_100m_eu_03035_d02_E30N50',\n",
       " 'forest-type-2015|FTY_2015_100m_eu_03035_d02_E40N10',\n",
       " 'forest-type-2015|FTY_2015_100m_eu_03035_d02_E40N20',\n",
       " ...]"
      ]
     },
     "execution_count": 6,
     "metadata": {},
     "output_type": "execute_result"
    }
   ],
   "source": [
    "cds.list_data_ids()"
   ]
  },
  {
   "cell_type": "code",
   "execution_count": 7,
   "id": "0a90d1a5-da69-43a1-87e7-7f975c9d9882",
   "metadata": {},
   "outputs": [
    {
     "data": {
      "text/plain": [
       "('dataset:netcdf:clms', 'dataset:geotiff:clms', 'dataset:zarr:clms')"
      ]
     },
     "execution_count": 7,
     "metadata": {},
     "output_type": "execute_result"
    }
   ],
   "source": [
    "cds.get_data_opener_ids()"
   ]
  },
  {
   "cell_type": "code",
   "execution_count": 8,
   "id": "69c51474-ed5b-4fef-b89b-75d728f25975",
   "metadata": {},
   "outputs": [
    {
     "data": {
      "text/plain": [
       "('dataset',)"
      ]
     },
     "execution_count": 8,
     "metadata": {},
     "output_type": "execute_result"
    }
   ],
   "source": [
    "cds.get_data_types()"
   ]
  },
  {
   "cell_type": "code",
   "execution_count": 9,
   "id": "08d26a8d-235a-4b7a-947d-78d712d48d3e",
   "metadata": {},
   "outputs": [
    {
     "data": {
      "application/json": {
       "additionalProperties": true,
       "properties": {
        "data_ids": {
         "title": "Provide the data_ids as a tuple for which you would like to preload its data.",
         "type": "array"
        }
       },
       "type": "object"
      },
      "text/plain": [
       "<xcube.util.jsonschema.JsonObjectSchema at 0x7d3886267c20>"
      ]
     },
     "execution_count": 9,
     "metadata": {},
     "output_type": "execute_result"
    }
   ],
   "source": [
    "cds.get_preload_params_schema()"
   ]
  },
  {
   "cell_type": "code",
   "execution_count": 10,
   "id": "08a14887-e4cb-4b33-a723-b97fb2d28df8",
   "metadata": {},
   "outputs": [
    {
     "data": {
      "text/plain": [
       "True"
      ]
     },
     "execution_count": 10,
     "metadata": {},
     "output_type": "execute_result"
    }
   ],
   "source": [
    "cds.has_data('forest-type-2018|FTY_2018_100m_eu_03035_v010')"
   ]
  },
  {
   "cell_type": "code",
   "execution_count": 11,
   "id": "be9de166-abe5-4215-b0a5-df657d2d8550",
   "metadata": {},
   "outputs": [],
   "source": [
    "dataset_to_preload = ('forest-type-2018|FTY_2018_010m_lv_03035_v010', 'dominant-leaf-type-change-2015-2018|DLTC_1518_020m_tr_03035_v010')"
   ]
  },
  {
   "cell_type": "markdown",
   "id": "5f8a2b51-a189-49f8-968e-76748cf23b88",
   "metadata": {},
   "source": [
    "When the user runs the preload_data method, the user can view its status using the LOG messages, which indicate the status of the download request followed by any progress bars that involve downloading the dataset, extracting and postprocessing it. This cell is non-blocking, so the user can proceed to continue working on other cells. "
   ]
  },
  {
   "cell_type": "markdown",
   "id": "9648962c-6e60-4846-8d31-397263b691ee",
   "metadata": {},
   "source": [
    "NOTE: Currently, we run the preload tasks for each of the data_id in a separate thread which could have certain issues with displaying the progress bars. For e.g. if you run another cell, after the preload_data method, the progress bars might be displayed on that new cell instead. This could be improved in the later versions."
   ]
  },
  {
   "cell_type": "markdown",
   "id": "085a80ed-503b-414b-b0a9-6f94275ce8d5",
   "metadata": {},
   "source": [
    "Please scroll through the logs below to view what's happening during the preload."
   ]
  },
  {
   "cell_type": "code",
   "execution_count": 13,
   "id": "0e97fb00-9594-442d-86d2-ac904487e22c",
   "metadata": {
    "scrolled": true
   },
   "outputs": [
    {
     "name": "stderr",
     "output_type": "stream",
     "text": [
      "xcube.clms - 2024-12-06 21:53:42,484 -  INFO - Current token valid. Reusing it.\n",
      "xcube.clms - 2024-12-06 21:53:42,485 -  INFO - Current token valid. Reusing it.\n",
      "xcube.clms - 2024-12-06 21:53:42,485 -  INFO - Current token valid. Reusing it.\n",
      "xcube.clms - 2024-12-06 21:53:42,485 -  INFO - Making a request to https://land.copernicus.eu/api/@datarequest_search\n"
     ]
    },
    {
     "name": "stdout",
     "output_type": "stream",
     "text": [
      "Task: Waiting for response for server for the request: https://land.copernicus.eu/api/@datarequest_search: ◐ Elapsed time: 0s"
     ]
    },
    {
     "name": "stderr",
     "output_type": "stream",
     "text": [
      "xcube.clms - 2024-12-06 21:53:42,486 -  INFO - Current token valid. Reusing it.\n",
      "xcube.clms - 2024-12-06 21:53:42,488 -  INFO - Making a request to https://land.copernicus.eu/api/@datarequest_search\n"
     ]
    },
    {
     "name": "stdout",
     "output_type": "stream",
     "text": [
      "Task: Waiting for response for server for the request: https://land.copernicus.eu/api/@datarequest_search: ◑ Elapsed time: 0s"
     ]
    },
    {
     "name": "stderr",
     "output_type": "stream",
     "text": [
      "xcube.clms - 2024-12-06 21:53:43,391 -  INFO - Download request does not exists or has expired for data id: forest-type-2018|FTY_2018_010m_lv_03035_v010\n",
      "xcube.clms - 2024-12-06 21:53:43,392 -  INFO - Download request does not exists or has expired for data id: dominant-leaf-type-change-2015-2018|DLTC_1518_020m_tr_03035_v010\n",
      "xcube.clms - 2024-12-06 21:53:43,392 -  INFO - Preparing download request for forest-type-2018|FTY_2018_010m_lv_03035_v010\n",
      "xcube.clms - 2024-12-06 21:53:43,392 -  INFO - Preparing download request for dominant-leaf-type-change-2015-2018|DLTC_1518_020m_tr_03035_v010\n",
      "xcube.clms - 2024-12-06 21:53:43,393 -  INFO - Making a request to https://land.copernicus.eu/api/@datarequest_post\n"
     ]
    },
    {
     "name": "stdout",
     "output_type": "stream",
     "text": [
      "Task: Waiting for response for server for the request: https://land.copernicus.eu/api/@datarequest_search: Done!                                                  \n",
      "Task: Waiting for response for server for the request: https://land.copernicus.eu/api/@datarequest_search: Done!                                                  \n",
      "Task: Waiting for response for server for the request: https://land.copernicus.eu/api/@datarequest_post: ◐ Elapsed time: 0s"
     ]
    },
    {
     "name": "stderr",
     "output_type": "stream",
     "text": [
      "xcube.clms - 2024-12-06 21:53:43,393 -  INFO - Making a request to https://land.copernicus.eu/api/@datarequest_post\n"
     ]
    },
    {
     "name": "stdout",
     "output_type": "stream",
     "text": [
      "Task: Waiting for response for server for the request: https://land.copernicus.eu/api/@datarequest_post: ◒ Elapsed time: 3s"
     ]
    },
    {
     "name": "stderr",
     "output_type": "stream",
     "text": [
      "xcube.clms - 2024-12-06 21:53:47,006 -  INFO - Download Requested with Task ID : 25447855253\n"
     ]
    },
    {
     "name": "stdout",
     "output_type": "stream",
     "text": [
      "Task: Waiting for response for server for the request: https://land.copernicus.eu/api/@datarequest_post: Done!                                                  \n",
      "Task: 25447855253: ◐ Elapsed time: 0s for the request: https://land.copernicus.eu/api/@datarequest_post: ◐ Elapsed time: 3s"
     ]
    },
    {
     "name": "stderr",
     "output_type": "stream",
     "text": [
      "xcube.clms - 2024-12-06 21:53:47,007 -  INFO - Current token valid. Reusing it.\n",
      "xcube.clms - 2024-12-06 21:53:47,008 -  INFO - Making a request to https://land.copernicus.eu/api/@datarequest_search\n"
     ]
    },
    {
     "name": "stdout",
     "output_type": "stream",
     "text": [
      "Task: 25447855253: ◑ Elapsed time: 0s for the request: https://land.copernicus.eu/api/@datarequest_post: ◑ Elapsed time: 4s0s"
     ]
    },
    {
     "name": "stderr",
     "output_type": "stream",
     "text": [
      "xcube.clms - 2024-12-06 21:53:47,610 -  INFO - Status: PENDING for dominant-leaf-type-change-2015-2018|DLTC_1518_020m_tr_03035_v010 with task ID 25447855253. Will recheck status in 60 seconds\n"
     ]
    },
    {
     "name": "stdout",
     "output_type": "stream",
     "text": [
      "Task: Waiting for response for server for the request: https://land.copernicus.eu/api/@datarequest_search: Done!                                                  \n"
     ]
    },
    {
     "name": "stderr",
     "output_type": "stream",
     "text": [
      "xcube.clms - 2024-12-06 21:53:47,909 -  INFO - Download Requested with Task ID : 88919563411\n"
     ]
    },
    {
     "name": "stdout",
     "output_type": "stream",
     "text": [
      "Task: Waiting for response for server for the request: https://land.copernicus.eu/api/@datarequest_post: Done!                                                  \n",
      "Task: 25447855253: ◒ Elapsed time: 0s"
     ]
    },
    {
     "name": "stderr",
     "output_type": "stream",
     "text": [
      "xcube.clms - 2024-12-06 21:53:47,911 -  INFO - Current token valid. Reusing it.\n"
     ]
    },
    {
     "name": "stdout",
     "output_type": "stream",
     "text": [
      "Task: 88919563411: ◐ Elapsed time: 0s"
     ]
    },
    {
     "name": "stderr",
     "output_type": "stream",
     "text": [
      "xcube.clms - 2024-12-06 21:53:47,911 -  INFO - Making a request to https://land.copernicus.eu/api/@datarequest_search\n"
     ]
    },
    {
     "name": "stdout",
     "output_type": "stream",
     "text": [
      "Task: 88919563411: ◑ Elapsed time: 0s for the request: https://land.copernicus.eu/api/@datarequest_search: ◓ Elapsed time: 0s"
     ]
    },
    {
     "name": "stderr",
     "output_type": "stream",
     "text": [
      "xcube.clms - 2024-12-06 21:53:48,513 -  INFO - Status: PENDING for forest-type-2018|FTY_2018_010m_lv_03035_v010 with task ID 88919563411. Will recheck status in 60 seconds\n"
     ]
    },
    {
     "name": "stdout",
     "output_type": "stream",
     "text": [
      "Task: Waiting for response for server for the request: https://land.copernicus.eu/api/@datarequest_search: Done!                                                  \n",
      "Task: 25447855253: ◓ Elapsed time: 60s"
     ]
    },
    {
     "name": "stderr",
     "output_type": "stream",
     "text": [
      "xcube.clms - 2024-12-06 21:54:47,611 -  INFO - Current token valid. Reusing it.\n",
      "xcube.clms - 2024-12-06 21:54:47,612 -  INFO - Making a request to https://land.copernicus.eu/api/@datarequest_search\n"
     ]
    },
    {
     "name": "stdout",
     "output_type": "stream",
     "text": [
      "Task: 88919563411: ◐ Elapsed time: 60sfor the request: https://land.copernicus.eu/api/@datarequest_search: ◓ Elapsed time: 0s"
     ]
    },
    {
     "name": "stderr",
     "output_type": "stream",
     "text": [
      "xcube.clms - 2024-12-06 21:54:48,216 -  INFO - Status: COMPLETE for dominant-leaf-type-change-2015-2018|DLTC_1518_020m_tr_03035_v010 with task ID 25447855253.\n"
     ]
    },
    {
     "name": "stdout",
     "output_type": "stream",
     "text": [
      "Task: Waiting for response for server for the request: https://land.copernicus.eu/api/@datarequest_search: Done!                                                  \n",
      "Task: 88919563411: ◓ Elapsed time: 60s"
     ]
    },
    {
     "name": "stderr",
     "output_type": "stream",
     "text": [
      "xcube.clms - 2024-12-06 21:54:48,443 -  INFO - Current token valid. Reusing it.\n",
      "xcube.clms - 2024-12-06 21:54:48,443 -  INFO - Making a request to https://land.copernicus.eu/api/@datarequest_search\n"
     ]
    },
    {
     "name": "stdout",
     "output_type": "stream",
     "text": [
      "Task: 25447855253: Done!                                                  \n",
      "Task: Waiting for response for server for the request: https://land.copernicus.eu/api/@datarequest_search: ◐ Elapsed time: 0s"
     ]
    },
    {
     "name": "stderr",
     "output_type": "stream",
     "text": [
      "xcube.clms - 2024-12-06 21:54:48,514 -  INFO - Current token valid. Reusing it.\n",
      "xcube.clms - 2024-12-06 21:54:48,515 -  INFO - Making a request to https://land.copernicus.eu/api/@datarequest_search\n"
     ]
    },
    {
     "name": "stdout",
     "output_type": "stream",
     "text": [
      "Task: 88919563411: ◒ Elapsed time: 61sfor the request: https://land.copernicus.eu/api/@datarequest_search: ◓ Elapsed time: 0s"
     ]
    },
    {
     "name": "stderr",
     "output_type": "stream",
     "text": [
      "xcube.clms - 2024-12-06 21:54:49,046 -  INFO - Downloading zip file from https://copernicus-fme.eea.europa.eu/clmsdatadownload/results/131997.zip\n",
      "xcube.clms - 2024-12-06 21:54:49,047 -  INFO - Making a request to https://copernicus-fme.eea.europa.eu/clmsdatadownload/results/131997.zip\n"
     ]
    },
    {
     "name": "stdout",
     "output_type": "stream",
     "text": [
      "Task: Waiting for response for server for the request: https://land.copernicus.eu/api/@datarequest_search: Done!                                                  \n",
      "Task: Waiting for response for server for the request: https://copernicus-fme.eea.europa.eu/clmsdatadownload/results/131997.zip: ◐ Elapsed time: 0s"
     ]
    },
    {
     "name": "stderr",
     "output_type": "stream",
     "text": [
      "xcube.clms - 2024-12-06 21:54:49,118 -  INFO - Status: COMPLETE for forest-type-2018|FTY_2018_010m_lv_03035_v010 with task ID 88919563411.\n"
     ]
    },
    {
     "name": "stdout",
     "output_type": "stream",
     "text": [
      "Task: Waiting for response for server for the request: https://land.copernicus.eu/api/@datarequest_search: Done!                                                  \n"
     ]
    },
    {
     "name": "stderr",
     "output_type": "stream",
     "text": [
      "xcube.clms - 2024-12-06 21:54:49,345 -  INFO - Current token valid. Reusing it.\n",
      "xcube.clms - 2024-12-06 21:54:49,346 -  INFO - Making a request to https://land.copernicus.eu/api/@datarequest_search\n"
     ]
    },
    {
     "name": "stdout",
     "output_type": "stream",
     "text": [
      "Task: 88919563411: Done!                                                  \n",
      "Task: Waiting for response for server for the request: https://land.copernicus.eu/api/@datarequest_search: ◐ Elapsed time: 0s"
     ]
    },
    {
     "name": "stderr",
     "output_type": "stream",
     "text": [
      "xcube.clms - 2024-12-06 21:54:49,349 -  INFO - Temporary file created at /tmp/tmpqszcbhv1\n"
     ]
    },
    {
     "name": "stdout",
     "output_type": "stream",
     "text": [
      "Task: Waiting for response for server for the request: https://copernicus-fme.eea.europa.eu/clmsdatadownload/results/131997.zip: Done!                                                  \n"
     ]
    },
    {
     "data": {
      "application/vnd.jupyter.widget-view+json": {
       "model_id": "df35b5c4e50948cdaa04f74b456651b0",
       "version_major": 2,
       "version_minor": 0
      },
      "text/plain": [
       "Downloading zip file for task: 25447855253:   0%|          | 0.00/87.0 [00:00<?, ?it/s]"
      ]
     },
     "metadata": {},
     "output_type": "display_data"
    },
    {
     "name": "stdout",
     "output_type": "stream",
     "text": [
      "Task: Waiting for response for server for the request: https://land.copernicus.eu/api/@datarequest_search: ◓ Elapsed time: 0s"
     ]
    },
    {
     "name": "stderr",
     "output_type": "stream",
     "text": [
      "xcube.clms - 2024-12-06 21:54:49,949 -  INFO - Downloading zip file from https://copernicus-fme.eea.europa.eu/clmsdatadownload/results/131999.zip\n",
      "xcube.clms - 2024-12-06 21:54:49,950 -  INFO - Making a request to https://copernicus-fme.eea.europa.eu/clmsdatadownload/results/131999.zip\n"
     ]
    },
    {
     "name": "stdout",
     "output_type": "stream",
     "text": [
      "Task: Waiting for response for server for the request: https://land.copernicus.eu/api/@datarequest_search: Done!                                                  \n",
      "Task: Waiting for response for server for the request: https://copernicus-fme.eea.europa.eu/clmsdatadownload/results/131999.zip: ◐ Elapsed time: 0s"
     ]
    },
    {
     "name": "stderr",
     "output_type": "stream",
     "text": [
      "xcube.clms - 2024-12-06 21:54:50,252 -  INFO - Temporary file created at /tmp/tmp0h_78tx2\n"
     ]
    },
    {
     "name": "stdout",
     "output_type": "stream",
     "text": [
      "Task: Waiting for response for server for the request: https://copernicus-fme.eea.europa.eu/clmsdatadownload/results/131999.zip: Done!                                                  \n"
     ]
    },
    {
     "data": {
      "application/vnd.jupyter.widget-view+json": {
       "model_id": "ac1d775600fc458388bb2ea2eaa64ad7",
       "version_major": 2,
       "version_minor": 0
      },
      "text/plain": [
       "Downloading zip file for task: 88919563411:   0%|          | 0.00/55.0 [00:00<?, ?it/s]"
      ]
     },
     "metadata": {},
     "output_type": "display_data"
    },
    {
     "name": "stderr",
     "output_type": "stream",
     "text": [
      "xcube.clms - 2024-12-06 21:54:54,008 -  INFO - Found one zip file Results/DLTC_1518_020m_tr_03035_v010.zip.\n",
      "xcube.clms - 2024-12-06 21:54:54,593 -  INFO - Found geo file: DLTC_1518_020m_tr_03035_v010/DATA/DLTC_1518_020m_E56N19_03035_v010.tif\n",
      "xcube.clms - 2024-12-06 21:54:54,595 -  INFO - Found geo file: DLTC_1518_020m_tr_03035_v010/DATA/DLTC_1518_020m_E56N20_03035_v010.tif\n",
      "xcube.clms - 2024-12-06 21:54:54,595 -  INFO - Found geo file: DLTC_1518_020m_tr_03035_v010/DATA/DLTC_1518_020m_E56N21_03035_v010.tif\n",
      "xcube.clms - 2024-12-06 21:54:54,596 -  INFO - Found geo file: DLTC_1518_020m_tr_03035_v010/DATA/DLTC_1518_020m_E56N22_03035_v010.tif\n",
      "xcube.clms - 2024-12-06 21:54:54,596 -  INFO - Found geo file: DLTC_1518_020m_tr_03035_v010/DATA/DLTC_1518_020m_E57N18_03035_v010.tif\n",
      "xcube.clms - 2024-12-06 21:54:54,597 -  INFO - Found geo file: DLTC_1518_020m_tr_03035_v010/DATA/DLTC_1518_020m_E57N19_03035_v010.tif\n",
      "xcube.clms - 2024-12-06 21:54:54,597 -  INFO - Found geo file: DLTC_1518_020m_tr_03035_v010/DATA/DLTC_1518_020m_E57N20_03035_v010.tif\n",
      "xcube.clms - 2024-12-06 21:54:54,597 -  INFO - Found geo file: DLTC_1518_020m_tr_03035_v010/DATA/DLTC_1518_020m_E57N21_03035_v010.tif\n",
      "xcube.clms - 2024-12-06 21:54:54,597 -  INFO - Found geo file: DLTC_1518_020m_tr_03035_v010/DATA/DLTC_1518_020m_E57N22_03035_v010.tif\n",
      "xcube.clms - 2024-12-06 21:54:54,598 -  INFO - Found geo file: DLTC_1518_020m_tr_03035_v010/DATA/DLTC_1518_020m_E58N16_03035_v010.tif\n",
      "xcube.clms - 2024-12-06 21:54:54,598 -  INFO - Found geo file: DLTC_1518_020m_tr_03035_v010/DATA/DLTC_1518_020m_E58N17_03035_v010.tif\n",
      "xcube.clms - 2024-12-06 21:54:54,598 -  INFO - Found geo file: DLTC_1518_020m_tr_03035_v010/DATA/DLTC_1518_020m_E58N18_03035_v010.tif\n",
      "xcube.clms - 2024-12-06 21:54:54,598 -  INFO - Found geo file: DLTC_1518_020m_tr_03035_v010/DATA/DLTC_1518_020m_E58N19_03035_v010.tif\n",
      "xcube.clms - 2024-12-06 21:54:54,598 -  INFO - Found geo file: DLTC_1518_020m_tr_03035_v010/DATA/DLTC_1518_020m_E58N20_03035_v010.tif\n",
      "xcube.clms - 2024-12-06 21:54:54,599 -  INFO - Found geo file: DLTC_1518_020m_tr_03035_v010/DATA/DLTC_1518_020m_E58N21_03035_v010.tif\n",
      "xcube.clms - 2024-12-06 21:54:54,599 -  INFO - Found geo file: DLTC_1518_020m_tr_03035_v010/DATA/DLTC_1518_020m_E58N22_03035_v010.tif\n",
      "xcube.clms - 2024-12-06 21:54:54,599 -  INFO - Found geo file: DLTC_1518_020m_tr_03035_v010/DATA/DLTC_1518_020m_E59N16_03035_v010.tif\n",
      "xcube.clms - 2024-12-06 21:54:54,599 -  INFO - Found geo file: DLTC_1518_020m_tr_03035_v010/DATA/DLTC_1518_020m_E59N17_03035_v010.tif\n",
      "xcube.clms - 2024-12-06 21:54:54,599 -  INFO - Found geo file: DLTC_1518_020m_tr_03035_v010/DATA/DLTC_1518_020m_E59N18_03035_v010.tif\n",
      "xcube.clms - 2024-12-06 21:54:54,600 -  INFO - Found geo file: DLTC_1518_020m_tr_03035_v010/DATA/DLTC_1518_020m_E59N19_03035_v010.tif\n",
      "xcube.clms - 2024-12-06 21:54:54,601 -  INFO - Found geo file: DLTC_1518_020m_tr_03035_v010/DATA/DLTC_1518_020m_E59N20_03035_v010.tif\n",
      "xcube.clms - 2024-12-06 21:54:54,601 -  INFO - Found geo file: DLTC_1518_020m_tr_03035_v010/DATA/DLTC_1518_020m_E59N21_03035_v010.tif\n",
      "xcube.clms - 2024-12-06 21:54:54,601 -  INFO - Found geo file: DLTC_1518_020m_tr_03035_v010/DATA/DLTC_1518_020m_E59N22_03035_v010.tif\n",
      "xcube.clms - 2024-12-06 21:54:54,601 -  INFO - Found geo file: DLTC_1518_020m_tr_03035_v010/DATA/DLTC_1518_020m_E60N16_03035_v010.tif\n",
      "xcube.clms - 2024-12-06 21:54:54,601 -  INFO - Found geo file: DLTC_1518_020m_tr_03035_v010/DATA/DLTC_1518_020m_E60N17_03035_v010.tif\n",
      "xcube.clms - 2024-12-06 21:54:54,602 -  INFO - Found geo file: DLTC_1518_020m_tr_03035_v010/DATA/DLTC_1518_020m_E60N18_03035_v010.tif\n",
      "xcube.clms - 2024-12-06 21:54:54,602 -  INFO - Found geo file: DLTC_1518_020m_tr_03035_v010/DATA/DLTC_1518_020m_E60N19_03035_v010.tif\n",
      "xcube.clms - 2024-12-06 21:54:54,602 -  INFO - Found geo file: DLTC_1518_020m_tr_03035_v010/DATA/DLTC_1518_020m_E60N20_03035_v010.tif\n",
      "xcube.clms - 2024-12-06 21:54:54,602 -  INFO - Found geo file: DLTC_1518_020m_tr_03035_v010/DATA/DLTC_1518_020m_E60N21_03035_v010.tif\n",
      "xcube.clms - 2024-12-06 21:54:54,603 -  INFO - Found geo file: DLTC_1518_020m_tr_03035_v010/DATA/DLTC_1518_020m_E60N22_03035_v010.tif\n",
      "xcube.clms - 2024-12-06 21:54:54,604 -  INFO - Found geo file: DLTC_1518_020m_tr_03035_v010/DATA/DLTC_1518_020m_E61N16_03035_v010.tif\n",
      "xcube.clms - 2024-12-06 21:54:54,604 -  INFO - Found geo file: DLTC_1518_020m_tr_03035_v010/DATA/DLTC_1518_020m_E61N17_03035_v010.tif\n",
      "xcube.clms - 2024-12-06 21:54:54,604 -  INFO - Found geo file: DLTC_1518_020m_tr_03035_v010/DATA/DLTC_1518_020m_E61N18_03035_v010.tif\n",
      "xcube.clms - 2024-12-06 21:54:54,605 -  INFO - Found geo file: DLTC_1518_020m_tr_03035_v010/DATA/DLTC_1518_020m_E61N19_03035_v010.tif\n",
      "xcube.clms - 2024-12-06 21:54:54,606 -  INFO - Found geo file: DLTC_1518_020m_tr_03035_v010/DATA/DLTC_1518_020m_E61N20_03035_v010.tif\n",
      "xcube.clms - 2024-12-06 21:54:54,607 -  INFO - Found geo file: DLTC_1518_020m_tr_03035_v010/DATA/DLTC_1518_020m_E61N21_03035_v010.tif\n",
      "xcube.clms - 2024-12-06 21:54:54,607 -  INFO - Found geo file: DLTC_1518_020m_tr_03035_v010/DATA/DLTC_1518_020m_E61N22_03035_v010.tif\n",
      "xcube.clms - 2024-12-06 21:54:54,607 -  INFO - Found geo file: DLTC_1518_020m_tr_03035_v010/DATA/DLTC_1518_020m_E61N23_03035_v010.tif\n",
      "xcube.clms - 2024-12-06 21:54:54,607 -  INFO - Found geo file: DLTC_1518_020m_tr_03035_v010/DATA/DLTC_1518_020m_E62N17_03035_v010.tif\n",
      "xcube.clms - 2024-12-06 21:54:54,608 -  INFO - Found geo file: DLTC_1518_020m_tr_03035_v010/DATA/DLTC_1518_020m_E62N18_03035_v010.tif\n",
      "xcube.clms - 2024-12-06 21:54:54,609 -  INFO - Found geo file: DLTC_1518_020m_tr_03035_v010/DATA/DLTC_1518_020m_E62N19_03035_v010.tif\n",
      "xcube.clms - 2024-12-06 21:54:54,609 -  INFO - Found geo file: DLTC_1518_020m_tr_03035_v010/DATA/DLTC_1518_020m_E62N20_03035_v010.tif\n",
      "xcube.clms - 2024-12-06 21:54:54,609 -  INFO - Found geo file: DLTC_1518_020m_tr_03035_v010/DATA/DLTC_1518_020m_E62N21_03035_v010.tif\n",
      "xcube.clms - 2024-12-06 21:54:54,610 -  INFO - Found geo file: DLTC_1518_020m_tr_03035_v010/DATA/DLTC_1518_020m_E62N22_03035_v010.tif\n",
      "xcube.clms - 2024-12-06 21:54:54,610 -  INFO - Found geo file: DLTC_1518_020m_tr_03035_v010/DATA/DLTC_1518_020m_E62N23_03035_v010.tif\n",
      "xcube.clms - 2024-12-06 21:54:54,611 -  INFO - Found geo file: DLTC_1518_020m_tr_03035_v010/DATA/DLTC_1518_020m_E62N24_03035_v010.tif\n",
      "xcube.clms - 2024-12-06 21:54:54,611 -  INFO - Found geo file: DLTC_1518_020m_tr_03035_v010/DATA/DLTC_1518_020m_E63N17_03035_v010.tif\n",
      "xcube.clms - 2024-12-06 21:54:54,612 -  INFO - Found geo file: DLTC_1518_020m_tr_03035_v010/DATA/DLTC_1518_020m_E63N18_03035_v010.tif\n",
      "xcube.clms - 2024-12-06 21:54:54,612 -  INFO - Found geo file: DLTC_1518_020m_tr_03035_v010/DATA/DLTC_1518_020m_E63N19_03035_v010.tif\n",
      "xcube.clms - 2024-12-06 21:54:54,612 -  INFO - Found geo file: DLTC_1518_020m_tr_03035_v010/DATA/DLTC_1518_020m_E63N20_03035_v010.tif\n",
      "xcube.clms - 2024-12-06 21:54:54,613 -  INFO - Found geo file: DLTC_1518_020m_tr_03035_v010/DATA/DLTC_1518_020m_E63N21_03035_v010.tif\n",
      "xcube.clms - 2024-12-06 21:54:54,613 -  INFO - Found geo file: DLTC_1518_020m_tr_03035_v010/DATA/DLTC_1518_020m_E63N22_03035_v010.tif\n",
      "xcube.clms - 2024-12-06 21:54:54,614 -  INFO - Found geo file: DLTC_1518_020m_tr_03035_v010/DATA/DLTC_1518_020m_E63N23_03035_v010.tif\n",
      "xcube.clms - 2024-12-06 21:54:54,615 -  INFO - Found geo file: DLTC_1518_020m_tr_03035_v010/DATA/DLTC_1518_020m_E63N24_03035_v010.tif\n",
      "xcube.clms - 2024-12-06 21:54:54,615 -  INFO - Found geo file: DLTC_1518_020m_tr_03035_v010/DATA/DLTC_1518_020m_E64N17_03035_v010.tif\n",
      "xcube.clms - 2024-12-06 21:54:54,615 -  INFO - Found geo file: DLTC_1518_020m_tr_03035_v010/DATA/DLTC_1518_020m_E64N18_03035_v010.tif\n",
      "xcube.clms - 2024-12-06 21:54:54,616 -  INFO - Found geo file: DLTC_1518_020m_tr_03035_v010/DATA/DLTC_1518_020m_E64N19_03035_v010.tif\n",
      "xcube.clms - 2024-12-06 21:54:54,616 -  INFO - Found geo file: DLTC_1518_020m_tr_03035_v010/DATA/DLTC_1518_020m_E64N20_03035_v010.tif\n",
      "xcube.clms - 2024-12-06 21:54:54,617 -  INFO - Found geo file: DLTC_1518_020m_tr_03035_v010/DATA/DLTC_1518_020m_E64N21_03035_v010.tif\n",
      "xcube.clms - 2024-12-06 21:54:54,617 -  INFO - Found geo file: DLTC_1518_020m_tr_03035_v010/DATA/DLTC_1518_020m_E64N22_03035_v010.tif\n",
      "xcube.clms - 2024-12-06 21:54:54,618 -  INFO - Found geo file: DLTC_1518_020m_tr_03035_v010/DATA/DLTC_1518_020m_E64N23_03035_v010.tif\n",
      "xcube.clms - 2024-12-06 21:54:54,618 -  INFO - Found geo file: DLTC_1518_020m_tr_03035_v010/DATA/DLTC_1518_020m_E64N24_03035_v010.tif\n",
      "xcube.clms - 2024-12-06 21:54:54,619 -  INFO - Found geo file: DLTC_1518_020m_tr_03035_v010/DATA/DLTC_1518_020m_E65N18_03035_v010.tif\n",
      "xcube.clms - 2024-12-06 21:54:54,619 -  INFO - Found geo file: DLTC_1518_020m_tr_03035_v010/DATA/DLTC_1518_020m_E65N19_03035_v010.tif\n",
      "xcube.clms - 2024-12-06 21:54:54,619 -  INFO - Found geo file: DLTC_1518_020m_tr_03035_v010/DATA/DLTC_1518_020m_E65N20_03035_v010.tif\n",
      "xcube.clms - 2024-12-06 21:54:54,620 -  INFO - Found geo file: DLTC_1518_020m_tr_03035_v010/DATA/DLTC_1518_020m_E65N21_03035_v010.tif\n",
      "xcube.clms - 2024-12-06 21:54:54,620 -  INFO - Found geo file: DLTC_1518_020m_tr_03035_v010/DATA/DLTC_1518_020m_E65N22_03035_v010.tif\n",
      "xcube.clms - 2024-12-06 21:54:54,621 -  INFO - Found geo file: DLTC_1518_020m_tr_03035_v010/DATA/DLTC_1518_020m_E65N23_03035_v010.tif\n",
      "xcube.clms - 2024-12-06 21:54:54,621 -  INFO - Found geo file: DLTC_1518_020m_tr_03035_v010/DATA/DLTC_1518_020m_E65N24_03035_v010.tif\n",
      "xcube.clms - 2024-12-06 21:54:54,621 -  INFO - Found geo file: DLTC_1518_020m_tr_03035_v010/DATA/DLTC_1518_020m_E66N18_03035_v010.tif\n",
      "xcube.clms - 2024-12-06 21:54:54,622 -  INFO - Found geo file: DLTC_1518_020m_tr_03035_v010/DATA/DLTC_1518_020m_E66N19_03035_v010.tif\n",
      "xcube.clms - 2024-12-06 21:54:54,622 -  INFO - Found geo file: DLTC_1518_020m_tr_03035_v010/DATA/DLTC_1518_020m_E66N20_03035_v010.tif\n",
      "xcube.clms - 2024-12-06 21:54:54,623 -  INFO - Found geo file: DLTC_1518_020m_tr_03035_v010/DATA/DLTC_1518_020m_E66N21_03035_v010.tif\n",
      "xcube.clms - 2024-12-06 21:54:54,624 -  INFO - Found geo file: DLTC_1518_020m_tr_03035_v010/DATA/DLTC_1518_020m_E66N22_03035_v010.tif\n",
      "xcube.clms - 2024-12-06 21:54:54,624 -  INFO - Found geo file: DLTC_1518_020m_tr_03035_v010/DATA/DLTC_1518_020m_E66N23_03035_v010.tif\n",
      "xcube.clms - 2024-12-06 21:54:54,624 -  INFO - Found geo file: DLTC_1518_020m_tr_03035_v010/DATA/DLTC_1518_020m_E66N24_03035_v010.tif\n",
      "xcube.clms - 2024-12-06 21:54:54,625 -  INFO - Found geo file: DLTC_1518_020m_tr_03035_v010/DATA/DLTC_1518_020m_E67N19_03035_v010.tif\n",
      "xcube.clms - 2024-12-06 21:54:54,626 -  INFO - Found geo file: DLTC_1518_020m_tr_03035_v010/DATA/DLTC_1518_020m_E67N20_03035_v010.tif\n",
      "xcube.clms - 2024-12-06 21:54:54,626 -  INFO - Found geo file: DLTC_1518_020m_tr_03035_v010/DATA/DLTC_1518_020m_E67N21_03035_v010.tif\n",
      "xcube.clms - 2024-12-06 21:54:54,627 -  INFO - Found geo file: DLTC_1518_020m_tr_03035_v010/DATA/DLTC_1518_020m_E67N22_03035_v010.tif\n",
      "xcube.clms - 2024-12-06 21:54:54,627 -  INFO - Found geo file: DLTC_1518_020m_tr_03035_v010/DATA/DLTC_1518_020m_E67N23_03035_v010.tif\n",
      "xcube.clms - 2024-12-06 21:54:54,628 -  INFO - Found geo file: DLTC_1518_020m_tr_03035_v010/DATA/DLTC_1518_020m_E67N24_03035_v010.tif\n",
      "xcube.clms - 2024-12-06 21:54:54,628 -  INFO - Found geo file: DLTC_1518_020m_tr_03035_v010/DATA/DLTC_1518_020m_E68N19_03035_v010.tif\n",
      "xcube.clms - 2024-12-06 21:54:54,629 -  INFO - Found geo file: DLTC_1518_020m_tr_03035_v010/DATA/DLTC_1518_020m_E68N20_03035_v010.tif\n",
      "xcube.clms - 2024-12-06 21:54:54,629 -  INFO - Found geo file: DLTC_1518_020m_tr_03035_v010/DATA/DLTC_1518_020m_E68N21_03035_v010.tif\n",
      "xcube.clms - 2024-12-06 21:54:54,630 -  INFO - Found geo file: DLTC_1518_020m_tr_03035_v010/DATA/DLTC_1518_020m_E68N22_03035_v010.tif\n",
      "xcube.clms - 2024-12-06 21:54:54,630 -  INFO - Found geo file: DLTC_1518_020m_tr_03035_v010/DATA/DLTC_1518_020m_E68N23_03035_v010.tif\n",
      "xcube.clms - 2024-12-06 21:54:54,630 -  INFO - Found geo file: DLTC_1518_020m_tr_03035_v010/DATA/DLTC_1518_020m_E68N24_03035_v010.tif\n",
      "xcube.clms - 2024-12-06 21:54:54,631 -  INFO - Found geo file: DLTC_1518_020m_tr_03035_v010/DATA/DLTC_1518_020m_E68N25_03035_v010.tif\n",
      "xcube.clms - 2024-12-06 21:54:54,631 -  INFO - Found geo file: DLTC_1518_020m_tr_03035_v010/DATA/DLTC_1518_020m_E69N20_03035_v010.tif\n",
      "xcube.clms - 2024-12-06 21:54:54,631 -  INFO - Found geo file: DLTC_1518_020m_tr_03035_v010/DATA/DLTC_1518_020m_E69N21_03035_v010.tif\n",
      "xcube.clms - 2024-12-06 21:54:54,632 -  INFO - Found geo file: DLTC_1518_020m_tr_03035_v010/DATA/DLTC_1518_020m_E69N22_03035_v010.tif\n",
      "xcube.clms - 2024-12-06 21:54:54,632 -  INFO - Found geo file: DLTC_1518_020m_tr_03035_v010/DATA/DLTC_1518_020m_E69N23_03035_v010.tif\n",
      "xcube.clms - 2024-12-06 21:54:54,633 -  INFO - Found geo file: DLTC_1518_020m_tr_03035_v010/DATA/DLTC_1518_020m_E69N24_03035_v010.tif\n",
      "xcube.clms - 2024-12-06 21:54:54,633 -  INFO - Found geo file: DLTC_1518_020m_tr_03035_v010/DATA/DLTC_1518_020m_E69N25_03035_v010.tif\n",
      "xcube.clms - 2024-12-06 21:54:54,633 -  INFO - Found geo file: DLTC_1518_020m_tr_03035_v010/DATA/DLTC_1518_020m_E69N26_03035_v010.tif\n",
      "xcube.clms - 2024-12-06 21:54:54,634 -  INFO - Found geo file: DLTC_1518_020m_tr_03035_v010/DATA/DLTC_1518_020m_E70N21_03035_v010.tif\n",
      "xcube.clms - 2024-12-06 21:54:54,634 -  INFO - Found geo file: DLTC_1518_020m_tr_03035_v010/DATA/DLTC_1518_020m_E70N22_03035_v010.tif\n",
      "xcube.clms - 2024-12-06 21:54:54,635 -  INFO - Found geo file: DLTC_1518_020m_tr_03035_v010/DATA/DLTC_1518_020m_E70N23_03035_v010.tif\n",
      "xcube.clms - 2024-12-06 21:54:54,635 -  INFO - Found geo file: DLTC_1518_020m_tr_03035_v010/DATA/DLTC_1518_020m_E70N24_03035_v010.tif\n",
      "xcube.clms - 2024-12-06 21:54:54,637 -  INFO - Found geo file: DLTC_1518_020m_tr_03035_v010/DATA/DLTC_1518_020m_E70N25_03035_v010.tif\n",
      "xcube.clms - 2024-12-06 21:54:54,638 -  INFO - Found geo file: DLTC_1518_020m_tr_03035_v010/DATA/DLTC_1518_020m_E70N26_03035_v010.tif\n",
      "xcube.clms - 2024-12-06 21:54:54,638 -  INFO - Found geo file: DLTC_1518_020m_tr_03035_v010/DATA/DLTC_1518_020m_E71N21_03035_v010.tif\n",
      "xcube.clms - 2024-12-06 21:54:54,639 -  INFO - Found geo file: DLTC_1518_020m_tr_03035_v010/DATA/DLTC_1518_020m_E71N22_03035_v010.tif\n",
      "xcube.clms - 2024-12-06 21:54:54,639 -  INFO - Found geo file: DLTC_1518_020m_tr_03035_v010/DATA/DLTC_1518_020m_E71N23_03035_v010.tif\n",
      "xcube.clms - 2024-12-06 21:54:54,639 -  INFO - Found geo file: DLTC_1518_020m_tr_03035_v010/DATA/DLTC_1518_020m_E71N24_03035_v010.tif\n",
      "xcube.clms - 2024-12-06 21:54:54,640 -  INFO - Found geo file: DLTC_1518_020m_tr_03035_v010/DATA/DLTC_1518_020m_E71N25_03035_v010.tif\n",
      "xcube.clms - 2024-12-06 21:54:54,641 -  INFO - Found geo file: DLTC_1518_020m_tr_03035_v010/DATA/DLTC_1518_020m_E72N22_03035_v010.tif\n",
      "xcube.clms - 2024-12-06 21:54:54,642 -  INFO - Found geo file: DLTC_1518_020m_tr_03035_v010/DATA/DLTC_1518_020m_E72N23_03035_v010.tif\n",
      "xcube.clms - 2024-12-06 21:54:54,642 -  INFO - Found geo file: DLTC_1518_020m_tr_03035_v010/DATA/DLTC_1518_020m_E72N24_03035_v010.tif\n",
      "xcube.clms - 2024-12-06 21:54:54,642 -  INFO - Found geo file: DLTC_1518_020m_tr_03035_v010/DATA/DLTC_1518_020m_E72N25_03035_v010.tif\n",
      "xcube.clms - 2024-12-06 21:54:54,643 -  INFO - Found geo file: DLTC_1518_020m_tr_03035_v010/DATA/DLTC_1518_020m_E73N22_03035_v010.tif\n"
     ]
    },
    {
     "data": {
      "application/vnd.jupyter.widget-view+json": {
       "model_id": "a6b9c862e9934a63b1a8d6009c26e164",
       "version_major": 2,
       "version_minor": 0
      },
      "text/plain": [
       "Extracting geo files for task_id {task_id}:   0%|          | 0/112 [00:00<?, ?it/s]"
      ]
     },
     "metadata": {},
     "output_type": "display_data"
    },
    {
     "data": {
      "application/vnd.jupyter.widget-view+json": {
       "model_id": "a1e13cbc86374909ae47b70cc4f0fff3",
       "version_major": 2,
       "version_minor": 0
      },
      "text/plain": [
       "Extracting geo file DLTC_1518_020m_E56N19_03035_v010.tif: 0it [00:00, ?it/s]"
      ]
     },
     "metadata": {},
     "output_type": "display_data"
    },
    {
     "name": "stderr",
     "output_type": "stream",
     "text": [
      "xcube.clms - 2024-12-06 21:54:54,710 -  INFO - The file DLTC_1518_020m_E56N19_03035_v010.tif has been successfully downloaded to /home/yogesh/Projects/BC/xcube-clms/examples/notebooks/preload_cache/dominant-leaf-type-change-2015-2018|DLTC_1518_020m_tr_03035_v010/DLTC_1518_020m_E56N19_03035_v010.tif\n"
     ]
    },
    {
     "data": {
      "application/vnd.jupyter.widget-view+json": {
       "model_id": "2e90bcc6ea984f6f8b1c5e2f996106b8",
       "version_major": 2,
       "version_minor": 0
      },
      "text/plain": [
       "Extracting geo file DLTC_1518_020m_E56N20_03035_v010.tif: 0it [00:00, ?it/s]"
      ]
     },
     "metadata": {},
     "output_type": "display_data"
    },
    {
     "name": "stderr",
     "output_type": "stream",
     "text": [
      "xcube.clms - 2024-12-06 21:54:54,735 -  INFO - The file DLTC_1518_020m_E56N20_03035_v010.tif has been successfully downloaded to /home/yogesh/Projects/BC/xcube-clms/examples/notebooks/preload_cache/dominant-leaf-type-change-2015-2018|DLTC_1518_020m_tr_03035_v010/DLTC_1518_020m_E56N20_03035_v010.tif\n"
     ]
    },
    {
     "data": {
      "application/vnd.jupyter.widget-view+json": {
       "model_id": "7d92de75f75e4d84abcf7ce287a7c981",
       "version_major": 2,
       "version_minor": 0
      },
      "text/plain": [
       "Extracting geo file DLTC_1518_020m_E56N21_03035_v010.tif: 0it [00:00, ?it/s]"
      ]
     },
     "metadata": {},
     "output_type": "display_data"
    },
    {
     "name": "stderr",
     "output_type": "stream",
     "text": [
      "xcube.clms - 2024-12-06 21:54:54,764 -  INFO - The file DLTC_1518_020m_E56N21_03035_v010.tif has been successfully downloaded to /home/yogesh/Projects/BC/xcube-clms/examples/notebooks/preload_cache/dominant-leaf-type-change-2015-2018|DLTC_1518_020m_tr_03035_v010/DLTC_1518_020m_E56N21_03035_v010.tif\n"
     ]
    },
    {
     "data": {
      "application/vnd.jupyter.widget-view+json": {
       "model_id": "9d79fdc8bb784977a90f32a01ed85848",
       "version_major": 2,
       "version_minor": 0
      },
      "text/plain": [
       "Extracting geo file DLTC_1518_020m_E56N22_03035_v010.tif: 0it [00:00, ?it/s]"
      ]
     },
     "metadata": {},
     "output_type": "display_data"
    },
    {
     "name": "stderr",
     "output_type": "stream",
     "text": [
      "xcube.clms - 2024-12-06 21:54:54,795 -  INFO - The file DLTC_1518_020m_E56N22_03035_v010.tif has been successfully downloaded to /home/yogesh/Projects/BC/xcube-clms/examples/notebooks/preload_cache/dominant-leaf-type-change-2015-2018|DLTC_1518_020m_tr_03035_v010/DLTC_1518_020m_E56N22_03035_v010.tif\n"
     ]
    },
    {
     "data": {
      "application/vnd.jupyter.widget-view+json": {
       "model_id": "8d2b642f181144368697873fae8a6786",
       "version_major": 2,
       "version_minor": 0
      },
      "text/plain": [
       "Extracting geo file DLTC_1518_020m_E57N18_03035_v010.tif: 0it [00:00, ?it/s]"
      ]
     },
     "metadata": {},
     "output_type": "display_data"
    },
    {
     "name": "stderr",
     "output_type": "stream",
     "text": [
      "xcube.clms - 2024-12-06 21:54:54,825 -  INFO - The file DLTC_1518_020m_E57N18_03035_v010.tif has been successfully downloaded to /home/yogesh/Projects/BC/xcube-clms/examples/notebooks/preload_cache/dominant-leaf-type-change-2015-2018|DLTC_1518_020m_tr_03035_v010/DLTC_1518_020m_E57N18_03035_v010.tif\n"
     ]
    },
    {
     "data": {
      "application/vnd.jupyter.widget-view+json": {
       "model_id": "432578012f6840b7967e61827ba4bba0",
       "version_major": 2,
       "version_minor": 0
      },
      "text/plain": [
       "Extracting geo file DLTC_1518_020m_E57N19_03035_v010.tif: 0it [00:00, ?it/s]"
      ]
     },
     "metadata": {},
     "output_type": "display_data"
    },
    {
     "name": "stderr",
     "output_type": "stream",
     "text": [
      "xcube.clms - 2024-12-06 21:54:54,857 -  INFO - The file DLTC_1518_020m_E57N19_03035_v010.tif has been successfully downloaded to /home/yogesh/Projects/BC/xcube-clms/examples/notebooks/preload_cache/dominant-leaf-type-change-2015-2018|DLTC_1518_020m_tr_03035_v010/DLTC_1518_020m_E57N19_03035_v010.tif\n"
     ]
    },
    {
     "data": {
      "application/vnd.jupyter.widget-view+json": {
       "model_id": "a4cc56bf3f7b4981b2421a70aa863080",
       "version_major": 2,
       "version_minor": 0
      },
      "text/plain": [
       "Extracting geo file DLTC_1518_020m_E57N20_03035_v010.tif: 0it [00:00, ?it/s]"
      ]
     },
     "metadata": {},
     "output_type": "display_data"
    },
    {
     "name": "stderr",
     "output_type": "stream",
     "text": [
      "xcube.clms - 2024-12-06 21:54:54,885 -  INFO - The file DLTC_1518_020m_E57N20_03035_v010.tif has been successfully downloaded to /home/yogesh/Projects/BC/xcube-clms/examples/notebooks/preload_cache/dominant-leaf-type-change-2015-2018|DLTC_1518_020m_tr_03035_v010/DLTC_1518_020m_E57N20_03035_v010.tif\n"
     ]
    },
    {
     "data": {
      "application/vnd.jupyter.widget-view+json": {
       "model_id": "a4da0ac43c6b4aa0aebd3b3bcc98aeb1",
       "version_major": 2,
       "version_minor": 0
      },
      "text/plain": [
       "Extracting geo file DLTC_1518_020m_E57N21_03035_v010.tif: 0it [00:00, ?it/s]"
      ]
     },
     "metadata": {},
     "output_type": "display_data"
    },
    {
     "name": "stderr",
     "output_type": "stream",
     "text": [
      "xcube.clms - 2024-12-06 21:54:54,931 -  INFO - The file DLTC_1518_020m_E57N21_03035_v010.tif has been successfully downloaded to /home/yogesh/Projects/BC/xcube-clms/examples/notebooks/preload_cache/dominant-leaf-type-change-2015-2018|DLTC_1518_020m_tr_03035_v010/DLTC_1518_020m_E57N21_03035_v010.tif\n"
     ]
    },
    {
     "data": {
      "application/vnd.jupyter.widget-view+json": {
       "model_id": "bb9b483496184a47bb4e2656957495c1",
       "version_major": 2,
       "version_minor": 0
      },
      "text/plain": [
       "Extracting geo file DLTC_1518_020m_E57N22_03035_v010.tif: 0it [00:00, ?it/s]"
      ]
     },
     "metadata": {},
     "output_type": "display_data"
    },
    {
     "name": "stderr",
     "output_type": "stream",
     "text": [
      "xcube.clms - 2024-12-06 21:54:54,979 -  INFO - The file DLTC_1518_020m_E57N22_03035_v010.tif has been successfully downloaded to /home/yogesh/Projects/BC/xcube-clms/examples/notebooks/preload_cache/dominant-leaf-type-change-2015-2018|DLTC_1518_020m_tr_03035_v010/DLTC_1518_020m_E57N22_03035_v010.tif\n"
     ]
    },
    {
     "data": {
      "application/vnd.jupyter.widget-view+json": {
       "model_id": "5e210f99148d496ab16099d7b012d276",
       "version_major": 2,
       "version_minor": 0
      },
      "text/plain": [
       "Extracting geo file DLTC_1518_020m_E58N16_03035_v010.tif: 0it [00:00, ?it/s]"
      ]
     },
     "metadata": {},
     "output_type": "display_data"
    },
    {
     "name": "stderr",
     "output_type": "stream",
     "text": [
      "xcube.clms - 2024-12-06 21:54:54,987 -  INFO - The file DLTC_1518_020m_E58N16_03035_v010.tif has been successfully downloaded to /home/yogesh/Projects/BC/xcube-clms/examples/notebooks/preload_cache/dominant-leaf-type-change-2015-2018|DLTC_1518_020m_tr_03035_v010/DLTC_1518_020m_E58N16_03035_v010.tif\n"
     ]
    },
    {
     "data": {
      "application/vnd.jupyter.widget-view+json": {
       "model_id": "5246875faf5148329008d97bb059ff14",
       "version_major": 2,
       "version_minor": 0
      },
      "text/plain": [
       "Extracting geo file DLTC_1518_020m_E58N17_03035_v010.tif: 0it [00:00, ?it/s]"
      ]
     },
     "metadata": {},
     "output_type": "display_data"
    },
    {
     "name": "stderr",
     "output_type": "stream",
     "text": [
      "xcube.clms - 2024-12-06 21:54:54,997 -  INFO - The file DLTC_1518_020m_E58N17_03035_v010.tif has been successfully downloaded to /home/yogesh/Projects/BC/xcube-clms/examples/notebooks/preload_cache/dominant-leaf-type-change-2015-2018|DLTC_1518_020m_tr_03035_v010/DLTC_1518_020m_E58N17_03035_v010.tif\n"
     ]
    },
    {
     "data": {
      "application/vnd.jupyter.widget-view+json": {
       "model_id": "1ed95ba5e6eb4981b7f5e3afdf484c5c",
       "version_major": 2,
       "version_minor": 0
      },
      "text/plain": [
       "Extracting geo file DLTC_1518_020m_E58N18_03035_v010.tif: 0it [00:00, ?it/s]"
      ]
     },
     "metadata": {},
     "output_type": "display_data"
    },
    {
     "name": "stderr",
     "output_type": "stream",
     "text": [
      "xcube.clms - 2024-12-06 21:54:55,023 -  INFO - The file DLTC_1518_020m_E58N18_03035_v010.tif has been successfully downloaded to /home/yogesh/Projects/BC/xcube-clms/examples/notebooks/preload_cache/dominant-leaf-type-change-2015-2018|DLTC_1518_020m_tr_03035_v010/DLTC_1518_020m_E58N18_03035_v010.tif\n"
     ]
    },
    {
     "data": {
      "application/vnd.jupyter.widget-view+json": {
       "model_id": "f3c5ae5b5dd44412b588719b4048e106",
       "version_major": 2,
       "version_minor": 0
      },
      "text/plain": [
       "Extracting geo file DLTC_1518_020m_E58N19_03035_v010.tif: 0it [00:00, ?it/s]"
      ]
     },
     "metadata": {},
     "output_type": "display_data"
    },
    {
     "name": "stderr",
     "output_type": "stream",
     "text": [
      "xcube.clms - 2024-12-06 21:54:55,055 -  INFO - The file DLTC_1518_020m_E58N19_03035_v010.tif has been successfully downloaded to /home/yogesh/Projects/BC/xcube-clms/examples/notebooks/preload_cache/dominant-leaf-type-change-2015-2018|DLTC_1518_020m_tr_03035_v010/DLTC_1518_020m_E58N19_03035_v010.tif\n"
     ]
    },
    {
     "data": {
      "application/vnd.jupyter.widget-view+json": {
       "model_id": "ee48b284c5d74a2fb85bf87b1a45fa33",
       "version_major": 2,
       "version_minor": 0
      },
      "text/plain": [
       "Extracting geo file DLTC_1518_020m_E58N20_03035_v010.tif: 0it [00:00, ?it/s]"
      ]
     },
     "metadata": {},
     "output_type": "display_data"
    },
    {
     "name": "stderr",
     "output_type": "stream",
     "text": [
      "xcube.clms - 2024-12-06 21:54:55,078 -  INFO - The file DLTC_1518_020m_E58N20_03035_v010.tif has been successfully downloaded to /home/yogesh/Projects/BC/xcube-clms/examples/notebooks/preload_cache/dominant-leaf-type-change-2015-2018|DLTC_1518_020m_tr_03035_v010/DLTC_1518_020m_E58N20_03035_v010.tif\n"
     ]
    },
    {
     "data": {
      "application/vnd.jupyter.widget-view+json": {
       "model_id": "f58c34d298854abaa9c8dafb92640006",
       "version_major": 2,
       "version_minor": 0
      },
      "text/plain": [
       "Extracting geo file DLTC_1518_020m_E58N21_03035_v010.tif: 0it [00:00, ?it/s]"
      ]
     },
     "metadata": {},
     "output_type": "display_data"
    },
    {
     "name": "stderr",
     "output_type": "stream",
     "text": [
      "xcube.clms - 2024-12-06 21:54:55,116 -  INFO - The file DLTC_1518_020m_E58N21_03035_v010.tif has been successfully downloaded to /home/yogesh/Projects/BC/xcube-clms/examples/notebooks/preload_cache/dominant-leaf-type-change-2015-2018|DLTC_1518_020m_tr_03035_v010/DLTC_1518_020m_E58N21_03035_v010.tif\n"
     ]
    },
    {
     "data": {
      "application/vnd.jupyter.widget-view+json": {
       "model_id": "adc75a8bf36f430c9314f8b716b4a068",
       "version_major": 2,
       "version_minor": 0
      },
      "text/plain": [
       "Extracting geo file DLTC_1518_020m_E58N22_03035_v010.tif: 0it [00:00, ?it/s]"
      ]
     },
     "metadata": {},
     "output_type": "display_data"
    },
    {
     "name": "stderr",
     "output_type": "stream",
     "text": [
      "xcube.clms - 2024-12-06 21:54:55,157 -  INFO - The file DLTC_1518_020m_E58N22_03035_v010.tif has been successfully downloaded to /home/yogesh/Projects/BC/xcube-clms/examples/notebooks/preload_cache/dominant-leaf-type-change-2015-2018|DLTC_1518_020m_tr_03035_v010/DLTC_1518_020m_E58N22_03035_v010.tif\n"
     ]
    },
    {
     "data": {
      "application/vnd.jupyter.widget-view+json": {
       "model_id": "15e3bf3250354e748779f693a7cd55fd",
       "version_major": 2,
       "version_minor": 0
      },
      "text/plain": [
       "Extracting geo file DLTC_1518_020m_E59N16_03035_v010.tif: 0it [00:00, ?it/s]"
      ]
     },
     "metadata": {},
     "output_type": "display_data"
    },
    {
     "name": "stderr",
     "output_type": "stream",
     "text": [
      "xcube.clms - 2024-12-06 21:54:55,166 -  INFO - The file DLTC_1518_020m_E59N16_03035_v010.tif has been successfully downloaded to /home/yogesh/Projects/BC/xcube-clms/examples/notebooks/preload_cache/dominant-leaf-type-change-2015-2018|DLTC_1518_020m_tr_03035_v010/DLTC_1518_020m_E59N16_03035_v010.tif\n"
     ]
    },
    {
     "data": {
      "application/vnd.jupyter.widget-view+json": {
       "model_id": "b496e4b1e30e40c98bb83e67a4c20384",
       "version_major": 2,
       "version_minor": 0
      },
      "text/plain": [
       "Extracting geo file DLTC_1518_020m_E59N17_03035_v010.tif: 0it [00:00, ?it/s]"
      ]
     },
     "metadata": {},
     "output_type": "display_data"
    },
    {
     "name": "stderr",
     "output_type": "stream",
     "text": [
      "xcube.clms - 2024-12-06 21:54:55,179 -  INFO - The file DLTC_1518_020m_E59N17_03035_v010.tif has been successfully downloaded to /home/yogesh/Projects/BC/xcube-clms/examples/notebooks/preload_cache/dominant-leaf-type-change-2015-2018|DLTC_1518_020m_tr_03035_v010/DLTC_1518_020m_E59N17_03035_v010.tif\n"
     ]
    },
    {
     "data": {
      "application/vnd.jupyter.widget-view+json": {
       "model_id": "21c7c30f278c4a809ab353fb2773c196",
       "version_major": 2,
       "version_minor": 0
      },
      "text/plain": [
       "Extracting geo file DLTC_1518_020m_E59N18_03035_v010.tif: 0it [00:00, ?it/s]"
      ]
     },
     "metadata": {},
     "output_type": "display_data"
    },
    {
     "name": "stderr",
     "output_type": "stream",
     "text": [
      "xcube.clms - 2024-12-06 21:54:55,201 -  INFO - The file DLTC_1518_020m_E59N18_03035_v010.tif has been successfully downloaded to /home/yogesh/Projects/BC/xcube-clms/examples/notebooks/preload_cache/dominant-leaf-type-change-2015-2018|DLTC_1518_020m_tr_03035_v010/DLTC_1518_020m_E59N18_03035_v010.tif\n"
     ]
    },
    {
     "data": {
      "application/vnd.jupyter.widget-view+json": {
       "model_id": "7d1155a8bf6c4e5cb8a75bc29eca90fa",
       "version_major": 2,
       "version_minor": 0
      },
      "text/plain": [
       "Extracting geo file DLTC_1518_020m_E59N19_03035_v010.tif: 0it [00:00, ?it/s]"
      ]
     },
     "metadata": {},
     "output_type": "display_data"
    },
    {
     "name": "stderr",
     "output_type": "stream",
     "text": [
      "xcube.clms - 2024-12-06 21:54:55,230 -  INFO - The file DLTC_1518_020m_E59N19_03035_v010.tif has been successfully downloaded to /home/yogesh/Projects/BC/xcube-clms/examples/notebooks/preload_cache/dominant-leaf-type-change-2015-2018|DLTC_1518_020m_tr_03035_v010/DLTC_1518_020m_E59N19_03035_v010.tif\n"
     ]
    },
    {
     "data": {
      "application/vnd.jupyter.widget-view+json": {
       "model_id": "05d50888a2e5472c9ab6c46acf98b618",
       "version_major": 2,
       "version_minor": 0
      },
      "text/plain": [
       "Extracting geo file DLTC_1518_020m_E59N20_03035_v010.tif: 0it [00:00, ?it/s]"
      ]
     },
     "metadata": {},
     "output_type": "display_data"
    },
    {
     "name": "stderr",
     "output_type": "stream",
     "text": [
      "xcube.clms - 2024-12-06 21:54:55,255 -  INFO - The file DLTC_1518_020m_E59N20_03035_v010.tif has been successfully downloaded to /home/yogesh/Projects/BC/xcube-clms/examples/notebooks/preload_cache/dominant-leaf-type-change-2015-2018|DLTC_1518_020m_tr_03035_v010/DLTC_1518_020m_E59N20_03035_v010.tif\n"
     ]
    },
    {
     "data": {
      "application/vnd.jupyter.widget-view+json": {
       "model_id": "e8f743dbee5b442ca37c3d87e6baa6fe",
       "version_major": 2,
       "version_minor": 0
      },
      "text/plain": [
       "Extracting geo file DLTC_1518_020m_E59N21_03035_v010.tif: 0it [00:00, ?it/s]"
      ]
     },
     "metadata": {},
     "output_type": "display_data"
    },
    {
     "name": "stderr",
     "output_type": "stream",
     "text": [
      "xcube.clms - 2024-12-06 21:54:55,296 -  INFO - The file DLTC_1518_020m_E59N21_03035_v010.tif has been successfully downloaded to /home/yogesh/Projects/BC/xcube-clms/examples/notebooks/preload_cache/dominant-leaf-type-change-2015-2018|DLTC_1518_020m_tr_03035_v010/DLTC_1518_020m_E59N21_03035_v010.tif\n"
     ]
    },
    {
     "data": {
      "application/vnd.jupyter.widget-view+json": {
       "model_id": "a4de94f184a848eabab2a6fc106229d9",
       "version_major": 2,
       "version_minor": 0
      },
      "text/plain": [
       "Extracting geo file DLTC_1518_020m_E59N22_03035_v010.tif: 0it [00:00, ?it/s]"
      ]
     },
     "metadata": {},
     "output_type": "display_data"
    },
    {
     "name": "stderr",
     "output_type": "stream",
     "text": [
      "xcube.clms - 2024-12-06 21:54:55,328 -  INFO - The file DLTC_1518_020m_E59N22_03035_v010.tif has been successfully downloaded to /home/yogesh/Projects/BC/xcube-clms/examples/notebooks/preload_cache/dominant-leaf-type-change-2015-2018|DLTC_1518_020m_tr_03035_v010/DLTC_1518_020m_E59N22_03035_v010.tif\n"
     ]
    },
    {
     "data": {
      "application/vnd.jupyter.widget-view+json": {
       "model_id": "5df3da24509d46dca7718d9175e77cd8",
       "version_major": 2,
       "version_minor": 0
      },
      "text/plain": [
       "Extracting geo file DLTC_1518_020m_E60N16_03035_v010.tif: 0it [00:00, ?it/s]"
      ]
     },
     "metadata": {},
     "output_type": "display_data"
    },
    {
     "name": "stderr",
     "output_type": "stream",
     "text": [
      "xcube.clms - 2024-12-06 21:54:55,337 -  INFO - The file DLTC_1518_020m_E60N16_03035_v010.tif has been successfully downloaded to /home/yogesh/Projects/BC/xcube-clms/examples/notebooks/preload_cache/dominant-leaf-type-change-2015-2018|DLTC_1518_020m_tr_03035_v010/DLTC_1518_020m_E60N16_03035_v010.tif\n"
     ]
    },
    {
     "data": {
      "application/vnd.jupyter.widget-view+json": {
       "model_id": "dce0e9c7656e4d7c95076af85a94a1da",
       "version_major": 2,
       "version_minor": 0
      },
      "text/plain": [
       "Extracting geo file DLTC_1518_020m_E60N17_03035_v010.tif: 0it [00:00, ?it/s]"
      ]
     },
     "metadata": {},
     "output_type": "display_data"
    },
    {
     "name": "stderr",
     "output_type": "stream",
     "text": [
      "xcube.clms - 2024-12-06 21:54:55,355 -  INFO - The file DLTC_1518_020m_E60N17_03035_v010.tif has been successfully downloaded to /home/yogesh/Projects/BC/xcube-clms/examples/notebooks/preload_cache/dominant-leaf-type-change-2015-2018|DLTC_1518_020m_tr_03035_v010/DLTC_1518_020m_E60N17_03035_v010.tif\n"
     ]
    },
    {
     "data": {
      "application/vnd.jupyter.widget-view+json": {
       "model_id": "0718fa744c1c4387a313b2037aa6d10b",
       "version_major": 2,
       "version_minor": 0
      },
      "text/plain": [
       "Extracting geo file DLTC_1518_020m_E60N18_03035_v010.tif: 0it [00:00, ?it/s]"
      ]
     },
     "metadata": {},
     "output_type": "display_data"
    },
    {
     "name": "stderr",
     "output_type": "stream",
     "text": [
      "xcube.clms - 2024-12-06 21:54:55,381 -  INFO - The file DLTC_1518_020m_E60N18_03035_v010.tif has been successfully downloaded to /home/yogesh/Projects/BC/xcube-clms/examples/notebooks/preload_cache/dominant-leaf-type-change-2015-2018|DLTC_1518_020m_tr_03035_v010/DLTC_1518_020m_E60N18_03035_v010.tif\n",
      "xcube.clms - 2024-12-06 21:54:55,396 -  INFO - Found one zip file Results/FTY_2018_010m_lv_03035_v010.zip.\n"
     ]
    },
    {
     "data": {
      "application/vnd.jupyter.widget-view+json": {
       "model_id": "eea245a058a940b4982619088460c163",
       "version_major": 2,
       "version_minor": 0
      },
      "text/plain": [
       "Extracting geo file DLTC_1518_020m_E60N19_03035_v010.tif: 0it [00:00, ?it/s]"
      ]
     },
     "metadata": {},
     "output_type": "display_data"
    },
    {
     "name": "stderr",
     "output_type": "stream",
     "text": [
      "xcube.clms - 2024-12-06 21:54:55,413 -  INFO - The file DLTC_1518_020m_E60N19_03035_v010.tif has been successfully downloaded to /home/yogesh/Projects/BC/xcube-clms/examples/notebooks/preload_cache/dominant-leaf-type-change-2015-2018|DLTC_1518_020m_tr_03035_v010/DLTC_1518_020m_E60N19_03035_v010.tif\n"
     ]
    },
    {
     "data": {
      "application/vnd.jupyter.widget-view+json": {
       "model_id": "fdb562976252457bb048258114ff6ec6",
       "version_major": 2,
       "version_minor": 0
      },
      "text/plain": [
       "Extracting geo file DLTC_1518_020m_E60N20_03035_v010.tif: 0it [00:00, ?it/s]"
      ]
     },
     "metadata": {},
     "output_type": "display_data"
    },
    {
     "name": "stderr",
     "output_type": "stream",
     "text": [
      "xcube.clms - 2024-12-06 21:54:55,456 -  INFO - The file DLTC_1518_020m_E60N20_03035_v010.tif has been successfully downloaded to /home/yogesh/Projects/BC/xcube-clms/examples/notebooks/preload_cache/dominant-leaf-type-change-2015-2018|DLTC_1518_020m_tr_03035_v010/DLTC_1518_020m_E60N20_03035_v010.tif\n"
     ]
    },
    {
     "data": {
      "application/vnd.jupyter.widget-view+json": {
       "model_id": "d7ebab668e8e4c5eb44a22bfec25b504",
       "version_major": 2,
       "version_minor": 0
      },
      "text/plain": [
       "Extracting geo file DLTC_1518_020m_E60N21_03035_v010.tif: 0it [00:00, ?it/s]"
      ]
     },
     "metadata": {},
     "output_type": "display_data"
    },
    {
     "name": "stderr",
     "output_type": "stream",
     "text": [
      "xcube.clms - 2024-12-06 21:54:55,504 -  INFO - The file DLTC_1518_020m_E60N21_03035_v010.tif has been successfully downloaded to /home/yogesh/Projects/BC/xcube-clms/examples/notebooks/preload_cache/dominant-leaf-type-change-2015-2018|DLTC_1518_020m_tr_03035_v010/DLTC_1518_020m_E60N21_03035_v010.tif\n"
     ]
    },
    {
     "data": {
      "application/vnd.jupyter.widget-view+json": {
       "model_id": "dcd75faac25d499fae38d4ed22d6f00a",
       "version_major": 2,
       "version_minor": 0
      },
      "text/plain": [
       "Extracting geo file DLTC_1518_020m_E60N22_03035_v010.tif: 0it [00:00, ?it/s]"
      ]
     },
     "metadata": {},
     "output_type": "display_data"
    },
    {
     "name": "stderr",
     "output_type": "stream",
     "text": [
      "xcube.clms - 2024-12-06 21:54:55,539 -  INFO - The file DLTC_1518_020m_E60N22_03035_v010.tif has been successfully downloaded to /home/yogesh/Projects/BC/xcube-clms/examples/notebooks/preload_cache/dominant-leaf-type-change-2015-2018|DLTC_1518_020m_tr_03035_v010/DLTC_1518_020m_E60N22_03035_v010.tif\n"
     ]
    },
    {
     "data": {
      "application/vnd.jupyter.widget-view+json": {
       "model_id": "854bc662c9b647ddab61e846e2e9f688",
       "version_major": 2,
       "version_minor": 0
      },
      "text/plain": [
       "Extracting geo file DLTC_1518_020m_E61N16_03035_v010.tif: 0it [00:00, ?it/s]"
      ]
     },
     "metadata": {},
     "output_type": "display_data"
    },
    {
     "name": "stderr",
     "output_type": "stream",
     "text": [
      "xcube.clms - 2024-12-06 21:54:55,553 -  INFO - The file DLTC_1518_020m_E61N16_03035_v010.tif has been successfully downloaded to /home/yogesh/Projects/BC/xcube-clms/examples/notebooks/preload_cache/dominant-leaf-type-change-2015-2018|DLTC_1518_020m_tr_03035_v010/DLTC_1518_020m_E61N16_03035_v010.tif\n"
     ]
    },
    {
     "data": {
      "application/vnd.jupyter.widget-view+json": {
       "model_id": "ec9bf54278e64367908ad80aa6c5da1f",
       "version_major": 2,
       "version_minor": 0
      },
      "text/plain": [
       "Extracting geo file DLTC_1518_020m_E61N17_03035_v010.tif: 0it [00:00, ?it/s]"
      ]
     },
     "metadata": {},
     "output_type": "display_data"
    },
    {
     "name": "stderr",
     "output_type": "stream",
     "text": [
      "xcube.clms - 2024-12-06 21:54:55,579 -  INFO - The file DLTC_1518_020m_E61N17_03035_v010.tif has been successfully downloaded to /home/yogesh/Projects/BC/xcube-clms/examples/notebooks/preload_cache/dominant-leaf-type-change-2015-2018|DLTC_1518_020m_tr_03035_v010/DLTC_1518_020m_E61N17_03035_v010.tif\n"
     ]
    },
    {
     "data": {
      "application/vnd.jupyter.widget-view+json": {
       "model_id": "60d93f1ce5a248f9933fb19228f7fd76",
       "version_major": 2,
       "version_minor": 0
      },
      "text/plain": [
       "Extracting geo file DLTC_1518_020m_E61N18_03035_v010.tif: 0it [00:00, ?it/s]"
      ]
     },
     "metadata": {},
     "output_type": "display_data"
    },
    {
     "name": "stderr",
     "output_type": "stream",
     "text": [
      "xcube.clms - 2024-12-06 21:54:55,607 -  INFO - The file DLTC_1518_020m_E61N18_03035_v010.tif has been successfully downloaded to /home/yogesh/Projects/BC/xcube-clms/examples/notebooks/preload_cache/dominant-leaf-type-change-2015-2018|DLTC_1518_020m_tr_03035_v010/DLTC_1518_020m_E61N18_03035_v010.tif\n"
     ]
    },
    {
     "data": {
      "application/vnd.jupyter.widget-view+json": {
       "model_id": "1a474d067fe742d49acaca1d88ec8e18",
       "version_major": 2,
       "version_minor": 0
      },
      "text/plain": [
       "Extracting geo file DLTC_1518_020m_E61N19_03035_v010.tif: 0it [00:00, ?it/s]"
      ]
     },
     "metadata": {},
     "output_type": "display_data"
    },
    {
     "name": "stderr",
     "output_type": "stream",
     "text": [
      "xcube.clms - 2024-12-06 21:54:55,654 -  INFO - The file DLTC_1518_020m_E61N19_03035_v010.tif has been successfully downloaded to /home/yogesh/Projects/BC/xcube-clms/examples/notebooks/preload_cache/dominant-leaf-type-change-2015-2018|DLTC_1518_020m_tr_03035_v010/DLTC_1518_020m_E61N19_03035_v010.tif\n"
     ]
    },
    {
     "data": {
      "application/vnd.jupyter.widget-view+json": {
       "model_id": "3db1686836bd47d7852096cbf81d53db",
       "version_major": 2,
       "version_minor": 0
      },
      "text/plain": [
       "Extracting geo file DLTC_1518_020m_E61N20_03035_v010.tif: 0it [00:00, ?it/s]"
      ]
     },
     "metadata": {},
     "output_type": "display_data"
    },
    {
     "name": "stderr",
     "output_type": "stream",
     "text": [
      "xcube.clms - 2024-12-06 21:54:55,678 -  INFO - The file DLTC_1518_020m_E61N20_03035_v010.tif has been successfully downloaded to /home/yogesh/Projects/BC/xcube-clms/examples/notebooks/preload_cache/dominant-leaf-type-change-2015-2018|DLTC_1518_020m_tr_03035_v010/DLTC_1518_020m_E61N20_03035_v010.tif\n"
     ]
    },
    {
     "data": {
      "application/vnd.jupyter.widget-view+json": {
       "model_id": "e125d1eb7ea34aecb36791f88dd592be",
       "version_major": 2,
       "version_minor": 0
      },
      "text/plain": [
       "Extracting geo file DLTC_1518_020m_E61N21_03035_v010.tif: 0it [00:00, ?it/s]"
      ]
     },
     "metadata": {},
     "output_type": "display_data"
    },
    {
     "name": "stderr",
     "output_type": "stream",
     "text": [
      "xcube.clms - 2024-12-06 21:54:55,708 -  INFO - The file DLTC_1518_020m_E61N21_03035_v010.tif has been successfully downloaded to /home/yogesh/Projects/BC/xcube-clms/examples/notebooks/preload_cache/dominant-leaf-type-change-2015-2018|DLTC_1518_020m_tr_03035_v010/DLTC_1518_020m_E61N21_03035_v010.tif\n"
     ]
    },
    {
     "data": {
      "application/vnd.jupyter.widget-view+json": {
       "model_id": "d7520e725e054f13b0d9e784cffd183a",
       "version_major": 2,
       "version_minor": 0
      },
      "text/plain": [
       "Extracting geo file DLTC_1518_020m_E61N22_03035_v010.tif: 0it [00:00, ?it/s]"
      ]
     },
     "metadata": {},
     "output_type": "display_data"
    },
    {
     "name": "stderr",
     "output_type": "stream",
     "text": [
      "xcube.clms - 2024-12-06 21:54:55,767 -  INFO - The file DLTC_1518_020m_E61N22_03035_v010.tif has been successfully downloaded to /home/yogesh/Projects/BC/xcube-clms/examples/notebooks/preload_cache/dominant-leaf-type-change-2015-2018|DLTC_1518_020m_tr_03035_v010/DLTC_1518_020m_E61N22_03035_v010.tif\n",
      "xcube.clms - 2024-12-06 21:54:55,792 -  INFO - Found geo file: FTY_2018_010m_lv_03035_v010/DATA/FTY_2018_010m_E49N37_03035_v010.tif\n",
      "xcube.clms - 2024-12-06 21:54:55,796 -  INFO - Found geo file: FTY_2018_010m_lv_03035_v010/DATA/FTY_2018_010m_E49N38_03035_v010.tif\n"
     ]
    },
    {
     "data": {
      "application/vnd.jupyter.widget-view+json": {
       "model_id": "f4d4f498a0f042ff9c46aa6f6ef9ab73",
       "version_major": 2,
       "version_minor": 0
      },
      "text/plain": [
       "Extracting geo file DLTC_1518_020m_E61N23_03035_v010.tif: 0it [00:00, ?it/s]"
      ]
     },
     "metadata": {},
     "output_type": "display_data"
    },
    {
     "name": "stderr",
     "output_type": "stream",
     "text": [
      "xcube.clms - 2024-12-06 21:54:55,797 -  INFO - Found geo file: FTY_2018_010m_lv_03035_v010/DATA/FTY_2018_010m_E50N37_03035_v010.tif\n",
      "xcube.clms - 2024-12-06 21:54:55,798 -  INFO - Found geo file: FTY_2018_010m_lv_03035_v010/DATA/FTY_2018_010m_E50N38_03035_v010.tif\n",
      "xcube.clms - 2024-12-06 21:54:55,799 -  INFO - Found geo file: FTY_2018_010m_lv_03035_v010/DATA/FTY_2018_010m_E50N39_03035_v010.tif\n",
      "xcube.clms - 2024-12-06 21:54:55,799 -  INFO - Found geo file: FTY_2018_010m_lv_03035_v010/DATA/FTY_2018_010m_E51N37_03035_v010.tif\n",
      "xcube.clms - 2024-12-06 21:54:55,800 -  INFO - Found geo file: FTY_2018_010m_lv_03035_v010/DATA/FTY_2018_010m_E51N38_03035_v010.tif\n",
      "xcube.clms - 2024-12-06 21:54:55,800 -  INFO - Found geo file: FTY_2018_010m_lv_03035_v010/DATA/FTY_2018_010m_E51N39_03035_v010.tif\n",
      "xcube.clms - 2024-12-06 21:54:55,800 -  INFO - Found geo file: FTY_2018_010m_lv_03035_v010/DATA/FTY_2018_010m_E52N37_03035_v010.tif\n",
      "xcube.clms - 2024-12-06 21:54:55,801 -  INFO - Found geo file: FTY_2018_010m_lv_03035_v010/DATA/FTY_2018_010m_E52N38_03035_v010.tif\n",
      "xcube.clms - 2024-12-06 21:54:55,801 -  INFO - Found geo file: FTY_2018_010m_lv_03035_v010/DATA/FTY_2018_010m_E52N39_03035_v010.tif\n",
      "xcube.clms - 2024-12-06 21:54:55,802 -  INFO - Found geo file: FTY_2018_010m_lv_03035_v010/DATA/FTY_2018_010m_E53N37_03035_v010.tif\n",
      "xcube.clms - 2024-12-06 21:54:55,803 -  INFO - Found geo file: FTY_2018_010m_lv_03035_v010/DATA/FTY_2018_010m_E53N38_03035_v010.tif\n",
      "xcube.clms - 2024-12-06 21:54:55,803 -  INFO - Found geo file: FTY_2018_010m_lv_03035_v010/DATA/FTY_2018_010m_E53N39_03035_v010.tif\n",
      "xcube.clms - 2024-12-06 21:54:55,804 -  INFO - The file DLTC_1518_020m_E61N23_03035_v010.tif has been successfully downloaded to /home/yogesh/Projects/BC/xcube-clms/examples/notebooks/preload_cache/dominant-leaf-type-change-2015-2018|DLTC_1518_020m_tr_03035_v010/DLTC_1518_020m_E61N23_03035_v010.tif\n",
      "xcube.clms - 2024-12-06 21:54:55,804 -  INFO - Found geo file: FTY_2018_010m_lv_03035_v010/DATA/FTY_2018_010m_E54N37_03035_v010.tif\n",
      "xcube.clms - 2024-12-06 21:54:55,805 -  INFO - Found geo file: FTY_2018_010m_lv_03035_v010/DATA/FTY_2018_010m_E54N38_03035_v010.tif\n"
     ]
    },
    {
     "data": {
      "application/vnd.jupyter.widget-view+json": {
       "model_id": "e6961fba3b184df193ab25d6f50646d8",
       "version_major": 2,
       "version_minor": 0
      },
      "text/plain": [
       "Extracting geo files for task_id {task_id}:   0%|          | 0/16 [00:00<?, ?it/s]"
      ]
     },
     "metadata": {},
     "output_type": "display_data"
    },
    {
     "data": {
      "application/vnd.jupyter.widget-view+json": {
       "model_id": "66a0f689eaef40b0a9711175055c02ec",
       "version_major": 2,
       "version_minor": 0
      },
      "text/plain": [
       "Extracting geo file FTY_2018_010m_E49N37_03035_v010.tif: 0it [00:00, ?it/s]"
      ]
     },
     "metadata": {},
     "output_type": "display_data"
    },
    {
     "data": {
      "application/vnd.jupyter.widget-view+json": {
       "model_id": "b76144e505f34a27ae397873f38a0cc8",
       "version_major": 2,
       "version_minor": 0
      },
      "text/plain": [
       "Extracting geo file DLTC_1518_020m_E62N17_03035_v010.tif: 0it [00:00, ?it/s]"
      ]
     },
     "metadata": {},
     "output_type": "display_data"
    },
    {
     "name": "stderr",
     "output_type": "stream",
     "text": [
      "xcube.clms - 2024-12-06 21:54:55,825 -  INFO - The file DLTC_1518_020m_E62N17_03035_v010.tif has been successfully downloaded to /home/yogesh/Projects/BC/xcube-clms/examples/notebooks/preload_cache/dominant-leaf-type-change-2015-2018|DLTC_1518_020m_tr_03035_v010/DLTC_1518_020m_E62N17_03035_v010.tif\n",
      "xcube.clms - 2024-12-06 21:54:55,825 -  INFO - The file FTY_2018_010m_E49N37_03035_v010.tif has been successfully downloaded to /home/yogesh/Projects/BC/xcube-clms/examples/notebooks/preload_cache/forest-type-2018|FTY_2018_010m_lv_03035_v010/FTY_2018_010m_E49N37_03035_v010.tif\n"
     ]
    },
    {
     "data": {
      "application/vnd.jupyter.widget-view+json": {
       "model_id": "53cf222dcf454921ae13bd0cfd21efe5",
       "version_major": 2,
       "version_minor": 0
      },
      "text/plain": [
       "Extracting geo file DLTC_1518_020m_E62N18_03035_v010.tif: 0it [00:00, ?it/s]"
      ]
     },
     "metadata": {},
     "output_type": "display_data"
    },
    {
     "name": "stderr",
     "output_type": "stream",
     "text": [
      "xcube.clms - 2024-12-06 21:54:55,879 -  INFO - The file DLTC_1518_020m_E62N18_03035_v010.tif has been successfully downloaded to /home/yogesh/Projects/BC/xcube-clms/examples/notebooks/preload_cache/dominant-leaf-type-change-2015-2018|DLTC_1518_020m_tr_03035_v010/DLTC_1518_020m_E62N18_03035_v010.tif\n"
     ]
    },
    {
     "data": {
      "application/vnd.jupyter.widget-view+json": {
       "model_id": "4343e22348a34ca99db8df5a1cdb42ce",
       "version_major": 2,
       "version_minor": 0
      },
      "text/plain": [
       "Extracting geo file FTY_2018_010m_E49N38_03035_v010.tif: 0it [00:00, ?it/s]"
      ]
     },
     "metadata": {},
     "output_type": "display_data"
    },
    {
     "name": "stderr",
     "output_type": "stream",
     "text": [
      "xcube.clms - 2024-12-06 21:54:55,896 -  INFO - The file FTY_2018_010m_E49N38_03035_v010.tif has been successfully downloaded to /home/yogesh/Projects/BC/xcube-clms/examples/notebooks/preload_cache/forest-type-2018|FTY_2018_010m_lv_03035_v010/FTY_2018_010m_E49N38_03035_v010.tif\n"
     ]
    },
    {
     "data": {
      "application/vnd.jupyter.widget-view+json": {
       "model_id": "79275e9da4fd46e49e7bd11b41e1bddc",
       "version_major": 2,
       "version_minor": 0
      },
      "text/plain": [
       "Extracting geo file DLTC_1518_020m_E62N19_03035_v010.tif: 0it [00:00, ?it/s]"
      ]
     },
     "metadata": {},
     "output_type": "display_data"
    },
    {
     "data": {
      "application/vnd.jupyter.widget-view+json": {
       "model_id": "35e2a53aaba945b5959b4c441009cf52",
       "version_major": 2,
       "version_minor": 0
      },
      "text/plain": [
       "Extracting geo file FTY_2018_010m_E50N37_03035_v010.tif: 0it [00:00, ?it/s]"
      ]
     },
     "metadata": {},
     "output_type": "display_data"
    },
    {
     "name": "stderr",
     "output_type": "stream",
     "text": [
      "xcube.clms - 2024-12-06 21:54:55,911 -  INFO - The file DLTC_1518_020m_E62N19_03035_v010.tif has been successfully downloaded to /home/yogesh/Projects/BC/xcube-clms/examples/notebooks/preload_cache/dominant-leaf-type-change-2015-2018|DLTC_1518_020m_tr_03035_v010/DLTC_1518_020m_E62N19_03035_v010.tif\n"
     ]
    },
    {
     "data": {
      "application/vnd.jupyter.widget-view+json": {
       "model_id": "1ec1d0ede9474f8eaef0c5053384b787",
       "version_major": 2,
       "version_minor": 0
      },
      "text/plain": [
       "Extracting geo file DLTC_1518_020m_E62N20_03035_v010.tif: 0it [00:00, ?it/s]"
      ]
     },
     "metadata": {},
     "output_type": "display_data"
    },
    {
     "name": "stderr",
     "output_type": "stream",
     "text": [
      "xcube.clms - 2024-12-06 21:54:55,934 -  INFO - The file DLTC_1518_020m_E62N20_03035_v010.tif has been successfully downloaded to /home/yogesh/Projects/BC/xcube-clms/examples/notebooks/preload_cache/dominant-leaf-type-change-2015-2018|DLTC_1518_020m_tr_03035_v010/DLTC_1518_020m_E62N20_03035_v010.tif\n",
      "xcube.clms - 2024-12-06 21:54:55,941 -  INFO - The file FTY_2018_010m_E50N37_03035_v010.tif has been successfully downloaded to /home/yogesh/Projects/BC/xcube-clms/examples/notebooks/preload_cache/forest-type-2018|FTY_2018_010m_lv_03035_v010/FTY_2018_010m_E50N37_03035_v010.tif\n"
     ]
    },
    {
     "data": {
      "application/vnd.jupyter.widget-view+json": {
       "model_id": "f0be45ce043045dd97ca89045130ec6f",
       "version_major": 2,
       "version_minor": 0
      },
      "text/plain": [
       "Extracting geo file DLTC_1518_020m_E62N21_03035_v010.tif: 0it [00:00, ?it/s]"
      ]
     },
     "metadata": {},
     "output_type": "display_data"
    },
    {
     "name": "stderr",
     "output_type": "stream",
     "text": [
      "xcube.clms - 2024-12-06 21:54:55,990 -  INFO - The file DLTC_1518_020m_E62N21_03035_v010.tif has been successfully downloaded to /home/yogesh/Projects/BC/xcube-clms/examples/notebooks/preload_cache/dominant-leaf-type-change-2015-2018|DLTC_1518_020m_tr_03035_v010/DLTC_1518_020m_E62N21_03035_v010.tif\n"
     ]
    },
    {
     "data": {
      "application/vnd.jupyter.widget-view+json": {
       "model_id": "6965063980474c2e929334ca201dc653",
       "version_major": 2,
       "version_minor": 0
      },
      "text/plain": [
       "Extracting geo file FTY_2018_010m_E50N38_03035_v010.tif: 0it [00:00, ?it/s]"
      ]
     },
     "metadata": {},
     "output_type": "display_data"
    },
    {
     "data": {
      "application/vnd.jupyter.widget-view+json": {
       "model_id": "77ada26c63ea4d59be004f46cc3a175d",
       "version_major": 2,
       "version_minor": 0
      },
      "text/plain": [
       "Extracting geo file DLTC_1518_020m_E62N22_03035_v010.tif: 0it [00:00, ?it/s]"
      ]
     },
     "metadata": {},
     "output_type": "display_data"
    },
    {
     "name": "stderr",
     "output_type": "stream",
     "text": [
      "xcube.clms - 2024-12-06 21:54:56,034 -  INFO - The file DLTC_1518_020m_E62N22_03035_v010.tif has been successfully downloaded to /home/yogesh/Projects/BC/xcube-clms/examples/notebooks/preload_cache/dominant-leaf-type-change-2015-2018|DLTC_1518_020m_tr_03035_v010/DLTC_1518_020m_E62N22_03035_v010.tif\n",
      "xcube.clms - 2024-12-06 21:54:56,039 -  INFO - The file FTY_2018_010m_E50N38_03035_v010.tif has been successfully downloaded to /home/yogesh/Projects/BC/xcube-clms/examples/notebooks/preload_cache/forest-type-2018|FTY_2018_010m_lv_03035_v010/FTY_2018_010m_E50N38_03035_v010.tif\n"
     ]
    },
    {
     "data": {
      "application/vnd.jupyter.widget-view+json": {
       "model_id": "73b788ceb13f4cf38531e9ea6b343543",
       "version_major": 2,
       "version_minor": 0
      },
      "text/plain": [
       "Extracting geo file DLTC_1518_020m_E62N23_03035_v010.tif: 0it [00:00, ?it/s]"
      ]
     },
     "metadata": {},
     "output_type": "display_data"
    },
    {
     "data": {
      "application/vnd.jupyter.widget-view+json": {
       "model_id": "9352be1606614841bbfc258521a052d5",
       "version_major": 2,
       "version_minor": 0
      },
      "text/plain": [
       "Extracting geo file FTY_2018_010m_E50N39_03035_v010.tif: 0it [00:00, ?it/s]"
      ]
     },
     "metadata": {},
     "output_type": "display_data"
    },
    {
     "name": "stderr",
     "output_type": "stream",
     "text": [
      "xcube.clms - 2024-12-06 21:54:56,112 -  INFO - The file DLTC_1518_020m_E62N23_03035_v010.tif has been successfully downloaded to /home/yogesh/Projects/BC/xcube-clms/examples/notebooks/preload_cache/dominant-leaf-type-change-2015-2018|DLTC_1518_020m_tr_03035_v010/DLTC_1518_020m_E62N23_03035_v010.tif\n",
      "xcube.clms - 2024-12-06 21:54:56,117 -  INFO - The file FTY_2018_010m_E50N39_03035_v010.tif has been successfully downloaded to /home/yogesh/Projects/BC/xcube-clms/examples/notebooks/preload_cache/forest-type-2018|FTY_2018_010m_lv_03035_v010/FTY_2018_010m_E50N39_03035_v010.tif\n"
     ]
    },
    {
     "data": {
      "application/vnd.jupyter.widget-view+json": {
       "model_id": "3c843ab5d93343489eb6ba69b0a48c53",
       "version_major": 2,
       "version_minor": 0
      },
      "text/plain": [
       "Extracting geo file DLTC_1518_020m_E62N24_03035_v010.tif: 0it [00:00, ?it/s]"
      ]
     },
     "metadata": {},
     "output_type": "display_data"
    },
    {
     "data": {
      "application/vnd.jupyter.widget-view+json": {
       "model_id": "566a956b3caa44bda78b098c5818d923",
       "version_major": 2,
       "version_minor": 0
      },
      "text/plain": [
       "Extracting geo file FTY_2018_010m_E51N37_03035_v010.tif: 0it [00:00, ?it/s]"
      ]
     },
     "metadata": {},
     "output_type": "display_data"
    },
    {
     "name": "stderr",
     "output_type": "stream",
     "text": [
      "xcube.clms - 2024-12-06 21:54:56,148 -  INFO - The file DLTC_1518_020m_E62N24_03035_v010.tif has been successfully downloaded to /home/yogesh/Projects/BC/xcube-clms/examples/notebooks/preload_cache/dominant-leaf-type-change-2015-2018|DLTC_1518_020m_tr_03035_v010/DLTC_1518_020m_E62N24_03035_v010.tif\n"
     ]
    },
    {
     "data": {
      "application/vnd.jupyter.widget-view+json": {
       "model_id": "6fc5a3a76d0c44028909b4ab86886362",
       "version_major": 2,
       "version_minor": 0
      },
      "text/plain": [
       "Extracting geo file DLTC_1518_020m_E63N17_03035_v010.tif: 0it [00:00, ?it/s]"
      ]
     },
     "metadata": {},
     "output_type": "display_data"
    },
    {
     "name": "stderr",
     "output_type": "stream",
     "text": [
      "xcube.clms - 2024-12-06 21:54:56,163 -  INFO - The file DLTC_1518_020m_E63N17_03035_v010.tif has been successfully downloaded to /home/yogesh/Projects/BC/xcube-clms/examples/notebooks/preload_cache/dominant-leaf-type-change-2015-2018|DLTC_1518_020m_tr_03035_v010/DLTC_1518_020m_E63N17_03035_v010.tif\n",
      "xcube.clms - 2024-12-06 21:54:56,172 -  INFO - The file FTY_2018_010m_E51N37_03035_v010.tif has been successfully downloaded to /home/yogesh/Projects/BC/xcube-clms/examples/notebooks/preload_cache/forest-type-2018|FTY_2018_010m_lv_03035_v010/FTY_2018_010m_E51N37_03035_v010.tif\n"
     ]
    },
    {
     "data": {
      "application/vnd.jupyter.widget-view+json": {
       "model_id": "f565f39fa1324b4aaab406fc499447db",
       "version_major": 2,
       "version_minor": 0
      },
      "text/plain": [
       "Extracting geo file DLTC_1518_020m_E63N18_03035_v010.tif: 0it [00:00, ?it/s]"
      ]
     },
     "metadata": {},
     "output_type": "display_data"
    },
    {
     "name": "stderr",
     "output_type": "stream",
     "text": [
      "xcube.clms - 2024-12-06 21:54:56,203 -  INFO - The file DLTC_1518_020m_E63N18_03035_v010.tif has been successfully downloaded to /home/yogesh/Projects/BC/xcube-clms/examples/notebooks/preload_cache/dominant-leaf-type-change-2015-2018|DLTC_1518_020m_tr_03035_v010/DLTC_1518_020m_E63N18_03035_v010.tif\n"
     ]
    },
    {
     "data": {
      "application/vnd.jupyter.widget-view+json": {
       "model_id": "e58294b7fd804c78a121fc37be65bb91",
       "version_major": 2,
       "version_minor": 0
      },
      "text/plain": [
       "Extracting geo file FTY_2018_010m_E51N38_03035_v010.tif: 0it [00:00, ?it/s]"
      ]
     },
     "metadata": {},
     "output_type": "display_data"
    },
    {
     "data": {
      "application/vnd.jupyter.widget-view+json": {
       "model_id": "314f1d858fa5456ab962c1e1b017f52b",
       "version_major": 2,
       "version_minor": 0
      },
      "text/plain": [
       "Extracting geo file DLTC_1518_020m_E63N19_03035_v010.tif: 0it [00:00, ?it/s]"
      ]
     },
     "metadata": {},
     "output_type": "display_data"
    },
    {
     "name": "stderr",
     "output_type": "stream",
     "text": [
      "xcube.clms - 2024-12-06 21:54:56,234 -  INFO - The file DLTC_1518_020m_E63N19_03035_v010.tif has been successfully downloaded to /home/yogesh/Projects/BC/xcube-clms/examples/notebooks/preload_cache/dominant-leaf-type-change-2015-2018|DLTC_1518_020m_tr_03035_v010/DLTC_1518_020m_E63N19_03035_v010.tif\n",
      "xcube.clms - 2024-12-06 21:54:56,250 -  INFO - The file FTY_2018_010m_E51N38_03035_v010.tif has been successfully downloaded to /home/yogesh/Projects/BC/xcube-clms/examples/notebooks/preload_cache/forest-type-2018|FTY_2018_010m_lv_03035_v010/FTY_2018_010m_E51N38_03035_v010.tif\n"
     ]
    },
    {
     "data": {
      "application/vnd.jupyter.widget-view+json": {
       "model_id": "be1a12e2cbff43fd9f93b66003789a98",
       "version_major": 2,
       "version_minor": 0
      },
      "text/plain": [
       "Extracting geo file DLTC_1518_020m_E63N20_03035_v010.tif: 0it [00:00, ?it/s]"
      ]
     },
     "metadata": {},
     "output_type": "display_data"
    },
    {
     "name": "stderr",
     "output_type": "stream",
     "text": [
      "xcube.clms - 2024-12-06 21:54:56,259 -  INFO - The file DLTC_1518_020m_E63N20_03035_v010.tif has been successfully downloaded to /home/yogesh/Projects/BC/xcube-clms/examples/notebooks/preload_cache/dominant-leaf-type-change-2015-2018|DLTC_1518_020m_tr_03035_v010/DLTC_1518_020m_E63N20_03035_v010.tif\n"
     ]
    },
    {
     "data": {
      "application/vnd.jupyter.widget-view+json": {
       "model_id": "b466257516574c21aa0eacbf0d2e3867",
       "version_major": 2,
       "version_minor": 0
      },
      "text/plain": [
       "Extracting geo file DLTC_1518_020m_E63N21_03035_v010.tif: 0it [00:00, ?it/s]"
      ]
     },
     "metadata": {},
     "output_type": "display_data"
    },
    {
     "data": {
      "application/vnd.jupyter.widget-view+json": {
       "model_id": "71e8a96d62014a86a3b55996a21310a2",
       "version_major": 2,
       "version_minor": 0
      },
      "text/plain": [
       "Extracting geo file FTY_2018_010m_E51N39_03035_v010.tif: 0it [00:00, ?it/s]"
      ]
     },
     "metadata": {},
     "output_type": "display_data"
    },
    {
     "name": "stderr",
     "output_type": "stream",
     "text": [
      "xcube.clms - 2024-12-06 21:54:56,320 -  INFO - The file DLTC_1518_020m_E63N21_03035_v010.tif has been successfully downloaded to /home/yogesh/Projects/BC/xcube-clms/examples/notebooks/preload_cache/dominant-leaf-type-change-2015-2018|DLTC_1518_020m_tr_03035_v010/DLTC_1518_020m_E63N21_03035_v010.tif\n",
      "xcube.clms - 2024-12-06 21:54:56,335 -  INFO - The file FTY_2018_010m_E51N39_03035_v010.tif has been successfully downloaded to /home/yogesh/Projects/BC/xcube-clms/examples/notebooks/preload_cache/forest-type-2018|FTY_2018_010m_lv_03035_v010/FTY_2018_010m_E51N39_03035_v010.tif\n"
     ]
    },
    {
     "data": {
      "application/vnd.jupyter.widget-view+json": {
       "model_id": "2b2acb9643f5437fa666a56cd5a9776a",
       "version_major": 2,
       "version_minor": 0
      },
      "text/plain": [
       "Extracting geo file DLTC_1518_020m_E63N22_03035_v010.tif: 0it [00:00, ?it/s]"
      ]
     },
     "metadata": {},
     "output_type": "display_data"
    },
    {
     "data": {
      "application/vnd.jupyter.widget-view+json": {
       "model_id": "138575e02cb44544baecc22646b763d5",
       "version_major": 2,
       "version_minor": 0
      },
      "text/plain": [
       "Extracting geo file FTY_2018_010m_E52N37_03035_v010.tif: 0it [00:00, ?it/s]"
      ]
     },
     "metadata": {},
     "output_type": "display_data"
    },
    {
     "name": "stderr",
     "output_type": "stream",
     "text": [
      "xcube.clms - 2024-12-06 21:54:56,380 -  INFO - The file DLTC_1518_020m_E63N22_03035_v010.tif has been successfully downloaded to /home/yogesh/Projects/BC/xcube-clms/examples/notebooks/preload_cache/dominant-leaf-type-change-2015-2018|DLTC_1518_020m_tr_03035_v010/DLTC_1518_020m_E63N22_03035_v010.tif\n",
      "xcube.clms - 2024-12-06 21:54:56,417 -  INFO - The file FTY_2018_010m_E52N37_03035_v010.tif has been successfully downloaded to /home/yogesh/Projects/BC/xcube-clms/examples/notebooks/preload_cache/forest-type-2018|FTY_2018_010m_lv_03035_v010/FTY_2018_010m_E52N37_03035_v010.tif\n"
     ]
    },
    {
     "data": {
      "application/vnd.jupyter.widget-view+json": {
       "model_id": "8db8dacf9d9042a7899d16a8cfc1413b",
       "version_major": 2,
       "version_minor": 0
      },
      "text/plain": [
       "Extracting geo file DLTC_1518_020m_E63N23_03035_v010.tif: 0it [00:00, ?it/s]"
      ]
     },
     "metadata": {},
     "output_type": "display_data"
    },
    {
     "name": "stderr",
     "output_type": "stream",
     "text": [
      "xcube.clms - 2024-12-06 21:54:56,439 -  INFO - The file DLTC_1518_020m_E63N23_03035_v010.tif has been successfully downloaded to /home/yogesh/Projects/BC/xcube-clms/examples/notebooks/preload_cache/dominant-leaf-type-change-2015-2018|DLTC_1518_020m_tr_03035_v010/DLTC_1518_020m_E63N23_03035_v010.tif\n"
     ]
    },
    {
     "data": {
      "application/vnd.jupyter.widget-view+json": {
       "model_id": "06f29a787ff64c2dabb68afe58e6aa07",
       "version_major": 2,
       "version_minor": 0
      },
      "text/plain": [
       "Extracting geo file FTY_2018_010m_E52N38_03035_v010.tif: 0it [00:00, ?it/s]"
      ]
     },
     "metadata": {},
     "output_type": "display_data"
    },
    {
     "data": {
      "application/vnd.jupyter.widget-view+json": {
       "model_id": "a11e6a7d41974e6b8405943c0371508d",
       "version_major": 2,
       "version_minor": 0
      },
      "text/plain": [
       "Extracting geo file DLTC_1518_020m_E63N24_03035_v010.tif: 0it [00:00, ?it/s]"
      ]
     },
     "metadata": {},
     "output_type": "display_data"
    },
    {
     "name": "stderr",
     "output_type": "stream",
     "text": [
      "xcube.clms - 2024-12-06 21:54:56,474 -  INFO - The file DLTC_1518_020m_E63N24_03035_v010.tif has been successfully downloaded to /home/yogesh/Projects/BC/xcube-clms/examples/notebooks/preload_cache/dominant-leaf-type-change-2015-2018|DLTC_1518_020m_tr_03035_v010/DLTC_1518_020m_E63N24_03035_v010.tif\n"
     ]
    },
    {
     "data": {
      "application/vnd.jupyter.widget-view+json": {
       "model_id": "17e4528901ac4d98801e75f0dd415dd7",
       "version_major": 2,
       "version_minor": 0
      },
      "text/plain": [
       "Extracting geo file DLTC_1518_020m_E64N17_03035_v010.tif: 0it [00:00, ?it/s]"
      ]
     },
     "metadata": {},
     "output_type": "display_data"
    },
    {
     "name": "stderr",
     "output_type": "stream",
     "text": [
      "xcube.clms - 2024-12-06 21:54:56,490 -  INFO - The file DLTC_1518_020m_E64N17_03035_v010.tif has been successfully downloaded to /home/yogesh/Projects/BC/xcube-clms/examples/notebooks/preload_cache/dominant-leaf-type-change-2015-2018|DLTC_1518_020m_tr_03035_v010/DLTC_1518_020m_E64N17_03035_v010.tif\n",
      "xcube.clms - 2024-12-06 21:54:56,498 -  INFO - The file FTY_2018_010m_E52N38_03035_v010.tif has been successfully downloaded to /home/yogesh/Projects/BC/xcube-clms/examples/notebooks/preload_cache/forest-type-2018|FTY_2018_010m_lv_03035_v010/FTY_2018_010m_E52N38_03035_v010.tif\n"
     ]
    },
    {
     "data": {
      "application/vnd.jupyter.widget-view+json": {
       "model_id": "b236e28142364f6283023b97ddcb3027",
       "version_major": 2,
       "version_minor": 0
      },
      "text/plain": [
       "Extracting geo file DLTC_1518_020m_E64N18_03035_v010.tif: 0it [00:00, ?it/s]"
      ]
     },
     "metadata": {},
     "output_type": "display_data"
    },
    {
     "name": "stderr",
     "output_type": "stream",
     "text": [
      "xcube.clms - 2024-12-06 21:54:56,529 -  INFO - The file DLTC_1518_020m_E64N18_03035_v010.tif has been successfully downloaded to /home/yogesh/Projects/BC/xcube-clms/examples/notebooks/preload_cache/dominant-leaf-type-change-2015-2018|DLTC_1518_020m_tr_03035_v010/DLTC_1518_020m_E64N18_03035_v010.tif\n"
     ]
    },
    {
     "data": {
      "application/vnd.jupyter.widget-view+json": {
       "model_id": "cf12275945ae40518f8533769a07c6a0",
       "version_major": 2,
       "version_minor": 0
      },
      "text/plain": [
       "Extracting geo file FTY_2018_010m_E52N39_03035_v010.tif: 0it [00:00, ?it/s]"
      ]
     },
     "metadata": {},
     "output_type": "display_data"
    },
    {
     "data": {
      "application/vnd.jupyter.widget-view+json": {
       "model_id": "b2023facf09a45ab8e3b229b564d25c5",
       "version_major": 2,
       "version_minor": 0
      },
      "text/plain": [
       "Extracting geo file DLTC_1518_020m_E64N19_03035_v010.tif: 0it [00:00, ?it/s]"
      ]
     },
     "metadata": {},
     "output_type": "display_data"
    },
    {
     "name": "stderr",
     "output_type": "stream",
     "text": [
      "xcube.clms - 2024-12-06 21:54:56,559 -  INFO - The file DLTC_1518_020m_E64N19_03035_v010.tif has been successfully downloaded to /home/yogesh/Projects/BC/xcube-clms/examples/notebooks/preload_cache/dominant-leaf-type-change-2015-2018|DLTC_1518_020m_tr_03035_v010/DLTC_1518_020m_E64N19_03035_v010.tif\n"
     ]
    },
    {
     "data": {
      "application/vnd.jupyter.widget-view+json": {
       "model_id": "7c3e8b1157a54009a00c9117a2b8c778",
       "version_major": 2,
       "version_minor": 0
      },
      "text/plain": [
       "Extracting geo file DLTC_1518_020m_E64N20_03035_v010.tif: 0it [00:00, ?it/s]"
      ]
     },
     "metadata": {},
     "output_type": "display_data"
    },
    {
     "name": "stderr",
     "output_type": "stream",
     "text": [
      "xcube.clms - 2024-12-06 21:54:56,579 -  INFO - The file FTY_2018_010m_E52N39_03035_v010.tif has been successfully downloaded to /home/yogesh/Projects/BC/xcube-clms/examples/notebooks/preload_cache/forest-type-2018|FTY_2018_010m_lv_03035_v010/FTY_2018_010m_E52N39_03035_v010.tif\n",
      "xcube.clms - 2024-12-06 21:54:56,582 -  INFO - The file DLTC_1518_020m_E64N20_03035_v010.tif has been successfully downloaded to /home/yogesh/Projects/BC/xcube-clms/examples/notebooks/preload_cache/dominant-leaf-type-change-2015-2018|DLTC_1518_020m_tr_03035_v010/DLTC_1518_020m_E64N20_03035_v010.tif\n"
     ]
    },
    {
     "data": {
      "application/vnd.jupyter.widget-view+json": {
       "model_id": "381bf436b9014b7faaa9ab240f3a2038",
       "version_major": 2,
       "version_minor": 0
      },
      "text/plain": [
       "Extracting geo file DLTC_1518_020m_E64N21_03035_v010.tif: 0it [00:00, ?it/s]"
      ]
     },
     "metadata": {},
     "output_type": "display_data"
    },
    {
     "data": {
      "application/vnd.jupyter.widget-view+json": {
       "model_id": "825d9d21ab4145a58bdfb6594cd54085",
       "version_major": 2,
       "version_minor": 0
      },
      "text/plain": [
       "Extracting geo file FTY_2018_010m_E53N37_03035_v010.tif: 0it [00:00, ?it/s]"
      ]
     },
     "metadata": {},
     "output_type": "display_data"
    },
    {
     "name": "stderr",
     "output_type": "stream",
     "text": [
      "xcube.clms - 2024-12-06 21:54:56,626 -  INFO - The file DLTC_1518_020m_E64N21_03035_v010.tif has been successfully downloaded to /home/yogesh/Projects/BC/xcube-clms/examples/notebooks/preload_cache/dominant-leaf-type-change-2015-2018|DLTC_1518_020m_tr_03035_v010/DLTC_1518_020m_E64N21_03035_v010.tif\n"
     ]
    },
    {
     "data": {
      "application/vnd.jupyter.widget-view+json": {
       "model_id": "d6cc0cc07e3a43caac0e82c868ee3815",
       "version_major": 2,
       "version_minor": 0
      },
      "text/plain": [
       "Extracting geo file DLTC_1518_020m_E64N22_03035_v010.tif: 0it [00:00, ?it/s]"
      ]
     },
     "metadata": {},
     "output_type": "display_data"
    },
    {
     "name": "stderr",
     "output_type": "stream",
     "text": [
      "xcube.clms - 2024-12-06 21:54:56,664 -  INFO - The file FTY_2018_010m_E53N37_03035_v010.tif has been successfully downloaded to /home/yogesh/Projects/BC/xcube-clms/examples/notebooks/preload_cache/forest-type-2018|FTY_2018_010m_lv_03035_v010/FTY_2018_010m_E53N37_03035_v010.tif\n",
      "xcube.clms - 2024-12-06 21:54:56,668 -  INFO - The file DLTC_1518_020m_E64N22_03035_v010.tif has been successfully downloaded to /home/yogesh/Projects/BC/xcube-clms/examples/notebooks/preload_cache/dominant-leaf-type-change-2015-2018|DLTC_1518_020m_tr_03035_v010/DLTC_1518_020m_E64N22_03035_v010.tif\n"
     ]
    },
    {
     "data": {
      "application/vnd.jupyter.widget-view+json": {
       "model_id": "625a240852cd46bc957eb8891dccebed",
       "version_major": 2,
       "version_minor": 0
      },
      "text/plain": [
       "Extracting geo file DLTC_1518_020m_E64N23_03035_v010.tif: 0it [00:00, ?it/s]"
      ]
     },
     "metadata": {},
     "output_type": "display_data"
    },
    {
     "data": {
      "application/vnd.jupyter.widget-view+json": {
       "model_id": "819d6e3ccdf4442a941dce1e31aab511",
       "version_major": 2,
       "version_minor": 0
      },
      "text/plain": [
       "Extracting geo file FTY_2018_010m_E53N38_03035_v010.tif: 0it [00:00, ?it/s]"
      ]
     },
     "metadata": {},
     "output_type": "display_data"
    },
    {
     "name": "stderr",
     "output_type": "stream",
     "text": [
      "xcube.clms - 2024-12-06 21:54:56,735 -  INFO - The file DLTC_1518_020m_E64N23_03035_v010.tif has been successfully downloaded to /home/yogesh/Projects/BC/xcube-clms/examples/notebooks/preload_cache/dominant-leaf-type-change-2015-2018|DLTC_1518_020m_tr_03035_v010/DLTC_1518_020m_E64N23_03035_v010.tif\n"
     ]
    },
    {
     "data": {
      "application/vnd.jupyter.widget-view+json": {
       "model_id": "0f6779a65e9442088442b219d2f243d6",
       "version_major": 2,
       "version_minor": 0
      },
      "text/plain": [
       "Extracting geo file DLTC_1518_020m_E64N24_03035_v010.tif: 0it [00:00, ?it/s]"
      ]
     },
     "metadata": {},
     "output_type": "display_data"
    },
    {
     "name": "stderr",
     "output_type": "stream",
     "text": [
      "xcube.clms - 2024-12-06 21:54:56,759 -  INFO - The file DLTC_1518_020m_E64N24_03035_v010.tif has been successfully downloaded to /home/yogesh/Projects/BC/xcube-clms/examples/notebooks/preload_cache/dominant-leaf-type-change-2015-2018|DLTC_1518_020m_tr_03035_v010/DLTC_1518_020m_E64N24_03035_v010.tif\n",
      "xcube.clms - 2024-12-06 21:54:56,764 -  INFO - The file FTY_2018_010m_E53N38_03035_v010.tif has been successfully downloaded to /home/yogesh/Projects/BC/xcube-clms/examples/notebooks/preload_cache/forest-type-2018|FTY_2018_010m_lv_03035_v010/FTY_2018_010m_E53N38_03035_v010.tif\n"
     ]
    },
    {
     "data": {
      "application/vnd.jupyter.widget-view+json": {
       "model_id": "aec5368cbe0f4e67914af3436394b2e0",
       "version_major": 2,
       "version_minor": 0
      },
      "text/plain": [
       "Extracting geo file DLTC_1518_020m_E65N18_03035_v010.tif: 0it [00:00, ?it/s]"
      ]
     },
     "metadata": {},
     "output_type": "display_data"
    },
    {
     "data": {
      "application/vnd.jupyter.widget-view+json": {
       "model_id": "c802e5de712043168ac8d1a7024ceaea",
       "version_major": 2,
       "version_minor": 0
      },
      "text/plain": [
       "Extracting geo file FTY_2018_010m_E53N39_03035_v010.tif: 0it [00:00, ?it/s]"
      ]
     },
     "metadata": {},
     "output_type": "display_data"
    },
    {
     "name": "stderr",
     "output_type": "stream",
     "text": [
      "xcube.clms - 2024-12-06 21:54:56,819 -  INFO - The file DLTC_1518_020m_E65N18_03035_v010.tif has been successfully downloaded to /home/yogesh/Projects/BC/xcube-clms/examples/notebooks/preload_cache/dominant-leaf-type-change-2015-2018|DLTC_1518_020m_tr_03035_v010/DLTC_1518_020m_E65N18_03035_v010.tif\n"
     ]
    },
    {
     "data": {
      "application/vnd.jupyter.widget-view+json": {
       "model_id": "951bb1eb960448ae88e4231095090059",
       "version_major": 2,
       "version_minor": 0
      },
      "text/plain": [
       "Extracting geo file DLTC_1518_020m_E65N19_03035_v010.tif: 0it [00:00, ?it/s]"
      ]
     },
     "metadata": {},
     "output_type": "display_data"
    },
    {
     "name": "stderr",
     "output_type": "stream",
     "text": [
      "xcube.clms - 2024-12-06 21:54:56,849 -  INFO - The file FTY_2018_010m_E53N39_03035_v010.tif has been successfully downloaded to /home/yogesh/Projects/BC/xcube-clms/examples/notebooks/preload_cache/forest-type-2018|FTY_2018_010m_lv_03035_v010/FTY_2018_010m_E53N39_03035_v010.tif\n",
      "xcube.clms - 2024-12-06 21:54:56,851 -  INFO - The file DLTC_1518_020m_E65N19_03035_v010.tif has been successfully downloaded to /home/yogesh/Projects/BC/xcube-clms/examples/notebooks/preload_cache/dominant-leaf-type-change-2015-2018|DLTC_1518_020m_tr_03035_v010/DLTC_1518_020m_E65N19_03035_v010.tif\n"
     ]
    },
    {
     "data": {
      "application/vnd.jupyter.widget-view+json": {
       "model_id": "bdf56e7c62e54263bdd199d6411b9c08",
       "version_major": 2,
       "version_minor": 0
      },
      "text/plain": [
       "Extracting geo file DLTC_1518_020m_E65N20_03035_v010.tif: 0it [00:00, ?it/s]"
      ]
     },
     "metadata": {},
     "output_type": "display_data"
    },
    {
     "name": "stderr",
     "output_type": "stream",
     "text": [
      "xcube.clms - 2024-12-06 21:54:56,888 -  INFO - The file DLTC_1518_020m_E65N20_03035_v010.tif has been successfully downloaded to /home/yogesh/Projects/BC/xcube-clms/examples/notebooks/preload_cache/dominant-leaf-type-change-2015-2018|DLTC_1518_020m_tr_03035_v010/DLTC_1518_020m_E65N20_03035_v010.tif\n"
     ]
    },
    {
     "data": {
      "application/vnd.jupyter.widget-view+json": {
       "model_id": "23ba547efad9417bad45fec7b864dec0",
       "version_major": 2,
       "version_minor": 0
      },
      "text/plain": [
       "Extracting geo file FTY_2018_010m_E54N37_03035_v010.tif: 0it [00:00, ?it/s]"
      ]
     },
     "metadata": {},
     "output_type": "display_data"
    },
    {
     "data": {
      "application/vnd.jupyter.widget-view+json": {
       "model_id": "4f562b7a4ec64b64a6d9922d4f804fa9",
       "version_major": 2,
       "version_minor": 0
      },
      "text/plain": [
       "Extracting geo file DLTC_1518_020m_E65N21_03035_v010.tif: 0it [00:00, ?it/s]"
      ]
     },
     "metadata": {},
     "output_type": "display_data"
    },
    {
     "name": "stderr",
     "output_type": "stream",
     "text": [
      "xcube.clms - 2024-12-06 21:54:56,924 -  INFO - The file FTY_2018_010m_E54N37_03035_v010.tif has been successfully downloaded to /home/yogesh/Projects/BC/xcube-clms/examples/notebooks/preload_cache/forest-type-2018|FTY_2018_010m_lv_03035_v010/FTY_2018_010m_E54N37_03035_v010.tif\n",
      "xcube.clms - 2024-12-06 21:54:56,926 -  INFO - The file DLTC_1518_020m_E65N21_03035_v010.tif has been successfully downloaded to /home/yogesh/Projects/BC/xcube-clms/examples/notebooks/preload_cache/dominant-leaf-type-change-2015-2018|DLTC_1518_020m_tr_03035_v010/DLTC_1518_020m_E65N21_03035_v010.tif\n"
     ]
    },
    {
     "data": {
      "application/vnd.jupyter.widget-view+json": {
       "model_id": "4b50973b8444410db55bfb66ab867365",
       "version_major": 2,
       "version_minor": 0
      },
      "text/plain": [
       "Extracting geo file DLTC_1518_020m_E65N22_03035_v010.tif: 0it [00:00, ?it/s]"
      ]
     },
     "metadata": {},
     "output_type": "display_data"
    },
    {
     "name": "stderr",
     "output_type": "stream",
     "text": [
      "xcube.clms - 2024-12-06 21:54:56,988 -  INFO - The file DLTC_1518_020m_E65N22_03035_v010.tif has been successfully downloaded to /home/yogesh/Projects/BC/xcube-clms/examples/notebooks/preload_cache/dominant-leaf-type-change-2015-2018|DLTC_1518_020m_tr_03035_v010/DLTC_1518_020m_E65N22_03035_v010.tif\n"
     ]
    },
    {
     "data": {
      "application/vnd.jupyter.widget-view+json": {
       "model_id": "622e4dad6d8648a2954a2f36f47ef9d3",
       "version_major": 2,
       "version_minor": 0
      },
      "text/plain": [
       "Extracting geo file FTY_2018_010m_E54N38_03035_v010.tif: 0it [00:00, ?it/s]"
      ]
     },
     "metadata": {},
     "output_type": "display_data"
    },
    {
     "data": {
      "application/vnd.jupyter.widget-view+json": {
       "model_id": "b62e1c3b794140b89eb17aac7cf8ffb1",
       "version_major": 2,
       "version_minor": 0
      },
      "text/plain": [
       "Extracting geo file DLTC_1518_020m_E65N23_03035_v010.tif: 0it [00:00, ?it/s]"
      ]
     },
     "metadata": {},
     "output_type": "display_data"
    },
    {
     "name": "stderr",
     "output_type": "stream",
     "text": [
      "xcube.clms - 2024-12-06 21:54:57,035 -  INFO - The file FTY_2018_010m_E54N38_03035_v010.tif has been successfully downloaded to /home/yogesh/Projects/BC/xcube-clms/examples/notebooks/preload_cache/forest-type-2018|FTY_2018_010m_lv_03035_v010/FTY_2018_010m_E54N38_03035_v010.tif\n",
      "xcube.clms - 2024-12-06 21:54:57,039 -  INFO - The file DLTC_1518_020m_E65N23_03035_v010.tif has been successfully downloaded to /home/yogesh/Projects/BC/xcube-clms/examples/notebooks/preload_cache/dominant-leaf-type-change-2015-2018|DLTC_1518_020m_tr_03035_v010/DLTC_1518_020m_E65N23_03035_v010.tif\n"
     ]
    },
    {
     "data": {
      "application/vnd.jupyter.widget-view+json": {
       "model_id": "2953884d454a4b308c52817753dc01fc",
       "version_major": 2,
       "version_minor": 0
      },
      "text/plain": [
       "Concatenating along the Y-axis (Northings):   0%|          | 0/6 [00:00<?, ?it/s]"
      ]
     },
     "metadata": {},
     "output_type": "display_data"
    },
    {
     "data": {
      "application/vnd.jupyter.widget-view+json": {
       "model_id": "b66fa1b244114422ade23467f8fe77cf",
       "version_major": 2,
       "version_minor": 0
      },
      "text/plain": [
       "Extracting geo file DLTC_1518_020m_E65N24_03035_v010.tif: 0it [00:00, ?it/s]"
      ]
     },
     "metadata": {},
     "output_type": "display_data"
    },
    {
     "name": "stderr",
     "output_type": "stream",
     "text": [
      "xcube.clms - 2024-12-06 21:54:57,128 -  INFO - The file DLTC_1518_020m_E65N24_03035_v010.tif has been successfully downloaded to /home/yogesh/Projects/BC/xcube-clms/examples/notebooks/preload_cache/dominant-leaf-type-change-2015-2018|DLTC_1518_020m_tr_03035_v010/DLTC_1518_020m_E65N24_03035_v010.tif\n"
     ]
    },
    {
     "data": {
      "application/vnd.jupyter.widget-view+json": {
       "model_id": "03b48772c49c456a9e3d1d8726535467",
       "version_major": 2,
       "version_minor": 0
      },
      "text/plain": [
       "Extracting geo file DLTC_1518_020m_E66N18_03035_v010.tif: 0it [00:00, ?it/s]"
      ]
     },
     "metadata": {},
     "output_type": "display_data"
    },
    {
     "name": "stderr",
     "output_type": "stream",
     "text": [
      "xcube.clms - 2024-12-06 21:54:57,231 -  INFO - The file DLTC_1518_020m_E66N18_03035_v010.tif has been successfully downloaded to /home/yogesh/Projects/BC/xcube-clms/examples/notebooks/preload_cache/dominant-leaf-type-change-2015-2018|DLTC_1518_020m_tr_03035_v010/DLTC_1518_020m_E66N18_03035_v010.tif\n"
     ]
    },
    {
     "data": {
      "application/vnd.jupyter.widget-view+json": {
       "model_id": "ba613f993c3b4f0a86ef22caa5a13794",
       "version_major": 2,
       "version_minor": 0
      },
      "text/plain": [
       "Extracting geo file DLTC_1518_020m_E66N19_03035_v010.tif: 0it [00:00, ?it/s]"
      ]
     },
     "metadata": {},
     "output_type": "display_data"
    },
    {
     "name": "stderr",
     "output_type": "stream",
     "text": [
      "xcube.clms - 2024-12-06 21:54:57,326 -  INFO - The file DLTC_1518_020m_E66N19_03035_v010.tif has been successfully downloaded to /home/yogesh/Projects/BC/xcube-clms/examples/notebooks/preload_cache/dominant-leaf-type-change-2015-2018|DLTC_1518_020m_tr_03035_v010/DLTC_1518_020m_E66N19_03035_v010.tif\n"
     ]
    },
    {
     "data": {
      "application/vnd.jupyter.widget-view+json": {
       "model_id": "df13e23cffe44cfb88c72017b570eaab",
       "version_major": 2,
       "version_minor": 0
      },
      "text/plain": [
       "Extracting geo file DLTC_1518_020m_E66N20_03035_v010.tif: 0it [00:00, ?it/s]"
      ]
     },
     "metadata": {},
     "output_type": "display_data"
    },
    {
     "name": "stderr",
     "output_type": "stream",
     "text": [
      "xcube.clms - 2024-12-06 21:54:57,370 -  INFO - The file DLTC_1518_020m_E66N20_03035_v010.tif has been successfully downloaded to /home/yogesh/Projects/BC/xcube-clms/examples/notebooks/preload_cache/dominant-leaf-type-change-2015-2018|DLTC_1518_020m_tr_03035_v010/DLTC_1518_020m_E66N20_03035_v010.tif\n"
     ]
    },
    {
     "data": {
      "application/vnd.jupyter.widget-view+json": {
       "model_id": "fb912e0e87d94649988bcbbcd4f9ce85",
       "version_major": 2,
       "version_minor": 0
      },
      "text/plain": [
       "Extracting geo file DLTC_1518_020m_E66N21_03035_v010.tif: 0it [00:00, ?it/s]"
      ]
     },
     "metadata": {},
     "output_type": "display_data"
    },
    {
     "name": "stderr",
     "output_type": "stream",
     "text": [
      "xcube.clms - 2024-12-06 21:54:57,405 -  INFO - The file DLTC_1518_020m_E66N21_03035_v010.tif has been successfully downloaded to /home/yogesh/Projects/BC/xcube-clms/examples/notebooks/preload_cache/dominant-leaf-type-change-2015-2018|DLTC_1518_020m_tr_03035_v010/DLTC_1518_020m_E66N21_03035_v010.tif\n",
      "/home/yogesh/miniforge3/envs/xcube-clms/lib/python3.12/site-packages/dask/array/core.py:4918: PerformanceWarning: Increasing number of chunks by factor of 10\n",
      "  result = blockwise(\n"
     ]
    },
    {
     "data": {
      "application/vnd.jupyter.widget-view+json": {
       "model_id": "dbe938c1966043458a7aadac6eb7d224",
       "version_major": 2,
       "version_minor": 0
      },
      "text/plain": [
       "Extracting geo file DLTC_1518_020m_E66N22_03035_v010.tif: 0it [00:00, ?it/s]"
      ]
     },
     "metadata": {},
     "output_type": "display_data"
    },
    {
     "name": "stderr",
     "output_type": "stream",
     "text": [
      "xcube.clms - 2024-12-06 21:54:57,462 -  INFO - The file DLTC_1518_020m_E66N22_03035_v010.tif has been successfully downloaded to /home/yogesh/Projects/BC/xcube-clms/examples/notebooks/preload_cache/dominant-leaf-type-change-2015-2018|DLTC_1518_020m_tr_03035_v010/DLTC_1518_020m_E66N22_03035_v010.tif\n"
     ]
    },
    {
     "data": {
      "application/vnd.jupyter.widget-view+json": {
       "model_id": "3e71c48e25e24b3495029655496e81ad",
       "version_major": 2,
       "version_minor": 0
      },
      "text/plain": [
       "Extracting geo file DLTC_1518_020m_E66N23_03035_v010.tif: 0it [00:00, ?it/s]"
      ]
     },
     "metadata": {},
     "output_type": "display_data"
    },
    {
     "name": "stderr",
     "output_type": "stream",
     "text": [
      "xcube.clms - 2024-12-06 21:54:57,520 -  INFO - The file DLTC_1518_020m_E66N23_03035_v010.tif has been successfully downloaded to /home/yogesh/Projects/BC/xcube-clms/examples/notebooks/preload_cache/dominant-leaf-type-change-2015-2018|DLTC_1518_020m_tr_03035_v010/DLTC_1518_020m_E66N23_03035_v010.tif\n"
     ]
    },
    {
     "data": {
      "application/vnd.jupyter.widget-view+json": {
       "model_id": "bd541b7a00b340b8b1648a806a74755c",
       "version_major": 2,
       "version_minor": 0
      },
      "text/plain": [
       "Extracting geo file DLTC_1518_020m_E66N24_03035_v010.tif: 0it [00:00, ?it/s]"
      ]
     },
     "metadata": {},
     "output_type": "display_data"
    },
    {
     "name": "stderr",
     "output_type": "stream",
     "text": [
      "xcube.clms - 2024-12-06 21:54:57,549 -  INFO - The file DLTC_1518_020m_E66N24_03035_v010.tif has been successfully downloaded to /home/yogesh/Projects/BC/xcube-clms/examples/notebooks/preload_cache/dominant-leaf-type-change-2015-2018|DLTC_1518_020m_tr_03035_v010/DLTC_1518_020m_E66N24_03035_v010.tif\n",
      "/home/yogesh/miniforge3/envs/xcube-clms/lib/python3.12/site-packages/dask/array/core.py:4918: PerformanceWarning: Increasing number of chunks by factor of 10\n",
      "  result = blockwise(\n"
     ]
    },
    {
     "data": {
      "application/vnd.jupyter.widget-view+json": {
       "model_id": "93cf28039a9448d0a57013f98512bba8",
       "version_major": 2,
       "version_minor": 0
      },
      "text/plain": [
       "Extracting geo file DLTC_1518_020m_E67N19_03035_v010.tif: 0it [00:00, ?it/s]"
      ]
     },
     "metadata": {},
     "output_type": "display_data"
    },
    {
     "name": "stderr",
     "output_type": "stream",
     "text": [
      "xcube.clms - 2024-12-06 21:54:58,428 -  INFO - The file DLTC_1518_020m_E67N19_03035_v010.tif has been successfully downloaded to /home/yogesh/Projects/BC/xcube-clms/examples/notebooks/preload_cache/dominant-leaf-type-change-2015-2018|DLTC_1518_020m_tr_03035_v010/DLTC_1518_020m_E67N19_03035_v010.tif\n"
     ]
    },
    {
     "data": {
      "application/vnd.jupyter.widget-view+json": {
       "model_id": "c684516c4c9145ef882bf80597bdde1d",
       "version_major": 2,
       "version_minor": 0
      },
      "text/plain": [
       "Extracting geo file DLTC_1518_020m_E67N20_03035_v010.tif: 0it [00:00, ?it/s]"
      ]
     },
     "metadata": {},
     "output_type": "display_data"
    },
    {
     "name": "stderr",
     "output_type": "stream",
     "text": [
      "xcube.clms - 2024-12-06 21:54:58,470 -  INFO - The file DLTC_1518_020m_E67N20_03035_v010.tif has been successfully downloaded to /home/yogesh/Projects/BC/xcube-clms/examples/notebooks/preload_cache/dominant-leaf-type-change-2015-2018|DLTC_1518_020m_tr_03035_v010/DLTC_1518_020m_E67N20_03035_v010.tif\n"
     ]
    },
    {
     "data": {
      "application/vnd.jupyter.widget-view+json": {
       "model_id": "d6ab0b21616c4870a84fcb8323a96226",
       "version_major": 2,
       "version_minor": 0
      },
      "text/plain": [
       "Extracting geo file DLTC_1518_020m_E67N21_03035_v010.tif: 0it [00:00, ?it/s]"
      ]
     },
     "metadata": {},
     "output_type": "display_data"
    },
    {
     "name": "stderr",
     "output_type": "stream",
     "text": [
      "xcube.clms - 2024-12-06 21:54:58,500 -  INFO - The file DLTC_1518_020m_E67N21_03035_v010.tif has been successfully downloaded to /home/yogesh/Projects/BC/xcube-clms/examples/notebooks/preload_cache/dominant-leaf-type-change-2015-2018|DLTC_1518_020m_tr_03035_v010/DLTC_1518_020m_E67N21_03035_v010.tif\n"
     ]
    },
    {
     "data": {
      "application/vnd.jupyter.widget-view+json": {
       "model_id": "3dd3640f7d5743cbad5468bff180892f",
       "version_major": 2,
       "version_minor": 0
      },
      "text/plain": [
       "Extracting geo file DLTC_1518_020m_E67N22_03035_v010.tif: 0it [00:00, ?it/s]"
      ]
     },
     "metadata": {},
     "output_type": "display_data"
    },
    {
     "name": "stderr",
     "output_type": "stream",
     "text": [
      "xcube.clms - 2024-12-06 21:54:58,538 -  INFO - The file DLTC_1518_020m_E67N22_03035_v010.tif has been successfully downloaded to /home/yogesh/Projects/BC/xcube-clms/examples/notebooks/preload_cache/dominant-leaf-type-change-2015-2018|DLTC_1518_020m_tr_03035_v010/DLTC_1518_020m_E67N22_03035_v010.tif\n"
     ]
    },
    {
     "data": {
      "application/vnd.jupyter.widget-view+json": {
       "model_id": "95b95ead9d604f399c9ce263a1281035",
       "version_major": 2,
       "version_minor": 0
      },
      "text/plain": [
       "Extracting geo file DLTC_1518_020m_E67N23_03035_v010.tif: 0it [00:00, ?it/s]"
      ]
     },
     "metadata": {},
     "output_type": "display_data"
    },
    {
     "name": "stderr",
     "output_type": "stream",
     "text": [
      "xcube.clms - 2024-12-06 21:54:58,589 -  INFO - The file DLTC_1518_020m_E67N23_03035_v010.tif has been successfully downloaded to /home/yogesh/Projects/BC/xcube-clms/examples/notebooks/preload_cache/dominant-leaf-type-change-2015-2018|DLTC_1518_020m_tr_03035_v010/DLTC_1518_020m_E67N23_03035_v010.tif\n"
     ]
    },
    {
     "data": {
      "application/vnd.jupyter.widget-view+json": {
       "model_id": "a5e73aa5b94a4e798983942be427d9ed",
       "version_major": 2,
       "version_minor": 0
      },
      "text/plain": [
       "Extracting geo file DLTC_1518_020m_E67N24_03035_v010.tif: 0it [00:00, ?it/s]"
      ]
     },
     "metadata": {},
     "output_type": "display_data"
    },
    {
     "name": "stderr",
     "output_type": "stream",
     "text": [
      "xcube.clms - 2024-12-06 21:54:58,613 -  INFO - The file DLTC_1518_020m_E67N24_03035_v010.tif has been successfully downloaded to /home/yogesh/Projects/BC/xcube-clms/examples/notebooks/preload_cache/dominant-leaf-type-change-2015-2018|DLTC_1518_020m_tr_03035_v010/DLTC_1518_020m_E67N24_03035_v010.tif\n"
     ]
    },
    {
     "data": {
      "application/vnd.jupyter.widget-view+json": {
       "model_id": "4d5b242fdbf44a5997094bd5b474a283",
       "version_major": 2,
       "version_minor": 0
      },
      "text/plain": [
       "Extracting geo file DLTC_1518_020m_E68N19_03035_v010.tif: 0it [00:00, ?it/s]"
      ]
     },
     "metadata": {},
     "output_type": "display_data"
    },
    {
     "name": "stderr",
     "output_type": "stream",
     "text": [
      "xcube.clms - 2024-12-06 21:54:58,696 -  INFO - The file DLTC_1518_020m_E68N19_03035_v010.tif has been successfully downloaded to /home/yogesh/Projects/BC/xcube-clms/examples/notebooks/preload_cache/dominant-leaf-type-change-2015-2018|DLTC_1518_020m_tr_03035_v010/DLTC_1518_020m_E68N19_03035_v010.tif\n"
     ]
    },
    {
     "data": {
      "application/vnd.jupyter.widget-view+json": {
       "model_id": "3fa62b9dc05f430f9e5095d0ebea127c",
       "version_major": 2,
       "version_minor": 0
      },
      "text/plain": [
       "Extracting geo file DLTC_1518_020m_E68N20_03035_v010.tif: 0it [00:00, ?it/s]"
      ]
     },
     "metadata": {},
     "output_type": "display_data"
    },
    {
     "name": "stderr",
     "output_type": "stream",
     "text": [
      "xcube.clms - 2024-12-06 21:54:58,746 -  INFO - The file DLTC_1518_020m_E68N20_03035_v010.tif has been successfully downloaded to /home/yogesh/Projects/BC/xcube-clms/examples/notebooks/preload_cache/dominant-leaf-type-change-2015-2018|DLTC_1518_020m_tr_03035_v010/DLTC_1518_020m_E68N20_03035_v010.tif\n"
     ]
    },
    {
     "data": {
      "application/vnd.jupyter.widget-view+json": {
       "model_id": "730434910191408bbadf6f64c0b17090",
       "version_major": 2,
       "version_minor": 0
      },
      "text/plain": [
       "Extracting geo file DLTC_1518_020m_E68N21_03035_v010.tif: 0it [00:00, ?it/s]"
      ]
     },
     "metadata": {},
     "output_type": "display_data"
    },
    {
     "name": "stderr",
     "output_type": "stream",
     "text": [
      "xcube.clms - 2024-12-06 21:54:58,803 -  INFO - The file DLTC_1518_020m_E68N21_03035_v010.tif has been successfully downloaded to /home/yogesh/Projects/BC/xcube-clms/examples/notebooks/preload_cache/dominant-leaf-type-change-2015-2018|DLTC_1518_020m_tr_03035_v010/DLTC_1518_020m_E68N21_03035_v010.tif\n"
     ]
    },
    {
     "data": {
      "application/vnd.jupyter.widget-view+json": {
       "model_id": "4ea1248289f94582a1d50d9d133ad2db",
       "version_major": 2,
       "version_minor": 0
      },
      "text/plain": [
       "Extracting geo file DLTC_1518_020m_E68N22_03035_v010.tif: 0it [00:00, ?it/s]"
      ]
     },
     "metadata": {},
     "output_type": "display_data"
    },
    {
     "name": "stderr",
     "output_type": "stream",
     "text": [
      "xcube.clms - 2024-12-06 21:54:58,866 -  INFO - The file DLTC_1518_020m_E68N22_03035_v010.tif has been successfully downloaded to /home/yogesh/Projects/BC/xcube-clms/examples/notebooks/preload_cache/dominant-leaf-type-change-2015-2018|DLTC_1518_020m_tr_03035_v010/DLTC_1518_020m_E68N22_03035_v010.tif\n"
     ]
    },
    {
     "data": {
      "application/vnd.jupyter.widget-view+json": {
       "model_id": "1c93553b4eee4ce0aa0bc21aff1e65db",
       "version_major": 2,
       "version_minor": 0
      },
      "text/plain": [
       "Extracting geo file DLTC_1518_020m_E68N23_03035_v010.tif: 0it [00:00, ?it/s]"
      ]
     },
     "metadata": {},
     "output_type": "display_data"
    },
    {
     "name": "stderr",
     "output_type": "stream",
     "text": [
      "xcube.clms - 2024-12-06 21:54:58,923 -  INFO - The file DLTC_1518_020m_E68N23_03035_v010.tif has been successfully downloaded to /home/yogesh/Projects/BC/xcube-clms/examples/notebooks/preload_cache/dominant-leaf-type-change-2015-2018|DLTC_1518_020m_tr_03035_v010/DLTC_1518_020m_E68N23_03035_v010.tif\n"
     ]
    },
    {
     "data": {
      "application/vnd.jupyter.widget-view+json": {
       "model_id": "d7e91b5e80414b9a9cb27adb72a08763",
       "version_major": 2,
       "version_minor": 0
      },
      "text/plain": [
       "Extracting geo file DLTC_1518_020m_E68N24_03035_v010.tif: 0it [00:00, ?it/s]"
      ]
     },
     "metadata": {},
     "output_type": "display_data"
    },
    {
     "name": "stderr",
     "output_type": "stream",
     "text": [
      "xcube.clms - 2024-12-06 21:54:58,958 -  INFO - The file DLTC_1518_020m_E68N24_03035_v010.tif has been successfully downloaded to /home/yogesh/Projects/BC/xcube-clms/examples/notebooks/preload_cache/dominant-leaf-type-change-2015-2018|DLTC_1518_020m_tr_03035_v010/DLTC_1518_020m_E68N24_03035_v010.tif\n"
     ]
    },
    {
     "data": {
      "application/vnd.jupyter.widget-view+json": {
       "model_id": "19832ebf47d94a9d85c5f45bebfac6aa",
       "version_major": 2,
       "version_minor": 0
      },
      "text/plain": [
       "Extracting geo file DLTC_1518_020m_E68N25_03035_v010.tif: 0it [00:00, ?it/s]"
      ]
     },
     "metadata": {},
     "output_type": "display_data"
    },
    {
     "name": "stderr",
     "output_type": "stream",
     "text": [
      "xcube.clms - 2024-12-06 21:54:58,981 -  INFO - The file DLTC_1518_020m_E68N25_03035_v010.tif has been successfully downloaded to /home/yogesh/Projects/BC/xcube-clms/examples/notebooks/preload_cache/dominant-leaf-type-change-2015-2018|DLTC_1518_020m_tr_03035_v010/DLTC_1518_020m_E68N25_03035_v010.tif\n"
     ]
    },
    {
     "data": {
      "application/vnd.jupyter.widget-view+json": {
       "model_id": "bed2f59c76a24fe68e3a6c24d63143d4",
       "version_major": 2,
       "version_minor": 0
      },
      "text/plain": [
       "Extracting geo file DLTC_1518_020m_E69N20_03035_v010.tif: 0it [00:00, ?it/s]"
      ]
     },
     "metadata": {},
     "output_type": "display_data"
    },
    {
     "name": "stderr",
     "output_type": "stream",
     "text": [
      "xcube.clms - 2024-12-06 21:54:59,110 -  INFO - The file DLTC_1518_020m_E69N20_03035_v010.tif has been successfully downloaded to /home/yogesh/Projects/BC/xcube-clms/examples/notebooks/preload_cache/dominant-leaf-type-change-2015-2018|DLTC_1518_020m_tr_03035_v010/DLTC_1518_020m_E69N20_03035_v010.tif\n"
     ]
    },
    {
     "data": {
      "application/vnd.jupyter.widget-view+json": {
       "model_id": "4f2cd2e3d6e940568bd01319b5ee4bb8",
       "version_major": 2,
       "version_minor": 0
      },
      "text/plain": [
       "Extracting geo file DLTC_1518_020m_E69N21_03035_v010.tif: 0it [00:00, ?it/s]"
      ]
     },
     "metadata": {},
     "output_type": "display_data"
    },
    {
     "name": "stderr",
     "output_type": "stream",
     "text": [
      "xcube.clms - 2024-12-06 21:54:59,154 -  INFO - The file DLTC_1518_020m_E69N21_03035_v010.tif has been successfully downloaded to /home/yogesh/Projects/BC/xcube-clms/examples/notebooks/preload_cache/dominant-leaf-type-change-2015-2018|DLTC_1518_020m_tr_03035_v010/DLTC_1518_020m_E69N21_03035_v010.tif\n"
     ]
    },
    {
     "data": {
      "application/vnd.jupyter.widget-view+json": {
       "model_id": "0eb6804ce5ad4a09846fe824d0c68f36",
       "version_major": 2,
       "version_minor": 0
      },
      "text/plain": [
       "Extracting geo file DLTC_1518_020m_E69N22_03035_v010.tif: 0it [00:00, ?it/s]"
      ]
     },
     "metadata": {},
     "output_type": "display_data"
    },
    {
     "name": "stderr",
     "output_type": "stream",
     "text": [
      "xcube.clms - 2024-12-06 21:54:59,215 -  INFO - The file DLTC_1518_020m_E69N22_03035_v010.tif has been successfully downloaded to /home/yogesh/Projects/BC/xcube-clms/examples/notebooks/preload_cache/dominant-leaf-type-change-2015-2018|DLTC_1518_020m_tr_03035_v010/DLTC_1518_020m_E69N22_03035_v010.tif\n"
     ]
    },
    {
     "data": {
      "application/vnd.jupyter.widget-view+json": {
       "model_id": "006a465488e948dabea3b31ed46af70f",
       "version_major": 2,
       "version_minor": 0
      },
      "text/plain": [
       "Extracting geo file DLTC_1518_020m_E69N23_03035_v010.tif: 0it [00:00, ?it/s]"
      ]
     },
     "metadata": {},
     "output_type": "display_data"
    },
    {
     "name": "stderr",
     "output_type": "stream",
     "text": [
      "xcube.clms - 2024-12-06 21:54:59,274 -  INFO - The file DLTC_1518_020m_E69N23_03035_v010.tif has been successfully downloaded to /home/yogesh/Projects/BC/xcube-clms/examples/notebooks/preload_cache/dominant-leaf-type-change-2015-2018|DLTC_1518_020m_tr_03035_v010/DLTC_1518_020m_E69N23_03035_v010.tif\n"
     ]
    },
    {
     "data": {
      "application/vnd.jupyter.widget-view+json": {
       "model_id": "5f4e9154bb4d4e21841902a8c7c5a12a",
       "version_major": 2,
       "version_minor": 0
      },
      "text/plain": [
       "Extracting geo file DLTC_1518_020m_E69N24_03035_v010.tif: 0it [00:00, ?it/s]"
      ]
     },
     "metadata": {},
     "output_type": "display_data"
    },
    {
     "name": "stderr",
     "output_type": "stream",
     "text": [
      "xcube.clms - 2024-12-06 21:54:59,311 -  INFO - The file DLTC_1518_020m_E69N24_03035_v010.tif has been successfully downloaded to /home/yogesh/Projects/BC/xcube-clms/examples/notebooks/preload_cache/dominant-leaf-type-change-2015-2018|DLTC_1518_020m_tr_03035_v010/DLTC_1518_020m_E69N24_03035_v010.tif\n"
     ]
    },
    {
     "data": {
      "application/vnd.jupyter.widget-view+json": {
       "model_id": "6b2558702d1c41fe94f028e9df703b9f",
       "version_major": 2,
       "version_minor": 0
      },
      "text/plain": [
       "Extracting geo file DLTC_1518_020m_E69N25_03035_v010.tif: 0it [00:00, ?it/s]"
      ]
     },
     "metadata": {},
     "output_type": "display_data"
    },
    {
     "name": "stderr",
     "output_type": "stream",
     "text": [
      "xcube.clms - 2024-12-06 21:54:59,334 -  INFO - The file DLTC_1518_020m_E69N25_03035_v010.tif has been successfully downloaded to /home/yogesh/Projects/BC/xcube-clms/examples/notebooks/preload_cache/dominant-leaf-type-change-2015-2018|DLTC_1518_020m_tr_03035_v010/DLTC_1518_020m_E69N25_03035_v010.tif\n"
     ]
    },
    {
     "data": {
      "application/vnd.jupyter.widget-view+json": {
       "model_id": "a51e8a4429404b74b43e62a8283d4d19",
       "version_major": 2,
       "version_minor": 0
      },
      "text/plain": [
       "Extracting geo file DLTC_1518_020m_E69N26_03035_v010.tif: 0it [00:00, ?it/s]"
      ]
     },
     "metadata": {},
     "output_type": "display_data"
    },
    {
     "name": "stderr",
     "output_type": "stream",
     "text": [
      "xcube.clms - 2024-12-06 21:54:59,352 -  INFO - The file DLTC_1518_020m_E69N26_03035_v010.tif has been successfully downloaded to /home/yogesh/Projects/BC/xcube-clms/examples/notebooks/preload_cache/dominant-leaf-type-change-2015-2018|DLTC_1518_020m_tr_03035_v010/DLTC_1518_020m_E69N26_03035_v010.tif\n"
     ]
    },
    {
     "data": {
      "application/vnd.jupyter.widget-view+json": {
       "model_id": "1d9ebb91414a4968842981c7e9812496",
       "version_major": 2,
       "version_minor": 0
      },
      "text/plain": [
       "Extracting geo file DLTC_1518_020m_E70N21_03035_v010.tif: 0it [00:00, ?it/s]"
      ]
     },
     "metadata": {},
     "output_type": "display_data"
    },
    {
     "name": "stderr",
     "output_type": "stream",
     "text": [
      "xcube.clms - 2024-12-06 21:54:59,522 -  INFO - The file DLTC_1518_020m_E70N21_03035_v010.tif has been successfully downloaded to /home/yogesh/Projects/BC/xcube-clms/examples/notebooks/preload_cache/dominant-leaf-type-change-2015-2018|DLTC_1518_020m_tr_03035_v010/DLTC_1518_020m_E70N21_03035_v010.tif\n"
     ]
    },
    {
     "data": {
      "application/vnd.jupyter.widget-view+json": {
       "model_id": "c45b5b634fed428f8219a0976ed7f865",
       "version_major": 2,
       "version_minor": 0
      },
      "text/plain": [
       "Extracting geo file DLTC_1518_020m_E70N22_03035_v010.tif: 0it [00:00, ?it/s]"
      ]
     },
     "metadata": {},
     "output_type": "display_data"
    },
    {
     "name": "stderr",
     "output_type": "stream",
     "text": [
      "xcube.clms - 2024-12-06 21:54:59,576 -  INFO - The file DLTC_1518_020m_E70N22_03035_v010.tif has been successfully downloaded to /home/yogesh/Projects/BC/xcube-clms/examples/notebooks/preload_cache/dominant-leaf-type-change-2015-2018|DLTC_1518_020m_tr_03035_v010/DLTC_1518_020m_E70N22_03035_v010.tif\n"
     ]
    },
    {
     "data": {
      "application/vnd.jupyter.widget-view+json": {
       "model_id": "77747f149b754ff5afccd36d3c7b195b",
       "version_major": 2,
       "version_minor": 0
      },
      "text/plain": [
       "Extracting geo file DLTC_1518_020m_E70N23_03035_v010.tif: 0it [00:00, ?it/s]"
      ]
     },
     "metadata": {},
     "output_type": "display_data"
    },
    {
     "name": "stderr",
     "output_type": "stream",
     "text": [
      "xcube.clms - 2024-12-06 21:54:59,628 -  INFO - The file DLTC_1518_020m_E70N23_03035_v010.tif has been successfully downloaded to /home/yogesh/Projects/BC/xcube-clms/examples/notebooks/preload_cache/dominant-leaf-type-change-2015-2018|DLTC_1518_020m_tr_03035_v010/DLTC_1518_020m_E70N23_03035_v010.tif\n"
     ]
    },
    {
     "data": {
      "application/vnd.jupyter.widget-view+json": {
       "model_id": "3dd81027f1334dd8ae43bc2e8531487e",
       "version_major": 2,
       "version_minor": 0
      },
      "text/plain": [
       "Extracting geo file DLTC_1518_020m_E70N24_03035_v010.tif: 0it [00:00, ?it/s]"
      ]
     },
     "metadata": {},
     "output_type": "display_data"
    },
    {
     "name": "stderr",
     "output_type": "stream",
     "text": [
      "xcube.clms - 2024-12-06 21:54:59,659 -  INFO - The file DLTC_1518_020m_E70N24_03035_v010.tif has been successfully downloaded to /home/yogesh/Projects/BC/xcube-clms/examples/notebooks/preload_cache/dominant-leaf-type-change-2015-2018|DLTC_1518_020m_tr_03035_v010/DLTC_1518_020m_E70N24_03035_v010.tif\n"
     ]
    },
    {
     "data": {
      "application/vnd.jupyter.widget-view+json": {
       "model_id": "57be7ee75c1448d2984bb752b8d7d032",
       "version_major": 2,
       "version_minor": 0
      },
      "text/plain": [
       "Extracting geo file DLTC_1518_020m_E70N25_03035_v010.tif: 0it [00:00, ?it/s]"
      ]
     },
     "metadata": {},
     "output_type": "display_data"
    },
    {
     "name": "stderr",
     "output_type": "stream",
     "text": [
      "xcube.clms - 2024-12-06 21:54:59,676 -  INFO - The file DLTC_1518_020m_E70N25_03035_v010.tif has been successfully downloaded to /home/yogesh/Projects/BC/xcube-clms/examples/notebooks/preload_cache/dominant-leaf-type-change-2015-2018|DLTC_1518_020m_tr_03035_v010/DLTC_1518_020m_E70N25_03035_v010.tif\n"
     ]
    },
    {
     "data": {
      "application/vnd.jupyter.widget-view+json": {
       "model_id": "ee49f4f360dc47f1ae43b0d61f14f1cc",
       "version_major": 2,
       "version_minor": 0
      },
      "text/plain": [
       "Extracting geo file DLTC_1518_020m_E70N26_03035_v010.tif: 0it [00:00, ?it/s]"
      ]
     },
     "metadata": {},
     "output_type": "display_data"
    },
    {
     "name": "stderr",
     "output_type": "stream",
     "text": [
      "xcube.clms - 2024-12-06 21:54:59,692 -  INFO - The file DLTC_1518_020m_E70N26_03035_v010.tif has been successfully downloaded to /home/yogesh/Projects/BC/xcube-clms/examples/notebooks/preload_cache/dominant-leaf-type-change-2015-2018|DLTC_1518_020m_tr_03035_v010/DLTC_1518_020m_E70N26_03035_v010.tif\n"
     ]
    },
    {
     "data": {
      "application/vnd.jupyter.widget-view+json": {
       "model_id": "4dbb30f545414f53b226d13672880a3a",
       "version_major": 2,
       "version_minor": 0
      },
      "text/plain": [
       "Extracting geo file DLTC_1518_020m_E71N21_03035_v010.tif: 0it [00:00, ?it/s]"
      ]
     },
     "metadata": {},
     "output_type": "display_data"
    },
    {
     "name": "stderr",
     "output_type": "stream",
     "text": [
      "xcube.clms - 2024-12-06 21:54:59,866 -  INFO - The file DLTC_1518_020m_E71N21_03035_v010.tif has been successfully downloaded to /home/yogesh/Projects/BC/xcube-clms/examples/notebooks/preload_cache/dominant-leaf-type-change-2015-2018|DLTC_1518_020m_tr_03035_v010/DLTC_1518_020m_E71N21_03035_v010.tif\n"
     ]
    },
    {
     "data": {
      "application/vnd.jupyter.widget-view+json": {
       "model_id": "bf6370cec8ad4e82be12fe1a08cc6463",
       "version_major": 2,
       "version_minor": 0
      },
      "text/plain": [
       "Extracting geo file DLTC_1518_020m_E71N22_03035_v010.tif: 0it [00:00, ?it/s]"
      ]
     },
     "metadata": {},
     "output_type": "display_data"
    },
    {
     "name": "stderr",
     "output_type": "stream",
     "text": [
      "xcube.clms - 2024-12-06 21:54:59,927 -  INFO - The file DLTC_1518_020m_E71N22_03035_v010.tif has been successfully downloaded to /home/yogesh/Projects/BC/xcube-clms/examples/notebooks/preload_cache/dominant-leaf-type-change-2015-2018|DLTC_1518_020m_tr_03035_v010/DLTC_1518_020m_E71N22_03035_v010.tif\n"
     ]
    },
    {
     "data": {
      "application/vnd.jupyter.widget-view+json": {
       "model_id": "c55276991b4145de958fa0a644afd468",
       "version_major": 2,
       "version_minor": 0
      },
      "text/plain": [
       "Extracting geo file DLTC_1518_020m_E71N23_03035_v010.tif: 0it [00:00, ?it/s]"
      ]
     },
     "metadata": {},
     "output_type": "display_data"
    },
    {
     "name": "stderr",
     "output_type": "stream",
     "text": [
      "xcube.clms - 2024-12-06 21:54:59,984 -  INFO - The file DLTC_1518_020m_E71N23_03035_v010.tif has been successfully downloaded to /home/yogesh/Projects/BC/xcube-clms/examples/notebooks/preload_cache/dominant-leaf-type-change-2015-2018|DLTC_1518_020m_tr_03035_v010/DLTC_1518_020m_E71N23_03035_v010.tif\n"
     ]
    },
    {
     "data": {
      "application/vnd.jupyter.widget-view+json": {
       "model_id": "c7756aa688344c70b3fd75698ac274c7",
       "version_major": 2,
       "version_minor": 0
      },
      "text/plain": [
       "Extracting geo file DLTC_1518_020m_E71N24_03035_v010.tif: 0it [00:00, ?it/s]"
      ]
     },
     "metadata": {},
     "output_type": "display_data"
    },
    {
     "name": "stderr",
     "output_type": "stream",
     "text": [
      "xcube.clms - 2024-12-06 21:55:00,015 -  INFO - The file DLTC_1518_020m_E71N24_03035_v010.tif has been successfully downloaded to /home/yogesh/Projects/BC/xcube-clms/examples/notebooks/preload_cache/dominant-leaf-type-change-2015-2018|DLTC_1518_020m_tr_03035_v010/DLTC_1518_020m_E71N24_03035_v010.tif\n"
     ]
    },
    {
     "data": {
      "application/vnd.jupyter.widget-view+json": {
       "model_id": "e23e614c809e42d0be7569d7fdd8e5bf",
       "version_major": 2,
       "version_minor": 0
      },
      "text/plain": [
       "Extracting geo file DLTC_1518_020m_E71N25_03035_v010.tif: 0it [00:00, ?it/s]"
      ]
     },
     "metadata": {},
     "output_type": "display_data"
    },
    {
     "name": "stderr",
     "output_type": "stream",
     "text": [
      "xcube.clms - 2024-12-06 21:55:00,035 -  INFO - The file DLTC_1518_020m_E71N25_03035_v010.tif has been successfully downloaded to /home/yogesh/Projects/BC/xcube-clms/examples/notebooks/preload_cache/dominant-leaf-type-change-2015-2018|DLTC_1518_020m_tr_03035_v010/DLTC_1518_020m_E71N25_03035_v010.tif\n"
     ]
    },
    {
     "data": {
      "application/vnd.jupyter.widget-view+json": {
       "model_id": "26ffd008046c4adaa4e8639592eb3ffe",
       "version_major": 2,
       "version_minor": 0
      },
      "text/plain": [
       "Extracting geo file DLTC_1518_020m_E72N22_03035_v010.tif: 0it [00:00, ?it/s]"
      ]
     },
     "metadata": {},
     "output_type": "display_data"
    },
    {
     "name": "stderr",
     "output_type": "stream",
     "text": [
      "xcube.clms - 2024-12-06 21:55:00,265 -  INFO - The file DLTC_1518_020m_E72N22_03035_v010.tif has been successfully downloaded to /home/yogesh/Projects/BC/xcube-clms/examples/notebooks/preload_cache/dominant-leaf-type-change-2015-2018|DLTC_1518_020m_tr_03035_v010/DLTC_1518_020m_E72N22_03035_v010.tif\n"
     ]
    },
    {
     "data": {
      "application/vnd.jupyter.widget-view+json": {
       "model_id": "ea642569a4654c8eac8db1c3f6e2e554",
       "version_major": 2,
       "version_minor": 0
      },
      "text/plain": [
       "Extracting geo file DLTC_1518_020m_E72N23_03035_v010.tif: 0it [00:00, ?it/s]"
      ]
     },
     "metadata": {},
     "output_type": "display_data"
    },
    {
     "name": "stderr",
     "output_type": "stream",
     "text": [
      "xcube.clms - 2024-12-06 21:55:00,308 -  INFO - The file DLTC_1518_020m_E72N23_03035_v010.tif has been successfully downloaded to /home/yogesh/Projects/BC/xcube-clms/examples/notebooks/preload_cache/dominant-leaf-type-change-2015-2018|DLTC_1518_020m_tr_03035_v010/DLTC_1518_020m_E72N23_03035_v010.tif\n"
     ]
    },
    {
     "data": {
      "application/vnd.jupyter.widget-view+json": {
       "model_id": "5d9088e96bd04489b98eb36149accdae",
       "version_major": 2,
       "version_minor": 0
      },
      "text/plain": [
       "Extracting geo file DLTC_1518_020m_E72N24_03035_v010.tif: 0it [00:00, ?it/s]"
      ]
     },
     "metadata": {},
     "output_type": "display_data"
    },
    {
     "name": "stderr",
     "output_type": "stream",
     "text": [
      "xcube.clms - 2024-12-06 21:55:00,333 -  INFO - The file DLTC_1518_020m_E72N24_03035_v010.tif has been successfully downloaded to /home/yogesh/Projects/BC/xcube-clms/examples/notebooks/preload_cache/dominant-leaf-type-change-2015-2018|DLTC_1518_020m_tr_03035_v010/DLTC_1518_020m_E72N24_03035_v010.tif\n"
     ]
    },
    {
     "data": {
      "application/vnd.jupyter.widget-view+json": {
       "model_id": "16e0604834374139b0aa3e5fa50cd693",
       "version_major": 2,
       "version_minor": 0
      },
      "text/plain": [
       "Extracting geo file DLTC_1518_020m_E72N25_03035_v010.tif: 0it [00:00, ?it/s]"
      ]
     },
     "metadata": {},
     "output_type": "display_data"
    },
    {
     "name": "stderr",
     "output_type": "stream",
     "text": [
      "xcube.clms - 2024-12-06 21:55:00,350 -  INFO - The file DLTC_1518_020m_E72N25_03035_v010.tif has been successfully downloaded to /home/yogesh/Projects/BC/xcube-clms/examples/notebooks/preload_cache/dominant-leaf-type-change-2015-2018|DLTC_1518_020m_tr_03035_v010/DLTC_1518_020m_E72N25_03035_v010.tif\n"
     ]
    },
    {
     "data": {
      "application/vnd.jupyter.widget-view+json": {
       "model_id": "2cc66d74d064402fbff581779cc81465",
       "version_major": 2,
       "version_minor": 0
      },
      "text/plain": [
       "Extracting geo file DLTC_1518_020m_E73N22_03035_v010.tif: 0it [00:00, ?it/s]"
      ]
     },
     "metadata": {},
     "output_type": "display_data"
    },
    {
     "name": "stderr",
     "output_type": "stream",
     "text": [
      "xcube.clms - 2024-12-06 21:55:00,568 -  INFO - The file DLTC_1518_020m_E73N22_03035_v010.tif has been successfully downloaded to /home/yogesh/Projects/BC/xcube-clms/examples/notebooks/preload_cache/dominant-leaf-type-change-2015-2018|DLTC_1518_020m_tr_03035_v010/DLTC_1518_020m_E73N22_03035_v010.tif\n"
     ]
    },
    {
     "data": {
      "application/vnd.jupyter.widget-view+json": {
       "model_id": "30a10dcd440b443589dea9bf011cc71e",
       "version_major": 2,
       "version_minor": 0
      },
      "text/plain": [
       "Concatenating along the Y-axis (Northings):   0%|          | 0/18 [00:00<?, ?it/s]"
      ]
     },
     "metadata": {},
     "output_type": "display_data"
    },
    {
     "data": {
      "application/vnd.jupyter.widget-view+json": {
       "model_id": "e439aaa244324428a2385bf8636cb74f",
       "version_major": 2,
       "version_minor": 0
      },
      "text/plain": [
       "Cleaning up directory /home/yogesh/Projects/BC/xcube-clms/examples/notebooks/preload_cache/forest-type-2018|FT…"
      ]
     },
     "metadata": {},
     "output_type": "display_data"
    },
    {
     "name": "stderr",
     "output_type": "stream",
     "text": [
      "xcube.clms - 2024-12-06 21:55:07,151 -  INFO - Cleaning up finished\n"
     ]
    },
    {
     "data": {
      "application/vnd.jupyter.widget-view+json": {
       "model_id": "2732d285c09e4f24be82ebf510eda8c2",
       "version_major": 2,
       "version_minor": 0
      },
      "text/plain": [
       "Cleaning up directory /home/yogesh/Projects/BC/xcube-clms/examples/notebooks/preload_cache/dominant-leaf-type-…"
      ]
     },
     "metadata": {},
     "output_type": "display_data"
    },
    {
     "name": "stderr",
     "output_type": "stream",
     "text": [
      "xcube.clms - 2024-12-06 21:55:30,203 -  INFO - Cleaning up finished\n"
     ]
    }
   ],
   "source": [
    "cds.preload_data(*dataset_to_preload)"
   ]
  },
  {
   "cell_type": "markdown",
   "id": "9e9a9c10-15b3-4677-837e-551836da7d05",
   "metadata": {},
   "source": [
    "Now that the preload is completed, the user can open the data using open_data as usual which uses the file data store underneath at the cache location"
   ]
  },
  {
   "cell_type": "code",
   "execution_count": 15,
   "id": "130c068a-fa7d-4a62-85ed-303a81596ff3",
   "metadata": {},
   "outputs": [
    {
     "data": {
      "text/html": [
       "<div><svg style=\"position: absolute; width: 0; height: 0; overflow: hidden\">\n",
       "<defs>\n",
       "<symbol id=\"icon-database\" viewBox=\"0 0 32 32\">\n",
       "<path d=\"M16 0c-8.837 0-16 2.239-16 5v4c0 2.761 7.163 5 16 5s16-2.239 16-5v-4c0-2.761-7.163-5-16-5z\"></path>\n",
       "<path d=\"M16 17c-8.837 0-16-2.239-16-5v6c0 2.761 7.163 5 16 5s16-2.239 16-5v-6c0 2.761-7.163 5-16 5z\"></path>\n",
       "<path d=\"M16 26c-8.837 0-16-2.239-16-5v6c0 2.761 7.163 5 16 5s16-2.239 16-5v-6c0 2.761-7.163 5-16 5z\"></path>\n",
       "</symbol>\n",
       "<symbol id=\"icon-file-text2\" viewBox=\"0 0 32 32\">\n",
       "<path d=\"M28.681 7.159c-0.694-0.947-1.662-2.053-2.724-3.116s-2.169-2.030-3.116-2.724c-1.612-1.182-2.393-1.319-2.841-1.319h-15.5c-1.378 0-2.5 1.121-2.5 2.5v27c0 1.378 1.122 2.5 2.5 2.5h23c1.378 0 2.5-1.122 2.5-2.5v-19.5c0-0.448-0.137-1.23-1.319-2.841zM24.543 5.457c0.959 0.959 1.712 1.825 2.268 2.543h-4.811v-4.811c0.718 0.556 1.584 1.309 2.543 2.268zM28 29.5c0 0.271-0.229 0.5-0.5 0.5h-23c-0.271 0-0.5-0.229-0.5-0.5v-27c0-0.271 0.229-0.5 0.5-0.5 0 0 15.499-0 15.5 0v7c0 0.552 0.448 1 1 1h7v19.5z\"></path>\n",
       "<path d=\"M23 26h-14c-0.552 0-1-0.448-1-1s0.448-1 1-1h14c0.552 0 1 0.448 1 1s-0.448 1-1 1z\"></path>\n",
       "<path d=\"M23 22h-14c-0.552 0-1-0.448-1-1s0.448-1 1-1h14c0.552 0 1 0.448 1 1s-0.448 1-1 1z\"></path>\n",
       "<path d=\"M23 18h-14c-0.552 0-1-0.448-1-1s0.448-1 1-1h14c0.552 0 1 0.448 1 1s-0.448 1-1 1z\"></path>\n",
       "</symbol>\n",
       "</defs>\n",
       "</svg>\n",
       "<style>/* CSS stylesheet for displaying xarray objects in jupyterlab.\n",
       " *\n",
       " */\n",
       "\n",
       ":root {\n",
       "  --xr-font-color0: var(--jp-content-font-color0, rgba(0, 0, 0, 1));\n",
       "  --xr-font-color2: var(--jp-content-font-color2, rgba(0, 0, 0, 0.54));\n",
       "  --xr-font-color3: var(--jp-content-font-color3, rgba(0, 0, 0, 0.38));\n",
       "  --xr-border-color: var(--jp-border-color2, #e0e0e0);\n",
       "  --xr-disabled-color: var(--jp-layout-color3, #bdbdbd);\n",
       "  --xr-background-color: var(--jp-layout-color0, white);\n",
       "  --xr-background-color-row-even: var(--jp-layout-color1, white);\n",
       "  --xr-background-color-row-odd: var(--jp-layout-color2, #eeeeee);\n",
       "}\n",
       "\n",
       "html[theme=\"dark\"],\n",
       "html[data-theme=\"dark\"],\n",
       "body[data-theme=\"dark\"],\n",
       "body.vscode-dark {\n",
       "  --xr-font-color0: rgba(255, 255, 255, 1);\n",
       "  --xr-font-color2: rgba(255, 255, 255, 0.54);\n",
       "  --xr-font-color3: rgba(255, 255, 255, 0.38);\n",
       "  --xr-border-color: #1f1f1f;\n",
       "  --xr-disabled-color: #515151;\n",
       "  --xr-background-color: #111111;\n",
       "  --xr-background-color-row-even: #111111;\n",
       "  --xr-background-color-row-odd: #313131;\n",
       "}\n",
       "\n",
       ".xr-wrap {\n",
       "  display: block !important;\n",
       "  min-width: 300px;\n",
       "  max-width: 700px;\n",
       "}\n",
       "\n",
       ".xr-text-repr-fallback {\n",
       "  /* fallback to plain text repr when CSS is not injected (untrusted notebook) */\n",
       "  display: none;\n",
       "}\n",
       "\n",
       ".xr-header {\n",
       "  padding-top: 6px;\n",
       "  padding-bottom: 6px;\n",
       "  margin-bottom: 4px;\n",
       "  border-bottom: solid 1px var(--xr-border-color);\n",
       "}\n",
       "\n",
       ".xr-header > div,\n",
       ".xr-header > ul {\n",
       "  display: inline;\n",
       "  margin-top: 0;\n",
       "  margin-bottom: 0;\n",
       "}\n",
       "\n",
       ".xr-obj-type,\n",
       ".xr-array-name {\n",
       "  margin-left: 2px;\n",
       "  margin-right: 10px;\n",
       "}\n",
       "\n",
       ".xr-obj-type {\n",
       "  color: var(--xr-font-color2);\n",
       "}\n",
       "\n",
       ".xr-sections {\n",
       "  padding-left: 0 !important;\n",
       "  display: grid;\n",
       "  grid-template-columns: 150px auto auto 1fr 0 20px 0 20px;\n",
       "}\n",
       "\n",
       ".xr-section-item {\n",
       "  display: contents;\n",
       "}\n",
       "\n",
       ".xr-section-item input {\n",
       "  display: inline-block;\n",
       "  opacity: 0;\n",
       "  height: 0;\n",
       "}\n",
       "\n",
       ".xr-section-item input + label {\n",
       "  color: var(--xr-disabled-color);\n",
       "}\n",
       "\n",
       ".xr-section-item input:enabled + label {\n",
       "  cursor: pointer;\n",
       "  color: var(--xr-font-color2);\n",
       "}\n",
       "\n",
       ".xr-section-item input:focus + label {\n",
       "  border: 2px solid var(--xr-font-color0);\n",
       "}\n",
       "\n",
       ".xr-section-item input:enabled + label:hover {\n",
       "  color: var(--xr-font-color0);\n",
       "}\n",
       "\n",
       ".xr-section-summary {\n",
       "  grid-column: 1;\n",
       "  color: var(--xr-font-color2);\n",
       "  font-weight: 500;\n",
       "}\n",
       "\n",
       ".xr-section-summary > span {\n",
       "  display: inline-block;\n",
       "  padding-left: 0.5em;\n",
       "}\n",
       "\n",
       ".xr-section-summary-in:disabled + label {\n",
       "  color: var(--xr-font-color2);\n",
       "}\n",
       "\n",
       ".xr-section-summary-in + label:before {\n",
       "  display: inline-block;\n",
       "  content: \"►\";\n",
       "  font-size: 11px;\n",
       "  width: 15px;\n",
       "  text-align: center;\n",
       "}\n",
       "\n",
       ".xr-section-summary-in:disabled + label:before {\n",
       "  color: var(--xr-disabled-color);\n",
       "}\n",
       "\n",
       ".xr-section-summary-in:checked + label:before {\n",
       "  content: \"▼\";\n",
       "}\n",
       "\n",
       ".xr-section-summary-in:checked + label > span {\n",
       "  display: none;\n",
       "}\n",
       "\n",
       ".xr-section-summary,\n",
       ".xr-section-inline-details {\n",
       "  padding-top: 4px;\n",
       "  padding-bottom: 4px;\n",
       "}\n",
       "\n",
       ".xr-section-inline-details {\n",
       "  grid-column: 2 / -1;\n",
       "}\n",
       "\n",
       ".xr-section-details {\n",
       "  display: none;\n",
       "  grid-column: 1 / -1;\n",
       "  margin-bottom: 5px;\n",
       "}\n",
       "\n",
       ".xr-section-summary-in:checked ~ .xr-section-details {\n",
       "  display: contents;\n",
       "}\n",
       "\n",
       ".xr-array-wrap {\n",
       "  grid-column: 1 / -1;\n",
       "  display: grid;\n",
       "  grid-template-columns: 20px auto;\n",
       "}\n",
       "\n",
       ".xr-array-wrap > label {\n",
       "  grid-column: 1;\n",
       "  vertical-align: top;\n",
       "}\n",
       "\n",
       ".xr-preview {\n",
       "  color: var(--xr-font-color3);\n",
       "}\n",
       "\n",
       ".xr-array-preview,\n",
       ".xr-array-data {\n",
       "  padding: 0 5px !important;\n",
       "  grid-column: 2;\n",
       "}\n",
       "\n",
       ".xr-array-data,\n",
       ".xr-array-in:checked ~ .xr-array-preview {\n",
       "  display: none;\n",
       "}\n",
       "\n",
       ".xr-array-in:checked ~ .xr-array-data,\n",
       ".xr-array-preview {\n",
       "  display: inline-block;\n",
       "}\n",
       "\n",
       ".xr-dim-list {\n",
       "  display: inline-block !important;\n",
       "  list-style: none;\n",
       "  padding: 0 !important;\n",
       "  margin: 0;\n",
       "}\n",
       "\n",
       ".xr-dim-list li {\n",
       "  display: inline-block;\n",
       "  padding: 0;\n",
       "  margin: 0;\n",
       "}\n",
       "\n",
       ".xr-dim-list:before {\n",
       "  content: \"(\";\n",
       "}\n",
       "\n",
       ".xr-dim-list:after {\n",
       "  content: \")\";\n",
       "}\n",
       "\n",
       ".xr-dim-list li:not(:last-child):after {\n",
       "  content: \",\";\n",
       "  padding-right: 5px;\n",
       "}\n",
       "\n",
       ".xr-has-index {\n",
       "  font-weight: bold;\n",
       "}\n",
       "\n",
       ".xr-var-list,\n",
       ".xr-var-item {\n",
       "  display: contents;\n",
       "}\n",
       "\n",
       ".xr-var-item > div,\n",
       ".xr-var-item label,\n",
       ".xr-var-item > .xr-var-name span {\n",
       "  background-color: var(--xr-background-color-row-even);\n",
       "  margin-bottom: 0;\n",
       "}\n",
       "\n",
       ".xr-var-item > .xr-var-name:hover span {\n",
       "  padding-right: 5px;\n",
       "}\n",
       "\n",
       ".xr-var-list > li:nth-child(odd) > div,\n",
       ".xr-var-list > li:nth-child(odd) > label,\n",
       ".xr-var-list > li:nth-child(odd) > .xr-var-name span {\n",
       "  background-color: var(--xr-background-color-row-odd);\n",
       "}\n",
       "\n",
       ".xr-var-name {\n",
       "  grid-column: 1;\n",
       "}\n",
       "\n",
       ".xr-var-dims {\n",
       "  grid-column: 2;\n",
       "}\n",
       "\n",
       ".xr-var-dtype {\n",
       "  grid-column: 3;\n",
       "  text-align: right;\n",
       "  color: var(--xr-font-color2);\n",
       "}\n",
       "\n",
       ".xr-var-preview {\n",
       "  grid-column: 4;\n",
       "}\n",
       "\n",
       ".xr-index-preview {\n",
       "  grid-column: 2 / 5;\n",
       "  color: var(--xr-font-color2);\n",
       "}\n",
       "\n",
       ".xr-var-name,\n",
       ".xr-var-dims,\n",
       ".xr-var-dtype,\n",
       ".xr-preview,\n",
       ".xr-attrs dt {\n",
       "  white-space: nowrap;\n",
       "  overflow: hidden;\n",
       "  text-overflow: ellipsis;\n",
       "  padding-right: 10px;\n",
       "}\n",
       "\n",
       ".xr-var-name:hover,\n",
       ".xr-var-dims:hover,\n",
       ".xr-var-dtype:hover,\n",
       ".xr-attrs dt:hover {\n",
       "  overflow: visible;\n",
       "  width: auto;\n",
       "  z-index: 1;\n",
       "}\n",
       "\n",
       ".xr-var-attrs,\n",
       ".xr-var-data,\n",
       ".xr-index-data {\n",
       "  display: none;\n",
       "  background-color: var(--xr-background-color) !important;\n",
       "  padding-bottom: 5px !important;\n",
       "}\n",
       "\n",
       ".xr-var-attrs-in:checked ~ .xr-var-attrs,\n",
       ".xr-var-data-in:checked ~ .xr-var-data,\n",
       ".xr-index-data-in:checked ~ .xr-index-data {\n",
       "  display: block;\n",
       "}\n",
       "\n",
       ".xr-var-data > table {\n",
       "  float: right;\n",
       "}\n",
       "\n",
       ".xr-var-name span,\n",
       ".xr-var-data,\n",
       ".xr-index-name div,\n",
       ".xr-index-data,\n",
       ".xr-attrs {\n",
       "  padding-left: 25px !important;\n",
       "}\n",
       "\n",
       ".xr-attrs,\n",
       ".xr-var-attrs,\n",
       ".xr-var-data,\n",
       ".xr-index-data {\n",
       "  grid-column: 1 / -1;\n",
       "}\n",
       "\n",
       "dl.xr-attrs {\n",
       "  padding: 0;\n",
       "  margin: 0;\n",
       "  display: grid;\n",
       "  grid-template-columns: 125px auto;\n",
       "}\n",
       "\n",
       ".xr-attrs dt,\n",
       ".xr-attrs dd {\n",
       "  padding: 0;\n",
       "  margin: 0;\n",
       "  float: left;\n",
       "  padding-right: 10px;\n",
       "  width: auto;\n",
       "}\n",
       "\n",
       ".xr-attrs dt {\n",
       "  font-weight: normal;\n",
       "  grid-column: 1;\n",
       "}\n",
       "\n",
       ".xr-attrs dt:hover span {\n",
       "  display: inline-block;\n",
       "  background: var(--xr-background-color);\n",
       "  padding-right: 10px;\n",
       "}\n",
       "\n",
       ".xr-attrs dd {\n",
       "  grid-column: 2;\n",
       "  white-space: pre-wrap;\n",
       "  word-break: break-all;\n",
       "}\n",
       "\n",
       ".xr-icon-database,\n",
       ".xr-icon-file-text2,\n",
       ".xr-no-icon {\n",
       "  display: inline-block;\n",
       "  vertical-align: middle;\n",
       "  width: 1em;\n",
       "  height: 1.5em !important;\n",
       "  stroke-width: 0;\n",
       "  stroke: currentColor;\n",
       "  fill: currentColor;\n",
       "}\n",
       "</style><pre class='xr-text-repr-fallback'>&lt;xarray.Dataset&gt; Size: 14GB\n",
       "Dimensions:                      (band: 1, y: 30000, x: 60000)\n",
       "Coordinates:\n",
       "  * band                         (band) int64 8B 1\n",
       "  * x                            (x) float64 480kB 4.9e+06 4.9e+06 ... 5.5e+06\n",
       "  * y                            (y) float64 240kB 3.7e+06 3.7e+06 ... 4e+06\n",
       "Data variables:\n",
       "    FTY_2018_010m_lv_03035_v010  (band, y, x) float64 14GB dask.array&lt;chunksize=(1, 1000, 1000), meta=np.ndarray&gt;\n",
       "    spatial_ref                  int64 8B ...</pre><div class='xr-wrap' style='display:none'><div class='xr-header'><div class='xr-obj-type'>xarray.Dataset</div></div><ul class='xr-sections'><li class='xr-section-item'><input id='section-02b457b0-6102-497a-927e-e93f64ae38b6' class='xr-section-summary-in' type='checkbox' disabled ><label for='section-02b457b0-6102-497a-927e-e93f64ae38b6' class='xr-section-summary'  title='Expand/collapse section'>Dimensions:</label><div class='xr-section-inline-details'><ul class='xr-dim-list'><li><span class='xr-has-index'>band</span>: 1</li><li><span class='xr-has-index'>y</span>: 30000</li><li><span class='xr-has-index'>x</span>: 60000</li></ul></div><div class='xr-section-details'></div></li><li class='xr-section-item'><input id='section-7bad2c5e-695b-485f-b3f0-1e51c7ec8d7c' class='xr-section-summary-in' type='checkbox'  checked><label for='section-7bad2c5e-695b-485f-b3f0-1e51c7ec8d7c' class='xr-section-summary' >Coordinates: <span>(3)</span></label><div class='xr-section-inline-details'></div><div class='xr-section-details'><ul class='xr-var-list'><li class='xr-var-item'><div class='xr-var-name'><span class='xr-has-index'>band</span></div><div class='xr-var-dims'>(band)</div><div class='xr-var-dtype'>int64</div><div class='xr-var-preview xr-preview'>1</div><input id='attrs-0662b85b-c599-4690-9721-5d9a10a9c5dd' class='xr-var-attrs-in' type='checkbox' disabled><label for='attrs-0662b85b-c599-4690-9721-5d9a10a9c5dd' title='Show/Hide attributes'><svg class='icon xr-icon-file-text2'><use xlink:href='#icon-file-text2'></use></svg></label><input id='data-9cd7decc-e3a0-44ee-a659-dfb8afe86437' class='xr-var-data-in' type='checkbox'><label for='data-9cd7decc-e3a0-44ee-a659-dfb8afe86437' title='Show/Hide data repr'><svg class='icon xr-icon-database'><use xlink:href='#icon-database'></use></svg></label><div class='xr-var-attrs'><dl class='xr-attrs'></dl></div><div class='xr-var-data'><pre>array([1])</pre></div></li><li class='xr-var-item'><div class='xr-var-name'><span class='xr-has-index'>x</span></div><div class='xr-var-dims'>(x)</div><div class='xr-var-dtype'>float64</div><div class='xr-var-preview xr-preview'>4.9e+06 4.9e+06 ... 5.5e+06 5.5e+06</div><input id='attrs-b9b40126-3d73-4296-9678-80485260cd63' class='xr-var-attrs-in' type='checkbox' disabled><label for='attrs-b9b40126-3d73-4296-9678-80485260cd63' title='Show/Hide attributes'><svg class='icon xr-icon-file-text2'><use xlink:href='#icon-file-text2'></use></svg></label><input id='data-ff7a47b0-850a-45c5-9c41-766b4e114ae3' class='xr-var-data-in' type='checkbox'><label for='data-ff7a47b0-850a-45c5-9c41-766b4e114ae3' title='Show/Hide data repr'><svg class='icon xr-icon-database'><use xlink:href='#icon-database'></use></svg></label><div class='xr-var-attrs'><dl class='xr-attrs'></dl></div><div class='xr-var-data'><pre>array([4900005., 4900015., 4900025., ..., 5499975., 5499985., 5499995.])</pre></div></li><li class='xr-var-item'><div class='xr-var-name'><span class='xr-has-index'>y</span></div><div class='xr-var-dims'>(y)</div><div class='xr-var-dtype'>float64</div><div class='xr-var-preview xr-preview'>3.7e+06 3.7e+06 ... 4e+06 4e+06</div><input id='attrs-0a920570-3975-4042-877c-13f42aa1e55b' class='xr-var-attrs-in' type='checkbox' disabled><label for='attrs-0a920570-3975-4042-877c-13f42aa1e55b' title='Show/Hide attributes'><svg class='icon xr-icon-file-text2'><use xlink:href='#icon-file-text2'></use></svg></label><input id='data-b134ca93-4458-4642-b57c-9d5785c6bf54' class='xr-var-data-in' type='checkbox'><label for='data-b134ca93-4458-4642-b57c-9d5785c6bf54' title='Show/Hide data repr'><svg class='icon xr-icon-database'><use xlink:href='#icon-database'></use></svg></label><div class='xr-var-attrs'><dl class='xr-attrs'></dl></div><div class='xr-var-data'><pre>array([3700005., 3700015., 3700025., ..., 3999975., 3999985., 3999995.])</pre></div></li></ul></div></li><li class='xr-section-item'><input id='section-1992facf-3ac6-4eb4-b00c-1780a0b5b441' class='xr-section-summary-in' type='checkbox'  checked><label for='section-1992facf-3ac6-4eb4-b00c-1780a0b5b441' class='xr-section-summary' >Data variables: <span>(2)</span></label><div class='xr-section-inline-details'></div><div class='xr-section-details'><ul class='xr-var-list'><li class='xr-var-item'><div class='xr-var-name'><span>FTY_2018_010m_lv_03035_v010</span></div><div class='xr-var-dims'>(band, y, x)</div><div class='xr-var-dtype'>float64</div><div class='xr-var-preview xr-preview'>dask.array&lt;chunksize=(1, 1000, 1000), meta=np.ndarray&gt;</div><input id='attrs-cf0877b3-8581-415f-afba-527e79f440a5' class='xr-var-attrs-in' type='checkbox' ><label for='attrs-cf0877b3-8581-415f-afba-527e79f440a5' title='Show/Hide attributes'><svg class='icon xr-icon-file-text2'><use xlink:href='#icon-file-text2'></use></svg></label><input id='data-a3f3a437-e48f-4a06-876d-9b607ed3b354' class='xr-var-data-in' type='checkbox'><label for='data-a3f3a437-e48f-4a06-876d-9b607ed3b354' title='Show/Hide data repr'><svg class='icon xr-icon-database'><use xlink:href='#icon-database'></use></svg></label><div class='xr-var-attrs'><dl class='xr-attrs'><dt><span>AREA_OR_POINT :</span></dt><dd>Area</dd><dt><span>DataType :</span></dt><dd>Thematic</dd><dt><span>RepresentationType :</span></dt><dd>THEMATIC</dd><dt><span>grid_mapping :</span></dt><dd>spatial_ref</dd></dl></div><div class='xr-var-data'><table>\n",
       "    <tr>\n",
       "        <td>\n",
       "            <table style=\"border-collapse: collapse;\">\n",
       "                <thead>\n",
       "                    <tr>\n",
       "                        <td> </td>\n",
       "                        <th> Array </th>\n",
       "                        <th> Chunk </th>\n",
       "                    </tr>\n",
       "                </thead>\n",
       "                <tbody>\n",
       "                    \n",
       "                    <tr>\n",
       "                        <th> Bytes </th>\n",
       "                        <td> 13.41 GiB </td>\n",
       "                        <td> 7.63 MiB </td>\n",
       "                    </tr>\n",
       "                    \n",
       "                    <tr>\n",
       "                        <th> Shape </th>\n",
       "                        <td> (1, 30000, 60000) </td>\n",
       "                        <td> (1, 1000, 1000) </td>\n",
       "                    </tr>\n",
       "                    <tr>\n",
       "                        <th> Dask graph </th>\n",
       "                        <td colspan=\"2\"> 1800 chunks in 2 graph layers </td>\n",
       "                    </tr>\n",
       "                    <tr>\n",
       "                        <th> Data type </th>\n",
       "                        <td colspan=\"2\"> float64 numpy.ndarray </td>\n",
       "                    </tr>\n",
       "                </tbody>\n",
       "            </table>\n",
       "        </td>\n",
       "        <td>\n",
       "        <svg width=\"194\" height=\"124\" style=\"stroke:rgb(0,0,0);stroke-width:1\" >\n",
       "\n",
       "  <!-- Horizontal lines -->\n",
       "  <line x1=\"10\" y1=\"0\" x2=\"24\" y2=\"14\" style=\"stroke-width:2\" />\n",
       "  <line x1=\"10\" y1=\"2\" x2=\"24\" y2=\"16\" />\n",
       "  <line x1=\"10\" y1=\"6\" x2=\"24\" y2=\"20\" />\n",
       "  <line x1=\"10\" y1=\"8\" x2=\"24\" y2=\"22\" />\n",
       "  <line x1=\"10\" y1=\"12\" x2=\"24\" y2=\"26\" />\n",
       "  <line x1=\"10\" y1=\"14\" x2=\"24\" y2=\"28\" />\n",
       "  <line x1=\"10\" y1=\"18\" x2=\"24\" y2=\"32\" />\n",
       "  <line x1=\"10\" y1=\"22\" x2=\"24\" y2=\"36\" />\n",
       "  <line x1=\"10\" y1=\"24\" x2=\"24\" y2=\"38\" />\n",
       "  <line x1=\"10\" y1=\"28\" x2=\"24\" y2=\"42\" />\n",
       "  <line x1=\"10\" y1=\"30\" x2=\"24\" y2=\"44\" />\n",
       "  <line x1=\"10\" y1=\"34\" x2=\"24\" y2=\"48\" />\n",
       "  <line x1=\"10\" y1=\"36\" x2=\"24\" y2=\"50\" />\n",
       "  <line x1=\"10\" y1=\"40\" x2=\"24\" y2=\"54\" />\n",
       "  <line x1=\"10\" y1=\"44\" x2=\"24\" y2=\"58\" />\n",
       "  <line x1=\"10\" y1=\"46\" x2=\"24\" y2=\"60\" />\n",
       "  <line x1=\"10\" y1=\"50\" x2=\"24\" y2=\"64\" />\n",
       "  <line x1=\"10\" y1=\"52\" x2=\"24\" y2=\"66\" />\n",
       "  <line x1=\"10\" y1=\"56\" x2=\"24\" y2=\"70\" />\n",
       "  <line x1=\"10\" y1=\"60\" x2=\"24\" y2=\"74\" style=\"stroke-width:2\" />\n",
       "\n",
       "  <!-- Vertical lines -->\n",
       "  <line x1=\"10\" y1=\"0\" x2=\"10\" y2=\"60\" style=\"stroke-width:2\" />\n",
       "  <line x1=\"24\" y1=\"14\" x2=\"24\" y2=\"74\" style=\"stroke-width:2\" />\n",
       "\n",
       "  <!-- Colored Rectangle -->\n",
       "  <polygon points=\"10.0,0.0 24.9485979497544,14.948597949754403 24.9485979497544,74.9485979497544 10.0,60.0\" style=\"fill:#8B4903A0;stroke-width:0\"/>\n",
       "\n",
       "  <!-- Horizontal lines -->\n",
       "  <line x1=\"10\" y1=\"0\" x2=\"130\" y2=\"0\" style=\"stroke-width:2\" />\n",
       "  <line x1=\"24\" y1=\"14\" x2=\"144\" y2=\"14\" style=\"stroke-width:2\" />\n",
       "\n",
       "  <!-- Vertical lines -->\n",
       "  <line x1=\"10\" y1=\"0\" x2=\"24\" y2=\"14\" style=\"stroke-width:2\" />\n",
       "  <line x1=\"16\" y1=\"0\" x2=\"30\" y2=\"14\" />\n",
       "  <line x1=\"22\" y1=\"0\" x2=\"36\" y2=\"14\" />\n",
       "  <line x1=\"28\" y1=\"0\" x2=\"42\" y2=\"14\" />\n",
       "  <line x1=\"34\" y1=\"0\" x2=\"48\" y2=\"14\" />\n",
       "  <line x1=\"40\" y1=\"0\" x2=\"54\" y2=\"14\" />\n",
       "  <line x1=\"46\" y1=\"0\" x2=\"60\" y2=\"14\" />\n",
       "  <line x1=\"54\" y1=\"0\" x2=\"68\" y2=\"14\" />\n",
       "  <line x1=\"60\" y1=\"0\" x2=\"74\" y2=\"14\" />\n",
       "  <line x1=\"66\" y1=\"0\" x2=\"80\" y2=\"14\" />\n",
       "  <line x1=\"72\" y1=\"0\" x2=\"86\" y2=\"14\" />\n",
       "  <line x1=\"78\" y1=\"0\" x2=\"92\" y2=\"14\" />\n",
       "  <line x1=\"84\" y1=\"0\" x2=\"98\" y2=\"14\" />\n",
       "  <line x1=\"92\" y1=\"0\" x2=\"106\" y2=\"14\" />\n",
       "  <line x1=\"98\" y1=\"0\" x2=\"112\" y2=\"14\" />\n",
       "  <line x1=\"104\" y1=\"0\" x2=\"118\" y2=\"14\" />\n",
       "  <line x1=\"110\" y1=\"0\" x2=\"124\" y2=\"14\" />\n",
       "  <line x1=\"116\" y1=\"0\" x2=\"130\" y2=\"14\" />\n",
       "  <line x1=\"122\" y1=\"0\" x2=\"136\" y2=\"14\" />\n",
       "  <line x1=\"130\" y1=\"0\" x2=\"144\" y2=\"14\" style=\"stroke-width:2\" />\n",
       "\n",
       "  <!-- Colored Rectangle -->\n",
       "  <polygon points=\"10.0,0.0 130.0,0.0 144.9485979497544,14.948597949754403 24.9485979497544,14.948597949754403\" style=\"fill:#8B4903A0;stroke-width:0\"/>\n",
       "\n",
       "  <!-- Horizontal lines -->\n",
       "  <line x1=\"24\" y1=\"14\" x2=\"144\" y2=\"14\" style=\"stroke-width:2\" />\n",
       "  <line x1=\"24\" y1=\"16\" x2=\"144\" y2=\"16\" />\n",
       "  <line x1=\"24\" y1=\"20\" x2=\"144\" y2=\"20\" />\n",
       "  <line x1=\"24\" y1=\"22\" x2=\"144\" y2=\"22\" />\n",
       "  <line x1=\"24\" y1=\"26\" x2=\"144\" y2=\"26\" />\n",
       "  <line x1=\"24\" y1=\"28\" x2=\"144\" y2=\"28\" />\n",
       "  <line x1=\"24\" y1=\"32\" x2=\"144\" y2=\"32\" />\n",
       "  <line x1=\"24\" y1=\"36\" x2=\"144\" y2=\"36\" />\n",
       "  <line x1=\"24\" y1=\"38\" x2=\"144\" y2=\"38\" />\n",
       "  <line x1=\"24\" y1=\"42\" x2=\"144\" y2=\"42\" />\n",
       "  <line x1=\"24\" y1=\"44\" x2=\"144\" y2=\"44\" />\n",
       "  <line x1=\"24\" y1=\"48\" x2=\"144\" y2=\"48\" />\n",
       "  <line x1=\"24\" y1=\"50\" x2=\"144\" y2=\"50\" />\n",
       "  <line x1=\"24\" y1=\"54\" x2=\"144\" y2=\"54\" />\n",
       "  <line x1=\"24\" y1=\"58\" x2=\"144\" y2=\"58\" />\n",
       "  <line x1=\"24\" y1=\"60\" x2=\"144\" y2=\"60\" />\n",
       "  <line x1=\"24\" y1=\"64\" x2=\"144\" y2=\"64\" />\n",
       "  <line x1=\"24\" y1=\"66\" x2=\"144\" y2=\"66\" />\n",
       "  <line x1=\"24\" y1=\"70\" x2=\"144\" y2=\"70\" />\n",
       "  <line x1=\"24\" y1=\"74\" x2=\"144\" y2=\"74\" style=\"stroke-width:2\" />\n",
       "\n",
       "  <!-- Vertical lines -->\n",
       "  <line x1=\"24\" y1=\"14\" x2=\"24\" y2=\"74\" style=\"stroke-width:2\" />\n",
       "  <line x1=\"30\" y1=\"14\" x2=\"30\" y2=\"74\" />\n",
       "  <line x1=\"36\" y1=\"14\" x2=\"36\" y2=\"74\" />\n",
       "  <line x1=\"42\" y1=\"14\" x2=\"42\" y2=\"74\" />\n",
       "  <line x1=\"48\" y1=\"14\" x2=\"48\" y2=\"74\" />\n",
       "  <line x1=\"54\" y1=\"14\" x2=\"54\" y2=\"74\" />\n",
       "  <line x1=\"60\" y1=\"14\" x2=\"60\" y2=\"74\" />\n",
       "  <line x1=\"68\" y1=\"14\" x2=\"68\" y2=\"74\" />\n",
       "  <line x1=\"74\" y1=\"14\" x2=\"74\" y2=\"74\" />\n",
       "  <line x1=\"80\" y1=\"14\" x2=\"80\" y2=\"74\" />\n",
       "  <line x1=\"86\" y1=\"14\" x2=\"86\" y2=\"74\" />\n",
       "  <line x1=\"92\" y1=\"14\" x2=\"92\" y2=\"74\" />\n",
       "  <line x1=\"98\" y1=\"14\" x2=\"98\" y2=\"74\" />\n",
       "  <line x1=\"106\" y1=\"14\" x2=\"106\" y2=\"74\" />\n",
       "  <line x1=\"112\" y1=\"14\" x2=\"112\" y2=\"74\" />\n",
       "  <line x1=\"118\" y1=\"14\" x2=\"118\" y2=\"74\" />\n",
       "  <line x1=\"124\" y1=\"14\" x2=\"124\" y2=\"74\" />\n",
       "  <line x1=\"130\" y1=\"14\" x2=\"130\" y2=\"74\" />\n",
       "  <line x1=\"136\" y1=\"14\" x2=\"136\" y2=\"74\" />\n",
       "  <line x1=\"144\" y1=\"14\" x2=\"144\" y2=\"74\" style=\"stroke-width:2\" />\n",
       "\n",
       "  <!-- Colored Rectangle -->\n",
       "  <polygon points=\"24.9485979497544,14.948597949754403 144.9485979497544,14.948597949754403 144.9485979497544,74.9485979497544 24.9485979497544,74.9485979497544\" style=\"fill:#8B4903A0;stroke-width:0\"/>\n",
       "\n",
       "  <!-- Text -->\n",
       "  <text x=\"84.948598\" y=\"94.948598\" font-size=\"1.0rem\" font-weight=\"100\" text-anchor=\"middle\" >60000</text>\n",
       "  <text x=\"164.948598\" y=\"44.948598\" font-size=\"1.0rem\" font-weight=\"100\" text-anchor=\"middle\" transform=\"rotate(-90,164.948598,44.948598)\">30000</text>\n",
       "  <text x=\"7.474299\" y=\"87.474299\" font-size=\"1.0rem\" font-weight=\"100\" text-anchor=\"middle\" transform=\"rotate(45,7.474299,87.474299)\">1</text>\n",
       "</svg>\n",
       "        </td>\n",
       "    </tr>\n",
       "</table></div></li><li class='xr-var-item'><div class='xr-var-name'><span>spatial_ref</span></div><div class='xr-var-dims'>()</div><div class='xr-var-dtype'>int64</div><div class='xr-var-preview xr-preview'>...</div><input id='attrs-de6ce970-1b6c-4481-b5f6-9dfaf167adfa' class='xr-var-attrs-in' type='checkbox' ><label for='attrs-de6ce970-1b6c-4481-b5f6-9dfaf167adfa' title='Show/Hide attributes'><svg class='icon xr-icon-file-text2'><use xlink:href='#icon-file-text2'></use></svg></label><input id='data-b6ef8a4a-46c0-4e18-a88d-411e036bda68' class='xr-var-data-in' type='checkbox'><label for='data-b6ef8a4a-46c0-4e18-a88d-411e036bda68' title='Show/Hide data repr'><svg class='icon xr-icon-database'><use xlink:href='#icon-database'></use></svg></label><div class='xr-var-attrs'><dl class='xr-attrs'><dt><span>GeoTransform :</span></dt><dd>4900000.0 10.0 0.0 3900000.0 0.0 -10.0</dd><dt><span>crs_wkt :</span></dt><dd>PROJCS[&quot;ETRS89-extended / LAEA Europe&quot;,GEOGCS[&quot;ETRS89&quot;,DATUM[&quot;European_Terrestrial_Reference_System_1989&quot;,SPHEROID[&quot;GRS 1980&quot;,6378137,298.257222101004,AUTHORITY[&quot;EPSG&quot;,&quot;7019&quot;]],AUTHORITY[&quot;EPSG&quot;,&quot;6258&quot;]],PRIMEM[&quot;Greenwich&quot;,0],UNIT[&quot;degree&quot;,0.0174532925199433,AUTHORITY[&quot;EPSG&quot;,&quot;9122&quot;]],AUTHORITY[&quot;EPSG&quot;,&quot;4258&quot;]],PROJECTION[&quot;Lambert_Azimuthal_Equal_Area&quot;],PARAMETER[&quot;latitude_of_center&quot;,52],PARAMETER[&quot;longitude_of_center&quot;,10],PARAMETER[&quot;false_easting&quot;,4321000],PARAMETER[&quot;false_northing&quot;,3210000],UNIT[&quot;metre&quot;,1],AXIS[&quot;Easting&quot;,EAST],AXIS[&quot;Northing&quot;,NORTH],AUTHORITY[&quot;EPSG&quot;,&quot;3035&quot;]]</dd><dt><span>false_easting :</span></dt><dd>4321000.0</dd><dt><span>false_northing :</span></dt><dd>3210000.0</dd><dt><span>geographic_crs_name :</span></dt><dd>ETRS89</dd><dt><span>grid_mapping_name :</span></dt><dd>lambert_azimuthal_equal_area</dd><dt><span>horizontal_datum_name :</span></dt><dd>European Terrestrial Reference System 1989</dd><dt><span>inverse_flattening :</span></dt><dd>298.257222101004</dd><dt><span>latitude_of_projection_origin :</span></dt><dd>52.0</dd><dt><span>longitude_of_prime_meridian :</span></dt><dd>0.0</dd><dt><span>longitude_of_projection_origin :</span></dt><dd>10.0</dd><dt><span>prime_meridian_name :</span></dt><dd>Greenwich</dd><dt><span>projected_crs_name :</span></dt><dd>ETRS89-extended / LAEA Europe</dd><dt><span>reference_ellipsoid_name :</span></dt><dd>GRS 1980</dd><dt><span>semi_major_axis :</span></dt><dd>6378137.0</dd><dt><span>semi_minor_axis :</span></dt><dd>6356752.314140356</dd><dt><span>spatial_ref :</span></dt><dd>PROJCS[&quot;ETRS89-extended / LAEA Europe&quot;,GEOGCS[&quot;ETRS89&quot;,DATUM[&quot;European_Terrestrial_Reference_System_1989&quot;,SPHEROID[&quot;GRS 1980&quot;,6378137,298.257222101004,AUTHORITY[&quot;EPSG&quot;,&quot;7019&quot;]],AUTHORITY[&quot;EPSG&quot;,&quot;6258&quot;]],PRIMEM[&quot;Greenwich&quot;,0],UNIT[&quot;degree&quot;,0.0174532925199433,AUTHORITY[&quot;EPSG&quot;,&quot;9122&quot;]],AUTHORITY[&quot;EPSG&quot;,&quot;4258&quot;]],PROJECTION[&quot;Lambert_Azimuthal_Equal_Area&quot;],PARAMETER[&quot;latitude_of_center&quot;,52],PARAMETER[&quot;longitude_of_center&quot;,10],PARAMETER[&quot;false_easting&quot;,4321000],PARAMETER[&quot;false_northing&quot;,3210000],UNIT[&quot;metre&quot;,1],AXIS[&quot;Easting&quot;,EAST],AXIS[&quot;Northing&quot;,NORTH],AUTHORITY[&quot;EPSG&quot;,&quot;3035&quot;]]</dd></dl></div><div class='xr-var-data'><pre>[1 values with dtype=int64]</pre></div></li></ul></div></li><li class='xr-section-item'><input id='section-2a717b81-6961-4786-b889-c604fe24cf3e' class='xr-section-summary-in' type='checkbox'  ><label for='section-2a717b81-6961-4786-b889-c604fe24cf3e' class='xr-section-summary' >Indexes: <span>(3)</span></label><div class='xr-section-inline-details'></div><div class='xr-section-details'><ul class='xr-var-list'><li class='xr-var-item'><div class='xr-index-name'><div>band</div></div><div class='xr-index-preview'>PandasIndex</div><input type='checkbox' disabled/><label></label><input id='index-f918e8d3-248e-4d05-af6e-6d7d6820f498' class='xr-index-data-in' type='checkbox'/><label for='index-f918e8d3-248e-4d05-af6e-6d7d6820f498' title='Show/Hide index repr'><svg class='icon xr-icon-database'><use xlink:href='#icon-database'></use></svg></label><div class='xr-index-data'><pre>PandasIndex(Index([1], dtype=&#x27;int64&#x27;, name=&#x27;band&#x27;))</pre></div></li><li class='xr-var-item'><div class='xr-index-name'><div>x</div></div><div class='xr-index-preview'>PandasIndex</div><input type='checkbox' disabled/><label></label><input id='index-ecfacfed-3eae-42ba-b7ff-7404473e37e9' class='xr-index-data-in' type='checkbox'/><label for='index-ecfacfed-3eae-42ba-b7ff-7404473e37e9' title='Show/Hide index repr'><svg class='icon xr-icon-database'><use xlink:href='#icon-database'></use></svg></label><div class='xr-index-data'><pre>PandasIndex(Index([4900005.0, 4900015.0, 4900025.0, 4900035.0, 4900045.0, 4900055.0,\n",
       "       4900065.0, 4900075.0, 4900085.0, 4900095.0,\n",
       "       ...\n",
       "       5499905.0, 5499915.0, 5499925.0, 5499935.0, 5499945.0, 5499955.0,\n",
       "       5499965.0, 5499975.0, 5499985.0, 5499995.0],\n",
       "      dtype=&#x27;float64&#x27;, name=&#x27;x&#x27;, length=60000))</pre></div></li><li class='xr-var-item'><div class='xr-index-name'><div>y</div></div><div class='xr-index-preview'>PandasIndex</div><input type='checkbox' disabled/><label></label><input id='index-50eec288-ee60-4b06-80f3-ba61ec74c0dd' class='xr-index-data-in' type='checkbox'/><label for='index-50eec288-ee60-4b06-80f3-ba61ec74c0dd' title='Show/Hide index repr'><svg class='icon xr-icon-database'><use xlink:href='#icon-database'></use></svg></label><div class='xr-index-data'><pre>PandasIndex(Index([3700005.0, 3700015.0, 3700025.0, 3700035.0, 3700045.0, 3700055.0,\n",
       "       3700065.0, 3700075.0, 3700085.0, 3700095.0,\n",
       "       ...\n",
       "       3999905.0, 3999915.0, 3999925.0, 3999935.0, 3999945.0, 3999955.0,\n",
       "       3999965.0, 3999975.0, 3999985.0, 3999995.0],\n",
       "      dtype=&#x27;float64&#x27;, name=&#x27;y&#x27;, length=30000))</pre></div></li></ul></div></li><li class='xr-section-item'><input id='section-857bd452-0ea6-4e9b-bd7e-40774a36d0a5' class='xr-section-summary-in' type='checkbox' disabled ><label for='section-857bd452-0ea6-4e9b-bd7e-40774a36d0a5' class='xr-section-summary'  title='Expand/collapse section'>Attributes: <span>(0)</span></label><div class='xr-section-inline-details'></div><div class='xr-section-details'><dl class='xr-attrs'></dl></div></li></ul></div></div>"
      ],
      "text/plain": [
       "<xarray.Dataset> Size: 14GB\n",
       "Dimensions:                      (band: 1, y: 30000, x: 60000)\n",
       "Coordinates:\n",
       "  * band                         (band) int64 8B 1\n",
       "  * x                            (x) float64 480kB 4.9e+06 4.9e+06 ... 5.5e+06\n",
       "  * y                            (y) float64 240kB 3.7e+06 3.7e+06 ... 4e+06\n",
       "Data variables:\n",
       "    FTY_2018_010m_lv_03035_v010  (band, y, x) float64 14GB dask.array<chunksize=(1, 1000, 1000), meta=np.ndarray>\n",
       "    spatial_ref                  int64 8B ..."
      ]
     },
     "execution_count": 15,
     "metadata": {},
     "output_type": "execute_result"
    }
   ],
   "source": [
    "fty = cds.open_data(\"forest-type-2018|FTY_2018_010m_lv_03035_v010\")\n",
    "fty"
   ]
  },
  {
   "cell_type": "code",
   "execution_count": 16,
   "id": "078b44ac-b476-480c-aa61-b371f2165f45",
   "metadata": {},
   "outputs": [
    {
     "data": {
      "text/html": [
       "<div><svg style=\"position: absolute; width: 0; height: 0; overflow: hidden\">\n",
       "<defs>\n",
       "<symbol id=\"icon-database\" viewBox=\"0 0 32 32\">\n",
       "<path d=\"M16 0c-8.837 0-16 2.239-16 5v4c0 2.761 7.163 5 16 5s16-2.239 16-5v-4c0-2.761-7.163-5-16-5z\"></path>\n",
       "<path d=\"M16 17c-8.837 0-16-2.239-16-5v6c0 2.761 7.163 5 16 5s16-2.239 16-5v-6c0 2.761-7.163 5-16 5z\"></path>\n",
       "<path d=\"M16 26c-8.837 0-16-2.239-16-5v6c0 2.761 7.163 5 16 5s16-2.239 16-5v-6c0 2.761-7.163 5-16 5z\"></path>\n",
       "</symbol>\n",
       "<symbol id=\"icon-file-text2\" viewBox=\"0 0 32 32\">\n",
       "<path d=\"M28.681 7.159c-0.694-0.947-1.662-2.053-2.724-3.116s-2.169-2.030-3.116-2.724c-1.612-1.182-2.393-1.319-2.841-1.319h-15.5c-1.378 0-2.5 1.121-2.5 2.5v27c0 1.378 1.122 2.5 2.5 2.5h23c1.378 0 2.5-1.122 2.5-2.5v-19.5c0-0.448-0.137-1.23-1.319-2.841zM24.543 5.457c0.959 0.959 1.712 1.825 2.268 2.543h-4.811v-4.811c0.718 0.556 1.584 1.309 2.543 2.268zM28 29.5c0 0.271-0.229 0.5-0.5 0.5h-23c-0.271 0-0.5-0.229-0.5-0.5v-27c0-0.271 0.229-0.5 0.5-0.5 0 0 15.499-0 15.5 0v7c0 0.552 0.448 1 1 1h7v19.5z\"></path>\n",
       "<path d=\"M23 26h-14c-0.552 0-1-0.448-1-1s0.448-1 1-1h14c0.552 0 1 0.448 1 1s-0.448 1-1 1z\"></path>\n",
       "<path d=\"M23 22h-14c-0.552 0-1-0.448-1-1s0.448-1 1-1h14c0.552 0 1 0.448 1 1s-0.448 1-1 1z\"></path>\n",
       "<path d=\"M23 18h-14c-0.552 0-1-0.448-1-1s0.448-1 1-1h14c0.552 0 1 0.448 1 1s-0.448 1-1 1z\"></path>\n",
       "</symbol>\n",
       "</defs>\n",
       "</svg>\n",
       "<style>/* CSS stylesheet for displaying xarray objects in jupyterlab.\n",
       " *\n",
       " */\n",
       "\n",
       ":root {\n",
       "  --xr-font-color0: var(--jp-content-font-color0, rgba(0, 0, 0, 1));\n",
       "  --xr-font-color2: var(--jp-content-font-color2, rgba(0, 0, 0, 0.54));\n",
       "  --xr-font-color3: var(--jp-content-font-color3, rgba(0, 0, 0, 0.38));\n",
       "  --xr-border-color: var(--jp-border-color2, #e0e0e0);\n",
       "  --xr-disabled-color: var(--jp-layout-color3, #bdbdbd);\n",
       "  --xr-background-color: var(--jp-layout-color0, white);\n",
       "  --xr-background-color-row-even: var(--jp-layout-color1, white);\n",
       "  --xr-background-color-row-odd: var(--jp-layout-color2, #eeeeee);\n",
       "}\n",
       "\n",
       "html[theme=\"dark\"],\n",
       "html[data-theme=\"dark\"],\n",
       "body[data-theme=\"dark\"],\n",
       "body.vscode-dark {\n",
       "  --xr-font-color0: rgba(255, 255, 255, 1);\n",
       "  --xr-font-color2: rgba(255, 255, 255, 0.54);\n",
       "  --xr-font-color3: rgba(255, 255, 255, 0.38);\n",
       "  --xr-border-color: #1f1f1f;\n",
       "  --xr-disabled-color: #515151;\n",
       "  --xr-background-color: #111111;\n",
       "  --xr-background-color-row-even: #111111;\n",
       "  --xr-background-color-row-odd: #313131;\n",
       "}\n",
       "\n",
       ".xr-wrap {\n",
       "  display: block !important;\n",
       "  min-width: 300px;\n",
       "  max-width: 700px;\n",
       "}\n",
       "\n",
       ".xr-text-repr-fallback {\n",
       "  /* fallback to plain text repr when CSS is not injected (untrusted notebook) */\n",
       "  display: none;\n",
       "}\n",
       "\n",
       ".xr-header {\n",
       "  padding-top: 6px;\n",
       "  padding-bottom: 6px;\n",
       "  margin-bottom: 4px;\n",
       "  border-bottom: solid 1px var(--xr-border-color);\n",
       "}\n",
       "\n",
       ".xr-header > div,\n",
       ".xr-header > ul {\n",
       "  display: inline;\n",
       "  margin-top: 0;\n",
       "  margin-bottom: 0;\n",
       "}\n",
       "\n",
       ".xr-obj-type,\n",
       ".xr-array-name {\n",
       "  margin-left: 2px;\n",
       "  margin-right: 10px;\n",
       "}\n",
       "\n",
       ".xr-obj-type {\n",
       "  color: var(--xr-font-color2);\n",
       "}\n",
       "\n",
       ".xr-sections {\n",
       "  padding-left: 0 !important;\n",
       "  display: grid;\n",
       "  grid-template-columns: 150px auto auto 1fr 0 20px 0 20px;\n",
       "}\n",
       "\n",
       ".xr-section-item {\n",
       "  display: contents;\n",
       "}\n",
       "\n",
       ".xr-section-item input {\n",
       "  display: inline-block;\n",
       "  opacity: 0;\n",
       "  height: 0;\n",
       "}\n",
       "\n",
       ".xr-section-item input + label {\n",
       "  color: var(--xr-disabled-color);\n",
       "}\n",
       "\n",
       ".xr-section-item input:enabled + label {\n",
       "  cursor: pointer;\n",
       "  color: var(--xr-font-color2);\n",
       "}\n",
       "\n",
       ".xr-section-item input:focus + label {\n",
       "  border: 2px solid var(--xr-font-color0);\n",
       "}\n",
       "\n",
       ".xr-section-item input:enabled + label:hover {\n",
       "  color: var(--xr-font-color0);\n",
       "}\n",
       "\n",
       ".xr-section-summary {\n",
       "  grid-column: 1;\n",
       "  color: var(--xr-font-color2);\n",
       "  font-weight: 500;\n",
       "}\n",
       "\n",
       ".xr-section-summary > span {\n",
       "  display: inline-block;\n",
       "  padding-left: 0.5em;\n",
       "}\n",
       "\n",
       ".xr-section-summary-in:disabled + label {\n",
       "  color: var(--xr-font-color2);\n",
       "}\n",
       "\n",
       ".xr-section-summary-in + label:before {\n",
       "  display: inline-block;\n",
       "  content: \"►\";\n",
       "  font-size: 11px;\n",
       "  width: 15px;\n",
       "  text-align: center;\n",
       "}\n",
       "\n",
       ".xr-section-summary-in:disabled + label:before {\n",
       "  color: var(--xr-disabled-color);\n",
       "}\n",
       "\n",
       ".xr-section-summary-in:checked + label:before {\n",
       "  content: \"▼\";\n",
       "}\n",
       "\n",
       ".xr-section-summary-in:checked + label > span {\n",
       "  display: none;\n",
       "}\n",
       "\n",
       ".xr-section-summary,\n",
       ".xr-section-inline-details {\n",
       "  padding-top: 4px;\n",
       "  padding-bottom: 4px;\n",
       "}\n",
       "\n",
       ".xr-section-inline-details {\n",
       "  grid-column: 2 / -1;\n",
       "}\n",
       "\n",
       ".xr-section-details {\n",
       "  display: none;\n",
       "  grid-column: 1 / -1;\n",
       "  margin-bottom: 5px;\n",
       "}\n",
       "\n",
       ".xr-section-summary-in:checked ~ .xr-section-details {\n",
       "  display: contents;\n",
       "}\n",
       "\n",
       ".xr-array-wrap {\n",
       "  grid-column: 1 / -1;\n",
       "  display: grid;\n",
       "  grid-template-columns: 20px auto;\n",
       "}\n",
       "\n",
       ".xr-array-wrap > label {\n",
       "  grid-column: 1;\n",
       "  vertical-align: top;\n",
       "}\n",
       "\n",
       ".xr-preview {\n",
       "  color: var(--xr-font-color3);\n",
       "}\n",
       "\n",
       ".xr-array-preview,\n",
       ".xr-array-data {\n",
       "  padding: 0 5px !important;\n",
       "  grid-column: 2;\n",
       "}\n",
       "\n",
       ".xr-array-data,\n",
       ".xr-array-in:checked ~ .xr-array-preview {\n",
       "  display: none;\n",
       "}\n",
       "\n",
       ".xr-array-in:checked ~ .xr-array-data,\n",
       ".xr-array-preview {\n",
       "  display: inline-block;\n",
       "}\n",
       "\n",
       ".xr-dim-list {\n",
       "  display: inline-block !important;\n",
       "  list-style: none;\n",
       "  padding: 0 !important;\n",
       "  margin: 0;\n",
       "}\n",
       "\n",
       ".xr-dim-list li {\n",
       "  display: inline-block;\n",
       "  padding: 0;\n",
       "  margin: 0;\n",
       "}\n",
       "\n",
       ".xr-dim-list:before {\n",
       "  content: \"(\";\n",
       "}\n",
       "\n",
       ".xr-dim-list:after {\n",
       "  content: \")\";\n",
       "}\n",
       "\n",
       ".xr-dim-list li:not(:last-child):after {\n",
       "  content: \",\";\n",
       "  padding-right: 5px;\n",
       "}\n",
       "\n",
       ".xr-has-index {\n",
       "  font-weight: bold;\n",
       "}\n",
       "\n",
       ".xr-var-list,\n",
       ".xr-var-item {\n",
       "  display: contents;\n",
       "}\n",
       "\n",
       ".xr-var-item > div,\n",
       ".xr-var-item label,\n",
       ".xr-var-item > .xr-var-name span {\n",
       "  background-color: var(--xr-background-color-row-even);\n",
       "  margin-bottom: 0;\n",
       "}\n",
       "\n",
       ".xr-var-item > .xr-var-name:hover span {\n",
       "  padding-right: 5px;\n",
       "}\n",
       "\n",
       ".xr-var-list > li:nth-child(odd) > div,\n",
       ".xr-var-list > li:nth-child(odd) > label,\n",
       ".xr-var-list > li:nth-child(odd) > .xr-var-name span {\n",
       "  background-color: var(--xr-background-color-row-odd);\n",
       "}\n",
       "\n",
       ".xr-var-name {\n",
       "  grid-column: 1;\n",
       "}\n",
       "\n",
       ".xr-var-dims {\n",
       "  grid-column: 2;\n",
       "}\n",
       "\n",
       ".xr-var-dtype {\n",
       "  grid-column: 3;\n",
       "  text-align: right;\n",
       "  color: var(--xr-font-color2);\n",
       "}\n",
       "\n",
       ".xr-var-preview {\n",
       "  grid-column: 4;\n",
       "}\n",
       "\n",
       ".xr-index-preview {\n",
       "  grid-column: 2 / 5;\n",
       "  color: var(--xr-font-color2);\n",
       "}\n",
       "\n",
       ".xr-var-name,\n",
       ".xr-var-dims,\n",
       ".xr-var-dtype,\n",
       ".xr-preview,\n",
       ".xr-attrs dt {\n",
       "  white-space: nowrap;\n",
       "  overflow: hidden;\n",
       "  text-overflow: ellipsis;\n",
       "  padding-right: 10px;\n",
       "}\n",
       "\n",
       ".xr-var-name:hover,\n",
       ".xr-var-dims:hover,\n",
       ".xr-var-dtype:hover,\n",
       ".xr-attrs dt:hover {\n",
       "  overflow: visible;\n",
       "  width: auto;\n",
       "  z-index: 1;\n",
       "}\n",
       "\n",
       ".xr-var-attrs,\n",
       ".xr-var-data,\n",
       ".xr-index-data {\n",
       "  display: none;\n",
       "  background-color: var(--xr-background-color) !important;\n",
       "  padding-bottom: 5px !important;\n",
       "}\n",
       "\n",
       ".xr-var-attrs-in:checked ~ .xr-var-attrs,\n",
       ".xr-var-data-in:checked ~ .xr-var-data,\n",
       ".xr-index-data-in:checked ~ .xr-index-data {\n",
       "  display: block;\n",
       "}\n",
       "\n",
       ".xr-var-data > table {\n",
       "  float: right;\n",
       "}\n",
       "\n",
       ".xr-var-name span,\n",
       ".xr-var-data,\n",
       ".xr-index-name div,\n",
       ".xr-index-data,\n",
       ".xr-attrs {\n",
       "  padding-left: 25px !important;\n",
       "}\n",
       "\n",
       ".xr-attrs,\n",
       ".xr-var-attrs,\n",
       ".xr-var-data,\n",
       ".xr-index-data {\n",
       "  grid-column: 1 / -1;\n",
       "}\n",
       "\n",
       "dl.xr-attrs {\n",
       "  padding: 0;\n",
       "  margin: 0;\n",
       "  display: grid;\n",
       "  grid-template-columns: 125px auto;\n",
       "}\n",
       "\n",
       ".xr-attrs dt,\n",
       ".xr-attrs dd {\n",
       "  padding: 0;\n",
       "  margin: 0;\n",
       "  float: left;\n",
       "  padding-right: 10px;\n",
       "  width: auto;\n",
       "}\n",
       "\n",
       ".xr-attrs dt {\n",
       "  font-weight: normal;\n",
       "  grid-column: 1;\n",
       "}\n",
       "\n",
       ".xr-attrs dt:hover span {\n",
       "  display: inline-block;\n",
       "  background: var(--xr-background-color);\n",
       "  padding-right: 10px;\n",
       "}\n",
       "\n",
       ".xr-attrs dd {\n",
       "  grid-column: 2;\n",
       "  white-space: pre-wrap;\n",
       "  word-break: break-all;\n",
       "}\n",
       "\n",
       ".xr-icon-database,\n",
       ".xr-icon-file-text2,\n",
       ".xr-no-icon {\n",
       "  display: inline-block;\n",
       "  vertical-align: middle;\n",
       "  width: 1em;\n",
       "  height: 1.5em !important;\n",
       "  stroke-width: 0;\n",
       "  stroke: currentColor;\n",
       "  fill: currentColor;\n",
       "}\n",
       "</style><pre class='xr-text-repr-fallback'>&lt;xarray.Dataset&gt; Size: 40GB\n",
       "Dimensions:                       (band: 1, y: 55000, x: 90000)\n",
       "Coordinates:\n",
       "  * band                          (band) int64 8B 1\n",
       "  * x                             (x) float64 720kB 5.6e+06 5.6e+06 ... 7.4e+06\n",
       "  * y                             (y) float64 440kB 1.6e+06 1.6e+06 ... 2.7e+06\n",
       "Data variables:\n",
       "    DLTC_1518_020m_tr_03035_v010  (band, y, x) float64 40GB dask.array&lt;chunksize=(1, 1000, 1000), meta=np.ndarray&gt;\n",
       "    spatial_ref                   int64 8B ...</pre><div class='xr-wrap' style='display:none'><div class='xr-header'><div class='xr-obj-type'>xarray.Dataset</div></div><ul class='xr-sections'><li class='xr-section-item'><input id='section-1ef38dfb-2556-4d70-9a45-227fed57ec30' class='xr-section-summary-in' type='checkbox' disabled ><label for='section-1ef38dfb-2556-4d70-9a45-227fed57ec30' class='xr-section-summary'  title='Expand/collapse section'>Dimensions:</label><div class='xr-section-inline-details'><ul class='xr-dim-list'><li><span class='xr-has-index'>band</span>: 1</li><li><span class='xr-has-index'>y</span>: 55000</li><li><span class='xr-has-index'>x</span>: 90000</li></ul></div><div class='xr-section-details'></div></li><li class='xr-section-item'><input id='section-2c8ab885-0689-431e-ac12-d7dd4496205f' class='xr-section-summary-in' type='checkbox'  checked><label for='section-2c8ab885-0689-431e-ac12-d7dd4496205f' class='xr-section-summary' >Coordinates: <span>(3)</span></label><div class='xr-section-inline-details'></div><div class='xr-section-details'><ul class='xr-var-list'><li class='xr-var-item'><div class='xr-var-name'><span class='xr-has-index'>band</span></div><div class='xr-var-dims'>(band)</div><div class='xr-var-dtype'>int64</div><div class='xr-var-preview xr-preview'>1</div><input id='attrs-f6ecda0a-f086-4910-94b8-cc3fcba0ddf4' class='xr-var-attrs-in' type='checkbox' disabled><label for='attrs-f6ecda0a-f086-4910-94b8-cc3fcba0ddf4' title='Show/Hide attributes'><svg class='icon xr-icon-file-text2'><use xlink:href='#icon-file-text2'></use></svg></label><input id='data-ba5cd91e-4cfa-44d8-972f-d01ccedf1daf' class='xr-var-data-in' type='checkbox'><label for='data-ba5cd91e-4cfa-44d8-972f-d01ccedf1daf' title='Show/Hide data repr'><svg class='icon xr-icon-database'><use xlink:href='#icon-database'></use></svg></label><div class='xr-var-attrs'><dl class='xr-attrs'></dl></div><div class='xr-var-data'><pre>array([1])</pre></div></li><li class='xr-var-item'><div class='xr-var-name'><span class='xr-has-index'>x</span></div><div class='xr-var-dims'>(x)</div><div class='xr-var-dtype'>float64</div><div class='xr-var-preview xr-preview'>5.6e+06 5.6e+06 ... 7.4e+06 7.4e+06</div><input id='attrs-c1b967c1-d6c9-4d47-afde-50ec2df52b2a' class='xr-var-attrs-in' type='checkbox' disabled><label for='attrs-c1b967c1-d6c9-4d47-afde-50ec2df52b2a' title='Show/Hide attributes'><svg class='icon xr-icon-file-text2'><use xlink:href='#icon-file-text2'></use></svg></label><input id='data-a3383911-576e-47bc-9a14-f534cfb2f8c9' class='xr-var-data-in' type='checkbox'><label for='data-a3383911-576e-47bc-9a14-f534cfb2f8c9' title='Show/Hide data repr'><svg class='icon xr-icon-database'><use xlink:href='#icon-database'></use></svg></label><div class='xr-var-attrs'><dl class='xr-attrs'></dl></div><div class='xr-var-data'><pre>array([5600010., 5600030., 5600050., ..., 7399950., 7399970., 7399990.])</pre></div></li><li class='xr-var-item'><div class='xr-var-name'><span class='xr-has-index'>y</span></div><div class='xr-var-dims'>(y)</div><div class='xr-var-dtype'>float64</div><div class='xr-var-preview xr-preview'>1.6e+06 1.6e+06 ... 2.7e+06 2.7e+06</div><input id='attrs-debde15d-ed36-4831-b025-91c349a027a2' class='xr-var-attrs-in' type='checkbox' disabled><label for='attrs-debde15d-ed36-4831-b025-91c349a027a2' title='Show/Hide attributes'><svg class='icon xr-icon-file-text2'><use xlink:href='#icon-file-text2'></use></svg></label><input id='data-81fbf093-1319-48ac-b51e-dd6184f9df71' class='xr-var-data-in' type='checkbox'><label for='data-81fbf093-1319-48ac-b51e-dd6184f9df71' title='Show/Hide data repr'><svg class='icon xr-icon-database'><use xlink:href='#icon-database'></use></svg></label><div class='xr-var-attrs'><dl class='xr-attrs'></dl></div><div class='xr-var-data'><pre>array([1600010., 1600030., 1600050., ..., 2699950., 2699970., 2699990.])</pre></div></li></ul></div></li><li class='xr-section-item'><input id='section-b94961f9-535a-4aad-b71b-1df25dfa4e7f' class='xr-section-summary-in' type='checkbox'  checked><label for='section-b94961f9-535a-4aad-b71b-1df25dfa4e7f' class='xr-section-summary' >Data variables: <span>(2)</span></label><div class='xr-section-inline-details'></div><div class='xr-section-details'><ul class='xr-var-list'><li class='xr-var-item'><div class='xr-var-name'><span>DLTC_1518_020m_tr_03035_v010</span></div><div class='xr-var-dims'>(band, y, x)</div><div class='xr-var-dtype'>float64</div><div class='xr-var-preview xr-preview'>dask.array&lt;chunksize=(1, 1000, 1000), meta=np.ndarray&gt;</div><input id='attrs-dc8c19e8-aca5-4f02-b90b-4097d129e70c' class='xr-var-attrs-in' type='checkbox' ><label for='attrs-dc8c19e8-aca5-4f02-b90b-4097d129e70c' title='Show/Hide attributes'><svg class='icon xr-icon-file-text2'><use xlink:href='#icon-file-text2'></use></svg></label><input id='data-65e5c646-7e8e-4704-a903-28e0f93f74bd' class='xr-var-data-in' type='checkbox'><label for='data-65e5c646-7e8e-4704-a903-28e0f93f74bd' title='Show/Hide data repr'><svg class='icon xr-icon-database'><use xlink:href='#icon-database'></use></svg></label><div class='xr-var-attrs'><dl class='xr-attrs'><dt><span>AREA_OR_POINT :</span></dt><dd>Area</dd><dt><span>DataType :</span></dt><dd>Thematic</dd><dt><span>RepresentationType :</span></dt><dd>THEMATIC</dd><dt><span>grid_mapping :</span></dt><dd>spatial_ref</dd></dl></div><div class='xr-var-data'><table>\n",
       "    <tr>\n",
       "        <td>\n",
       "            <table style=\"border-collapse: collapse;\">\n",
       "                <thead>\n",
       "                    <tr>\n",
       "                        <td> </td>\n",
       "                        <th> Array </th>\n",
       "                        <th> Chunk </th>\n",
       "                    </tr>\n",
       "                </thead>\n",
       "                <tbody>\n",
       "                    \n",
       "                    <tr>\n",
       "                        <th> Bytes </th>\n",
       "                        <td> 36.88 GiB </td>\n",
       "                        <td> 7.63 MiB </td>\n",
       "                    </tr>\n",
       "                    \n",
       "                    <tr>\n",
       "                        <th> Shape </th>\n",
       "                        <td> (1, 55000, 90000) </td>\n",
       "                        <td> (1, 1000, 1000) </td>\n",
       "                    </tr>\n",
       "                    <tr>\n",
       "                        <th> Dask graph </th>\n",
       "                        <td colspan=\"2\"> 4950 chunks in 2 graph layers </td>\n",
       "                    </tr>\n",
       "                    <tr>\n",
       "                        <th> Data type </th>\n",
       "                        <td colspan=\"2\"> float64 numpy.ndarray </td>\n",
       "                    </tr>\n",
       "                </tbody>\n",
       "            </table>\n",
       "        </td>\n",
       "        <td>\n",
       "        <svg width=\"194\" height=\"138\" style=\"stroke:rgb(0,0,0);stroke-width:1\" >\n",
       "\n",
       "  <!-- Horizontal lines -->\n",
       "  <line x1=\"10\" y1=\"0\" x2=\"24\" y2=\"14\" style=\"stroke-width:2\" />\n",
       "  <line x1=\"10\" y1=\"2\" x2=\"24\" y2=\"17\" />\n",
       "  <line x1=\"10\" y1=\"6\" x2=\"24\" y2=\"21\" />\n",
       "  <line x1=\"10\" y1=\"10\" x2=\"24\" y2=\"25\" />\n",
       "  <line x1=\"10\" y1=\"14\" x2=\"24\" y2=\"29\" />\n",
       "  <line x1=\"10\" y1=\"18\" x2=\"24\" y2=\"33\" />\n",
       "  <line x1=\"10\" y1=\"22\" x2=\"24\" y2=\"37\" />\n",
       "  <line x1=\"10\" y1=\"26\" x2=\"24\" y2=\"41\" />\n",
       "  <line x1=\"10\" y1=\"30\" x2=\"24\" y2=\"45\" />\n",
       "  <line x1=\"10\" y1=\"34\" x2=\"24\" y2=\"49\" />\n",
       "  <line x1=\"10\" y1=\"37\" x2=\"24\" y2=\"52\" />\n",
       "  <line x1=\"10\" y1=\"41\" x2=\"24\" y2=\"56\" />\n",
       "  <line x1=\"10\" y1=\"45\" x2=\"24\" y2=\"60\" />\n",
       "  <line x1=\"10\" y1=\"49\" x2=\"24\" y2=\"64\" />\n",
       "  <line x1=\"10\" y1=\"53\" x2=\"24\" y2=\"68\" />\n",
       "  <line x1=\"10\" y1=\"57\" x2=\"24\" y2=\"72\" />\n",
       "  <line x1=\"10\" y1=\"61\" x2=\"24\" y2=\"76\" />\n",
       "  <line x1=\"10\" y1=\"65\" x2=\"24\" y2=\"80\" />\n",
       "  <line x1=\"10\" y1=\"69\" x2=\"24\" y2=\"84\" />\n",
       "  <line x1=\"10\" y1=\"73\" x2=\"24\" y2=\"88\" style=\"stroke-width:2\" />\n",
       "\n",
       "  <!-- Vertical lines -->\n",
       "  <line x1=\"10\" y1=\"0\" x2=\"10\" y2=\"73\" style=\"stroke-width:2\" />\n",
       "  <line x1=\"24\" y1=\"14\" x2=\"24\" y2=\"88\" style=\"stroke-width:2\" />\n",
       "\n",
       "  <!-- Colored Rectangle -->\n",
       "  <polygon points=\"10.0,0.0 24.9485979497544,14.948597949754403 24.9485979497544,88.28193128308773 10.0,73.33333333333333\" style=\"fill:#8B4903A0;stroke-width:0\"/>\n",
       "\n",
       "  <!-- Horizontal lines -->\n",
       "  <line x1=\"10\" y1=\"0\" x2=\"130\" y2=\"0\" style=\"stroke-width:2\" />\n",
       "  <line x1=\"24\" y1=\"14\" x2=\"144\" y2=\"14\" style=\"stroke-width:2\" />\n",
       "\n",
       "  <!-- Vertical lines -->\n",
       "  <line x1=\"10\" y1=\"0\" x2=\"24\" y2=\"14\" style=\"stroke-width:2\" />\n",
       "  <line x1=\"15\" y1=\"0\" x2=\"30\" y2=\"14\" />\n",
       "  <line x1=\"22\" y1=\"0\" x2=\"36\" y2=\"14\" />\n",
       "  <line x1=\"28\" y1=\"0\" x2=\"43\" y2=\"14\" />\n",
       "  <line x1=\"34\" y1=\"0\" x2=\"48\" y2=\"14\" />\n",
       "  <line x1=\"40\" y1=\"0\" x2=\"55\" y2=\"14\" />\n",
       "  <line x1=\"47\" y1=\"0\" x2=\"62\" y2=\"14\" />\n",
       "  <line x1=\"54\" y1=\"0\" x2=\"68\" y2=\"14\" />\n",
       "  <line x1=\"59\" y1=\"0\" x2=\"74\" y2=\"14\" />\n",
       "  <line x1=\"66\" y1=\"0\" x2=\"80\" y2=\"14\" />\n",
       "  <line x1=\"72\" y1=\"0\" x2=\"87\" y2=\"14\" />\n",
       "  <line x1=\"79\" y1=\"0\" x2=\"94\" y2=\"14\" />\n",
       "  <line x1=\"84\" y1=\"0\" x2=\"99\" y2=\"14\" />\n",
       "  <line x1=\"91\" y1=\"0\" x2=\"106\" y2=\"14\" />\n",
       "  <line x1=\"98\" y1=\"0\" x2=\"112\" y2=\"14\" />\n",
       "  <line x1=\"104\" y1=\"0\" x2=\"119\" y2=\"14\" />\n",
       "  <line x1=\"110\" y1=\"0\" x2=\"124\" y2=\"14\" />\n",
       "  <line x1=\"116\" y1=\"0\" x2=\"131\" y2=\"14\" />\n",
       "  <line x1=\"123\" y1=\"0\" x2=\"138\" y2=\"14\" />\n",
       "  <line x1=\"130\" y1=\"0\" x2=\"144\" y2=\"14\" style=\"stroke-width:2\" />\n",
       "\n",
       "  <!-- Colored Rectangle -->\n",
       "  <polygon points=\"10.0,0.0 130.0,0.0 144.9485979497544,14.948597949754403 24.9485979497544,14.948597949754403\" style=\"fill:#8B4903A0;stroke-width:0\"/>\n",
       "\n",
       "  <!-- Horizontal lines -->\n",
       "  <line x1=\"24\" y1=\"14\" x2=\"144\" y2=\"14\" style=\"stroke-width:2\" />\n",
       "  <line x1=\"24\" y1=\"17\" x2=\"144\" y2=\"17\" />\n",
       "  <line x1=\"24\" y1=\"21\" x2=\"144\" y2=\"21\" />\n",
       "  <line x1=\"24\" y1=\"25\" x2=\"144\" y2=\"25\" />\n",
       "  <line x1=\"24\" y1=\"29\" x2=\"144\" y2=\"29\" />\n",
       "  <line x1=\"24\" y1=\"33\" x2=\"144\" y2=\"33\" />\n",
       "  <line x1=\"24\" y1=\"37\" x2=\"144\" y2=\"37\" />\n",
       "  <line x1=\"24\" y1=\"41\" x2=\"144\" y2=\"41\" />\n",
       "  <line x1=\"24\" y1=\"45\" x2=\"144\" y2=\"45\" />\n",
       "  <line x1=\"24\" y1=\"49\" x2=\"144\" y2=\"49\" />\n",
       "  <line x1=\"24\" y1=\"52\" x2=\"144\" y2=\"52\" />\n",
       "  <line x1=\"24\" y1=\"56\" x2=\"144\" y2=\"56\" />\n",
       "  <line x1=\"24\" y1=\"60\" x2=\"144\" y2=\"60\" />\n",
       "  <line x1=\"24\" y1=\"64\" x2=\"144\" y2=\"64\" />\n",
       "  <line x1=\"24\" y1=\"68\" x2=\"144\" y2=\"68\" />\n",
       "  <line x1=\"24\" y1=\"72\" x2=\"144\" y2=\"72\" />\n",
       "  <line x1=\"24\" y1=\"76\" x2=\"144\" y2=\"76\" />\n",
       "  <line x1=\"24\" y1=\"80\" x2=\"144\" y2=\"80\" />\n",
       "  <line x1=\"24\" y1=\"84\" x2=\"144\" y2=\"84\" />\n",
       "  <line x1=\"24\" y1=\"88\" x2=\"144\" y2=\"88\" style=\"stroke-width:2\" />\n",
       "\n",
       "  <!-- Vertical lines -->\n",
       "  <line x1=\"24\" y1=\"14\" x2=\"24\" y2=\"88\" style=\"stroke-width:2\" />\n",
       "  <line x1=\"30\" y1=\"14\" x2=\"30\" y2=\"88\" />\n",
       "  <line x1=\"36\" y1=\"14\" x2=\"36\" y2=\"88\" />\n",
       "  <line x1=\"43\" y1=\"14\" x2=\"43\" y2=\"88\" />\n",
       "  <line x1=\"48\" y1=\"14\" x2=\"48\" y2=\"88\" />\n",
       "  <line x1=\"55\" y1=\"14\" x2=\"55\" y2=\"88\" />\n",
       "  <line x1=\"62\" y1=\"14\" x2=\"62\" y2=\"88\" />\n",
       "  <line x1=\"68\" y1=\"14\" x2=\"68\" y2=\"88\" />\n",
       "  <line x1=\"74\" y1=\"14\" x2=\"74\" y2=\"88\" />\n",
       "  <line x1=\"80\" y1=\"14\" x2=\"80\" y2=\"88\" />\n",
       "  <line x1=\"87\" y1=\"14\" x2=\"87\" y2=\"88\" />\n",
       "  <line x1=\"94\" y1=\"14\" x2=\"94\" y2=\"88\" />\n",
       "  <line x1=\"99\" y1=\"14\" x2=\"99\" y2=\"88\" />\n",
       "  <line x1=\"106\" y1=\"14\" x2=\"106\" y2=\"88\" />\n",
       "  <line x1=\"112\" y1=\"14\" x2=\"112\" y2=\"88\" />\n",
       "  <line x1=\"119\" y1=\"14\" x2=\"119\" y2=\"88\" />\n",
       "  <line x1=\"124\" y1=\"14\" x2=\"124\" y2=\"88\" />\n",
       "  <line x1=\"131\" y1=\"14\" x2=\"131\" y2=\"88\" />\n",
       "  <line x1=\"138\" y1=\"14\" x2=\"138\" y2=\"88\" />\n",
       "  <line x1=\"144\" y1=\"14\" x2=\"144\" y2=\"88\" style=\"stroke-width:2\" />\n",
       "\n",
       "  <!-- Colored Rectangle -->\n",
       "  <polygon points=\"24.9485979497544,14.948597949754403 144.9485979497544,14.948597949754403 144.9485979497544,88.28193128308773 24.9485979497544,88.28193128308773\" style=\"fill:#8B4903A0;stroke-width:0\"/>\n",
       "\n",
       "  <!-- Text -->\n",
       "  <text x=\"84.948598\" y=\"108.281931\" font-size=\"1.0rem\" font-weight=\"100\" text-anchor=\"middle\" >90000</text>\n",
       "  <text x=\"164.948598\" y=\"51.615265\" font-size=\"1.0rem\" font-weight=\"100\" text-anchor=\"middle\" transform=\"rotate(-90,164.948598,51.615265)\">55000</text>\n",
       "  <text x=\"7.474299\" y=\"100.807632\" font-size=\"1.0rem\" font-weight=\"100\" text-anchor=\"middle\" transform=\"rotate(45,7.474299,100.807632)\">1</text>\n",
       "</svg>\n",
       "        </td>\n",
       "    </tr>\n",
       "</table></div></li><li class='xr-var-item'><div class='xr-var-name'><span>spatial_ref</span></div><div class='xr-var-dims'>()</div><div class='xr-var-dtype'>int64</div><div class='xr-var-preview xr-preview'>...</div><input id='attrs-9f669758-813c-4ac6-a1d0-501c2d5c714f' class='xr-var-attrs-in' type='checkbox' ><label for='attrs-9f669758-813c-4ac6-a1d0-501c2d5c714f' title='Show/Hide attributes'><svg class='icon xr-icon-file-text2'><use xlink:href='#icon-file-text2'></use></svg></label><input id='data-cf125a64-d774-4668-a2f4-6d3d3c774a58' class='xr-var-data-in' type='checkbox'><label for='data-cf125a64-d774-4668-a2f4-6d3d3c774a58' title='Show/Hide data repr'><svg class='icon xr-icon-database'><use xlink:href='#icon-database'></use></svg></label><div class='xr-var-attrs'><dl class='xr-attrs'><dt><span>GeoTransform :</span></dt><dd>5600000.0 20.0 0.0 2300000.0 0.0 -20.0</dd><dt><span>crs_wkt :</span></dt><dd>PROJCS[&quot;ETRS89-extended / LAEA Europe&quot;,GEOGCS[&quot;ETRS89&quot;,DATUM[&quot;European_Terrestrial_Reference_System_1989&quot;,SPHEROID[&quot;GRS 1980&quot;,6378137,298.257222101004,AUTHORITY[&quot;EPSG&quot;,&quot;7019&quot;]],AUTHORITY[&quot;EPSG&quot;,&quot;6258&quot;]],PRIMEM[&quot;Greenwich&quot;,0],UNIT[&quot;degree&quot;,0.0174532925199433,AUTHORITY[&quot;EPSG&quot;,&quot;9122&quot;]],AUTHORITY[&quot;EPSG&quot;,&quot;4258&quot;]],PROJECTION[&quot;Lambert_Azimuthal_Equal_Area&quot;],PARAMETER[&quot;latitude_of_center&quot;,52],PARAMETER[&quot;longitude_of_center&quot;,10],PARAMETER[&quot;false_easting&quot;,4321000],PARAMETER[&quot;false_northing&quot;,3210000],UNIT[&quot;metre&quot;,1],AXIS[&quot;Easting&quot;,EAST],AXIS[&quot;Northing&quot;,NORTH],AUTHORITY[&quot;EPSG&quot;,&quot;3035&quot;]]</dd><dt><span>false_easting :</span></dt><dd>4321000.0</dd><dt><span>false_northing :</span></dt><dd>3210000.0</dd><dt><span>geographic_crs_name :</span></dt><dd>ETRS89</dd><dt><span>grid_mapping_name :</span></dt><dd>lambert_azimuthal_equal_area</dd><dt><span>horizontal_datum_name :</span></dt><dd>European Terrestrial Reference System 1989</dd><dt><span>inverse_flattening :</span></dt><dd>298.257222101004</dd><dt><span>latitude_of_projection_origin :</span></dt><dd>52.0</dd><dt><span>longitude_of_prime_meridian :</span></dt><dd>0.0</dd><dt><span>longitude_of_projection_origin :</span></dt><dd>10.0</dd><dt><span>prime_meridian_name :</span></dt><dd>Greenwich</dd><dt><span>projected_crs_name :</span></dt><dd>ETRS89-extended / LAEA Europe</dd><dt><span>reference_ellipsoid_name :</span></dt><dd>GRS 1980</dd><dt><span>semi_major_axis :</span></dt><dd>6378137.0</dd><dt><span>semi_minor_axis :</span></dt><dd>6356752.314140356</dd><dt><span>spatial_ref :</span></dt><dd>PROJCS[&quot;ETRS89-extended / LAEA Europe&quot;,GEOGCS[&quot;ETRS89&quot;,DATUM[&quot;European_Terrestrial_Reference_System_1989&quot;,SPHEROID[&quot;GRS 1980&quot;,6378137,298.257222101004,AUTHORITY[&quot;EPSG&quot;,&quot;7019&quot;]],AUTHORITY[&quot;EPSG&quot;,&quot;6258&quot;]],PRIMEM[&quot;Greenwich&quot;,0],UNIT[&quot;degree&quot;,0.0174532925199433,AUTHORITY[&quot;EPSG&quot;,&quot;9122&quot;]],AUTHORITY[&quot;EPSG&quot;,&quot;4258&quot;]],PROJECTION[&quot;Lambert_Azimuthal_Equal_Area&quot;],PARAMETER[&quot;latitude_of_center&quot;,52],PARAMETER[&quot;longitude_of_center&quot;,10],PARAMETER[&quot;false_easting&quot;,4321000],PARAMETER[&quot;false_northing&quot;,3210000],UNIT[&quot;metre&quot;,1],AXIS[&quot;Easting&quot;,EAST],AXIS[&quot;Northing&quot;,NORTH],AUTHORITY[&quot;EPSG&quot;,&quot;3035&quot;]]</dd></dl></div><div class='xr-var-data'><pre>[1 values with dtype=int64]</pre></div></li></ul></div></li><li class='xr-section-item'><input id='section-31aae602-8b9a-4fc2-83c5-5845db66943d' class='xr-section-summary-in' type='checkbox'  ><label for='section-31aae602-8b9a-4fc2-83c5-5845db66943d' class='xr-section-summary' >Indexes: <span>(3)</span></label><div class='xr-section-inline-details'></div><div class='xr-section-details'><ul class='xr-var-list'><li class='xr-var-item'><div class='xr-index-name'><div>band</div></div><div class='xr-index-preview'>PandasIndex</div><input type='checkbox' disabled/><label></label><input id='index-d604598d-1ef5-466d-afc3-0cb956a25630' class='xr-index-data-in' type='checkbox'/><label for='index-d604598d-1ef5-466d-afc3-0cb956a25630' title='Show/Hide index repr'><svg class='icon xr-icon-database'><use xlink:href='#icon-database'></use></svg></label><div class='xr-index-data'><pre>PandasIndex(Index([1], dtype=&#x27;int64&#x27;, name=&#x27;band&#x27;))</pre></div></li><li class='xr-var-item'><div class='xr-index-name'><div>x</div></div><div class='xr-index-preview'>PandasIndex</div><input type='checkbox' disabled/><label></label><input id='index-bc8e2668-2219-40a9-ba63-b2cbe0fed558' class='xr-index-data-in' type='checkbox'/><label for='index-bc8e2668-2219-40a9-ba63-b2cbe0fed558' title='Show/Hide index repr'><svg class='icon xr-icon-database'><use xlink:href='#icon-database'></use></svg></label><div class='xr-index-data'><pre>PandasIndex(Index([5600010.0, 5600030.0, 5600050.0, 5600070.0, 5600090.0, 5600110.0,\n",
       "       5600130.0, 5600150.0, 5600170.0, 5600190.0,\n",
       "       ...\n",
       "       7399810.0, 7399830.0, 7399850.0, 7399870.0, 7399890.0, 7399910.0,\n",
       "       7399930.0, 7399950.0, 7399970.0, 7399990.0],\n",
       "      dtype=&#x27;float64&#x27;, name=&#x27;x&#x27;, length=90000))</pre></div></li><li class='xr-var-item'><div class='xr-index-name'><div>y</div></div><div class='xr-index-preview'>PandasIndex</div><input type='checkbox' disabled/><label></label><input id='index-74e72cc7-c779-43ad-8b0f-0a09b7b09c93' class='xr-index-data-in' type='checkbox'/><label for='index-74e72cc7-c779-43ad-8b0f-0a09b7b09c93' title='Show/Hide index repr'><svg class='icon xr-icon-database'><use xlink:href='#icon-database'></use></svg></label><div class='xr-index-data'><pre>PandasIndex(Index([1600010.0, 1600030.0, 1600050.0, 1600070.0, 1600090.0, 1600110.0,\n",
       "       1600130.0, 1600150.0, 1600170.0, 1600190.0,\n",
       "       ...\n",
       "       2699810.0, 2699830.0, 2699850.0, 2699870.0, 2699890.0, 2699910.0,\n",
       "       2699930.0, 2699950.0, 2699970.0, 2699990.0],\n",
       "      dtype=&#x27;float64&#x27;, name=&#x27;y&#x27;, length=55000))</pre></div></li></ul></div></li><li class='xr-section-item'><input id='section-ef6c7994-09df-4037-9710-43434ab17f38' class='xr-section-summary-in' type='checkbox' disabled ><label for='section-ef6c7994-09df-4037-9710-43434ab17f38' class='xr-section-summary'  title='Expand/collapse section'>Attributes: <span>(0)</span></label><div class='xr-section-inline-details'></div><div class='xr-section-details'><dl class='xr-attrs'></dl></div></li></ul></div></div>"
      ],
      "text/plain": [
       "<xarray.Dataset> Size: 40GB\n",
       "Dimensions:                       (band: 1, y: 55000, x: 90000)\n",
       "Coordinates:\n",
       "  * band                          (band) int64 8B 1\n",
       "  * x                             (x) float64 720kB 5.6e+06 5.6e+06 ... 7.4e+06\n",
       "  * y                             (y) float64 440kB 1.6e+06 1.6e+06 ... 2.7e+06\n",
       "Data variables:\n",
       "    DLTC_1518_020m_tr_03035_v010  (band, y, x) float64 40GB dask.array<chunksize=(1, 1000, 1000), meta=np.ndarray>\n",
       "    spatial_ref                   int64 8B ..."
      ]
     },
     "execution_count": 16,
     "metadata": {},
     "output_type": "execute_result"
    }
   ],
   "source": [
    "dlt = cds.open_data(\"dominant-leaf-type-change-2015-2018|DLTC_1518_020m_tr_03035_v010\")\n",
    "dlt"
   ]
  },
  {
   "cell_type": "code",
   "execution_count": 17,
   "id": "db6dd0e9-4e67-4e77-a7d6-33be2b122e87",
   "metadata": {},
   "outputs": [
    {
     "data": {
      "text/plain": [
       "<matplotlib.collections.QuadMesh at 0x7d38417d58b0>"
      ]
     },
     "execution_count": 17,
     "metadata": {},
     "output_type": "execute_result"
    },
    {
     "data": {
      "image/png": "[encoded data removed]",
      "text/plain": [
       "<Figure size 640x480 with 2 Axes>"
      ]
     },
     "metadata": {},
     "output_type": "display_data"
    }
   ],
   "source": [
    "downsampled_cube = fty.isel(\n",
    "    x=slice(None, None, 10),  \n",
    "    y=slice(None, None, 10),\n",
    ")\n",
    "downsampled_cube.FTY_2018_010m_lv_03035_v010.plot(vmin=0, vmax=100)"
   ]
  },
  {
   "cell_type": "code",
   "execution_count": 18,
   "id": "e702f80e-4da7-4726-baea-3aa276b474ea",
   "metadata": {},
   "outputs": [
    {
     "data": {
      "text/plain": [
       "<matplotlib.collections.QuadMesh at 0x7d38401e6840>"
      ]
     },
     "execution_count": 18,
     "metadata": {},
     "output_type": "execute_result"
    },
    {
     "data": {
      "image/png": "[encoded data removed]",
      "text/plain": [
       "<Figure size 640x480 with 2 Axes>"
      ]
     },
     "metadata": {},
     "output_type": "display_data"
    }
   ],
   "source": [
    "downsampled_cube = dlt.isel(\n",
    "    x=slice(None, None, 100),  \n",
    "    y=slice(None, None, 100),\n",
    ")\n",
    "downsampled_cube.DLTC_1518_020m_tr_03035_v010.plot(vmin=0, vmax=100)"
   ]
  },
  {
   "cell_type": "code",
   "execution_count": null,
   "id": "7f0d0dd8-ddbb-411c-8d3d-ea4aead3aee4",
   "metadata": {},
   "outputs": [],
   "source": []
  }
 ],
 "metadata": {
  "kernelspec": {
   "display_name": "Python 3 (ipykernel)",
   "language": "python",
   "name": "python3"
  },
  "language_info": {
   "codemirror_mode": {
    "name": "ipython",
    "version": 3
   },
   "file_extension": ".py",
   "mimetype": "text/x-python",
   "name": "python",
   "nbconvert_exporter": "python",
   "pygments_lexer": "ipython3",
   "version": "3.12.7"
  }
 },
 "nbformat": 4,
 "nbformat_minor": 5
}
