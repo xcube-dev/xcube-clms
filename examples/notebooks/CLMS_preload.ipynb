{
 "cells": [
  {
   "cell_type": "markdown",
   "id": "50985101-4004-4e4d-b982-d7d32945bcaa",
   "metadata": {},
   "source": [
    "## Tutorial notebook on how to use the CLMS Data Store and its `preload_data` method for `EEA pre-packaged` datasets from the `CLMS API`"
   ]
  },
  {
   "cell_type": "markdown",
   "id": "37f47aa9-5c98-4210-ab67-c64781757c24",
   "metadata": {},
   "source": [
    "This notebook shows the preloading of pre-packaged EEA datasets from the CLMS API that is then converted to `.zarr` for efficient processing."
   ]
  },
  {
   "cell_type": "markdown",
   "id": "96e0272e-c2c0-4051-83b1-500f8a1b47eb",
   "metadata": {},
   "source": [
    "### Setup\n",
    "In order to run this notebook, you need to install [`xcube_clms`](https://github.com/xcube-dev/xcube-clms). You can install it following either of the steps below:\n",
    "\n",
    "1. via `conda-forge`\n",
    "```bash\n",
    "conda env create -f environment.yml\n",
    "conda activate xcube-clms\n",
    "conda install xcube-clms\n",
    "```\n",
    "\n",
    "2. via Development mode\n",
    "\n",
    "```bash\n",
    "git clone https://github.com/xcube-dev/xcube-clms.git\n",
    "cd xcube-clms\n",
    "conda env create -f environment.yml\n",
    "conda activate xcube-clms\n",
    "pip install .\n",
    "```\n",
    "\n",
    "\n",
    "Note that [`xcube_clms`](https://github.com/xcube-dev/xcube-clms) is a plugin of [`xcube`](https://xcube.readthedocs.io/en/latest/), where `xcube` is included in the `environment.yml`.  \n",
    "\n",
    "You also need the credentials from the Land Monitoring service. Please follows the steps outlined [`here`](https://eea.github.io/clms-api-docs/authentication.html) to download your credentials and place them in the same directory as this notebook."
   ]
  },
  {
   "cell_type": "code",
   "execution_count": 1,
   "id": "250f9f6f-af1d-42b5-a710-07ddf5cd92cc",
   "metadata": {},
   "outputs": [
    {
     "name": "stdout",
     "output_type": "stream",
     "text": [
      "CPU times: user 2.55 s, sys: 296 ms, total: 2.85 s\n",
      "Wall time: 1.52 s\n"
     ]
    }
   ],
   "source": [
    "%%time\n",
    "import json\n",
    "\n",
    "from xcube.core.store import new_data_store"
   ]
  },
  {
   "cell_type": "markdown",
   "id": "f348d2f4-5e98-483b-b5b3-e435ed1c337a",
   "metadata": {},
   "source": [
    "To get the credentials.json, please follow the steps outlined [here](https://eea.github.io/clms-api-docs/authentication.html)"
   ]
  },
  {
   "cell_type": "code",
   "execution_count": 2,
   "id": "63d5217a-6656-4d4a-b87b-60af717aa6ab",
   "metadata": {},
   "outputs": [
    {
     "name": "stdout",
     "output_type": "stream",
     "text": [
      "CPU times: user 792 μs, sys: 1.1 ms, total: 1.89 ms\n",
      "Wall time: 9.7 ms\n"
     ]
    }
   ],
   "source": [
    "%%time\n",
    "json_file_path = \"credentials.json\"\n",
    "with open(json_file_path, \"r\") as j:\n",
    "    credentials = json.loads(j.read())"
   ]
  },
  {
   "cell_type": "markdown",
   "id": "2d0e67eb-c063-4878-ad2c-66c321379cc2",
   "metadata": {},
   "source": [
    "When the user creates a new CLMS data store, it already sends requests to the CLMS API to get the catalog information which takes around 15-20 seconds. If no path is provided for the cache location, it will create a `clms_cache/` in the current directory to store all the downloaded data and initialize a local file store"
   ]
  },
  {
   "cell_type": "code",
   "execution_count": 3,
   "id": "d385ac31-4b59-458b-ab65-207eb317145a",
   "metadata": {
    "scrolled": true
   },
   "outputs": [
    {
     "name": "stdout",
     "output_type": "stream",
     "text": [
      "CPU times: user 313 ms, sys: 73.5 ms, total: 387 ms\n",
      "Wall time: 30.5 s\n"
     ]
    }
   ],
   "source": [
    "%%time\n",
    "clms_data_store = new_data_store(\"clms\", credentials=credentials)"
   ]
  },
  {
   "cell_type": "markdown",
   "id": "62985bca-4c61-4d80-97cd-615376118c21",
   "metadata": {},
   "source": [
    "The `Cache Store` within the CLMS data store is another data store which can be any user-defined data store. It defaults to the `file` store. Use `cache_id` and `cache_params` to provide information about the data store you would like to use for caching the preloaded data "
   ]
  },
  {
   "cell_type": "code",
   "execution_count": 4,
   "id": "df27a0ee-e395-4372-bd37-f2ebfb0f37b0",
   "metadata": {
    "scrolled": true
   },
   "outputs": [
    {
     "name": "stdout",
     "output_type": "stream",
     "text": [
      "CPU times: user 7.74 ms, sys: 963 μs, total: 8.7 ms\n",
      "Wall time: 8.62 ms\n"
     ]
    },
    {
     "data": {
      "text/plain": [
       "[('lake-ice-extent-europe-v2-250m',\n",
       "  {'@id': 'bec918b1-0ac9-4a8f-8973-a88393c37905',\n",
       "   'collection': '250m',\n",
       "   'full_format': 'Netcdf',\n",
       "   'full_path': 'https://globalland.vito.be/download/manifest/lie_250m_v2_daily_netcdf/manifest_clms_global_lie_250m_v2_daily_netcdf_latest.txt',\n",
       "   'full_source': 'LEGACY',\n",
       "   'layers': ['ALL BANDS'],\n",
       "   'name': 'RASTER',\n",
       "   'wekeo_choices': ''}),\n",
       " ('lake-water-quality-near-real-time-v2-0-300m',\n",
       "  {'@id': '8fa1dbba-3898-4eb7-b84c-643c283246ca',\n",
       "   'collection': '300m',\n",
       "   'full_format': 'Netcdf',\n",
       "   'full_path': 'https://globalland.vito.be/download/manifest/lwq_300m_v2_10daily-nrt_netcdf/manifest_clms_global_lwq_300m_v2_10daily-nrt_netcdf_latest.txt',\n",
       "   'full_source': 'LEGACY',\n",
       "   'layers': ['ALL BANDS'],\n",
       "   'name': 'RASTER'}),\n",
       " ('clc-backbone-2021|CLMS_CLCplus_RASTER_2021',\n",
       "  {'@id': 'b813d203-d09b-4663-95f7-65dc6d53789e',\n",
       "   'area': 'Europe',\n",
       "   'file': 'CLMS_CLCplus_RASTER_2021',\n",
       "   'format': 'Geotiff',\n",
       "   'path': 'H:\\\\Corine_Land_Cover_Backbone\\\\Corine_Land_Cover_Backbone_CLCBB_2021\\\\CLC_BB_2021\\\\Data\\\\data-details\\\\raster\\\\CLMS_CLCplus_RASTER_2021.zip',\n",
       "   'resolution': '10 m',\n",
       "   'size': '7 GB',\n",
       "   'source': 'EEA',\n",
       "   'title': '',\n",
       "   'type': 'Raster',\n",
       "   'version': 'V1_1',\n",
       "   'year': ''}),\n",
       " ('burnt-area-v3-1-daily-300m',\n",
       "  {'@id': 'e38378ca-6fea-40a9-8939-a5425a4bdf91',\n",
       "   'collection': '300m',\n",
       "   'full_format': {'title': 'Netcdf', 'token': 'Netcdf'},\n",
       "   'full_path': 'https://globalland.vito.be/download/manifest/ba_300m_v3_daily_netcdf/manifest_clms_global_ba_300m_v3_daily_netcdf_latest.txt',\n",
       "   'full_source': 'LEGACY',\n",
       "   'layers': ['ALL BANDS'],\n",
       "   'name': 'RASTER',\n",
       "   'wekeo_choices': ''}),\n",
       " ('clc-backbone-2018|CLMS_CLCplus_RASTER_2018_010m_eu_03035_V1_1',\n",
       "  {'@id': 'c3290e93-1463-4bed-93c9-6315b0059048',\n",
       "   'area': 'Europe',\n",
       "   'file': 'CLMS_CLCplus_RASTER_2018_010m_eu_03035_V1_1',\n",
       "   'format': 'Geotiff',\n",
       "   'path': 'H:\\\\Corine_Land_Cover_Backbone\\\\Corine_Land_Cover_Backbone_CLCBB_2018\\\\CLC_BB_2018\\\\Data\\\\data-details\\\\raster\\\\CLMS_CLCplus_RASTER_2018_010m_eu_03035_V1_1.zip',\n",
       "   'resolution': '10 m',\n",
       "   'size': '9 GB',\n",
       "   'source': 'EEA',\n",
       "   'title': '',\n",
       "   'type': 'Raster',\n",
       "   'version': 'V1_1',\n",
       "   'year': ''})]"
      ]
     },
     "execution_count": 4,
     "metadata": {},
     "output_type": "execute_result"
    }
   ],
   "source": [
    "%%time\n",
    "clms_data_store.list_data_ids(include_attrs=True)[:5]"
   ]
  },
  {
   "cell_type": "code",
   "execution_count": 5,
   "id": "c41d263c-b68c-49df-b037-660df1f0de91",
   "metadata": {},
   "outputs": [
    {
     "name": "stdout",
     "output_type": "stream",
     "text": [
      "CPU times: user 10 μs, sys: 1e+03 ns, total: 11 μs\n",
      "Wall time: 15.7 μs\n"
     ]
    },
    {
     "data": {
      "text/plain": [
       "'/home/yogesh/Projects/BC/xcube-clms/examples/notebooks/clms_cache'"
      ]
     },
     "execution_count": 5,
     "metadata": {},
     "output_type": "execute_result"
    }
   ],
   "source": [
    "%%time\n",
    "clms_data_store.cache_store.root"
   ]
  },
  {
   "cell_type": "code",
   "execution_count": 6,
   "id": "c331de1d-7ba4-4efc-8635-ee1af6e8c1c4",
   "metadata": {},
   "outputs": [
    {
     "name": "stdout",
     "output_type": "stream",
     "text": [
      "CPU times: user 32 μs, sys: 4 μs, total: 36 μs\n",
      "Wall time: 38.9 μs\n"
     ]
    },
    {
     "data": {
      "application/json": {
       "additionalProperties": false,
       "properties": {
        "cache_store_id": {
         "default": "file",
         "description": "Store ID of a filesystem-based data store implemented in xcube.",
         "title": "Store ID of cache data store.",
         "type": "string"
        },
        "cache_store_params": {
         "default": {
          "root": "clms_cache/"
         },
         "description": "Parameters of a filesystem-based data store implemented in xcube. Provide parameters for a file data store if `cache_store_id` is not provided.",
         "properties": {},
         "title": "Store parameters of cache data store.",
         "type": "object"
        },
        "credentials": {
         "properties": {
          "client_id": {
           "type": "string"
          },
          "issued": {
           "type": "string"
          },
          "key_id": {
           "type": "string"
          },
          "private_key": {
           "type": "string"
          },
          "title": {
           "type": "string"
          },
          "token_uri": {
           "type": "string"
          },
          "user_id": {
           "type": "string"
          }
         },
         "required": [
          "client_id",
          "user_id",
          "token_uri",
          "private_key"
         ],
         "title": "CLMS API credentials that can be obtained following the steps outlined here. https://eea.github.io/clms-api-docs/authentication.html",
         "type": "object"
        }
       },
       "required": [
        "credentials"
       ],
       "type": "object"
      },
      "text/plain": [
       "<xcube.util.jsonschema.JsonObjectSchema at 0x731b051820b0>"
      ]
     },
     "execution_count": 6,
     "metadata": {},
     "output_type": "execute_result"
    }
   ],
   "source": [
    "%%time\n",
    "clms_data_store.get_data_store_params_schema()"
   ]
  },
  {
   "cell_type": "markdown",
   "id": "4c0b03bb-c0ad-43f6-b8ed-00ab8173f023",
   "metadata": {},
   "source": [
    "With the following command, the users can see how the data_ids look like for the CLMS store. Due to the nature of the API, we came up with the computed data_id for some products containing several datasets within it that combines the product_id and item_id along with the `|` separator. But as a user, you dont have to worry about how it is created, but just that you need to use the complete data_id for interacting with any of the methods of this store"
   ]
  },
  {
   "cell_type": "code",
   "execution_count": 7,
   "id": "0b17f698-d9c7-49f5-b74e-0f001a8480be",
   "metadata": {
    "scrolled": true
   },
   "outputs": [
    {
     "name": "stdout",
     "output_type": "stream",
     "text": [
      "CPU times: user 1.71 ms, sys: 0 ns, total: 1.71 ms\n",
      "Wall time: 1.71 ms\n"
     ]
    },
    {
     "data": {
      "text/plain": [
       "['lake-ice-extent-europe-v2-250m',\n",
       " 'lake-water-quality-near-real-time-v2-0-300m',\n",
       " 'clc-backbone-2021|CLMS_CLCplus_RASTER_2021',\n",
       " 'burnt-area-v3-1-daily-300m',\n",
       " 'clc-backbone-2018|CLMS_CLCplus_RASTER_2018_010m_eu_03035_V1_1',\n",
       " 'forest-type-2015|FTY_2015_100m_eu_03035_d02_Full',\n",
       " 'forest-type-2015|FTY_2015_020m_eu_03035_d04_Full',\n",
       " 'forest-type-2015|FTY_2015_020m_eu_03035_d04_E00N20',\n",
       " 'forest-type-2015|FTY_2015_020m_eu_03035_d04_E10N00',\n",
       " 'forest-type-2015|FTY_2015_020m_eu_03035_d04_E10N10',\n",
       " 'forest-type-2015|FTY_2015_020m_eu_03035_d04_E10N20',\n",
       " 'forest-type-2015|FTY_2015_020m_eu_03035_d04_E20N10',\n",
       " 'forest-type-2015|FTY_2015_020m_eu_03035_d04_E20N20',\n",
       " 'forest-type-2015|FTY_2015_020m_eu_03035_d04_E20N30',\n",
       " 'forest-type-2015|FTY_2015_020m_eu_03035_d04_E20N40',\n",
       " 'forest-type-2015|FTY_2015_020m_eu_03035_d04_E20N50',\n",
       " 'forest-type-2015|FTY_2015_020m_eu_03035_d04_E30N10',\n",
       " 'forest-type-2015|FTY_2015_020m_eu_03035_d04_E30N20',\n",
       " 'forest-type-2015|FTY_2015_020m_eu_03035_d04_E30N30',\n",
       " 'forest-type-2015|FTY_2015_020m_eu_03035_d04_E30N40']"
      ]
     },
     "execution_count": 7,
     "metadata": {},
     "output_type": "execute_result"
    }
   ],
   "source": [
    "%%time\n",
    "clms_data_store.list_data_ids()[:20]"
   ]
  },
  {
   "cell_type": "code",
   "execution_count": 8,
   "id": "0a90d1a5-da69-43a1-87e7-7f975c9d9882",
   "metadata": {},
   "outputs": [
    {
     "name": "stdout",
     "output_type": "stream",
     "text": [
      "CPU times: user 4 μs, sys: 0 ns, total: 4 μs\n",
      "Wall time: 5.48 μs\n"
     ]
    },
    {
     "data": {
      "text/plain": [
       "('dataset:zarr:file', 'dataset:nc:https')"
      ]
     },
     "execution_count": 8,
     "metadata": {},
     "output_type": "execute_result"
    }
   ],
   "source": [
    "%%time\n",
    "clms_data_store.get_data_opener_ids()"
   ]
  },
  {
   "cell_type": "code",
   "execution_count": 9,
   "id": "69c51474-ed5b-4fef-b89b-75d728f25975",
   "metadata": {},
   "outputs": [
    {
     "name": "stdout",
     "output_type": "stream",
     "text": [
      "CPU times: user 6 μs, sys: 1 μs, total: 7 μs\n",
      "Wall time: 8.11 μs\n"
     ]
    },
    {
     "data": {
      "text/plain": [
       "('dataset',)"
      ]
     },
     "execution_count": 9,
     "metadata": {},
     "output_type": "execute_result"
    }
   ],
   "source": [
    "%%time\n",
    "clms_data_store.get_data_types()"
   ]
  },
  {
   "cell_type": "code",
   "execution_count": 10,
   "id": "8fa4193f-8d9d-4481-9212-0c86621d2c75",
   "metadata": {},
   "outputs": [
    {
     "name": "stdout",
     "output_type": "stream",
     "text": [
      "CPU times: user 0 ns, sys: 1.71 ms, total: 1.71 ms\n",
      "Wall time: 1.37 ms\n"
     ]
    },
    {
     "data": {
      "application/json": {
       "properties": {
        "eea": {
         "additionalProperties": false,
         "properties": {
          "cache_size": {
           "minimum": 0,
           "type": "integer"
          },
          "chunks": {
           "additionalProperties": true,
           "description": "Optional chunk sizes along each dimension. Chunk size values may be None, \"auto\" or an integer value.",
           "examples": [
            {
             "lat": "auto",
             "lon": 90,
             "time": null
            },
            {
             "time": 1,
             "x": 512,
             "y": 512
            }
           ],
           "properties": {},
           "type": "object"
          },
          "consolidated": {
           "default": false,
           "description": "Whether to open the store using Zarr's consolidated metadata capability. Only works for stores that have already been consolidated.",
           "type": "boolean"
          },
          "data_type": {
           "enum": [
            "geodataframe",
            "dataset",
            "mldataset"
           ],
           "title": "Optional data type",
           "type": "string"
          },
          "decode_cf": {
           "default": true,
           "description": "Whether to decode these variables, assuming they were saved according to CF conventions.",
           "type": "boolean"
          },
          "decode_coords": {
           "default": true,
           "description": "If True, decode the \"coordinates\" attribute to identify coordinates in the resulting dataset.",
           "type": "boolean"
          },
          "decode_times": {
           "default": true,
           "description": "If True, decode times encoded in the standard NetCDF datetime format into datetime objects. Otherwise, leave them encoded as numbers.",
           "type": "boolean"
          },
          "drop_variables": {
           "items": {
            "minLength": 1,
            "type": "string"
           },
           "type": "array"
          },
          "group": {
           "description": "Group path. (a.k.a. path in zarr terminology.).",
           "minLength": 1,
           "type": "string"
          },
          "log_access": {
           "default": false,
           "type": "boolean"
          },
          "mask_and_scale": {
           "default": true,
           "description": "If True, replace array values equal to attribute \"_FillValue\" with NaN.  Use \"scale_factor\" and \"add_offset\" attributes to compute actual values.",
           "type": "boolean"
          }
         },
         "type": "object"
        },
        "legacy": {
         "additionalProperties": false,
         "properties": {
          "time_range": {
           "items": [
            {
             "format": "date",
             "type": "string"
            },
            {
             "format": "date",
             "type": "string"
            }
           ],
           "type": "array"
          }
         },
         "type": "object"
        }
       },
       "title": "Opening parameters for all supported CLMS products.",
       "type": "object"
      },
      "text/plain": [
       "<xcube.util.jsonschema.JsonObjectSchema at 0x731b03ec3cb0>"
      ]
     },
     "execution_count": 10,
     "metadata": {},
     "output_type": "execute_result"
    }
   ],
   "source": [
    "%%time\n",
    "clms_data_store.get_open_data_params_schema()"
   ]
  },
  {
   "cell_type": "code",
   "execution_count": 11,
   "id": "08d26a8d-235a-4b7a-947d-78d712d48d3e",
   "metadata": {},
   "outputs": [
    {
     "name": "stdout",
     "output_type": "stream",
     "text": [
      "CPU times: user 35 μs, sys: 5 μs, total: 40 μs\n",
      "Wall time: 42.9 μs\n"
     ]
    },
    {
     "data": {
      "application/json": {
       "additionalProperties": false,
       "properties": {
        "blocking": {
         "default": true,
         "description": "If True, (the default) if the constructor should wait forall preload task to finish before the calling thread",
         "title": "Option to make the preload_data method blocking or non-blocking",
         "type": "boolean"
        },
        "cleanup": {
         "default": true,
         "title": "Option to cleanup the download directory before and after the preload job and to cleanup the cache directory when preload_handle.close() is called. Defaults to True.",
         "type": "boolean"
        },
        "silent": {
         "default": false,
         "description": "If True, you don't want any preload state output.               Defaults to `False`",
         "title": "Silence the output of Preload API",
         "type": "boolean"
        },
        "tile_size": {
         "default": 2000,
         "oneOf": [
          {
           "minimum": 1,
           "type": "integer"
          },
          {
           "items": [
            {
             "minimum": 1,
             "type": "integer"
            },
            {
             "minimum": 1,
             "type": "integer"
            }
           ],
           "type": "array"
          }
         ],
         "title": "Tile size of the final data cube to be saved."
        }
       },
       "type": "object"
      },
      "text/plain": [
       "<xcube.util.jsonschema.JsonObjectSchema at 0x731b03da8130>"
      ]
     },
     "execution_count": 11,
     "metadata": {},
     "output_type": "execute_result"
    }
   ],
   "source": [
    "%%time\n",
    "clms_data_store.get_preload_data_params_schema()"
   ]
  },
  {
   "cell_type": "code",
   "execution_count": 12,
   "id": "be9de166-abe5-4215-b0a5-df657d2d8550",
   "metadata": {},
   "outputs": [
    {
     "name": "stdout",
     "output_type": "stream",
     "text": [
      "CPU times: user 2 μs, sys: 0 ns, total: 2 μs\n",
      "Wall time: 4.05 μs\n"
     ]
    }
   ],
   "source": [
    "%%time\n",
    "dataset_to_preload = (\n",
    "    \"tree-cover-density-2015|TCD_2015_100m_eu_03035_d04_Full\",\n",
    "    \"forest-type-2015|FTY_2015_100m_eu_03035_d02_Full\",\n",
    ")"
   ]
  },
  {
   "cell_type": "markdown",
   "id": "5f8a2b51-a189-49f8-968e-76748cf23b88",
   "metadata": {},
   "source": [
    "When the user runs the `preload_data` method, it returns a new cache data store with which the user can view its status using table provided via the returned `.preload_handle`, which indicates the status of the download request along with its progress, messages and exceptions, if any. It can be run in both blocking and non-blocking way. The user can silent the progress using the silent flag. The user can also choose to cleanup the downloads."
   ]
  },
  {
   "cell_type": "code",
   "execution_count": 13,
   "id": "0e97fb00-9594-442d-86d2-ac904487e22c",
   "metadata": {
    "scrolled": true
   },
   "outputs": [
    {
     "data": {
      "application/vnd.jupyter.widget-view+json": {
       "model_id": "fd7f3d19b3984c469aef86aa2b054c35",
       "version_major": 2,
       "version_minor": 0
      },
      "text/plain": [
       "VBox(children=(HTML(value='<table>\\n<thead>\\n<tr><th>Data ID                                                </…"
      ]
     },
     "metadata": {},
     "output_type": "display_data"
    },
    {
     "name": "stdout",
     "output_type": "stream",
     "text": [
      "CPU times: user 1min 7s, sys: 11.7 s, total: 1min 18s\n",
      "Wall time: 1min 18s\n"
     ]
    }
   ],
   "source": [
    "%%time\n",
    "cache_data_store = clms_data_store.preload_data(\n",
    "    *dataset_to_preload,\n",
    "    blocking=True,  # Defaults to True\n",
    "    cleanup=True,  # Defaults to True,\n",
    "    silent=False,  # Defaults to False\n",
    "    tile_size=2000,  # Defaults to 2000. You can pass a single integer, or a tuple of (int, int)\n",
    ")"
   ]
  },
  {
   "cell_type": "code",
   "execution_count": 14,
   "id": "30f7b782-2f5c-4a5c-bc80-fe5593a89252",
   "metadata": {},
   "outputs": [
    {
     "name": "stdout",
     "output_type": "stream",
     "text": [
      "CPU times: user 21 μs, sys: 0 ns, total: 21 μs\n",
      "Wall time: 25.5 μs\n"
     ]
    },
    {
     "data": {
      "text/html": [
       "<table>\n",
       "<thead>\n",
       "<tr><th>Data ID                                                </th><th>Status  </th><th>Progress  </th><th>Message                                  </th><th>Exception  </th></tr>\n",
       "</thead>\n",
       "<tbody>\n",
       "<tr><td>tree-cover-density-2015|TCD_2015_100m_eu_03035_d04_Full</td><td>STOPPED </td><td>100%      </td><td>Task ID 11779918325: Preloading Complete.</td><td>-          </td></tr>\n",
       "<tr><td>forest-type-2015|FTY_2015_100m_eu_03035_d02_Full       </td><td>STOPPED </td><td>100%      </td><td>Task ID 85268492196: Preloading Complete.</td><td>-          </td></tr>\n",
       "</tbody>\n",
       "</table>"
      ],
      "text/plain": [
       "Data ID                                                  Status    Progress    Message                                    Exception\n",
       "-------------------------------------------------------  --------  ----------  -----------------------------------------  -----------\n",
       "tree-cover-density-2015|TCD_2015_100m_eu_03035_d04_Full  STOPPED   100%        Task ID 11779918325: Preloading Complete.  -\n",
       "forest-type-2015|FTY_2015_100m_eu_03035_d02_Full         STOPPED   100%        Task ID 85268492196: Preloading Complete.  -"
      ]
     },
     "execution_count": 14,
     "metadata": {},
     "output_type": "execute_result"
    }
   ],
   "source": [
    "%%time\n",
    "handle1 = cache_data_store.preload_handle\n",
    "handle1"
   ]
  },
  {
   "cell_type": "markdown",
   "id": "9e9a9c10-15b3-4677-837e-551836da7d05",
   "metadata": {},
   "source": [
    "Now that the preload is completed, the user can open the data using open_data as usual which uses the file data store underneath at the cache location"
   ]
  },
  {
   "cell_type": "code",
   "execution_count": 15,
   "id": "3f613f67-e3de-455c-992d-3efecd5a4154",
   "metadata": {},
   "outputs": [
    {
     "name": "stdout",
     "output_type": "stream",
     "text": [
      "CPU times: user 223 μs, sys: 886 μs, total: 1.11 ms\n",
      "Wall time: 927 μs\n"
     ]
    },
    {
     "data": {
      "text/plain": [
       "['forest-type-2015|FTY_2015_100m_eu_03035_d02_Full.zarr',\n",
       " 'dominant-leaf-type-change-2015-2018|DLTC_1518_020m_eu_03035_v010.zarr',\n",
       " 'tree-cover-density-2015|TCD_2015_100m_eu_03035_d04_Full.zarr',\n",
       " 'forest-type-2015|FTY_2015_020m_eu_03035_d04_E20N10.zarr',\n",
       " 'imperviousness-classified-change-2015-2018|IMCC_1518_020m_is_03035_v010.zarr',\n",
       " 'daily-surface-soil-moisture-v1.0.zarr',\n",
       " 'forest-type-2015|FTY_2015_020m_eu_03035_d04_E00N20.zarr']"
      ]
     },
     "execution_count": 15,
     "metadata": {},
     "output_type": "execute_result"
    }
   ],
   "source": [
    "%%time\n",
    "cache_data_store.list_data_ids()"
   ]
  },
  {
   "cell_type": "code",
   "execution_count": 16,
   "id": "3d553808-e6dd-4900-b4da-15322884a16c",
   "metadata": {},
   "outputs": [
    {
     "data": {
      "application/json": {
       "additionalProperties": false,
       "properties": {
        "cache_size": {
         "minimum": 0,
         "type": "integer"
        },
        "chunks": {
         "additionalProperties": true,
         "description": "Optional chunk sizes along each dimension. Chunk size values may be None, \"auto\" or an integer value.",
         "examples": [
          {
           "lat": "auto",
           "lon": 90,
           "time": null
          },
          {
           "time": 1,
           "x": 512,
           "y": 512
          }
         ],
         "properties": {},
         "type": "object"
        },
        "consolidated": {
         "default": false,
         "description": "Whether to open the store using Zarr's consolidated metadata capability. Only works for stores that have already been consolidated.",
         "type": "boolean"
        },
        "data_type": {
         "enum": [
          "geodataframe",
          "dataset",
          "mldataset"
         ],
         "title": "Optional data type",
         "type": "string"
        },
        "decode_cf": {
         "default": true,
         "description": "Whether to decode these variables, assuming they were saved according to CF conventions.",
         "type": "boolean"
        },
        "decode_coords": {
         "default": true,
         "description": "If True, decode the \"coordinates\" attribute to identify coordinates in the resulting dataset.",
         "type": "boolean"
        },
        "decode_times": {
         "default": true,
         "description": "If True, decode times encoded in the standard NetCDF datetime format into datetime objects. Otherwise, leave them encoded as numbers.",
         "type": "boolean"
        },
        "drop_variables": {
         "items": {
          "minLength": 1,
          "type": "string"
         },
         "type": "array"
        },
        "group": {
         "description": "Group path. (a.k.a. path in zarr terminology.).",
         "minLength": 1,
         "type": "string"
        },
        "log_access": {
         "default": false,
         "type": "boolean"
        },
        "mask_and_scale": {
         "default": true,
         "description": "If True, replace array values equal to attribute \"_FillValue\" with NaN.  Use \"scale_factor\" and \"add_offset\" attributes to compute actual values.",
         "type": "boolean"
        }
       },
       "type": "object"
      },
      "text/plain": [
       "<xcube.util.jsonschema.JsonObjectSchema at 0x731afbda7d90>"
      ]
     },
     "execution_count": 16,
     "metadata": {},
     "output_type": "execute_result"
    }
   ],
   "source": [
    "cache_data_store.get_open_data_params_schema()"
   ]
  },
  {
   "cell_type": "code",
   "execution_count": 17,
   "id": "c48a5f92-c075-4cd4-8fb8-30c78e4c57ab",
   "metadata": {},
   "outputs": [
    {
     "data": {
      "application/json": {
       "additionalProperties": false,
       "properties": {
        "cache_size": {
         "minimum": 0,
         "type": "integer"
        },
        "chunks": {
         "additionalProperties": true,
         "description": "Optional chunk sizes along each dimension. Chunk size values may be None, \"auto\" or an integer value.",
         "examples": [
          {
           "lat": "auto",
           "lon": 90,
           "time": null
          },
          {
           "time": 1,
           "x": 512,
           "y": 512
          }
         ],
         "properties": {},
         "type": "object"
        },
        "consolidated": {
         "default": false,
         "description": "Whether to open the store using Zarr's consolidated metadata capability. Only works for stores that have already been consolidated.",
         "type": "boolean"
        },
        "data_type": {
         "enum": [
          "geodataframe",
          "dataset",
          "mldataset"
         ],
         "title": "Optional data type",
         "type": "string"
        },
        "decode_cf": {
         "default": true,
         "description": "Whether to decode these variables, assuming they were saved according to CF conventions.",
         "type": "boolean"
        },
        "decode_coords": {
         "default": true,
         "description": "If True, decode the \"coordinates\" attribute to identify coordinates in the resulting dataset.",
         "type": "boolean"
        },
        "decode_times": {
         "default": true,
         "description": "If True, decode times encoded in the standard NetCDF datetime format into datetime objects. Otherwise, leave them encoded as numbers.",
         "type": "boolean"
        },
        "drop_variables": {
         "items": {
          "minLength": 1,
          "type": "string"
         },
         "type": "array"
        },
        "group": {
         "description": "Group path. (a.k.a. path in zarr terminology.).",
         "minLength": 1,
         "type": "string"
        },
        "log_access": {
         "default": false,
         "type": "boolean"
        },
        "mask_and_scale": {
         "default": true,
         "description": "If True, replace array values equal to attribute \"_FillValue\" with NaN.  Use \"scale_factor\" and \"add_offset\" attributes to compute actual values.",
         "type": "boolean"
        }
       },
       "type": "object"
      },
      "text/plain": [
       "<xcube.util.jsonschema.JsonObjectSchema at 0x731afbda6890>"
      ]
     },
     "execution_count": 17,
     "metadata": {},
     "output_type": "execute_result"
    }
   ],
   "source": [
    "cache_data_store.get_open_data_params_schema(\n",
    "    \"forest-type-2015|FTY_2015_100m_eu_03035_d02_Full.zarr\"\n",
    ")"
   ]
  },
  {
   "cell_type": "code",
   "execution_count": 18,
   "id": "130c068a-fa7d-4a62-85ed-303a81596ff3",
   "metadata": {},
   "outputs": [
    {
     "name": "stdout",
     "output_type": "stream",
     "text": [
      "CPU times: user 32.4 ms, sys: 8.81 ms, total: 41.2 ms\n",
      "Wall time: 39.5 ms\n"
     ]
    },
    {
     "data": {
      "text/html": [
       "<div><svg style=\"position: absolute; width: 0; height: 0; overflow: hidden\">\n",
       "<defs>\n",
       "<symbol id=\"icon-database\" viewBox=\"0 0 32 32\">\n",
       "<path d=\"M16 0c-8.837 0-16 2.239-16 5v4c0 2.761 7.163 5 16 5s16-2.239 16-5v-4c0-2.761-7.163-5-16-5z\"></path>\n",
       "<path d=\"M16 17c-8.837 0-16-2.239-16-5v6c0 2.761 7.163 5 16 5s16-2.239 16-5v-6c0 2.761-7.163 5-16 5z\"></path>\n",
       "<path d=\"M16 26c-8.837 0-16-2.239-16-5v6c0 2.761 7.163 5 16 5s16-2.239 16-5v-6c0 2.761-7.163 5-16 5z\"></path>\n",
       "</symbol>\n",
       "<symbol id=\"icon-file-text2\" viewBox=\"0 0 32 32\">\n",
       "<path d=\"M28.681 7.159c-0.694-0.947-1.662-2.053-2.724-3.116s-2.169-2.030-3.116-2.724c-1.612-1.182-2.393-1.319-2.841-1.319h-15.5c-1.378 0-2.5 1.121-2.5 2.5v27c0 1.378 1.122 2.5 2.5 2.5h23c1.378 0 2.5-1.122 2.5-2.5v-19.5c0-0.448-0.137-1.23-1.319-2.841zM24.543 5.457c0.959 0.959 1.712 1.825 2.268 2.543h-4.811v-4.811c0.718 0.556 1.584 1.309 2.543 2.268zM28 29.5c0 0.271-0.229 0.5-0.5 0.5h-23c-0.271 0-0.5-0.229-0.5-0.5v-27c0-0.271 0.229-0.5 0.5-0.5 0 0 15.499-0 15.5 0v7c0 0.552 0.448 1 1 1h7v19.5z\"></path>\n",
       "<path d=\"M23 26h-14c-0.552 0-1-0.448-1-1s0.448-1 1-1h14c0.552 0 1 0.448 1 1s-0.448 1-1 1z\"></path>\n",
       "<path d=\"M23 22h-14c-0.552 0-1-0.448-1-1s0.448-1 1-1h14c0.552 0 1 0.448 1 1s-0.448 1-1 1z\"></path>\n",
       "<path d=\"M23 18h-14c-0.552 0-1-0.448-1-1s0.448-1 1-1h14c0.552 0 1 0.448 1 1s-0.448 1-1 1z\"></path>\n",
       "</symbol>\n",
       "</defs>\n",
       "</svg>\n",
       "<style>/* CSS stylesheet for displaying xarray objects in jupyterlab.\n",
       " *\n",
       " */\n",
       "\n",
       ":root {\n",
       "  --xr-font-color0: var(--jp-content-font-color0, rgba(0, 0, 0, 1));\n",
       "  --xr-font-color2: var(--jp-content-font-color2, rgba(0, 0, 0, 0.54));\n",
       "  --xr-font-color3: var(--jp-content-font-color3, rgba(0, 0, 0, 0.38));\n",
       "  --xr-border-color: var(--jp-border-color2, #e0e0e0);\n",
       "  --xr-disabled-color: var(--jp-layout-color3, #bdbdbd);\n",
       "  --xr-background-color: var(--jp-layout-color0, white);\n",
       "  --xr-background-color-row-even: var(--jp-layout-color1, white);\n",
       "  --xr-background-color-row-odd: var(--jp-layout-color2, #eeeeee);\n",
       "}\n",
       "\n",
       "html[theme=\"dark\"],\n",
       "html[data-theme=\"dark\"],\n",
       "body[data-theme=\"dark\"],\n",
       "body.vscode-dark {\n",
       "  --xr-font-color0: rgba(255, 255, 255, 1);\n",
       "  --xr-font-color2: rgba(255, 255, 255, 0.54);\n",
       "  --xr-font-color3: rgba(255, 255, 255, 0.38);\n",
       "  --xr-border-color: #1f1f1f;\n",
       "  --xr-disabled-color: #515151;\n",
       "  --xr-background-color: #111111;\n",
       "  --xr-background-color-row-even: #111111;\n",
       "  --xr-background-color-row-odd: #313131;\n",
       "}\n",
       "\n",
       ".xr-wrap {\n",
       "  display: block !important;\n",
       "  min-width: 300px;\n",
       "  max-width: 700px;\n",
       "}\n",
       "\n",
       ".xr-text-repr-fallback {\n",
       "  /* fallback to plain text repr when CSS is not injected (untrusted notebook) */\n",
       "  display: none;\n",
       "}\n",
       "\n",
       ".xr-header {\n",
       "  padding-top: 6px;\n",
       "  padding-bottom: 6px;\n",
       "  margin-bottom: 4px;\n",
       "  border-bottom: solid 1px var(--xr-border-color);\n",
       "}\n",
       "\n",
       ".xr-header > div,\n",
       ".xr-header > ul {\n",
       "  display: inline;\n",
       "  margin-top: 0;\n",
       "  margin-bottom: 0;\n",
       "}\n",
       "\n",
       ".xr-obj-type,\n",
       ".xr-array-name {\n",
       "  margin-left: 2px;\n",
       "  margin-right: 10px;\n",
       "}\n",
       "\n",
       ".xr-obj-type {\n",
       "  color: var(--xr-font-color2);\n",
       "}\n",
       "\n",
       ".xr-sections {\n",
       "  padding-left: 0 !important;\n",
       "  display: grid;\n",
       "  grid-template-columns: 150px auto auto 1fr 0 20px 0 20px;\n",
       "}\n",
       "\n",
       ".xr-section-item {\n",
       "  display: contents;\n",
       "}\n",
       "\n",
       ".xr-section-item input {\n",
       "  display: inline-block;\n",
       "  opacity: 0;\n",
       "  height: 0;\n",
       "}\n",
       "\n",
       ".xr-section-item input + label {\n",
       "  color: var(--xr-disabled-color);\n",
       "}\n",
       "\n",
       ".xr-section-item input:enabled + label {\n",
       "  cursor: pointer;\n",
       "  color: var(--xr-font-color2);\n",
       "}\n",
       "\n",
       ".xr-section-item input:focus + label {\n",
       "  border: 2px solid var(--xr-font-color0);\n",
       "}\n",
       "\n",
       ".xr-section-item input:enabled + label:hover {\n",
       "  color: var(--xr-font-color0);\n",
       "}\n",
       "\n",
       ".xr-section-summary {\n",
       "  grid-column: 1;\n",
       "  color: var(--xr-font-color2);\n",
       "  font-weight: 500;\n",
       "}\n",
       "\n",
       ".xr-section-summary > span {\n",
       "  display: inline-block;\n",
       "  padding-left: 0.5em;\n",
       "}\n",
       "\n",
       ".xr-section-summary-in:disabled + label {\n",
       "  color: var(--xr-font-color2);\n",
       "}\n",
       "\n",
       ".xr-section-summary-in + label:before {\n",
       "  display: inline-block;\n",
       "  content: \"►\";\n",
       "  font-size: 11px;\n",
       "  width: 15px;\n",
       "  text-align: center;\n",
       "}\n",
       "\n",
       ".xr-section-summary-in:disabled + label:before {\n",
       "  color: var(--xr-disabled-color);\n",
       "}\n",
       "\n",
       ".xr-section-summary-in:checked + label:before {\n",
       "  content: \"▼\";\n",
       "}\n",
       "\n",
       ".xr-section-summary-in:checked + label > span {\n",
       "  display: none;\n",
       "}\n",
       "\n",
       ".xr-section-summary,\n",
       ".xr-section-inline-details {\n",
       "  padding-top: 4px;\n",
       "  padding-bottom: 4px;\n",
       "}\n",
       "\n",
       ".xr-section-inline-details {\n",
       "  grid-column: 2 / -1;\n",
       "}\n",
       "\n",
       ".xr-section-details {\n",
       "  display: none;\n",
       "  grid-column: 1 / -1;\n",
       "  margin-bottom: 5px;\n",
       "}\n",
       "\n",
       ".xr-section-summary-in:checked ~ .xr-section-details {\n",
       "  display: contents;\n",
       "}\n",
       "\n",
       ".xr-array-wrap {\n",
       "  grid-column: 1 / -1;\n",
       "  display: grid;\n",
       "  grid-template-columns: 20px auto;\n",
       "}\n",
       "\n",
       ".xr-array-wrap > label {\n",
       "  grid-column: 1;\n",
       "  vertical-align: top;\n",
       "}\n",
       "\n",
       ".xr-preview {\n",
       "  color: var(--xr-font-color3);\n",
       "}\n",
       "\n",
       ".xr-array-preview,\n",
       ".xr-array-data {\n",
       "  padding: 0 5px !important;\n",
       "  grid-column: 2;\n",
       "}\n",
       "\n",
       ".xr-array-data,\n",
       ".xr-array-in:checked ~ .xr-array-preview {\n",
       "  display: none;\n",
       "}\n",
       "\n",
       ".xr-array-in:checked ~ .xr-array-data,\n",
       ".xr-array-preview {\n",
       "  display: inline-block;\n",
       "}\n",
       "\n",
       ".xr-dim-list {\n",
       "  display: inline-block !important;\n",
       "  list-style: none;\n",
       "  padding: 0 !important;\n",
       "  margin: 0;\n",
       "}\n",
       "\n",
       ".xr-dim-list li {\n",
       "  display: inline-block;\n",
       "  padding: 0;\n",
       "  margin: 0;\n",
       "}\n",
       "\n",
       ".xr-dim-list:before {\n",
       "  content: \"(\";\n",
       "}\n",
       "\n",
       ".xr-dim-list:after {\n",
       "  content: \")\";\n",
       "}\n",
       "\n",
       ".xr-dim-list li:not(:last-child):after {\n",
       "  content: \",\";\n",
       "  padding-right: 5px;\n",
       "}\n",
       "\n",
       ".xr-has-index {\n",
       "  font-weight: bold;\n",
       "}\n",
       "\n",
       ".xr-var-list,\n",
       ".xr-var-item {\n",
       "  display: contents;\n",
       "}\n",
       "\n",
       ".xr-var-item > div,\n",
       ".xr-var-item label,\n",
       ".xr-var-item > .xr-var-name span {\n",
       "  background-color: var(--xr-background-color-row-even);\n",
       "  margin-bottom: 0;\n",
       "}\n",
       "\n",
       ".xr-var-item > .xr-var-name:hover span {\n",
       "  padding-right: 5px;\n",
       "}\n",
       "\n",
       ".xr-var-list > li:nth-child(odd) > div,\n",
       ".xr-var-list > li:nth-child(odd) > label,\n",
       ".xr-var-list > li:nth-child(odd) > .xr-var-name span {\n",
       "  background-color: var(--xr-background-color-row-odd);\n",
       "}\n",
       "\n",
       ".xr-var-name {\n",
       "  grid-column: 1;\n",
       "}\n",
       "\n",
       ".xr-var-dims {\n",
       "  grid-column: 2;\n",
       "}\n",
       "\n",
       ".xr-var-dtype {\n",
       "  grid-column: 3;\n",
       "  text-align: right;\n",
       "  color: var(--xr-font-color2);\n",
       "}\n",
       "\n",
       ".xr-var-preview {\n",
       "  grid-column: 4;\n",
       "}\n",
       "\n",
       ".xr-index-preview {\n",
       "  grid-column: 2 / 5;\n",
       "  color: var(--xr-font-color2);\n",
       "}\n",
       "\n",
       ".xr-var-name,\n",
       ".xr-var-dims,\n",
       ".xr-var-dtype,\n",
       ".xr-preview,\n",
       ".xr-attrs dt {\n",
       "  white-space: nowrap;\n",
       "  overflow: hidden;\n",
       "  text-overflow: ellipsis;\n",
       "  padding-right: 10px;\n",
       "}\n",
       "\n",
       ".xr-var-name:hover,\n",
       ".xr-var-dims:hover,\n",
       ".xr-var-dtype:hover,\n",
       ".xr-attrs dt:hover {\n",
       "  overflow: visible;\n",
       "  width: auto;\n",
       "  z-index: 1;\n",
       "}\n",
       "\n",
       ".xr-var-attrs,\n",
       ".xr-var-data,\n",
       ".xr-index-data {\n",
       "  display: none;\n",
       "  background-color: var(--xr-background-color) !important;\n",
       "  padding-bottom: 5px !important;\n",
       "}\n",
       "\n",
       ".xr-var-attrs-in:checked ~ .xr-var-attrs,\n",
       ".xr-var-data-in:checked ~ .xr-var-data,\n",
       ".xr-index-data-in:checked ~ .xr-index-data {\n",
       "  display: block;\n",
       "}\n",
       "\n",
       ".xr-var-data > table {\n",
       "  float: right;\n",
       "}\n",
       "\n",
       ".xr-var-name span,\n",
       ".xr-var-data,\n",
       ".xr-index-name div,\n",
       ".xr-index-data,\n",
       ".xr-attrs {\n",
       "  padding-left: 25px !important;\n",
       "}\n",
       "\n",
       ".xr-attrs,\n",
       ".xr-var-attrs,\n",
       ".xr-var-data,\n",
       ".xr-index-data {\n",
       "  grid-column: 1 / -1;\n",
       "}\n",
       "\n",
       "dl.xr-attrs {\n",
       "  padding: 0;\n",
       "  margin: 0;\n",
       "  display: grid;\n",
       "  grid-template-columns: 125px auto;\n",
       "}\n",
       "\n",
       ".xr-attrs dt,\n",
       ".xr-attrs dd {\n",
       "  padding: 0;\n",
       "  margin: 0;\n",
       "  float: left;\n",
       "  padding-right: 10px;\n",
       "  width: auto;\n",
       "}\n",
       "\n",
       ".xr-attrs dt {\n",
       "  font-weight: normal;\n",
       "  grid-column: 1;\n",
       "}\n",
       "\n",
       ".xr-attrs dt:hover span {\n",
       "  display: inline-block;\n",
       "  background: var(--xr-background-color);\n",
       "  padding-right: 10px;\n",
       "}\n",
       "\n",
       ".xr-attrs dd {\n",
       "  grid-column: 2;\n",
       "  white-space: pre-wrap;\n",
       "  word-break: break-all;\n",
       "}\n",
       "\n",
       ".xr-icon-database,\n",
       ".xr-icon-file-text2,\n",
       ".xr-no-icon {\n",
       "  display: inline-block;\n",
       "  vertical-align: middle;\n",
       "  width: 1em;\n",
       "  height: 1.5em !important;\n",
       "  stroke-width: 0;\n",
       "  stroke: currentColor;\n",
       "  fill: currentColor;\n",
       "}\n",
       "</style><pre class='xr-text-repr-fallback'>&lt;xarray.Dataset&gt; Size: 24GB\n",
       "Dimensions:                          (y: 46000, x: 65000)\n",
       "Coordinates:\n",
       "    spatial_ref                      int64 8B ...\n",
       "  * x                                (x) float64 520kB 9e+05 ... 7.4e+06\n",
       "  * y                                (y) float64 368kB 5.5e+06 5.5e+06 ... 9e+05\n",
       "Data variables:\n",
       "    FTY_2015_100m_eu_03035_d02_Full  (y, x) float64 24GB dask.array&lt;chunksize=(2000, 2000), meta=np.ndarray&gt;\n",
       "Attributes:\n",
       "    source:   file:///home/yogesh/Projects/BC/xcube-clms/examples/notebooks/c...</pre><div class='xr-wrap' style='display:none'><div class='xr-header'><div class='xr-obj-type'>xarray.Dataset</div></div><ul class='xr-sections'><li class='xr-section-item'><input id='section-eaa62cd8-095b-4976-bd44-6146beb6fc80' class='xr-section-summary-in' type='checkbox' disabled ><label for='section-eaa62cd8-095b-4976-bd44-6146beb6fc80' class='xr-section-summary'  title='Expand/collapse section'>Dimensions:</label><div class='xr-section-inline-details'><ul class='xr-dim-list'><li><span class='xr-has-index'>y</span>: 46000</li><li><span class='xr-has-index'>x</span>: 65000</li></ul></div><div class='xr-section-details'></div></li><li class='xr-section-item'><input id='section-e037f82d-cfae-4207-8ad7-4bfb03aa16d6' class='xr-section-summary-in' type='checkbox'  checked><label for='section-e037f82d-cfae-4207-8ad7-4bfb03aa16d6' class='xr-section-summary' >Coordinates: <span>(3)</span></label><div class='xr-section-inline-details'></div><div class='xr-section-details'><ul class='xr-var-list'><li class='xr-var-item'><div class='xr-var-name'><span>spatial_ref</span></div><div class='xr-var-dims'>()</div><div class='xr-var-dtype'>int64</div><div class='xr-var-preview xr-preview'>...</div><input id='attrs-9a322ef3-58b2-40c1-8dfb-8c8c5169df16' class='xr-var-attrs-in' type='checkbox' ><label for='attrs-9a322ef3-58b2-40c1-8dfb-8c8c5169df16' title='Show/Hide attributes'><svg class='icon xr-icon-file-text2'><use xlink:href='#icon-file-text2'></use></svg></label><input id='data-7e9a56c5-af8e-4d20-bcd6-53d184769824' class='xr-var-data-in' type='checkbox'><label for='data-7e9a56c5-af8e-4d20-bcd6-53d184769824' title='Show/Hide data repr'><svg class='icon xr-icon-database'><use xlink:href='#icon-database'></use></svg></label><div class='xr-var-attrs'><dl class='xr-attrs'><dt><span>GeoTransform :</span></dt><dd>900000.0 100.0 0.0 5500000.0 0.0 -100.0</dd><dt><span>crs_wkt :</span></dt><dd>PROJCS[&quot;ETRS89-extended / LAEA Europe&quot;,GEOGCS[&quot;ETRS89&quot;,DATUM[&quot;IRENET95&quot;,SPHEROID[&quot;GRS 1980&quot;,6378137,298.257222101]],PRIMEM[&quot;Greenwich&quot;,0],UNIT[&quot;degree&quot;,0.0174532925199433,AUTHORITY[&quot;EPSG&quot;,&quot;9122&quot;]]],PROJECTION[&quot;Lambert_Azimuthal_Equal_Area&quot;],PARAMETER[&quot;latitude_of_center&quot;,52],PARAMETER[&quot;longitude_of_center&quot;,10],PARAMETER[&quot;false_easting&quot;,4321000],PARAMETER[&quot;false_northing&quot;,3210000],UNIT[&quot;metre&quot;,1],AXIS[&quot;Easting&quot;,EAST],AXIS[&quot;Northing&quot;,NORTH]]</dd><dt><span>false_easting :</span></dt><dd>4321000.0</dd><dt><span>false_northing :</span></dt><dd>3210000.0</dd><dt><span>geographic_crs_name :</span></dt><dd>ETRS89</dd><dt><span>grid_mapping_name :</span></dt><dd>lambert_azimuthal_equal_area</dd><dt><span>horizontal_datum_name :</span></dt><dd>IRENET95</dd><dt><span>inverse_flattening :</span></dt><dd>298.257222101</dd><dt><span>latitude_of_projection_origin :</span></dt><dd>52.0</dd><dt><span>longitude_of_prime_meridian :</span></dt><dd>0.0</dd><dt><span>longitude_of_projection_origin :</span></dt><dd>10.0</dd><dt><span>prime_meridian_name :</span></dt><dd>Greenwich</dd><dt><span>projected_crs_name :</span></dt><dd>ETRS89-extended / LAEA Europe</dd><dt><span>reference_ellipsoid_name :</span></dt><dd>GRS 1980</dd><dt><span>semi_major_axis :</span></dt><dd>6378137.0</dd><dt><span>semi_minor_axis :</span></dt><dd>6356752.314140356</dd><dt><span>spatial_ref :</span></dt><dd>PROJCS[&quot;ETRS89-extended / LAEA Europe&quot;,GEOGCS[&quot;ETRS89&quot;,DATUM[&quot;IRENET95&quot;,SPHEROID[&quot;GRS 1980&quot;,6378137,298.257222101]],PRIMEM[&quot;Greenwich&quot;,0],UNIT[&quot;degree&quot;,0.0174532925199433,AUTHORITY[&quot;EPSG&quot;,&quot;9122&quot;]]],PROJECTION[&quot;Lambert_Azimuthal_Equal_Area&quot;],PARAMETER[&quot;latitude_of_center&quot;,52],PARAMETER[&quot;longitude_of_center&quot;,10],PARAMETER[&quot;false_easting&quot;,4321000],PARAMETER[&quot;false_northing&quot;,3210000],UNIT[&quot;metre&quot;,1],AXIS[&quot;Easting&quot;,EAST],AXIS[&quot;Northing&quot;,NORTH]]</dd></dl></div><div class='xr-var-data'><pre>[1 values with dtype=int64]</pre></div></li><li class='xr-var-item'><div class='xr-var-name'><span class='xr-has-index'>x</span></div><div class='xr-var-dims'>(x)</div><div class='xr-var-dtype'>float64</div><div class='xr-var-preview xr-preview'>9e+05 9.002e+05 ... 7.4e+06 7.4e+06</div><input id='attrs-4adcb18c-e058-4c77-bea5-17a0d57ed55b' class='xr-var-attrs-in' type='checkbox' disabled><label for='attrs-4adcb18c-e058-4c77-bea5-17a0d57ed55b' title='Show/Hide attributes'><svg class='icon xr-icon-file-text2'><use xlink:href='#icon-file-text2'></use></svg></label><input id='data-8e9f327a-a749-41f8-93d1-5c2ba2cab6b7' class='xr-var-data-in' type='checkbox'><label for='data-8e9f327a-a749-41f8-93d1-5c2ba2cab6b7' title='Show/Hide data repr'><svg class='icon xr-icon-database'><use xlink:href='#icon-database'></use></svg></label><div class='xr-var-attrs'><dl class='xr-attrs'></dl></div><div class='xr-var-data'><pre>array([ 900050.,  900150.,  900250., ..., 7399750., 7399850., 7399950.],\n",
       "      shape=(65000,))</pre></div></li><li class='xr-var-item'><div class='xr-var-name'><span class='xr-has-index'>y</span></div><div class='xr-var-dims'>(y)</div><div class='xr-var-dtype'>float64</div><div class='xr-var-preview xr-preview'>5.5e+06 5.5e+06 ... 9.002e+05 9e+05</div><input id='attrs-e402da2c-442b-4b0f-8280-c3ac4c415dc9' class='xr-var-attrs-in' type='checkbox' disabled><label for='attrs-e402da2c-442b-4b0f-8280-c3ac4c415dc9' title='Show/Hide attributes'><svg class='icon xr-icon-file-text2'><use xlink:href='#icon-file-text2'></use></svg></label><input id='data-aa8f171c-7db1-4891-ae7e-158ef9952c80' class='xr-var-data-in' type='checkbox'><label for='data-aa8f171c-7db1-4891-ae7e-158ef9952c80' title='Show/Hide data repr'><svg class='icon xr-icon-database'><use xlink:href='#icon-database'></use></svg></label><div class='xr-var-attrs'><dl class='xr-attrs'></dl></div><div class='xr-var-data'><pre>array([5499950., 5499850., 5499750., ...,  900250.,  900150.,  900050.],\n",
       "      shape=(46000,))</pre></div></li></ul></div></li><li class='xr-section-item'><input id='section-0d586018-61b7-4f2a-a649-3e8dff18d7ff' class='xr-section-summary-in' type='checkbox'  checked><label for='section-0d586018-61b7-4f2a-a649-3e8dff18d7ff' class='xr-section-summary' >Data variables: <span>(1)</span></label><div class='xr-section-inline-details'></div><div class='xr-section-details'><ul class='xr-var-list'><li class='xr-var-item'><div class='xr-var-name'><span>FTY_2015_100m_eu_03035_d02_Full</span></div><div class='xr-var-dims'>(y, x)</div><div class='xr-var-dtype'>float64</div><div class='xr-var-preview xr-preview'>dask.array&lt;chunksize=(2000, 2000), meta=np.ndarray&gt;</div><input id='attrs-f11e9743-e622-4eeb-94dc-3ddb3748023a' class='xr-var-attrs-in' type='checkbox' ><label for='attrs-f11e9743-e622-4eeb-94dc-3ddb3748023a' title='Show/Hide attributes'><svg class='icon xr-icon-file-text2'><use xlink:href='#icon-file-text2'></use></svg></label><input id='data-4b0913ac-b388-4da4-a767-0452dcdef892' class='xr-var-data-in' type='checkbox'><label for='data-4b0913ac-b388-4da4-a767-0452dcdef892' title='Show/Hide data repr'><svg class='icon xr-icon-database'><use xlink:href='#icon-database'></use></svg></label><div class='xr-var-attrs'><dl class='xr-attrs'><dt><span>AREA_OR_POINT :</span></dt><dd>Area</dd><dt><span>DataType :</span></dt><dd>Thematic</dd><dt><span>RepresentationType :</span></dt><dd>THEMATIC</dd><dt><span>STATISTICS_MAXIMUM :</span></dt><dd>255</dd><dt><span>STATISTICS_MEAN :</span></dt><dd>205.16403034515</dd><dt><span>STATISTICS_MINIMUM :</span></dt><dd>0</dd><dt><span>STATISTICS_STDDEV :</span></dt><dd>100.96903040178</dd><dt><span>grid_mapping :</span></dt><dd>spatial_ref</dd></dl></div><div class='xr-var-data'><table>\n",
       "    <tr>\n",
       "        <td>\n",
       "            <table style=\"border-collapse: collapse;\">\n",
       "                <thead>\n",
       "                    <tr>\n",
       "                        <td> </td>\n",
       "                        <th> Array </th>\n",
       "                        <th> Chunk </th>\n",
       "                    </tr>\n",
       "                </thead>\n",
       "                <tbody>\n",
       "                    \n",
       "                    <tr>\n",
       "                        <th> Bytes </th>\n",
       "                        <td> 22.28 GiB </td>\n",
       "                        <td> 30.52 MiB </td>\n",
       "                    </tr>\n",
       "                    \n",
       "                    <tr>\n",
       "                        <th> Shape </th>\n",
       "                        <td> (46000, 65000) </td>\n",
       "                        <td> (2000, 2000) </td>\n",
       "                    </tr>\n",
       "                    <tr>\n",
       "                        <th> Dask graph </th>\n",
       "                        <td colspan=\"2\"> 759 chunks in 2 graph layers </td>\n",
       "                    </tr>\n",
       "                    <tr>\n",
       "                        <th> Data type </th>\n",
       "                        <td colspan=\"2\"> float64 numpy.ndarray </td>\n",
       "                    </tr>\n",
       "                </tbody>\n",
       "            </table>\n",
       "        </td>\n",
       "        <td>\n",
       "        <svg width=\"170\" height=\"134\" style=\"stroke:rgb(0,0,0);stroke-width:1\" >\n",
       "\n",
       "  <!-- Horizontal lines -->\n",
       "  <line x1=\"0\" y1=\"0\" x2=\"120\" y2=\"0\" style=\"stroke-width:2\" />\n",
       "  <line x1=\"0\" y1=\"3\" x2=\"120\" y2=\"3\" />\n",
       "  <line x1=\"0\" y1=\"7\" x2=\"120\" y2=\"7\" />\n",
       "  <line x1=\"0\" y1=\"11\" x2=\"120\" y2=\"11\" />\n",
       "  <line x1=\"0\" y1=\"14\" x2=\"120\" y2=\"14\" />\n",
       "  <line x1=\"0\" y1=\"22\" x2=\"120\" y2=\"22\" />\n",
       "  <line x1=\"0\" y1=\"25\" x2=\"120\" y2=\"25\" />\n",
       "  <line x1=\"0\" y1=\"29\" x2=\"120\" y2=\"29\" />\n",
       "  <line x1=\"0\" y1=\"33\" x2=\"120\" y2=\"33\" />\n",
       "  <line x1=\"0\" y1=\"36\" x2=\"120\" y2=\"36\" />\n",
       "  <line x1=\"0\" y1=\"44\" x2=\"120\" y2=\"44\" />\n",
       "  <line x1=\"0\" y1=\"48\" x2=\"120\" y2=\"48\" />\n",
       "  <line x1=\"0\" y1=\"51\" x2=\"120\" y2=\"51\" />\n",
       "  <line x1=\"0\" y1=\"55\" x2=\"120\" y2=\"55\" />\n",
       "  <line x1=\"0\" y1=\"59\" x2=\"120\" y2=\"59\" />\n",
       "  <line x1=\"0\" y1=\"66\" x2=\"120\" y2=\"66\" />\n",
       "  <line x1=\"0\" y1=\"70\" x2=\"120\" y2=\"70\" />\n",
       "  <line x1=\"0\" y1=\"73\" x2=\"120\" y2=\"73\" />\n",
       "  <line x1=\"0\" y1=\"77\" x2=\"120\" y2=\"77\" />\n",
       "  <line x1=\"0\" y1=\"84\" x2=\"120\" y2=\"84\" style=\"stroke-width:2\" />\n",
       "\n",
       "  <!-- Vertical lines -->\n",
       "  <line x1=\"0\" y1=\"0\" x2=\"0\" y2=\"84\" style=\"stroke-width:2\" />\n",
       "  <line x1=\"3\" y1=\"0\" x2=\"3\" y2=\"84\" />\n",
       "  <line x1=\"11\" y1=\"0\" x2=\"11\" y2=\"84\" />\n",
       "  <line x1=\"18\" y1=\"0\" x2=\"18\" y2=\"84\" />\n",
       "  <line x1=\"22\" y1=\"0\" x2=\"22\" y2=\"84\" />\n",
       "  <line x1=\"29\" y1=\"0\" x2=\"29\" y2=\"84\" />\n",
       "  <line x1=\"36\" y1=\"0\" x2=\"36\" y2=\"84\" />\n",
       "  <line x1=\"44\" y1=\"0\" x2=\"44\" y2=\"84\" />\n",
       "  <line x1=\"48\" y1=\"0\" x2=\"48\" y2=\"84\" />\n",
       "  <line x1=\"55\" y1=\"0\" x2=\"55\" y2=\"84\" />\n",
       "  <line x1=\"62\" y1=\"0\" x2=\"62\" y2=\"84\" />\n",
       "  <line x1=\"70\" y1=\"0\" x2=\"70\" y2=\"84\" />\n",
       "  <line x1=\"73\" y1=\"0\" x2=\"73\" y2=\"84\" />\n",
       "  <line x1=\"81\" y1=\"0\" x2=\"81\" y2=\"84\" />\n",
       "  <line x1=\"88\" y1=\"0\" x2=\"88\" y2=\"84\" />\n",
       "  <line x1=\"96\" y1=\"0\" x2=\"96\" y2=\"84\" />\n",
       "  <line x1=\"99\" y1=\"0\" x2=\"99\" y2=\"84\" />\n",
       "  <line x1=\"107\" y1=\"0\" x2=\"107\" y2=\"84\" />\n",
       "  <line x1=\"114\" y1=\"0\" x2=\"114\" y2=\"84\" />\n",
       "  <line x1=\"120\" y1=\"0\" x2=\"120\" y2=\"84\" style=\"stroke-width:2\" />\n",
       "\n",
       "  <!-- Colored Rectangle -->\n",
       "  <polygon points=\"0.0,0.0 120.0,0.0 120.0,84.92307692307692 0.0,84.92307692307692\" style=\"fill:#8B4903A0;stroke-width:0\"/>\n",
       "\n",
       "  <!-- Text -->\n",
       "  <text x=\"60.000000\" y=\"104.923077\" font-size=\"1.0rem\" font-weight=\"100\" text-anchor=\"middle\" >65000</text>\n",
       "  <text x=\"140.000000\" y=\"42.461538\" font-size=\"1.0rem\" font-weight=\"100\" text-anchor=\"middle\" transform=\"rotate(-90,140.000000,42.461538)\">46000</text>\n",
       "</svg>\n",
       "        </td>\n",
       "    </tr>\n",
       "</table></div></li></ul></div></li><li class='xr-section-item'><input id='section-c152045c-345b-474b-8449-8c69c1e2c301' class='xr-section-summary-in' type='checkbox'  ><label for='section-c152045c-345b-474b-8449-8c69c1e2c301' class='xr-section-summary' >Indexes: <span>(2)</span></label><div class='xr-section-inline-details'></div><div class='xr-section-details'><ul class='xr-var-list'><li class='xr-var-item'><div class='xr-index-name'><div>x</div></div><div class='xr-index-preview'>PandasIndex</div><input type='checkbox' disabled/><label></label><input id='index-16a5caa3-c4b6-4294-91e5-f78ba1365364' class='xr-index-data-in' type='checkbox'/><label for='index-16a5caa3-c4b6-4294-91e5-f78ba1365364' title='Show/Hide index repr'><svg class='icon xr-icon-database'><use xlink:href='#icon-database'></use></svg></label><div class='xr-index-data'><pre>PandasIndex(Index([ 900050.0,  900150.0,  900250.0,  900350.0,  900450.0,  900550.0,\n",
       "        900650.0,  900750.0,  900850.0,  900950.0,\n",
       "       ...\n",
       "       7399050.0, 7399150.0, 7399250.0, 7399350.0, 7399450.0, 7399550.0,\n",
       "       7399650.0, 7399750.0, 7399850.0, 7399950.0],\n",
       "      dtype=&#x27;float64&#x27;, name=&#x27;x&#x27;, length=65000))</pre></div></li><li class='xr-var-item'><div class='xr-index-name'><div>y</div></div><div class='xr-index-preview'>PandasIndex</div><input type='checkbox' disabled/><label></label><input id='index-9dd266d1-9462-4e36-9a1a-dfe96b8a14fc' class='xr-index-data-in' type='checkbox'/><label for='index-9dd266d1-9462-4e36-9a1a-dfe96b8a14fc' title='Show/Hide index repr'><svg class='icon xr-icon-database'><use xlink:href='#icon-database'></use></svg></label><div class='xr-index-data'><pre>PandasIndex(Index([5499950.0, 5499850.0, 5499750.0, 5499650.0, 5499550.0, 5499450.0,\n",
       "       5499350.0, 5499250.0, 5499150.0, 5499050.0,\n",
       "       ...\n",
       "        900950.0,  900850.0,  900750.0,  900650.0,  900550.0,  900450.0,\n",
       "        900350.0,  900250.0,  900150.0,  900050.0],\n",
       "      dtype=&#x27;float64&#x27;, name=&#x27;y&#x27;, length=46000))</pre></div></li></ul></div></li><li class='xr-section-item'><input id='section-7aa7cfca-195d-456e-a651-8e0708127f80' class='xr-section-summary-in' type='checkbox'  checked><label for='section-7aa7cfca-195d-456e-a651-8e0708127f80' class='xr-section-summary' >Attributes: <span>(1)</span></label><div class='xr-section-inline-details'></div><div class='xr-section-details'><dl class='xr-attrs'><dt><span>source :</span></dt><dd>file:///home/yogesh/Projects/BC/xcube-clms/examples/notebooks/clms_cache/downloads/forest-type-2015|FTY_2015_100m_eu_03035_d02_Full/FTY_2015_100m_eu_03035_d02_full.tif</dd></dl></div></li></ul></div></div>"
      ],
      "text/plain": [
       "<xarray.Dataset> Size: 24GB\n",
       "Dimensions:                          (y: 46000, x: 65000)\n",
       "Coordinates:\n",
       "    spatial_ref                      int64 8B ...\n",
       "  * x                                (x) float64 520kB 9e+05 ... 7.4e+06\n",
       "  * y                                (y) float64 368kB 5.5e+06 5.5e+06 ... 9e+05\n",
       "Data variables:\n",
       "    FTY_2015_100m_eu_03035_d02_Full  (y, x) float64 24GB dask.array<chunksize=(2000, 2000), meta=np.ndarray>\n",
       "Attributes:\n",
       "    source:   file:///home/yogesh/Projects/BC/xcube-clms/examples/notebooks/c..."
      ]
     },
     "execution_count": 18,
     "metadata": {},
     "output_type": "execute_result"
    }
   ],
   "source": [
    "%%time\n",
    "fty = cache_data_store.open_data(\n",
    "    \"forest-type-2015|FTY_2015_100m_eu_03035_d02_Full.zarr\"\n",
    ")\n",
    "fty"
   ]
  },
  {
   "cell_type": "code",
   "execution_count": 19,
   "id": "078b44ac-b476-480c-aa61-b371f2165f45",
   "metadata": {},
   "outputs": [
    {
     "name": "stdout",
     "output_type": "stream",
     "text": [
      "CPU times: user 11.2 ms, sys: 2.88 ms, total: 14 ms\n",
      "Wall time: 12.7 ms\n"
     ]
    },
    {
     "data": {
      "text/html": [
       "<div><svg style=\"position: absolute; width: 0; height: 0; overflow: hidden\">\n",
       "<defs>\n",
       "<symbol id=\"icon-database\" viewBox=\"0 0 32 32\">\n",
       "<path d=\"M16 0c-8.837 0-16 2.239-16 5v4c0 2.761 7.163 5 16 5s16-2.239 16-5v-4c0-2.761-7.163-5-16-5z\"></path>\n",
       "<path d=\"M16 17c-8.837 0-16-2.239-16-5v6c0 2.761 7.163 5 16 5s16-2.239 16-5v-6c0 2.761-7.163 5-16 5z\"></path>\n",
       "<path d=\"M16 26c-8.837 0-16-2.239-16-5v6c0 2.761 7.163 5 16 5s16-2.239 16-5v-6c0 2.761-7.163 5-16 5z\"></path>\n",
       "</symbol>\n",
       "<symbol id=\"icon-file-text2\" viewBox=\"0 0 32 32\">\n",
       "<path d=\"M28.681 7.159c-0.694-0.947-1.662-2.053-2.724-3.116s-2.169-2.030-3.116-2.724c-1.612-1.182-2.393-1.319-2.841-1.319h-15.5c-1.378 0-2.5 1.121-2.5 2.5v27c0 1.378 1.122 2.5 2.5 2.5h23c1.378 0 2.5-1.122 2.5-2.5v-19.5c0-0.448-0.137-1.23-1.319-2.841zM24.543 5.457c0.959 0.959 1.712 1.825 2.268 2.543h-4.811v-4.811c0.718 0.556 1.584 1.309 2.543 2.268zM28 29.5c0 0.271-0.229 0.5-0.5 0.5h-23c-0.271 0-0.5-0.229-0.5-0.5v-27c0-0.271 0.229-0.5 0.5-0.5 0 0 15.499-0 15.5 0v7c0 0.552 0.448 1 1 1h7v19.5z\"></path>\n",
       "<path d=\"M23 26h-14c-0.552 0-1-0.448-1-1s0.448-1 1-1h14c0.552 0 1 0.448 1 1s-0.448 1-1 1z\"></path>\n",
       "<path d=\"M23 22h-14c-0.552 0-1-0.448-1-1s0.448-1 1-1h14c0.552 0 1 0.448 1 1s-0.448 1-1 1z\"></path>\n",
       "<path d=\"M23 18h-14c-0.552 0-1-0.448-1-1s0.448-1 1-1h14c0.552 0 1 0.448 1 1s-0.448 1-1 1z\"></path>\n",
       "</symbol>\n",
       "</defs>\n",
       "</svg>\n",
       "<style>/* CSS stylesheet for displaying xarray objects in jupyterlab.\n",
       " *\n",
       " */\n",
       "\n",
       ":root {\n",
       "  --xr-font-color0: var(--jp-content-font-color0, rgba(0, 0, 0, 1));\n",
       "  --xr-font-color2: var(--jp-content-font-color2, rgba(0, 0, 0, 0.54));\n",
       "  --xr-font-color3: var(--jp-content-font-color3, rgba(0, 0, 0, 0.38));\n",
       "  --xr-border-color: var(--jp-border-color2, #e0e0e0);\n",
       "  --xr-disabled-color: var(--jp-layout-color3, #bdbdbd);\n",
       "  --xr-background-color: var(--jp-layout-color0, white);\n",
       "  --xr-background-color-row-even: var(--jp-layout-color1, white);\n",
       "  --xr-background-color-row-odd: var(--jp-layout-color2, #eeeeee);\n",
       "}\n",
       "\n",
       "html[theme=\"dark\"],\n",
       "html[data-theme=\"dark\"],\n",
       "body[data-theme=\"dark\"],\n",
       "body.vscode-dark {\n",
       "  --xr-font-color0: rgba(255, 255, 255, 1);\n",
       "  --xr-font-color2: rgba(255, 255, 255, 0.54);\n",
       "  --xr-font-color3: rgba(255, 255, 255, 0.38);\n",
       "  --xr-border-color: #1f1f1f;\n",
       "  --xr-disabled-color: #515151;\n",
       "  --xr-background-color: #111111;\n",
       "  --xr-background-color-row-even: #111111;\n",
       "  --xr-background-color-row-odd: #313131;\n",
       "}\n",
       "\n",
       ".xr-wrap {\n",
       "  display: block !important;\n",
       "  min-width: 300px;\n",
       "  max-width: 700px;\n",
       "}\n",
       "\n",
       ".xr-text-repr-fallback {\n",
       "  /* fallback to plain text repr when CSS is not injected (untrusted notebook) */\n",
       "  display: none;\n",
       "}\n",
       "\n",
       ".xr-header {\n",
       "  padding-top: 6px;\n",
       "  padding-bottom: 6px;\n",
       "  margin-bottom: 4px;\n",
       "  border-bottom: solid 1px var(--xr-border-color);\n",
       "}\n",
       "\n",
       ".xr-header > div,\n",
       ".xr-header > ul {\n",
       "  display: inline;\n",
       "  margin-top: 0;\n",
       "  margin-bottom: 0;\n",
       "}\n",
       "\n",
       ".xr-obj-type,\n",
       ".xr-array-name {\n",
       "  margin-left: 2px;\n",
       "  margin-right: 10px;\n",
       "}\n",
       "\n",
       ".xr-obj-type {\n",
       "  color: var(--xr-font-color2);\n",
       "}\n",
       "\n",
       ".xr-sections {\n",
       "  padding-left: 0 !important;\n",
       "  display: grid;\n",
       "  grid-template-columns: 150px auto auto 1fr 0 20px 0 20px;\n",
       "}\n",
       "\n",
       ".xr-section-item {\n",
       "  display: contents;\n",
       "}\n",
       "\n",
       ".xr-section-item input {\n",
       "  display: inline-block;\n",
       "  opacity: 0;\n",
       "  height: 0;\n",
       "}\n",
       "\n",
       ".xr-section-item input + label {\n",
       "  color: var(--xr-disabled-color);\n",
       "}\n",
       "\n",
       ".xr-section-item input:enabled + label {\n",
       "  cursor: pointer;\n",
       "  color: var(--xr-font-color2);\n",
       "}\n",
       "\n",
       ".xr-section-item input:focus + label {\n",
       "  border: 2px solid var(--xr-font-color0);\n",
       "}\n",
       "\n",
       ".xr-section-item input:enabled + label:hover {\n",
       "  color: var(--xr-font-color0);\n",
       "}\n",
       "\n",
       ".xr-section-summary {\n",
       "  grid-column: 1;\n",
       "  color: var(--xr-font-color2);\n",
       "  font-weight: 500;\n",
       "}\n",
       "\n",
       ".xr-section-summary > span {\n",
       "  display: inline-block;\n",
       "  padding-left: 0.5em;\n",
       "}\n",
       "\n",
       ".xr-section-summary-in:disabled + label {\n",
       "  color: var(--xr-font-color2);\n",
       "}\n",
       "\n",
       ".xr-section-summary-in + label:before {\n",
       "  display: inline-block;\n",
       "  content: \"►\";\n",
       "  font-size: 11px;\n",
       "  width: 15px;\n",
       "  text-align: center;\n",
       "}\n",
       "\n",
       ".xr-section-summary-in:disabled + label:before {\n",
       "  color: var(--xr-disabled-color);\n",
       "}\n",
       "\n",
       ".xr-section-summary-in:checked + label:before {\n",
       "  content: \"▼\";\n",
       "}\n",
       "\n",
       ".xr-section-summary-in:checked + label > span {\n",
       "  display: none;\n",
       "}\n",
       "\n",
       ".xr-section-summary,\n",
       ".xr-section-inline-details {\n",
       "  padding-top: 4px;\n",
       "  padding-bottom: 4px;\n",
       "}\n",
       "\n",
       ".xr-section-inline-details {\n",
       "  grid-column: 2 / -1;\n",
       "}\n",
       "\n",
       ".xr-section-details {\n",
       "  display: none;\n",
       "  grid-column: 1 / -1;\n",
       "  margin-bottom: 5px;\n",
       "}\n",
       "\n",
       ".xr-section-summary-in:checked ~ .xr-section-details {\n",
       "  display: contents;\n",
       "}\n",
       "\n",
       ".xr-array-wrap {\n",
       "  grid-column: 1 / -1;\n",
       "  display: grid;\n",
       "  grid-template-columns: 20px auto;\n",
       "}\n",
       "\n",
       ".xr-array-wrap > label {\n",
       "  grid-column: 1;\n",
       "  vertical-align: top;\n",
       "}\n",
       "\n",
       ".xr-preview {\n",
       "  color: var(--xr-font-color3);\n",
       "}\n",
       "\n",
       ".xr-array-preview,\n",
       ".xr-array-data {\n",
       "  padding: 0 5px !important;\n",
       "  grid-column: 2;\n",
       "}\n",
       "\n",
       ".xr-array-data,\n",
       ".xr-array-in:checked ~ .xr-array-preview {\n",
       "  display: none;\n",
       "}\n",
       "\n",
       ".xr-array-in:checked ~ .xr-array-data,\n",
       ".xr-array-preview {\n",
       "  display: inline-block;\n",
       "}\n",
       "\n",
       ".xr-dim-list {\n",
       "  display: inline-block !important;\n",
       "  list-style: none;\n",
       "  padding: 0 !important;\n",
       "  margin: 0;\n",
       "}\n",
       "\n",
       ".xr-dim-list li {\n",
       "  display: inline-block;\n",
       "  padding: 0;\n",
       "  margin: 0;\n",
       "}\n",
       "\n",
       ".xr-dim-list:before {\n",
       "  content: \"(\";\n",
       "}\n",
       "\n",
       ".xr-dim-list:after {\n",
       "  content: \")\";\n",
       "}\n",
       "\n",
       ".xr-dim-list li:not(:last-child):after {\n",
       "  content: \",\";\n",
       "  padding-right: 5px;\n",
       "}\n",
       "\n",
       ".xr-has-index {\n",
       "  font-weight: bold;\n",
       "}\n",
       "\n",
       ".xr-var-list,\n",
       ".xr-var-item {\n",
       "  display: contents;\n",
       "}\n",
       "\n",
       ".xr-var-item > div,\n",
       ".xr-var-item label,\n",
       ".xr-var-item > .xr-var-name span {\n",
       "  background-color: var(--xr-background-color-row-even);\n",
       "  margin-bottom: 0;\n",
       "}\n",
       "\n",
       ".xr-var-item > .xr-var-name:hover span {\n",
       "  padding-right: 5px;\n",
       "}\n",
       "\n",
       ".xr-var-list > li:nth-child(odd) > div,\n",
       ".xr-var-list > li:nth-child(odd) > label,\n",
       ".xr-var-list > li:nth-child(odd) > .xr-var-name span {\n",
       "  background-color: var(--xr-background-color-row-odd);\n",
       "}\n",
       "\n",
       ".xr-var-name {\n",
       "  grid-column: 1;\n",
       "}\n",
       "\n",
       ".xr-var-dims {\n",
       "  grid-column: 2;\n",
       "}\n",
       "\n",
       ".xr-var-dtype {\n",
       "  grid-column: 3;\n",
       "  text-align: right;\n",
       "  color: var(--xr-font-color2);\n",
       "}\n",
       "\n",
       ".xr-var-preview {\n",
       "  grid-column: 4;\n",
       "}\n",
       "\n",
       ".xr-index-preview {\n",
       "  grid-column: 2 / 5;\n",
       "  color: var(--xr-font-color2);\n",
       "}\n",
       "\n",
       ".xr-var-name,\n",
       ".xr-var-dims,\n",
       ".xr-var-dtype,\n",
       ".xr-preview,\n",
       ".xr-attrs dt {\n",
       "  white-space: nowrap;\n",
       "  overflow: hidden;\n",
       "  text-overflow: ellipsis;\n",
       "  padding-right: 10px;\n",
       "}\n",
       "\n",
       ".xr-var-name:hover,\n",
       ".xr-var-dims:hover,\n",
       ".xr-var-dtype:hover,\n",
       ".xr-attrs dt:hover {\n",
       "  overflow: visible;\n",
       "  width: auto;\n",
       "  z-index: 1;\n",
       "}\n",
       "\n",
       ".xr-var-attrs,\n",
       ".xr-var-data,\n",
       ".xr-index-data {\n",
       "  display: none;\n",
       "  background-color: var(--xr-background-color) !important;\n",
       "  padding-bottom: 5px !important;\n",
       "}\n",
       "\n",
       ".xr-var-attrs-in:checked ~ .xr-var-attrs,\n",
       ".xr-var-data-in:checked ~ .xr-var-data,\n",
       ".xr-index-data-in:checked ~ .xr-index-data {\n",
       "  display: block;\n",
       "}\n",
       "\n",
       ".xr-var-data > table {\n",
       "  float: right;\n",
       "}\n",
       "\n",
       ".xr-var-name span,\n",
       ".xr-var-data,\n",
       ".xr-index-name div,\n",
       ".xr-index-data,\n",
       ".xr-attrs {\n",
       "  padding-left: 25px !important;\n",
       "}\n",
       "\n",
       ".xr-attrs,\n",
       ".xr-var-attrs,\n",
       ".xr-var-data,\n",
       ".xr-index-data {\n",
       "  grid-column: 1 / -1;\n",
       "}\n",
       "\n",
       "dl.xr-attrs {\n",
       "  padding: 0;\n",
       "  margin: 0;\n",
       "  display: grid;\n",
       "  grid-template-columns: 125px auto;\n",
       "}\n",
       "\n",
       ".xr-attrs dt,\n",
       ".xr-attrs dd {\n",
       "  padding: 0;\n",
       "  margin: 0;\n",
       "  float: left;\n",
       "  padding-right: 10px;\n",
       "  width: auto;\n",
       "}\n",
       "\n",
       ".xr-attrs dt {\n",
       "  font-weight: normal;\n",
       "  grid-column: 1;\n",
       "}\n",
       "\n",
       ".xr-attrs dt:hover span {\n",
       "  display: inline-block;\n",
       "  background: var(--xr-background-color);\n",
       "  padding-right: 10px;\n",
       "}\n",
       "\n",
       ".xr-attrs dd {\n",
       "  grid-column: 2;\n",
       "  white-space: pre-wrap;\n",
       "  word-break: break-all;\n",
       "}\n",
       "\n",
       ".xr-icon-database,\n",
       ".xr-icon-file-text2,\n",
       ".xr-no-icon {\n",
       "  display: inline-block;\n",
       "  vertical-align: middle;\n",
       "  width: 1em;\n",
       "  height: 1.5em !important;\n",
       "  stroke-width: 0;\n",
       "  stroke: currentColor;\n",
       "  fill: currentColor;\n",
       "}\n",
       "</style><pre class='xr-text-repr-fallback'>&lt;xarray.Dataset&gt; Size: 24GB\n",
       "Dimensions:                          (y: 46000, x: 65000)\n",
       "Coordinates:\n",
       "    spatial_ref                      int64 8B ...\n",
       "  * x                                (x) float64 520kB 9e+05 ... 7.4e+06\n",
       "  * y                                (y) float64 368kB 5.5e+06 5.5e+06 ... 9e+05\n",
       "Data variables:\n",
       "    TCD_2015_100m_eu_03035_d04_Full  (y, x) float64 24GB dask.array&lt;chunksize=(2000, 2000), meta=np.ndarray&gt;\n",
       "Attributes:\n",
       "    source:   file:///home/yogesh/Projects/BC/xcube-clms/examples/notebooks/c...</pre><div class='xr-wrap' style='display:none'><div class='xr-header'><div class='xr-obj-type'>xarray.Dataset</div></div><ul class='xr-sections'><li class='xr-section-item'><input id='section-0598aaac-6d59-4d0e-9d95-e5bb592360f8' class='xr-section-summary-in' type='checkbox' disabled ><label for='section-0598aaac-6d59-4d0e-9d95-e5bb592360f8' class='xr-section-summary'  title='Expand/collapse section'>Dimensions:</label><div class='xr-section-inline-details'><ul class='xr-dim-list'><li><span class='xr-has-index'>y</span>: 46000</li><li><span class='xr-has-index'>x</span>: 65000</li></ul></div><div class='xr-section-details'></div></li><li class='xr-section-item'><input id='section-63d190dd-954d-4c97-9c37-dcc24a322c15' class='xr-section-summary-in' type='checkbox'  checked><label for='section-63d190dd-954d-4c97-9c37-dcc24a322c15' class='xr-section-summary' >Coordinates: <span>(3)</span></label><div class='xr-section-inline-details'></div><div class='xr-section-details'><ul class='xr-var-list'><li class='xr-var-item'><div class='xr-var-name'><span>spatial_ref</span></div><div class='xr-var-dims'>()</div><div class='xr-var-dtype'>int64</div><div class='xr-var-preview xr-preview'>...</div><input id='attrs-cae4b3b6-1788-44b8-a6b9-7b70fadeb53c' class='xr-var-attrs-in' type='checkbox' ><label for='attrs-cae4b3b6-1788-44b8-a6b9-7b70fadeb53c' title='Show/Hide attributes'><svg class='icon xr-icon-file-text2'><use xlink:href='#icon-file-text2'></use></svg></label><input id='data-810c663b-8812-4a25-93e5-f3b740b13ca8' class='xr-var-data-in' type='checkbox'><label for='data-810c663b-8812-4a25-93e5-f3b740b13ca8' title='Show/Hide data repr'><svg class='icon xr-icon-database'><use xlink:href='#icon-database'></use></svg></label><div class='xr-var-attrs'><dl class='xr-attrs'><dt><span>GeoTransform :</span></dt><dd>900000.0 100.0 0.0 5500000.0 0.0 -100.0</dd><dt><span>crs_wkt :</span></dt><dd>PROJCS[&quot;ETRS89-extended / LAEA Europe&quot;,GEOGCS[&quot;ETRS89&quot;,DATUM[&quot;European_Terrestrial_Reference_System_1989&quot;,SPHEROID[&quot;GRS 1980&quot;,6378137,298.257222101004,AUTHORITY[&quot;EPSG&quot;,&quot;7019&quot;]],AUTHORITY[&quot;EPSG&quot;,&quot;6258&quot;]],PRIMEM[&quot;Greenwich&quot;,0],UNIT[&quot;degree&quot;,0.0174532925199433,AUTHORITY[&quot;EPSG&quot;,&quot;9122&quot;]],AUTHORITY[&quot;EPSG&quot;,&quot;4258&quot;]],PROJECTION[&quot;Lambert_Azimuthal_Equal_Area&quot;],PARAMETER[&quot;latitude_of_center&quot;,52],PARAMETER[&quot;longitude_of_center&quot;,10],PARAMETER[&quot;false_easting&quot;,4321000],PARAMETER[&quot;false_northing&quot;,3210000],UNIT[&quot;metre&quot;,1],AXIS[&quot;Easting&quot;,EAST],AXIS[&quot;Northing&quot;,NORTH],AUTHORITY[&quot;EPSG&quot;,&quot;3035&quot;]]</dd><dt><span>false_easting :</span></dt><dd>4321000.0</dd><dt><span>false_northing :</span></dt><dd>3210000.0</dd><dt><span>geographic_crs_name :</span></dt><dd>ETRS89</dd><dt><span>grid_mapping_name :</span></dt><dd>lambert_azimuthal_equal_area</dd><dt><span>horizontal_datum_name :</span></dt><dd>European Terrestrial Reference System 1989</dd><dt><span>inverse_flattening :</span></dt><dd>298.257222101004</dd><dt><span>latitude_of_projection_origin :</span></dt><dd>52.0</dd><dt><span>longitude_of_prime_meridian :</span></dt><dd>0.0</dd><dt><span>longitude_of_projection_origin :</span></dt><dd>10.0</dd><dt><span>prime_meridian_name :</span></dt><dd>Greenwich</dd><dt><span>projected_crs_name :</span></dt><dd>ETRS89-extended / LAEA Europe</dd><dt><span>reference_ellipsoid_name :</span></dt><dd>GRS 1980</dd><dt><span>semi_major_axis :</span></dt><dd>6378137.0</dd><dt><span>semi_minor_axis :</span></dt><dd>6356752.314140356</dd><dt><span>spatial_ref :</span></dt><dd>PROJCS[&quot;ETRS89-extended / LAEA Europe&quot;,GEOGCS[&quot;ETRS89&quot;,DATUM[&quot;European_Terrestrial_Reference_System_1989&quot;,SPHEROID[&quot;GRS 1980&quot;,6378137,298.257222101004,AUTHORITY[&quot;EPSG&quot;,&quot;7019&quot;]],AUTHORITY[&quot;EPSG&quot;,&quot;6258&quot;]],PRIMEM[&quot;Greenwich&quot;,0],UNIT[&quot;degree&quot;,0.0174532925199433,AUTHORITY[&quot;EPSG&quot;,&quot;9122&quot;]],AUTHORITY[&quot;EPSG&quot;,&quot;4258&quot;]],PROJECTION[&quot;Lambert_Azimuthal_Equal_Area&quot;],PARAMETER[&quot;latitude_of_center&quot;,52],PARAMETER[&quot;longitude_of_center&quot;,10],PARAMETER[&quot;false_easting&quot;,4321000],PARAMETER[&quot;false_northing&quot;,3210000],UNIT[&quot;metre&quot;,1],AXIS[&quot;Easting&quot;,EAST],AXIS[&quot;Northing&quot;,NORTH],AUTHORITY[&quot;EPSG&quot;,&quot;3035&quot;]]</dd></dl></div><div class='xr-var-data'><pre>[1 values with dtype=int64]</pre></div></li><li class='xr-var-item'><div class='xr-var-name'><span class='xr-has-index'>x</span></div><div class='xr-var-dims'>(x)</div><div class='xr-var-dtype'>float64</div><div class='xr-var-preview xr-preview'>9e+05 9.002e+05 ... 7.4e+06 7.4e+06</div><input id='attrs-35ddfe95-6315-40dd-8d9a-c58610406610' class='xr-var-attrs-in' type='checkbox' disabled><label for='attrs-35ddfe95-6315-40dd-8d9a-c58610406610' title='Show/Hide attributes'><svg class='icon xr-icon-file-text2'><use xlink:href='#icon-file-text2'></use></svg></label><input id='data-07c09010-ab67-4b57-8c30-e59235aef869' class='xr-var-data-in' type='checkbox'><label for='data-07c09010-ab67-4b57-8c30-e59235aef869' title='Show/Hide data repr'><svg class='icon xr-icon-database'><use xlink:href='#icon-database'></use></svg></label><div class='xr-var-attrs'><dl class='xr-attrs'></dl></div><div class='xr-var-data'><pre>array([ 900050.,  900150.,  900250., ..., 7399750., 7399850., 7399950.],\n",
       "      shape=(65000,))</pre></div></li><li class='xr-var-item'><div class='xr-var-name'><span class='xr-has-index'>y</span></div><div class='xr-var-dims'>(y)</div><div class='xr-var-dtype'>float64</div><div class='xr-var-preview xr-preview'>5.5e+06 5.5e+06 ... 9.002e+05 9e+05</div><input id='attrs-d4697e12-0a58-4fdc-b5ae-826308cea83a' class='xr-var-attrs-in' type='checkbox' disabled><label for='attrs-d4697e12-0a58-4fdc-b5ae-826308cea83a' title='Show/Hide attributes'><svg class='icon xr-icon-file-text2'><use xlink:href='#icon-file-text2'></use></svg></label><input id='data-985285ba-afa3-4451-9ccd-172a9842c325' class='xr-var-data-in' type='checkbox'><label for='data-985285ba-afa3-4451-9ccd-172a9842c325' title='Show/Hide data repr'><svg class='icon xr-icon-database'><use xlink:href='#icon-database'></use></svg></label><div class='xr-var-attrs'><dl class='xr-attrs'></dl></div><div class='xr-var-data'><pre>array([5499950., 5499850., 5499750., ...,  900250.,  900150.,  900050.],\n",
       "      shape=(46000,))</pre></div></li></ul></div></li><li class='xr-section-item'><input id='section-3fdec83b-dd61-4c27-8a84-79a695a50104' class='xr-section-summary-in' type='checkbox'  checked><label for='section-3fdec83b-dd61-4c27-8a84-79a695a50104' class='xr-section-summary' >Data variables: <span>(1)</span></label><div class='xr-section-inline-details'></div><div class='xr-section-details'><ul class='xr-var-list'><li class='xr-var-item'><div class='xr-var-name'><span>TCD_2015_100m_eu_03035_d04_Full</span></div><div class='xr-var-dims'>(y, x)</div><div class='xr-var-dtype'>float64</div><div class='xr-var-preview xr-preview'>dask.array&lt;chunksize=(2000, 2000), meta=np.ndarray&gt;</div><input id='attrs-40a8887f-8d42-4aa3-9c07-32bc287ce5b4' class='xr-var-attrs-in' type='checkbox' ><label for='attrs-40a8887f-8d42-4aa3-9c07-32bc287ce5b4' title='Show/Hide attributes'><svg class='icon xr-icon-file-text2'><use xlink:href='#icon-file-text2'></use></svg></label><input id='data-321c2cde-b1fb-4d98-a57d-5213f13973d5' class='xr-var-data-in' type='checkbox'><label for='data-321c2cde-b1fb-4d98-a57d-5213f13973d5' title='Show/Hide data repr'><svg class='icon xr-icon-database'><use xlink:href='#icon-database'></use></svg></label><div class='xr-var-attrs'><dl class='xr-attrs'><dt><span>AREA_OR_POINT :</span></dt><dd>Area</dd><dt><span>RepresentationType :</span></dt><dd>ATHEMATIC</dd><dt><span>grid_mapping :</span></dt><dd>spatial_ref</dd></dl></div><div class='xr-var-data'><table>\n",
       "    <tr>\n",
       "        <td>\n",
       "            <table style=\"border-collapse: collapse;\">\n",
       "                <thead>\n",
       "                    <tr>\n",
       "                        <td> </td>\n",
       "                        <th> Array </th>\n",
       "                        <th> Chunk </th>\n",
       "                    </tr>\n",
       "                </thead>\n",
       "                <tbody>\n",
       "                    \n",
       "                    <tr>\n",
       "                        <th> Bytes </th>\n",
       "                        <td> 22.28 GiB </td>\n",
       "                        <td> 30.52 MiB </td>\n",
       "                    </tr>\n",
       "                    \n",
       "                    <tr>\n",
       "                        <th> Shape </th>\n",
       "                        <td> (46000, 65000) </td>\n",
       "                        <td> (2000, 2000) </td>\n",
       "                    </tr>\n",
       "                    <tr>\n",
       "                        <th> Dask graph </th>\n",
       "                        <td colspan=\"2\"> 759 chunks in 2 graph layers </td>\n",
       "                    </tr>\n",
       "                    <tr>\n",
       "                        <th> Data type </th>\n",
       "                        <td colspan=\"2\"> float64 numpy.ndarray </td>\n",
       "                    </tr>\n",
       "                </tbody>\n",
       "            </table>\n",
       "        </td>\n",
       "        <td>\n",
       "        <svg width=\"170\" height=\"134\" style=\"stroke:rgb(0,0,0);stroke-width:1\" >\n",
       "\n",
       "  <!-- Horizontal lines -->\n",
       "  <line x1=\"0\" y1=\"0\" x2=\"120\" y2=\"0\" style=\"stroke-width:2\" />\n",
       "  <line x1=\"0\" y1=\"3\" x2=\"120\" y2=\"3\" />\n",
       "  <line x1=\"0\" y1=\"7\" x2=\"120\" y2=\"7\" />\n",
       "  <line x1=\"0\" y1=\"11\" x2=\"120\" y2=\"11\" />\n",
       "  <line x1=\"0\" y1=\"14\" x2=\"120\" y2=\"14\" />\n",
       "  <line x1=\"0\" y1=\"22\" x2=\"120\" y2=\"22\" />\n",
       "  <line x1=\"0\" y1=\"25\" x2=\"120\" y2=\"25\" />\n",
       "  <line x1=\"0\" y1=\"29\" x2=\"120\" y2=\"29\" />\n",
       "  <line x1=\"0\" y1=\"33\" x2=\"120\" y2=\"33\" />\n",
       "  <line x1=\"0\" y1=\"36\" x2=\"120\" y2=\"36\" />\n",
       "  <line x1=\"0\" y1=\"44\" x2=\"120\" y2=\"44\" />\n",
       "  <line x1=\"0\" y1=\"48\" x2=\"120\" y2=\"48\" />\n",
       "  <line x1=\"0\" y1=\"51\" x2=\"120\" y2=\"51\" />\n",
       "  <line x1=\"0\" y1=\"55\" x2=\"120\" y2=\"55\" />\n",
       "  <line x1=\"0\" y1=\"59\" x2=\"120\" y2=\"59\" />\n",
       "  <line x1=\"0\" y1=\"66\" x2=\"120\" y2=\"66\" />\n",
       "  <line x1=\"0\" y1=\"70\" x2=\"120\" y2=\"70\" />\n",
       "  <line x1=\"0\" y1=\"73\" x2=\"120\" y2=\"73\" />\n",
       "  <line x1=\"0\" y1=\"77\" x2=\"120\" y2=\"77\" />\n",
       "  <line x1=\"0\" y1=\"84\" x2=\"120\" y2=\"84\" style=\"stroke-width:2\" />\n",
       "\n",
       "  <!-- Vertical lines -->\n",
       "  <line x1=\"0\" y1=\"0\" x2=\"0\" y2=\"84\" style=\"stroke-width:2\" />\n",
       "  <line x1=\"3\" y1=\"0\" x2=\"3\" y2=\"84\" />\n",
       "  <line x1=\"11\" y1=\"0\" x2=\"11\" y2=\"84\" />\n",
       "  <line x1=\"18\" y1=\"0\" x2=\"18\" y2=\"84\" />\n",
       "  <line x1=\"22\" y1=\"0\" x2=\"22\" y2=\"84\" />\n",
       "  <line x1=\"29\" y1=\"0\" x2=\"29\" y2=\"84\" />\n",
       "  <line x1=\"36\" y1=\"0\" x2=\"36\" y2=\"84\" />\n",
       "  <line x1=\"44\" y1=\"0\" x2=\"44\" y2=\"84\" />\n",
       "  <line x1=\"48\" y1=\"0\" x2=\"48\" y2=\"84\" />\n",
       "  <line x1=\"55\" y1=\"0\" x2=\"55\" y2=\"84\" />\n",
       "  <line x1=\"62\" y1=\"0\" x2=\"62\" y2=\"84\" />\n",
       "  <line x1=\"70\" y1=\"0\" x2=\"70\" y2=\"84\" />\n",
       "  <line x1=\"73\" y1=\"0\" x2=\"73\" y2=\"84\" />\n",
       "  <line x1=\"81\" y1=\"0\" x2=\"81\" y2=\"84\" />\n",
       "  <line x1=\"88\" y1=\"0\" x2=\"88\" y2=\"84\" />\n",
       "  <line x1=\"96\" y1=\"0\" x2=\"96\" y2=\"84\" />\n",
       "  <line x1=\"99\" y1=\"0\" x2=\"99\" y2=\"84\" />\n",
       "  <line x1=\"107\" y1=\"0\" x2=\"107\" y2=\"84\" />\n",
       "  <line x1=\"114\" y1=\"0\" x2=\"114\" y2=\"84\" />\n",
       "  <line x1=\"120\" y1=\"0\" x2=\"120\" y2=\"84\" style=\"stroke-width:2\" />\n",
       "\n",
       "  <!-- Colored Rectangle -->\n",
       "  <polygon points=\"0.0,0.0 120.0,0.0 120.0,84.92307692307692 0.0,84.92307692307692\" style=\"fill:#8B4903A0;stroke-width:0\"/>\n",
       "\n",
       "  <!-- Text -->\n",
       "  <text x=\"60.000000\" y=\"104.923077\" font-size=\"1.0rem\" font-weight=\"100\" text-anchor=\"middle\" >65000</text>\n",
       "  <text x=\"140.000000\" y=\"42.461538\" font-size=\"1.0rem\" font-weight=\"100\" text-anchor=\"middle\" transform=\"rotate(-90,140.000000,42.461538)\">46000</text>\n",
       "</svg>\n",
       "        </td>\n",
       "    </tr>\n",
       "</table></div></li></ul></div></li><li class='xr-section-item'><input id='section-f4e152fb-6d9b-4dcf-a816-74126415245e' class='xr-section-summary-in' type='checkbox'  ><label for='section-f4e152fb-6d9b-4dcf-a816-74126415245e' class='xr-section-summary' >Indexes: <span>(2)</span></label><div class='xr-section-inline-details'></div><div class='xr-section-details'><ul class='xr-var-list'><li class='xr-var-item'><div class='xr-index-name'><div>x</div></div><div class='xr-index-preview'>PandasIndex</div><input type='checkbox' disabled/><label></label><input id='index-7fed8535-0374-4c56-879d-c00b703d516a' class='xr-index-data-in' type='checkbox'/><label for='index-7fed8535-0374-4c56-879d-c00b703d516a' title='Show/Hide index repr'><svg class='icon xr-icon-database'><use xlink:href='#icon-database'></use></svg></label><div class='xr-index-data'><pre>PandasIndex(Index([ 900050.0,  900150.0,  900250.0,  900350.0,  900450.0,  900550.0,\n",
       "        900650.0,  900750.0,  900850.0,  900950.0,\n",
       "       ...\n",
       "       7399050.0, 7399150.0, 7399250.0, 7399350.0, 7399450.0, 7399550.0,\n",
       "       7399650.0, 7399750.0, 7399850.0, 7399950.0],\n",
       "      dtype=&#x27;float64&#x27;, name=&#x27;x&#x27;, length=65000))</pre></div></li><li class='xr-var-item'><div class='xr-index-name'><div>y</div></div><div class='xr-index-preview'>PandasIndex</div><input type='checkbox' disabled/><label></label><input id='index-4c9e8b98-6db6-422f-be94-301df6e47fb6' class='xr-index-data-in' type='checkbox'/><label for='index-4c9e8b98-6db6-422f-be94-301df6e47fb6' title='Show/Hide index repr'><svg class='icon xr-icon-database'><use xlink:href='#icon-database'></use></svg></label><div class='xr-index-data'><pre>PandasIndex(Index([5499950.0, 5499850.0, 5499750.0, 5499650.0, 5499550.0, 5499450.0,\n",
       "       5499350.0, 5499250.0, 5499150.0, 5499050.0,\n",
       "       ...\n",
       "        900950.0,  900850.0,  900750.0,  900650.0,  900550.0,  900450.0,\n",
       "        900350.0,  900250.0,  900150.0,  900050.0],\n",
       "      dtype=&#x27;float64&#x27;, name=&#x27;y&#x27;, length=46000))</pre></div></li></ul></div></li><li class='xr-section-item'><input id='section-e8fdecea-a540-4de6-872c-bc58cdc4180d' class='xr-section-summary-in' type='checkbox'  checked><label for='section-e8fdecea-a540-4de6-872c-bc58cdc4180d' class='xr-section-summary' >Attributes: <span>(1)</span></label><div class='xr-section-inline-details'></div><div class='xr-section-details'><dl class='xr-attrs'><dt><span>source :</span></dt><dd>file:///home/yogesh/Projects/BC/xcube-clms/examples/notebooks/clms_cache/downloads/tree-cover-density-2015|TCD_2015_100m_eu_03035_d04_Full/TCD_2015_100m_eu_03035_d04_full.tif</dd></dl></div></li></ul></div></div>"
      ],
      "text/plain": [
       "<xarray.Dataset> Size: 24GB\n",
       "Dimensions:                          (y: 46000, x: 65000)\n",
       "Coordinates:\n",
       "    spatial_ref                      int64 8B ...\n",
       "  * x                                (x) float64 520kB 9e+05 ... 7.4e+06\n",
       "  * y                                (y) float64 368kB 5.5e+06 5.5e+06 ... 9e+05\n",
       "Data variables:\n",
       "    TCD_2015_100m_eu_03035_d04_Full  (y, x) float64 24GB dask.array<chunksize=(2000, 2000), meta=np.ndarray>\n",
       "Attributes:\n",
       "    source:   file:///home/yogesh/Projects/BC/xcube-clms/examples/notebooks/c..."
      ]
     },
     "execution_count": 19,
     "metadata": {},
     "output_type": "execute_result"
    }
   ],
   "source": [
    "%%time\n",
    "tcd = cache_data_store.open_data(\n",
    "    \"tree-cover-density-2015|TCD_2015_100m_eu_03035_d04_Full.zarr\"\n",
    ")\n",
    "tcd"
   ]
  },
  {
   "cell_type": "code",
   "execution_count": 20,
   "id": "db6dd0e9-4e67-4e77-a7d6-33be2b122e87",
   "metadata": {},
   "outputs": [
    {
     "name": "stdout",
     "output_type": "stream",
     "text": [
      "CPU times: user 2.66 s, sys: 347 ms, total: 3 s\n",
      "Wall time: 1.79 s\n"
     ]
    },
    {
     "data": {
      "text/plain": [
       "<matplotlib.collections.QuadMesh at 0x731af91992b0>"
      ]
     },
     "execution_count": 20,
     "metadata": {},
     "output_type": "execute_result"
    },
    {
     "data": {
      "image/png": "[encoded data removed]",
      "text/plain": [
       "<Figure size 640x480 with 2 Axes>"
      ]
     },
     "metadata": {},
     "output_type": "display_data"
    }
   ],
   "source": [
    "%%time\n",
    "downsampled_cube = fty.isel(\n",
    "    x=slice(None, None, 100),\n",
    "    y=slice(None, None, 100),\n",
    ")\n",
    "downsampled_cube.FTY_2015_100m_eu_03035_d02_Full.plot(vmin=0, vmax=100)"
   ]
  },
  {
   "cell_type": "code",
   "execution_count": 21,
   "id": "e702f80e-4da7-4726-baea-3aa276b474ea",
   "metadata": {},
   "outputs": [
    {
     "name": "stdout",
     "output_type": "stream",
     "text": [
      "CPU times: user 2.01 s, sys: 384 ms, total: 2.39 s\n",
      "Wall time: 1.18 s\n"
     ]
    },
    {
     "data": {
      "text/plain": [
       "<matplotlib.collections.QuadMesh at 0x731af900f4d0>"
      ]
     },
     "execution_count": 21,
     "metadata": {},
     "output_type": "execute_result"
    },
    {
     "data": {
      "image/png": "[encoded data removed]",
      "text/plain": [
       "<Figure size 640x480 with 2 Axes>"
      ]
     },
     "metadata": {},
     "output_type": "display_data"
    }
   ],
   "source": [
    "%%time\n",
    "downsampled_cube = tcd.isel(\n",
    "    x=slice(None, None, 100),\n",
    "    y=slice(None, None, 100),\n",
    ")\n",
    "downsampled_cube.TCD_2015_100m_eu_03035_d04_Full.plot(vmin=0, vmax=100)"
   ]
  },
  {
   "cell_type": "markdown",
   "id": "0ec5f30d-2795-4ac1-8b35-090ace6a8828",
   "metadata": {},
   "source": [
    "Execute the following command to terminate the preload job and trigger the cleanup process to clean the `downloads` directory. This step is only necessary if the preload job was originally run with `cleanup=False`, as downloads will not be removed automatically in that case. If `cleanup=True` was used (which is the default), the cleanup is performed automatically upon completion of the preload job."
   ]
  },
  {
   "cell_type": "code",
   "execution_count": 22,
   "id": "01ad4281-3270-4544-a89f-42910d13c78e",
   "metadata": {},
   "outputs": [
    {
     "data": {
      "text/html": [
       "<table>\n",
       "<thead>\n",
       "<tr><th>Data ID                                                </th><th>Status  </th><th>Progress  </th><th>Message              </th><th>Exception  </th></tr>\n",
       "</thead>\n",
       "<tbody>\n",
       "<tr><td>tree-cover-density-2015|TCD_2015_100m_eu_03035_d04_Full</td><td>STOPPED </td><td>100%      </td><td>Cleaning up Finished.</td><td>-          </td></tr>\n",
       "<tr><td>forest-type-2015|FTY_2015_100m_eu_03035_d02_Full       </td><td>STOPPED </td><td>100%      </td><td>Cleaning up Finished.</td><td>-          </td></tr>\n",
       "</tbody>\n",
       "</table>"
      ],
      "text/plain": [
       "Data ID                                                  Status    Progress    Message                Exception\n",
       "-------------------------------------------------------  --------  ----------  ---------------------  -----------\n",
       "tree-cover-density-2015|TCD_2015_100m_eu_03035_d04_Full  STOPPED   100%        Cleaning up Finished.  -\n",
       "forest-type-2015|FTY_2015_100m_eu_03035_d02_Full         STOPPED   100%        Cleaning up Finished.  -"
      ]
     },
     "execution_count": 22,
     "metadata": {},
     "output_type": "execute_result"
    }
   ],
   "source": [
    "handle1.close()\n",
    "handle1"
   ]
  }
 ],
 "metadata": {
  "kernelspec": {
   "display_name": "Python 3 (ipykernel)",
   "language": "python",
   "name": "python3"
  },
  "language_info": {
   "codemirror_mode": {
    "name": "ipython",
    "version": 3
   },
   "file_extension": ".py",
   "mimetype": "text/x-python",
   "name": "python",
   "nbconvert_exporter": "python",
   "pygments_lexer": "ipython3",
   "version": "3.13.3"
  }
 },
 "nbformat": 4,
 "nbformat_minor": 5
}
