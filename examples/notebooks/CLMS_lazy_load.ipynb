{
 "cells": [
  {
   "cell_type": "markdown",
   "id": "50985101-4004-4e4d-b982-d7d32945bcaa",
   "metadata": {},
   "source": [
    "## Tutorial notebook on how to use the CLMS Data Store for `LEGACY` datasets from the `CLMS API`"
   ]
  },
  {
   "cell_type": "markdown",
   "id": "37f47aa9-5c98-4210-ab67-c64781757c24",
   "metadata": {},
   "source": [
    "This notebook shows the lazy opening of datasets from the CLMS API that are opened as xarray datasets"
   ]
  },
  {
   "cell_type": "markdown",
   "id": "96e0272e-c2c0-4051-83b1-500f8a1b47eb",
   "metadata": {},
   "source": [
    "### Setup\n",
    "In order to run this notebook, you need to install [`xcube_clms`](https://github.com/xcube-dev/xcube-clms). You can install it following either of the steps below:\n",
    "\n",
    "1. via `conda-forge`\n",
    "```bash\n",
    "conda env create -f environment.yml\n",
    "conda activate xcube-clms\n",
    "conda install xcube-clms\n",
    "```\n",
    "\n",
    "2. via Development mode\n",
    "\n",
    "```bash\n",
    "git clone https://github.com/xcube-dev/xcube-clms.git\n",
    "cd xcube-clms\n",
    "conda env create -f environment.yml\n",
    "conda activate xcube-clms\n",
    "pip install .\n",
    "```\n",
    "\n",
    "\n",
    "Note that [`xcube_clms`](https://github.com/xcube-dev/xcube-clms) is a plugin of [`xcube`](https://xcube.readthedocs.io/en/latest/), where `xcube` is included in the `environment.yml`.  \n",
    "\n",
    "You also need the credentials from the Land Monitoring service. Please follows the steps outlined [`here`](https://eea.github.io/clms-api-docs/authentication.html) to download your credentials and place them in the same directory as this notebook."
   ]
  },
  {
   "cell_type": "code",
   "execution_count": 1,
   "id": "250f9f6f-af1d-42b5-a710-07ddf5cd92cc",
   "metadata": {},
   "outputs": [
    {
     "name": "stdout",
     "output_type": "stream",
     "text": [
      "CPU times: user 2.48 s, sys: 361 ms, total: 2.84 s\n",
      "Wall time: 1.81 s\n"
     ]
    }
   ],
   "source": [
    "%%time\n",
    "import json\n",
    "\n",
    "from xcube.core.store import new_data_store"
   ]
  },
  {
   "cell_type": "markdown",
   "id": "f348d2f4-5e98-483b-b5b3-e435ed1c337a",
   "metadata": {},
   "source": [
    "To get the credentials.json, please follow the steps outlined [here](https://eea.github.io/clms-api-docs/authentication.html)"
   ]
  },
  {
   "cell_type": "code",
   "execution_count": 2,
   "id": "63d5217a-6656-4d4a-b87b-60af717aa6ab",
   "metadata": {},
   "outputs": [
    {
     "name": "stdout",
     "output_type": "stream",
     "text": [
      "CPU times: user 527 μs, sys: 0 ns, total: 527 μs\n",
      "Wall time: 363 μs\n"
     ]
    }
   ],
   "source": [
    "%%time\n",
    "json_file_path = \"credentials.json\"\n",
    "with open(json_file_path, \"r\") as j:\n",
    "    credentials = json.loads(j.read())"
   ]
  },
  {
   "cell_type": "markdown",
   "id": "2d0e67eb-c063-4878-ad2c-66c321379cc2",
   "metadata": {},
   "source": [
    "When the user creates a new CLMS data store, it already sends requests to the CLMS API to get the catalog information which takes around 15-20 seconds. If no path is provided for the cache location, it will create a `clms_cache/` in the current directory to store all the downloaded data and initialize a local file store"
   ]
  },
  {
   "cell_type": "code",
   "execution_count": 3,
   "id": "d385ac31-4b59-458b-ab65-207eb317145a",
   "metadata": {
    "scrolled": true
   },
   "outputs": [
    {
     "name": "stdout",
     "output_type": "stream",
     "text": [
      "CPU times: user 236 ms, sys: 106 ms, total: 343 ms\n",
      "Wall time: 23.1 s\n"
     ]
    }
   ],
   "source": [
    "%%time\n",
    "clms_data_store = new_data_store(\"clms\", credentials=credentials)"
   ]
  },
  {
   "cell_type": "markdown",
   "id": "62985bca-4c61-4d80-97cd-615376118c21",
   "metadata": {},
   "source": [
    "The `Cache Store` within the CLMS data store is another data store which can be any user-defined data store. It defaults to the `file` store. Use `cache_id` and `cache_params` to provide information about the data store you would like to use for caching the preloaded data "
   ]
  },
  {
   "cell_type": "code",
   "execution_count": 4,
   "id": "df27a0ee-e395-4372-bd37-f2ebfb0f37b0",
   "metadata": {
    "scrolled": true
   },
   "outputs": [
    {
     "name": "stdout",
     "output_type": "stream",
     "text": [
      "CPU times: user 6.2 ms, sys: 1.23 ms, total: 7.43 ms\n",
      "Wall time: 7.16 ms\n"
     ]
    },
    {
     "data": {
      "text/plain": [
       "[('lake-ice-extent-europe-v2-250m',\n",
       "  {'@id': 'bec918b1-0ac9-4a8f-8973-a88393c37905',\n",
       "   'collection': '250m',\n",
       "   'full_format': 'Netcdf',\n",
       "   'full_path': 'https://globalland.vito.be/download/manifest/lie_250m_v2_daily_netcdf/manifest_clms_global_lie_250m_v2_daily_netcdf_latest.txt',\n",
       "   'full_source': 'LEGACY',\n",
       "   'layers': ['ALL BANDS'],\n",
       "   'name': 'RASTER',\n",
       "   'wekeo_choices': ''}),\n",
       " ('lake-water-quality-near-real-time-v2-0-300m',\n",
       "  {'@id': '8fa1dbba-3898-4eb7-b84c-643c283246ca',\n",
       "   'collection': '300m',\n",
       "   'full_format': 'Netcdf',\n",
       "   'full_path': 'https://globalland.vito.be/download/manifest/lwq_300m_v2_10daily-nrt_netcdf/manifest_clms_global_lwq_300m_v2_10daily-nrt_netcdf_latest.txt',\n",
       "   'full_source': 'LEGACY',\n",
       "   'layers': ['ALL BANDS'],\n",
       "   'name': 'RASTER'}),\n",
       " ('clc-backbone-2021|CLMS_CLCplus_RASTER_2021',\n",
       "  {'@id': 'b813d203-d09b-4663-95f7-65dc6d53789e',\n",
       "   'area': 'Europe',\n",
       "   'file': 'CLMS_CLCplus_RASTER_2021',\n",
       "   'format': 'Geotiff',\n",
       "   'path': 'H:\\\\Corine_Land_Cover_Backbone\\\\Corine_Land_Cover_Backbone_CLCBB_2021\\\\CLC_BB_2021\\\\Data\\\\data-details\\\\raster\\\\CLMS_CLCplus_RASTER_2021.zip',\n",
       "   'resolution': '10 m',\n",
       "   'size': '7 GB',\n",
       "   'source': 'EEA',\n",
       "   'title': '',\n",
       "   'type': 'Raster',\n",
       "   'version': 'V1_1',\n",
       "   'year': ''}),\n",
       " ('burnt-area-v3-1-daily-300m',\n",
       "  {'@id': 'e38378ca-6fea-40a9-8939-a5425a4bdf91',\n",
       "   'collection': '300m',\n",
       "   'full_format': {'title': 'Netcdf', 'token': 'Netcdf'},\n",
       "   'full_path': 'https://globalland.vito.be/download/manifest/ba_300m_v3_daily_netcdf/manifest_clms_global_ba_300m_v3_daily_netcdf_latest.txt',\n",
       "   'full_source': 'LEGACY',\n",
       "   'layers': ['ALL BANDS'],\n",
       "   'name': 'RASTER',\n",
       "   'wekeo_choices': ''}),\n",
       " ('clc-backbone-2018|CLMS_CLCplus_RASTER_2018_010m_eu_03035_V1_1',\n",
       "  {'@id': 'c3290e93-1463-4bed-93c9-6315b0059048',\n",
       "   'area': 'Europe',\n",
       "   'file': 'CLMS_CLCplus_RASTER_2018_010m_eu_03035_V1_1',\n",
       "   'format': 'Geotiff',\n",
       "   'path': 'H:\\\\Corine_Land_Cover_Backbone\\\\Corine_Land_Cover_Backbone_CLCBB_2018\\\\CLC_BB_2018\\\\Data\\\\data-details\\\\raster\\\\CLMS_CLCplus_RASTER_2018_010m_eu_03035_V1_1.zip',\n",
       "   'resolution': '10 m',\n",
       "   'size': '9 GB',\n",
       "   'source': 'EEA',\n",
       "   'title': '',\n",
       "   'type': 'Raster',\n",
       "   'version': 'V1_1',\n",
       "   'year': ''})]"
      ]
     },
     "execution_count": 4,
     "metadata": {},
     "output_type": "execute_result"
    }
   ],
   "source": [
    "%%time\n",
    "clms_data_store.list_data_ids(include_attrs=True)[:5]"
   ]
  },
  {
   "cell_type": "code",
   "execution_count": 5,
   "id": "c41d263c-b68c-49df-b037-660df1f0de91",
   "metadata": {},
   "outputs": [
    {
     "name": "stdout",
     "output_type": "stream",
     "text": [
      "CPU times: user 12 μs, sys: 2 μs, total: 14 μs\n",
      "Wall time: 18.8 μs\n"
     ]
    },
    {
     "data": {
      "text/plain": [
       "'/home/yogesh/Projects/BC/xcube-clms/examples/notebooks/clms_cache'"
      ]
     },
     "execution_count": 5,
     "metadata": {},
     "output_type": "execute_result"
    }
   ],
   "source": [
    "%%time\n",
    "clms_data_store.cache_store.root"
   ]
  },
  {
   "cell_type": "code",
   "execution_count": 6,
   "id": "c331de1d-7ba4-4efc-8635-ee1af6e8c1c4",
   "metadata": {},
   "outputs": [
    {
     "name": "stdout",
     "output_type": "stream",
     "text": [
      "CPU times: user 35 μs, sys: 7 μs, total: 42 μs\n",
      "Wall time: 44.1 μs\n"
     ]
    },
    {
     "data": {
      "application/json": {
       "additionalProperties": false,
       "properties": {
        "cache_store_id": {
         "default": "file",
         "description": "Store ID of a filesystem-based data store implemented in xcube.",
         "title": "Store ID of cache data store.",
         "type": "string"
        },
        "cache_store_params": {
         "default": {
          "root": "clms_cache/"
         },
         "description": "Parameters of a filesystem-based data store implemented in xcube. Provide parameters for a file data store if `cache_store_id` is not provided.",
         "properties": {},
         "title": "Store parameters of cache data store.",
         "type": "object"
        },
        "credentials": {
         "properties": {
          "client_id": {
           "type": "string"
          },
          "issued": {
           "type": "string"
          },
          "key_id": {
           "type": "string"
          },
          "private_key": {
           "type": "string"
          },
          "title": {
           "type": "string"
          },
          "token_uri": {
           "type": "string"
          },
          "user_id": {
           "type": "string"
          }
         },
         "required": [
          "client_id",
          "user_id",
          "token_uri",
          "private_key"
         ],
         "title": "CLMS API credentials that can be obtained following the steps outlined here. https://eea.github.io/clms-api-docs/authentication.html",
         "type": "object"
        }
       },
       "required": [
        "credentials"
       ],
       "type": "object"
      },
      "text/plain": [
       "<xcube.util.jsonschema.JsonObjectSchema at 0x7b70d554e270>"
      ]
     },
     "execution_count": 6,
     "metadata": {},
     "output_type": "execute_result"
    }
   ],
   "source": [
    "%%time\n",
    "clms_data_store.get_data_store_params_schema()"
   ]
  },
  {
   "cell_type": "markdown",
   "id": "4c0b03bb-c0ad-43f6-b8ed-00ab8173f023",
   "metadata": {},
   "source": [
    "With the following command, the users can see how the data_ids look like for the CLMS store. Due to the nature of the API, we came up with the computed data_id for some products containing several datasets within it that combines the product_id and item_id along with the `|` separator. But as a user, you dont have to worry about how it is created, but just that you need to use the complete data_id for interacting with any of the methods of this store"
   ]
  },
  {
   "cell_type": "code",
   "execution_count": 7,
   "id": "0b17f698-d9c7-49f5-b74e-0f001a8480be",
   "metadata": {
    "scrolled": true
   },
   "outputs": [
    {
     "name": "stdout",
     "output_type": "stream",
     "text": [
      "CPU times: user 1.94 ms, sys: 0 ns, total: 1.94 ms\n",
      "Wall time: 1.96 ms\n"
     ]
    },
    {
     "data": {
      "text/plain": [
       "['lake-ice-extent-europe-v2-250m',\n",
       " 'lake-water-quality-near-real-time-v2-0-300m',\n",
       " 'clc-backbone-2021|CLMS_CLCplus_RASTER_2021',\n",
       " 'burnt-area-v3-1-daily-300m',\n",
       " 'clc-backbone-2018|CLMS_CLCplus_RASTER_2018_010m_eu_03035_V1_1',\n",
       " 'forest-type-2015|FTY_2015_100m_eu_03035_d02_Full',\n",
       " 'forest-type-2015|FTY_2015_020m_eu_03035_d04_Full',\n",
       " 'forest-type-2015|FTY_2015_020m_eu_03035_d04_E00N20',\n",
       " 'forest-type-2015|FTY_2015_020m_eu_03035_d04_E10N00',\n",
       " 'forest-type-2015|FTY_2015_020m_eu_03035_d04_E10N10',\n",
       " 'forest-type-2015|FTY_2015_020m_eu_03035_d04_E10N20',\n",
       " 'forest-type-2015|FTY_2015_020m_eu_03035_d04_E20N10',\n",
       " 'forest-type-2015|FTY_2015_020m_eu_03035_d04_E20N20',\n",
       " 'forest-type-2015|FTY_2015_020m_eu_03035_d04_E20N30',\n",
       " 'forest-type-2015|FTY_2015_020m_eu_03035_d04_E20N40',\n",
       " 'forest-type-2015|FTY_2015_020m_eu_03035_d04_E20N50',\n",
       " 'forest-type-2015|FTY_2015_020m_eu_03035_d04_E30N10',\n",
       " 'forest-type-2015|FTY_2015_020m_eu_03035_d04_E30N20',\n",
       " 'forest-type-2015|FTY_2015_020m_eu_03035_d04_E30N30',\n",
       " 'forest-type-2015|FTY_2015_020m_eu_03035_d04_E30N40']"
      ]
     },
     "execution_count": 7,
     "metadata": {},
     "output_type": "execute_result"
    }
   ],
   "source": [
    "%%time\n",
    "clms_data_store.list_data_ids()[:20]"
   ]
  },
  {
   "cell_type": "code",
   "execution_count": 8,
   "id": "0a90d1a5-da69-43a1-87e7-7f975c9d9882",
   "metadata": {},
   "outputs": [
    {
     "name": "stdout",
     "output_type": "stream",
     "text": [
      "CPU times: user 4 μs, sys: 1 μs, total: 5 μs\n",
      "Wall time: 6.91 μs\n"
     ]
    },
    {
     "data": {
      "text/plain": [
       "('dataset:zarr:file', 'dataset:netcdf:https')"
      ]
     },
     "execution_count": 8,
     "metadata": {},
     "output_type": "execute_result"
    }
   ],
   "source": [
    "%%time\n",
    "clms_data_store.get_data_opener_ids()"
   ]
  },
  {
   "cell_type": "code",
   "execution_count": 9,
   "id": "69c51474-ed5b-4fef-b89b-75d728f25975",
   "metadata": {},
   "outputs": [
    {
     "name": "stdout",
     "output_type": "stream",
     "text": [
      "CPU times: user 8 μs, sys: 0 ns, total: 8 μs\n",
      "Wall time: 17.2 μs\n"
     ]
    },
    {
     "data": {
      "text/plain": [
       "('dataset',)"
      ]
     },
     "execution_count": 9,
     "metadata": {},
     "output_type": "execute_result"
    }
   ],
   "source": [
    "%%time\n",
    "clms_data_store.get_data_types()"
   ]
  },
  {
   "cell_type": "code",
   "execution_count": 10,
   "id": "8fa4193f-8d9d-4481-9212-0c86621d2c75",
   "metadata": {},
   "outputs": [
    {
     "name": "stdout",
     "output_type": "stream",
     "text": [
      "CPU times: user 44.9 ms, sys: 2.11 ms, total: 47 ms\n",
      "Wall time: 244 ms\n"
     ]
    },
    {
     "data": {
      "application/json": {
       "properties": {
        "eea": {
         "additionalProperties": false,
         "properties": {
          "cache_size": {
           "minimum": 0,
           "type": "integer"
          },
          "chunks": {
           "additionalProperties": true,
           "description": "Optional chunk sizes along each dimension. Chunk size values may be None, \"auto\" or an integer value.",
           "examples": [
            {
             "lat": "auto",
             "lon": 90,
             "time": null
            },
            {
             "time": 1,
             "x": 512,
             "y": 512
            }
           ],
           "properties": {},
           "type": "object"
          },
          "consolidated": {
           "default": false,
           "description": "Whether to open the store using Zarr's consolidated metadata capability. Only works for stores that have already been consolidated.",
           "type": "boolean"
          },
          "data_type": {
           "enum": [
            "geodataframe",
            "dataset",
            "mldataset"
           ],
           "title": "Optional data type",
           "type": "string"
          },
          "decode_cf": {
           "default": true,
           "description": "Whether to decode these variables, assuming they were saved according to CF conventions.",
           "type": "boolean"
          },
          "decode_coords": {
           "default": true,
           "description": "If True, decode the \"coordinates\" attribute to identify coordinates in the resulting dataset.",
           "type": "boolean"
          },
          "decode_times": {
           "default": true,
           "description": "If True, decode times encoded in the standard NetCDF datetime format into datetime objects. Otherwise, leave them encoded as numbers.",
           "type": "boolean"
          },
          "drop_variables": {
           "items": {
            "minLength": 1,
            "type": "string"
           },
           "type": "array"
          },
          "group": {
           "description": "Group path. (a.k.a. path in zarr terminology.).",
           "minLength": 1,
           "type": "string"
          },
          "log_access": {
           "default": false,
           "type": "boolean"
          },
          "mask_and_scale": {
           "default": true,
           "description": "If True, replace array values equal to attribute \"_FillValue\" with NaN.  Use \"scale_factor\" and \"add_offset\" attributes to compute actual values.",
           "type": "boolean"
          }
         },
         "type": "object"
        },
        "legacy": {
         "additionalProperties": false,
         "properties": {
          "time_range": {
           "items": [
            {
             "format": "date",
             "type": "string"
            },
            {
             "format": "date",
             "type": "string"
            }
           ],
           "type": "array"
          }
         },
         "type": "object"
        }
       },
       "title": "Opening parameters for all supported CLMS products.",
       "type": "object"
      },
      "text/plain": [
       "<xcube.util.jsonschema.JsonObjectSchema at 0x7b70d42aaf90>"
      ]
     },
     "execution_count": 10,
     "metadata": {},
     "output_type": "execute_result"
    }
   ],
   "source": [
    "%%time\n",
    "clms_data_store.get_open_data_params_schema()"
   ]
  },
  {
   "cell_type": "code",
   "execution_count": 11,
   "id": "a2379d55-86e1-41be-9cff-993825ddfdb5",
   "metadata": {},
   "outputs": [
    {
     "name": "stdout",
     "output_type": "stream",
     "text": [
      "CPU times: user 39.5 ms, sys: 205 μs, total: 39.7 ms\n",
      "Wall time: 226 ms\n"
     ]
    },
    {
     "data": {
      "application/json": {
       "additionalProperties": false,
       "properties": {
        "time_range": {
         "items": [
          {
           "format": "date",
           "type": "string"
          },
          {
           "format": "date",
           "type": "string"
          }
         ],
         "type": "array"
        }
       },
       "type": "object"
      },
      "text/plain": [
       "<xcube.util.jsonschema.JsonObjectSchema at 0x7b70d42ab770>"
      ]
     },
     "execution_count": 11,
     "metadata": {},
     "output_type": "execute_result"
    }
   ],
   "source": [
    "%%time\n",
    "clms_data_store.get_open_data_params_schema(\"daily-surface-soil-moisture-v1.0\")"
   ]
  },
  {
   "cell_type": "code",
   "execution_count": 12,
   "id": "788ab197-063d-4c15-8772-66c03297aee5",
   "metadata": {},
   "outputs": [
    {
     "name": "stdout",
     "output_type": "stream",
     "text": [
      "CPU times: user 39.1 ms, sys: 940 μs, total: 40 ms\n",
      "Wall time: 228 ms\n"
     ]
    },
    {
     "data": {
      "text/plain": [
       "True"
      ]
     },
     "execution_count": 12,
     "metadata": {},
     "output_type": "execute_result"
    }
   ],
   "source": [
    "%%time\n",
    "clms_data_store.has_data(\"daily-surface-soil-moisture-v1.0\")"
   ]
  },
  {
   "cell_type": "code",
   "execution_count": 13,
   "id": "0e97fb00-9594-442d-86d2-ac904487e22c",
   "metadata": {
    "scrolled": true
   },
   "outputs": [
    {
     "name": "stderr",
     "output_type": "stream",
     "text": [
      "Attempt 1 failed: FileNotFoundError: https://globalland.vito.be/download/netcdf/surface_soil_moisture/ssm_1km_v1_daily/2020/20200220/c_gls_SSM1km_202002200000_CEURO_S1CSAR_V1.1.1.nc\n",
      "Attempt 2 failed: FileNotFoundError: https://globalland.vito.be/download/netcdf/surface_soil_moisture/ssm_1km_v1_daily/2020/20200210/c_gls_SSM1km_202002100000_CEURO_S1CSAR_V1.1.1.nc\n",
      "Attempt 3 failed: FileNotFoundError: https://globalland.vito.be/download/netcdf/surface_soil_moisture/ssm_1km_v1_daily/2020/20200210/c_gls_SSM1km_202002100000_CEURO_S1CSAR_V1.1.1.nc\n",
      "Attempt 4 failed: FileNotFoundError: https://globalland.vito.be/download/netcdf/surface_soil_moisture/ssm_1km_v1_daily/2020/20200210/c_gls_SSM1km_202002100000_CEURO_S1CSAR_V1.1.1.nc\n"
     ]
    },
    {
     "name": "stdout",
     "output_type": "stream",
     "text": [
      "CPU times: user 6.88 s, sys: 1.35 s, total: 8.23 s\n",
      "Wall time: 2min 8s\n"
     ]
    }
   ],
   "source": [
    "%%time\n",
    "time_range = (\"2020-01-01\", \"2020-03-25\")\n",
    "dataset = clms_data_store.open_data(\"daily-surface-soil-moisture-v1.0\", time_range=time_range)"
   ]
  },
  {
   "cell_type": "code",
   "execution_count": 14,
   "id": "43a39d04-f542-450f-b680-8431a1021df7",
   "metadata": {},
   "outputs": [
    {
     "data": {
      "text/html": [
       "<div><svg style=\"position: absolute; width: 0; height: 0; overflow: hidden\">\n",
       "<defs>\n",
       "<symbol id=\"icon-database\" viewBox=\"0 0 32 32\">\n",
       "<path d=\"M16 0c-8.837 0-16 2.239-16 5v4c0 2.761 7.163 5 16 5s16-2.239 16-5v-4c0-2.761-7.163-5-16-5z\"></path>\n",
       "<path d=\"M16 17c-8.837 0-16-2.239-16-5v6c0 2.761 7.163 5 16 5s16-2.239 16-5v-6c0 2.761-7.163 5-16 5z\"></path>\n",
       "<path d=\"M16 26c-8.837 0-16-2.239-16-5v6c0 2.761 7.163 5 16 5s16-2.239 16-5v-6c0 2.761-7.163 5-16 5z\"></path>\n",
       "</symbol>\n",
       "<symbol id=\"icon-file-text2\" viewBox=\"0 0 32 32\">\n",
       "<path d=\"M28.681 7.159c-0.694-0.947-1.662-2.053-2.724-3.116s-2.169-2.030-3.116-2.724c-1.612-1.182-2.393-1.319-2.841-1.319h-15.5c-1.378 0-2.5 1.121-2.5 2.5v27c0 1.378 1.122 2.5 2.5 2.5h23c1.378 0 2.5-1.122 2.5-2.5v-19.5c0-0.448-0.137-1.23-1.319-2.841zM24.543 5.457c0.959 0.959 1.712 1.825 2.268 2.543h-4.811v-4.811c0.718 0.556 1.584 1.309 2.543 2.268zM28 29.5c0 0.271-0.229 0.5-0.5 0.5h-23c-0.271 0-0.5-0.229-0.5-0.5v-27c0-0.271 0.229-0.5 0.5-0.5 0 0 15.499-0 15.5 0v7c0 0.552 0.448 1 1 1h7v19.5z\"></path>\n",
       "<path d=\"M23 26h-14c-0.552 0-1-0.448-1-1s0.448-1 1-1h14c0.552 0 1 0.448 1 1s-0.448 1-1 1z\"></path>\n",
       "<path d=\"M23 22h-14c-0.552 0-1-0.448-1-1s0.448-1 1-1h14c0.552 0 1 0.448 1 1s-0.448 1-1 1z\"></path>\n",
       "<path d=\"M23 18h-14c-0.552 0-1-0.448-1-1s0.448-1 1-1h14c0.552 0 1 0.448 1 1s-0.448 1-1 1z\"></path>\n",
       "</symbol>\n",
       "</defs>\n",
       "</svg>\n",
       "<style>/* CSS stylesheet for displaying xarray objects in jupyterlab.\n",
       " *\n",
       " */\n",
       "\n",
       ":root {\n",
       "  --xr-font-color0: var(--jp-content-font-color0, rgba(0, 0, 0, 1));\n",
       "  --xr-font-color2: var(--jp-content-font-color2, rgba(0, 0, 0, 0.54));\n",
       "  --xr-font-color3: var(--jp-content-font-color3, rgba(0, 0, 0, 0.38));\n",
       "  --xr-border-color: var(--jp-border-color2, #e0e0e0);\n",
       "  --xr-disabled-color: var(--jp-layout-color3, #bdbdbd);\n",
       "  --xr-background-color: var(--jp-layout-color0, white);\n",
       "  --xr-background-color-row-even: var(--jp-layout-color1, white);\n",
       "  --xr-background-color-row-odd: var(--jp-layout-color2, #eeeeee);\n",
       "}\n",
       "\n",
       "html[theme=\"dark\"],\n",
       "html[data-theme=\"dark\"],\n",
       "body[data-theme=\"dark\"],\n",
       "body.vscode-dark {\n",
       "  --xr-font-color0: rgba(255, 255, 255, 1);\n",
       "  --xr-font-color2: rgba(255, 255, 255, 0.54);\n",
       "  --xr-font-color3: rgba(255, 255, 255, 0.38);\n",
       "  --xr-border-color: #1f1f1f;\n",
       "  --xr-disabled-color: #515151;\n",
       "  --xr-background-color: #111111;\n",
       "  --xr-background-color-row-even: #111111;\n",
       "  --xr-background-color-row-odd: #313131;\n",
       "}\n",
       "\n",
       ".xr-wrap {\n",
       "  display: block !important;\n",
       "  min-width: 300px;\n",
       "  max-width: 700px;\n",
       "}\n",
       "\n",
       ".xr-text-repr-fallback {\n",
       "  /* fallback to plain text repr when CSS is not injected (untrusted notebook) */\n",
       "  display: none;\n",
       "}\n",
       "\n",
       ".xr-header {\n",
       "  padding-top: 6px;\n",
       "  padding-bottom: 6px;\n",
       "  margin-bottom: 4px;\n",
       "  border-bottom: solid 1px var(--xr-border-color);\n",
       "}\n",
       "\n",
       ".xr-header > div,\n",
       ".xr-header > ul {\n",
       "  display: inline;\n",
       "  margin-top: 0;\n",
       "  margin-bottom: 0;\n",
       "}\n",
       "\n",
       ".xr-obj-type,\n",
       ".xr-array-name {\n",
       "  margin-left: 2px;\n",
       "  margin-right: 10px;\n",
       "}\n",
       "\n",
       ".xr-obj-type {\n",
       "  color: var(--xr-font-color2);\n",
       "}\n",
       "\n",
       ".xr-sections {\n",
       "  padding-left: 0 !important;\n",
       "  display: grid;\n",
       "  grid-template-columns: 150px auto auto 1fr 0 20px 0 20px;\n",
       "}\n",
       "\n",
       ".xr-section-item {\n",
       "  display: contents;\n",
       "}\n",
       "\n",
       ".xr-section-item input {\n",
       "  display: inline-block;\n",
       "  opacity: 0;\n",
       "  height: 0;\n",
       "}\n",
       "\n",
       ".xr-section-item input + label {\n",
       "  color: var(--xr-disabled-color);\n",
       "}\n",
       "\n",
       ".xr-section-item input:enabled + label {\n",
       "  cursor: pointer;\n",
       "  color: var(--xr-font-color2);\n",
       "}\n",
       "\n",
       ".xr-section-item input:focus + label {\n",
       "  border: 2px solid var(--xr-font-color0);\n",
       "}\n",
       "\n",
       ".xr-section-item input:enabled + label:hover {\n",
       "  color: var(--xr-font-color0);\n",
       "}\n",
       "\n",
       ".xr-section-summary {\n",
       "  grid-column: 1;\n",
       "  color: var(--xr-font-color2);\n",
       "  font-weight: 500;\n",
       "}\n",
       "\n",
       ".xr-section-summary > span {\n",
       "  display: inline-block;\n",
       "  padding-left: 0.5em;\n",
       "}\n",
       "\n",
       ".xr-section-summary-in:disabled + label {\n",
       "  color: var(--xr-font-color2);\n",
       "}\n",
       "\n",
       ".xr-section-summary-in + label:before {\n",
       "  display: inline-block;\n",
       "  content: \"►\";\n",
       "  font-size: 11px;\n",
       "  width: 15px;\n",
       "  text-align: center;\n",
       "}\n",
       "\n",
       ".xr-section-summary-in:disabled + label:before {\n",
       "  color: var(--xr-disabled-color);\n",
       "}\n",
       "\n",
       ".xr-section-summary-in:checked + label:before {\n",
       "  content: \"▼\";\n",
       "}\n",
       "\n",
       ".xr-section-summary-in:checked + label > span {\n",
       "  display: none;\n",
       "}\n",
       "\n",
       ".xr-section-summary,\n",
       ".xr-section-inline-details {\n",
       "  padding-top: 4px;\n",
       "  padding-bottom: 4px;\n",
       "}\n",
       "\n",
       ".xr-section-inline-details {\n",
       "  grid-column: 2 / -1;\n",
       "}\n",
       "\n",
       ".xr-section-details {\n",
       "  display: none;\n",
       "  grid-column: 1 / -1;\n",
       "  margin-bottom: 5px;\n",
       "}\n",
       "\n",
       ".xr-section-summary-in:checked ~ .xr-section-details {\n",
       "  display: contents;\n",
       "}\n",
       "\n",
       ".xr-array-wrap {\n",
       "  grid-column: 1 / -1;\n",
       "  display: grid;\n",
       "  grid-template-columns: 20px auto;\n",
       "}\n",
       "\n",
       ".xr-array-wrap > label {\n",
       "  grid-column: 1;\n",
       "  vertical-align: top;\n",
       "}\n",
       "\n",
       ".xr-preview {\n",
       "  color: var(--xr-font-color3);\n",
       "}\n",
       "\n",
       ".xr-array-preview,\n",
       ".xr-array-data {\n",
       "  padding: 0 5px !important;\n",
       "  grid-column: 2;\n",
       "}\n",
       "\n",
       ".xr-array-data,\n",
       ".xr-array-in:checked ~ .xr-array-preview {\n",
       "  display: none;\n",
       "}\n",
       "\n",
       ".xr-array-in:checked ~ .xr-array-data,\n",
       ".xr-array-preview {\n",
       "  display: inline-block;\n",
       "}\n",
       "\n",
       ".xr-dim-list {\n",
       "  display: inline-block !important;\n",
       "  list-style: none;\n",
       "  padding: 0 !important;\n",
       "  margin: 0;\n",
       "}\n",
       "\n",
       ".xr-dim-list li {\n",
       "  display: inline-block;\n",
       "  padding: 0;\n",
       "  margin: 0;\n",
       "}\n",
       "\n",
       ".xr-dim-list:before {\n",
       "  content: \"(\";\n",
       "}\n",
       "\n",
       ".xr-dim-list:after {\n",
       "  content: \")\";\n",
       "}\n",
       "\n",
       ".xr-dim-list li:not(:last-child):after {\n",
       "  content: \",\";\n",
       "  padding-right: 5px;\n",
       "}\n",
       "\n",
       ".xr-has-index {\n",
       "  font-weight: bold;\n",
       "}\n",
       "\n",
       ".xr-var-list,\n",
       ".xr-var-item {\n",
       "  display: contents;\n",
       "}\n",
       "\n",
       ".xr-var-item > div,\n",
       ".xr-var-item label,\n",
       ".xr-var-item > .xr-var-name span {\n",
       "  background-color: var(--xr-background-color-row-even);\n",
       "  margin-bottom: 0;\n",
       "}\n",
       "\n",
       ".xr-var-item > .xr-var-name:hover span {\n",
       "  padding-right: 5px;\n",
       "}\n",
       "\n",
       ".xr-var-list > li:nth-child(odd) > div,\n",
       ".xr-var-list > li:nth-child(odd) > label,\n",
       ".xr-var-list > li:nth-child(odd) > .xr-var-name span {\n",
       "  background-color: var(--xr-background-color-row-odd);\n",
       "}\n",
       "\n",
       ".xr-var-name {\n",
       "  grid-column: 1;\n",
       "}\n",
       "\n",
       ".xr-var-dims {\n",
       "  grid-column: 2;\n",
       "}\n",
       "\n",
       ".xr-var-dtype {\n",
       "  grid-column: 3;\n",
       "  text-align: right;\n",
       "  color: var(--xr-font-color2);\n",
       "}\n",
       "\n",
       ".xr-var-preview {\n",
       "  grid-column: 4;\n",
       "}\n",
       "\n",
       ".xr-index-preview {\n",
       "  grid-column: 2 / 5;\n",
       "  color: var(--xr-font-color2);\n",
       "}\n",
       "\n",
       ".xr-var-name,\n",
       ".xr-var-dims,\n",
       ".xr-var-dtype,\n",
       ".xr-preview,\n",
       ".xr-attrs dt {\n",
       "  white-space: nowrap;\n",
       "  overflow: hidden;\n",
       "  text-overflow: ellipsis;\n",
       "  padding-right: 10px;\n",
       "}\n",
       "\n",
       ".xr-var-name:hover,\n",
       ".xr-var-dims:hover,\n",
       ".xr-var-dtype:hover,\n",
       ".xr-attrs dt:hover {\n",
       "  overflow: visible;\n",
       "  width: auto;\n",
       "  z-index: 1;\n",
       "}\n",
       "\n",
       ".xr-var-attrs,\n",
       ".xr-var-data,\n",
       ".xr-index-data {\n",
       "  display: none;\n",
       "  background-color: var(--xr-background-color) !important;\n",
       "  padding-bottom: 5px !important;\n",
       "}\n",
       "\n",
       ".xr-var-attrs-in:checked ~ .xr-var-attrs,\n",
       ".xr-var-data-in:checked ~ .xr-var-data,\n",
       ".xr-index-data-in:checked ~ .xr-index-data {\n",
       "  display: block;\n",
       "}\n",
       "\n",
       ".xr-var-data > table {\n",
       "  float: right;\n",
       "}\n",
       "\n",
       ".xr-var-name span,\n",
       ".xr-var-data,\n",
       ".xr-index-name div,\n",
       ".xr-index-data,\n",
       ".xr-attrs {\n",
       "  padding-left: 25px !important;\n",
       "}\n",
       "\n",
       ".xr-attrs,\n",
       ".xr-var-attrs,\n",
       ".xr-var-data,\n",
       ".xr-index-data {\n",
       "  grid-column: 1 / -1;\n",
       "}\n",
       "\n",
       "dl.xr-attrs {\n",
       "  padding: 0;\n",
       "  margin: 0;\n",
       "  display: grid;\n",
       "  grid-template-columns: 125px auto;\n",
       "}\n",
       "\n",
       ".xr-attrs dt,\n",
       ".xr-attrs dd {\n",
       "  padding: 0;\n",
       "  margin: 0;\n",
       "  float: left;\n",
       "  padding-right: 10px;\n",
       "  width: auto;\n",
       "}\n",
       "\n",
       ".xr-attrs dt {\n",
       "  font-weight: normal;\n",
       "  grid-column: 1;\n",
       "}\n",
       "\n",
       ".xr-attrs dt:hover span {\n",
       "  display: inline-block;\n",
       "  background: var(--xr-background-color);\n",
       "  padding-right: 10px;\n",
       "}\n",
       "\n",
       ".xr-attrs dd {\n",
       "  grid-column: 2;\n",
       "  white-space: pre-wrap;\n",
       "  word-break: break-all;\n",
       "}\n",
       "\n",
       ".xr-icon-database,\n",
       ".xr-icon-file-text2,\n",
       ".xr-no-icon {\n",
       "  display: inline-block;\n",
       "  vertical-align: middle;\n",
       "  width: 1em;\n",
       "  height: 1.5em !important;\n",
       "  stroke-width: 0;\n",
       "  stroke: currentColor;\n",
       "  fill: currentColor;\n",
       "}\n",
       "</style><pre class='xr-text-repr-fallback'>&lt;xarray.Dataset&gt; Size: 19GB\n",
       "Dimensions:    (time: 85, lat: 4144, lon: 6832)\n",
       "Coordinates:\n",
       "  * lat        (lat) float64 33kB 72.0 71.99 71.98 71.97 ... 35.02 35.01 35.0\n",
       "  * lon        (lon) float64 55kB -11.0 -10.99 -10.98 ... 49.98 49.99 50.0\n",
       "  * time       (time) datetime64[ns] 680B 2020-01-01 2020-01-02 ... 2020-03-25\n",
       "Data variables:\n",
       "    crs        (time) |S1 85B b&#x27;&#x27; b&#x27;&#x27; b&#x27;&#x27; b&#x27;&#x27; b&#x27;&#x27; b&#x27;&#x27; ... b&#x27;&#x27; b&#x27;&#x27; b&#x27;&#x27; b&#x27;&#x27; b&#x27;&#x27;\n",
       "    ssm        (time, lat, lon) float32 10GB dask.array&lt;chunksize=(1, 1382, 2278), meta=np.ndarray&gt;\n",
       "    ssm_noise  (time, lat, lon) float32 10GB dask.array&lt;chunksize=(1, 1382, 2278), meta=np.ndarray&gt;\n",
       "Attributes: (12/26)\n",
       "    Conventions:               CF-1.6\n",
       "    archive_facility:          VITO\n",
       "    copyright:                 Copernicus Service information 2020\n",
       "    geospatial_lat_max:        72.0\n",
       "    geospatial_lat_min:        35.0\n",
       "    geospatial_lon_max:        50.0\n",
       "    ...                        ...\n",
       "    region_name:               CEURO\n",
       "    sensor:                    CSAR\n",
       "    source:                    Derived from EO radar observations\n",
       "    time_coverage_end:         2020-01-01T23:59:59Z\n",
       "    time_coverage_start:       2020-01-01T00:00:00Z\n",
       "    title:                     Daily Surface Soil Moisture 1km: CEURO 2020-01...</pre><div class='xr-wrap' style='display:none'><div class='xr-header'><div class='xr-obj-type'>xarray.Dataset</div></div><ul class='xr-sections'><li class='xr-section-item'><input id='section-f37b34f8-7750-4839-ad8e-386673dd4f88' class='xr-section-summary-in' type='checkbox' disabled ><label for='section-f37b34f8-7750-4839-ad8e-386673dd4f88' class='xr-section-summary'  title='Expand/collapse section'>Dimensions:</label><div class='xr-section-inline-details'><ul class='xr-dim-list'><li><span class='xr-has-index'>time</span>: 85</li><li><span class='xr-has-index'>lat</span>: 4144</li><li><span class='xr-has-index'>lon</span>: 6832</li></ul></div><div class='xr-section-details'></div></li><li class='xr-section-item'><input id='section-00258e13-51aa-4dbd-b9df-69b9d1a6e972' class='xr-section-summary-in' type='checkbox'  checked><label for='section-00258e13-51aa-4dbd-b9df-69b9d1a6e972' class='xr-section-summary' >Coordinates: <span>(3)</span></label><div class='xr-section-inline-details'></div><div class='xr-section-details'><ul class='xr-var-list'><li class='xr-var-item'><div class='xr-var-name'><span class='xr-has-index'>lat</span></div><div class='xr-var-dims'>(lat)</div><div class='xr-var-dtype'>float64</div><div class='xr-var-preview xr-preview'>72.0 71.99 71.98 ... 35.01 35.0</div><input id='attrs-ae20a525-e92c-4907-85a5-8e6024fbe2b0' class='xr-var-attrs-in' type='checkbox' ><label for='attrs-ae20a525-e92c-4907-85a5-8e6024fbe2b0' title='Show/Hide attributes'><svg class='icon xr-icon-file-text2'><use xlink:href='#icon-file-text2'></use></svg></label><input id='data-3ff0a4cc-9075-49e4-9c52-b9d92a177e2f' class='xr-var-data-in' type='checkbox'><label for='data-3ff0a4cc-9075-49e4-9c52-b9d92a177e2f' title='Show/Hide data repr'><svg class='icon xr-icon-database'><use xlink:href='#icon-database'></use></svg></label><div class='xr-var-attrs'><dl class='xr-attrs'><dt><span>standard_name :</span></dt><dd>latitude</dd><dt><span>long_name :</span></dt><dd>latitude</dd><dt><span>units :</span></dt><dd>degrees_north</dd><dt><span>axis :</span></dt><dd>Y</dd><dt><span>valid_range :</span></dt><dd>[35. 72.]</dd></dl></div><div class='xr-var-data'><pre>array([71.995536, 71.986607, 71.977679, ..., 35.022321, 35.013393, 35.004464],\n",
       "      shape=(4144,))</pre></div></li><li class='xr-var-item'><div class='xr-var-name'><span class='xr-has-index'>lon</span></div><div class='xr-var-dims'>(lon)</div><div class='xr-var-dtype'>float64</div><div class='xr-var-preview xr-preview'>-11.0 -10.99 -10.98 ... 49.99 50.0</div><input id='attrs-97deeea0-9bc5-49f0-96c6-94e11dfecf5b' class='xr-var-attrs-in' type='checkbox' ><label for='attrs-97deeea0-9bc5-49f0-96c6-94e11dfecf5b' title='Show/Hide attributes'><svg class='icon xr-icon-file-text2'><use xlink:href='#icon-file-text2'></use></svg></label><input id='data-72ddcab8-9061-44f3-8a78-cc5019875cc3' class='xr-var-data-in' type='checkbox'><label for='data-72ddcab8-9061-44f3-8a78-cc5019875cc3' title='Show/Hide data repr'><svg class='icon xr-icon-database'><use xlink:href='#icon-database'></use></svg></label><div class='xr-var-attrs'><dl class='xr-attrs'><dt><span>standard_name :</span></dt><dd>longitude</dd><dt><span>long_name :</span></dt><dd>longitude</dd><dt><span>units :</span></dt><dd>degrees_east</dd><dt><span>axis :</span></dt><dd>X</dd><dt><span>valid_range :</span></dt><dd>[-11.  50.]</dd></dl></div><div class='xr-var-data'><pre>array([-10.995536, -10.986607, -10.977679, ...,  49.977679,  49.986607,\n",
       "        49.995536], shape=(6832,))</pre></div></li><li class='xr-var-item'><div class='xr-var-name'><span class='xr-has-index'>time</span></div><div class='xr-var-dims'>(time)</div><div class='xr-var-dtype'>datetime64[ns]</div><div class='xr-var-preview xr-preview'>2020-01-01 ... 2020-03-25</div><input id='attrs-2da2440d-a41f-4323-a553-acc28fc6f0c8' class='xr-var-attrs-in' type='checkbox' ><label for='attrs-2da2440d-a41f-4323-a553-acc28fc6f0c8' title='Show/Hide attributes'><svg class='icon xr-icon-file-text2'><use xlink:href='#icon-file-text2'></use></svg></label><input id='data-8b1d59c9-8323-4ab8-b3aa-ee7c792b5f8f' class='xr-var-data-in' type='checkbox'><label for='data-8b1d59c9-8323-4ab8-b3aa-ee7c792b5f8f' title='Show/Hide data repr'><svg class='icon xr-icon-database'><use xlink:href='#icon-database'></use></svg></label><div class='xr-var-attrs'><dl class='xr-attrs'><dt><span>standard_name :</span></dt><dd>time</dd><dt><span>long_name :</span></dt><dd>time</dd><dt><span>axis :</span></dt><dd>T</dd></dl></div><div class='xr-var-data'><pre>array([&#x27;2020-01-01T00:00:00.000000000&#x27;, &#x27;2020-01-02T00:00:00.000000000&#x27;,\n",
       "       &#x27;2020-01-03T00:00:00.000000000&#x27;, &#x27;2020-01-04T00:00:00.000000000&#x27;,\n",
       "       &#x27;2020-01-05T00:00:00.000000000&#x27;, &#x27;2020-01-06T00:00:00.000000000&#x27;,\n",
       "       &#x27;2020-01-07T00:00:00.000000000&#x27;, &#x27;2020-01-08T00:00:00.000000000&#x27;,\n",
       "       &#x27;2020-01-09T00:00:00.000000000&#x27;, &#x27;2020-01-10T00:00:00.000000000&#x27;,\n",
       "       &#x27;2020-01-11T00:00:00.000000000&#x27;, &#x27;2020-01-12T00:00:00.000000000&#x27;,\n",
       "       &#x27;2020-01-13T00:00:00.000000000&#x27;, &#x27;2020-01-14T00:00:00.000000000&#x27;,\n",
       "       &#x27;2020-01-15T00:00:00.000000000&#x27;, &#x27;2020-01-16T00:00:00.000000000&#x27;,\n",
       "       &#x27;2020-01-17T00:00:00.000000000&#x27;, &#x27;2020-01-18T00:00:00.000000000&#x27;,\n",
       "       &#x27;2020-01-19T00:00:00.000000000&#x27;, &#x27;2020-01-20T00:00:00.000000000&#x27;,\n",
       "       &#x27;2020-01-21T00:00:00.000000000&#x27;, &#x27;2020-01-22T00:00:00.000000000&#x27;,\n",
       "       &#x27;2020-01-23T00:00:00.000000000&#x27;, &#x27;2020-01-24T00:00:00.000000000&#x27;,\n",
       "       &#x27;2020-01-25T00:00:00.000000000&#x27;, &#x27;2020-01-26T00:00:00.000000000&#x27;,\n",
       "       &#x27;2020-01-27T00:00:00.000000000&#x27;, &#x27;2020-01-28T00:00:00.000000000&#x27;,\n",
       "       &#x27;2020-01-29T00:00:00.000000000&#x27;, &#x27;2020-01-30T00:00:00.000000000&#x27;,\n",
       "       &#x27;2020-01-31T00:00:00.000000000&#x27;, &#x27;2020-02-01T00:00:00.000000000&#x27;,\n",
       "       &#x27;2020-02-02T00:00:00.000000000&#x27;, &#x27;2020-02-03T00:00:00.000000000&#x27;,\n",
       "       &#x27;2020-02-04T00:00:00.000000000&#x27;, &#x27;2020-02-05T00:00:00.000000000&#x27;,\n",
       "       &#x27;2020-02-06T00:00:00.000000000&#x27;, &#x27;2020-02-07T00:00:00.000000000&#x27;,\n",
       "       &#x27;2020-02-08T00:00:00.000000000&#x27;, &#x27;2020-02-09T00:00:00.000000000&#x27;,\n",
       "       &#x27;2020-02-10T00:00:00.000000000&#x27;, &#x27;2020-02-11T00:00:00.000000000&#x27;,\n",
       "       &#x27;2020-02-12T00:00:00.000000000&#x27;, &#x27;2020-02-13T00:00:00.000000000&#x27;,\n",
       "       &#x27;2020-02-14T00:00:00.000000000&#x27;, &#x27;2020-02-15T00:00:00.000000000&#x27;,\n",
       "       &#x27;2020-02-16T00:00:00.000000000&#x27;, &#x27;2020-02-17T00:00:00.000000000&#x27;,\n",
       "       &#x27;2020-02-18T00:00:00.000000000&#x27;, &#x27;2020-02-19T00:00:00.000000000&#x27;,\n",
       "       &#x27;2020-02-20T00:00:00.000000000&#x27;, &#x27;2020-02-21T00:00:00.000000000&#x27;,\n",
       "       &#x27;2020-02-22T00:00:00.000000000&#x27;, &#x27;2020-02-23T00:00:00.000000000&#x27;,\n",
       "       &#x27;2020-02-24T00:00:00.000000000&#x27;, &#x27;2020-02-25T00:00:00.000000000&#x27;,\n",
       "       &#x27;2020-02-26T00:00:00.000000000&#x27;, &#x27;2020-02-27T00:00:00.000000000&#x27;,\n",
       "       &#x27;2020-02-28T00:00:00.000000000&#x27;, &#x27;2020-02-29T00:00:00.000000000&#x27;,\n",
       "       &#x27;2020-03-01T00:00:00.000000000&#x27;, &#x27;2020-03-02T00:00:00.000000000&#x27;,\n",
       "       &#x27;2020-03-03T00:00:00.000000000&#x27;, &#x27;2020-03-04T00:00:00.000000000&#x27;,\n",
       "       &#x27;2020-03-05T00:00:00.000000000&#x27;, &#x27;2020-03-06T00:00:00.000000000&#x27;,\n",
       "       &#x27;2020-03-07T00:00:00.000000000&#x27;, &#x27;2020-03-08T00:00:00.000000000&#x27;,\n",
       "       &#x27;2020-03-09T00:00:00.000000000&#x27;, &#x27;2020-03-10T00:00:00.000000000&#x27;,\n",
       "       &#x27;2020-03-11T00:00:00.000000000&#x27;, &#x27;2020-03-12T00:00:00.000000000&#x27;,\n",
       "       &#x27;2020-03-13T00:00:00.000000000&#x27;, &#x27;2020-03-14T00:00:00.000000000&#x27;,\n",
       "       &#x27;2020-03-15T00:00:00.000000000&#x27;, &#x27;2020-03-16T00:00:00.000000000&#x27;,\n",
       "       &#x27;2020-03-17T00:00:00.000000000&#x27;, &#x27;2020-03-18T00:00:00.000000000&#x27;,\n",
       "       &#x27;2020-03-19T00:00:00.000000000&#x27;, &#x27;2020-03-20T00:00:00.000000000&#x27;,\n",
       "       &#x27;2020-03-21T00:00:00.000000000&#x27;, &#x27;2020-03-22T00:00:00.000000000&#x27;,\n",
       "       &#x27;2020-03-23T00:00:00.000000000&#x27;, &#x27;2020-03-24T00:00:00.000000000&#x27;,\n",
       "       &#x27;2020-03-25T00:00:00.000000000&#x27;], dtype=&#x27;datetime64[ns]&#x27;)</pre></div></li></ul></div></li><li class='xr-section-item'><input id='section-9f567c44-6629-4b3e-aa42-535075c0f5b6' class='xr-section-summary-in' type='checkbox'  checked><label for='section-9f567c44-6629-4b3e-aa42-535075c0f5b6' class='xr-section-summary' >Data variables: <span>(3)</span></label><div class='xr-section-inline-details'></div><div class='xr-section-details'><ul class='xr-var-list'><li class='xr-var-item'><div class='xr-var-name'><span>crs</span></div><div class='xr-var-dims'>(time)</div><div class='xr-var-dtype'>|S1</div><div class='xr-var-preview xr-preview'>b&#x27;&#x27; b&#x27;&#x27; b&#x27;&#x27; b&#x27;&#x27; ... b&#x27;&#x27; b&#x27;&#x27; b&#x27;&#x27; b&#x27;&#x27;</div><input id='attrs-3950a6bf-3120-4b72-baa1-ae4a69dd552e' class='xr-var-attrs-in' type='checkbox' ><label for='attrs-3950a6bf-3120-4b72-baa1-ae4a69dd552e' title='Show/Hide attributes'><svg class='icon xr-icon-file-text2'><use xlink:href='#icon-file-text2'></use></svg></label><input id='data-6dd0055d-63ef-4506-9432-dda6da297fb7' class='xr-var-data-in' type='checkbox'><label for='data-6dd0055d-63ef-4506-9432-dda6da297fb7' title='Show/Hide data repr'><svg class='icon xr-icon-database'><use xlink:href='#icon-database'></use></svg></label><div class='xr-var-attrs'><dl class='xr-attrs'><dt><span>grid_mapping_name :</span></dt><dd>latitude_longitude</dd><dt><span>long_name :</span></dt><dd>CRS definition</dd><dt><span>longitude_of_prime_meridian :</span></dt><dd>0.0</dd><dt><span>semi_major_axis :</span></dt><dd>6378137.0</dd><dt><span>inverse_flattening :</span></dt><dd>298.257223563</dd><dt><span>spatial_ref :</span></dt><dd>GEOGCS[&quot;WGS 84&quot;,DATUM[&quot;WGS_1984&quot;,SPHEROID[&quot;WGS 84&quot;,6378137,298.257223563,AUTHORITY[&quot;EPSG&quot;,&quot;7030&quot;]],AUTHORITY[&quot;EPSG&quot;,&quot;6326&quot;]],PRIMEM[&quot;Greenwich&quot;,0,AUTHORITY[&quot;EPSG&quot;,&quot;8901&quot;]],UNIT[&quot;degree&quot;,0.0174532925199433,AUTHORITY[&quot;EPSG&quot;,&quot;9122&quot;]],AUTHORITY[&quot;EPSG&quot;,&quot;4326&quot;]]</dd><dt><span>GeoTransform :</span></dt><dd>-11 0.008928571428571428 0 72 0 -0.008928571428571428</dd></dl></div><div class='xr-var-data'><pre>array([b&#x27;&#x27;, b&#x27;&#x27;, b&#x27;&#x27;, b&#x27;&#x27;, b&#x27;&#x27;, b&#x27;&#x27;, b&#x27;&#x27;, b&#x27;&#x27;, b&#x27;&#x27;, b&#x27;&#x27;, b&#x27;&#x27;, b&#x27;&#x27;, b&#x27;&#x27;,\n",
       "       b&#x27;&#x27;, b&#x27;&#x27;, b&#x27;&#x27;, b&#x27;&#x27;, b&#x27;&#x27;, b&#x27;&#x27;, b&#x27;&#x27;, b&#x27;&#x27;, b&#x27;&#x27;, b&#x27;&#x27;, b&#x27;&#x27;, b&#x27;&#x27;, b&#x27;&#x27;,\n",
       "       b&#x27;&#x27;, b&#x27;&#x27;, b&#x27;&#x27;, b&#x27;&#x27;, b&#x27;&#x27;, b&#x27;&#x27;, b&#x27;&#x27;, b&#x27;&#x27;, b&#x27;&#x27;, b&#x27;&#x27;, b&#x27;&#x27;, b&#x27;&#x27;, b&#x27;&#x27;,\n",
       "       b&#x27;&#x27;, b&#x27;&#x27;, b&#x27;&#x27;, b&#x27;&#x27;, b&#x27;&#x27;, b&#x27;&#x27;, b&#x27;&#x27;, b&#x27;&#x27;, b&#x27;&#x27;, b&#x27;&#x27;, b&#x27;&#x27;, b&#x27;&#x27;, b&#x27;&#x27;,\n",
       "       b&#x27;&#x27;, b&#x27;&#x27;, b&#x27;&#x27;, b&#x27;&#x27;, b&#x27;&#x27;, b&#x27;&#x27;, b&#x27;&#x27;, b&#x27;&#x27;, b&#x27;&#x27;, b&#x27;&#x27;, b&#x27;&#x27;, b&#x27;&#x27;, b&#x27;&#x27;,\n",
       "       b&#x27;&#x27;, b&#x27;&#x27;, b&#x27;&#x27;, b&#x27;&#x27;, b&#x27;&#x27;, b&#x27;&#x27;, b&#x27;&#x27;, b&#x27;&#x27;, b&#x27;&#x27;, b&#x27;&#x27;, b&#x27;&#x27;, b&#x27;&#x27;, b&#x27;&#x27;,\n",
       "       b&#x27;&#x27;, b&#x27;&#x27;, b&#x27;&#x27;, b&#x27;&#x27;, b&#x27;&#x27;, b&#x27;&#x27;, b&#x27;&#x27;], dtype=&#x27;|S1&#x27;)</pre></div></li><li class='xr-var-item'><div class='xr-var-name'><span>ssm</span></div><div class='xr-var-dims'>(time, lat, lon)</div><div class='xr-var-dtype'>float32</div><div class='xr-var-preview xr-preview'>dask.array&lt;chunksize=(1, 1382, 2278), meta=np.ndarray&gt;</div><input id='attrs-41090de0-5d53-4b92-83b0-d531e6330e09' class='xr-var-attrs-in' type='checkbox' ><label for='attrs-41090de0-5d53-4b92-83b0-d531e6330e09' title='Show/Hide attributes'><svg class='icon xr-icon-file-text2'><use xlink:href='#icon-file-text2'></use></svg></label><input id='data-9de53eb2-f7a3-402a-afde-a9435e63443f' class='xr-var-data-in' type='checkbox'><label for='data-9de53eb2-f7a3-402a-afde-a9435e63443f' title='Show/Hide data repr'><svg class='icon xr-icon-database'><use xlink:href='#icon-database'></use></svg></label><div class='xr-var-attrs'><dl class='xr-attrs'><dt><span>Class :</span></dt><dd>DATA</dd><dt><span>grid_mapping :</span></dt><dd>crs</dd><dt><span>flag_values :</span></dt><dd>[241 242 251 252 253]</dd><dt><span>flag_meanings :</span></dt><dd>ExceedingMin ExceedingMax WaterMask SensitivityMask SlopeMask</dd><dt><span>long_name :</span></dt><dd>Surface Soil Moisture</dd><dt><span>units :</span></dt><dd>%</dd><dt><span>valid_range :</span></dt><dd>[  0 200]</dd></dl></div><div class='xr-var-data'><table>\n",
       "    <tr>\n",
       "        <td>\n",
       "            <table style=\"border-collapse: collapse;\">\n",
       "                <thead>\n",
       "                    <tr>\n",
       "                        <td> </td>\n",
       "                        <th> Array </th>\n",
       "                        <th> Chunk </th>\n",
       "                    </tr>\n",
       "                </thead>\n",
       "                <tbody>\n",
       "                    \n",
       "                    <tr>\n",
       "                        <th> Bytes </th>\n",
       "                        <td> 8.96 GiB </td>\n",
       "                        <td> 12.01 MiB </td>\n",
       "                    </tr>\n",
       "                    \n",
       "                    <tr>\n",
       "                        <th> Shape </th>\n",
       "                        <td> (85, 4144, 6832) </td>\n",
       "                        <td> (1, 1382, 2278) </td>\n",
       "                    </tr>\n",
       "                    <tr>\n",
       "                        <th> Dask graph </th>\n",
       "                        <td colspan=\"2\"> 765 chunks in 176 graph layers </td>\n",
       "                    </tr>\n",
       "                    <tr>\n",
       "                        <th> Data type </th>\n",
       "                        <td colspan=\"2\"> float32 numpy.ndarray </td>\n",
       "                    </tr>\n",
       "                </tbody>\n",
       "            </table>\n",
       "        </td>\n",
       "        <td>\n",
       "        <svg width=\"195\" height=\"138\" style=\"stroke:rgb(0,0,0);stroke-width:1\" >\n",
       "\n",
       "  <!-- Horizontal lines -->\n",
       "  <line x1=\"10\" y1=\"0\" x2=\"25\" y2=\"15\" style=\"stroke-width:2\" />\n",
       "  <line x1=\"10\" y1=\"24\" x2=\"25\" y2=\"39\" />\n",
       "  <line x1=\"10\" y1=\"48\" x2=\"25\" y2=\"64\" />\n",
       "  <line x1=\"10\" y1=\"72\" x2=\"25\" y2=\"88\" style=\"stroke-width:2\" />\n",
       "\n",
       "  <!-- Vertical lines -->\n",
       "  <line x1=\"10\" y1=\"0\" x2=\"10\" y2=\"72\" style=\"stroke-width:2\" />\n",
       "  <line x1=\"10\" y1=\"0\" x2=\"10\" y2=\"73\" />\n",
       "  <line x1=\"11\" y1=\"1\" x2=\"11\" y2=\"74\" />\n",
       "  <line x1=\"12\" y1=\"2\" x2=\"12\" y2=\"75\" />\n",
       "  <line x1=\"13\" y1=\"3\" x2=\"13\" y2=\"75\" />\n",
       "  <line x1=\"14\" y1=\"4\" x2=\"14\" y2=\"76\" />\n",
       "  <line x1=\"14\" y1=\"4\" x2=\"14\" y2=\"77\" />\n",
       "  <line x1=\"15\" y1=\"5\" x2=\"15\" y2=\"78\" />\n",
       "  <line x1=\"16\" y1=\"6\" x2=\"16\" y2=\"79\" />\n",
       "  <line x1=\"17\" y1=\"7\" x2=\"17\" y2=\"80\" />\n",
       "  <line x1=\"18\" y1=\"8\" x2=\"18\" y2=\"80\" />\n",
       "  <line x1=\"18\" y1=\"8\" x2=\"18\" y2=\"81\" />\n",
       "  <line x1=\"19\" y1=\"9\" x2=\"19\" y2=\"82\" />\n",
       "  <line x1=\"20\" y1=\"10\" x2=\"20\" y2=\"83\" />\n",
       "  <line x1=\"21\" y1=\"11\" x2=\"21\" y2=\"84\" />\n",
       "  <line x1=\"22\" y1=\"12\" x2=\"22\" y2=\"85\" />\n",
       "  <line x1=\"23\" y1=\"13\" x2=\"23\" y2=\"85\" />\n",
       "  <line x1=\"23\" y1=\"13\" x2=\"23\" y2=\"86\" />\n",
       "  <line x1=\"24\" y1=\"14\" x2=\"24\" y2=\"87\" />\n",
       "  <line x1=\"25\" y1=\"15\" x2=\"25\" y2=\"88\" style=\"stroke-width:2\" />\n",
       "\n",
       "  <!-- Colored Rectangle -->\n",
       "  <polygon points=\"10.0,0.0 25.581727840557626,15.581727840557626 25.581727840557626,88.36861308645928 10.0,72.78688524590164\" style=\"fill:#8B4903A0;stroke-width:0\"/>\n",
       "\n",
       "  <!-- Horizontal lines -->\n",
       "  <line x1=\"10\" y1=\"0\" x2=\"130\" y2=\"0\" style=\"stroke-width:2\" />\n",
       "  <line x1=\"10\" y1=\"0\" x2=\"130\" y2=\"0\" />\n",
       "  <line x1=\"11\" y1=\"1\" x2=\"131\" y2=\"1\" />\n",
       "  <line x1=\"12\" y1=\"2\" x2=\"132\" y2=\"2\" />\n",
       "  <line x1=\"13\" y1=\"3\" x2=\"133\" y2=\"3\" />\n",
       "  <line x1=\"14\" y1=\"4\" x2=\"134\" y2=\"4\" />\n",
       "  <line x1=\"14\" y1=\"4\" x2=\"134\" y2=\"4\" />\n",
       "  <line x1=\"15\" y1=\"5\" x2=\"135\" y2=\"5\" />\n",
       "  <line x1=\"16\" y1=\"6\" x2=\"136\" y2=\"6\" />\n",
       "  <line x1=\"17\" y1=\"7\" x2=\"137\" y2=\"7\" />\n",
       "  <line x1=\"18\" y1=\"8\" x2=\"138\" y2=\"8\" />\n",
       "  <line x1=\"18\" y1=\"8\" x2=\"138\" y2=\"8\" />\n",
       "  <line x1=\"19\" y1=\"9\" x2=\"139\" y2=\"9\" />\n",
       "  <line x1=\"20\" y1=\"10\" x2=\"140\" y2=\"10\" />\n",
       "  <line x1=\"21\" y1=\"11\" x2=\"141\" y2=\"11\" />\n",
       "  <line x1=\"22\" y1=\"12\" x2=\"142\" y2=\"12\" />\n",
       "  <line x1=\"23\" y1=\"13\" x2=\"143\" y2=\"13\" />\n",
       "  <line x1=\"23\" y1=\"13\" x2=\"143\" y2=\"13\" />\n",
       "  <line x1=\"24\" y1=\"14\" x2=\"144\" y2=\"14\" />\n",
       "  <line x1=\"25\" y1=\"15\" x2=\"145\" y2=\"15\" style=\"stroke-width:2\" />\n",
       "\n",
       "  <!-- Vertical lines -->\n",
       "  <line x1=\"10\" y1=\"0\" x2=\"25\" y2=\"15\" style=\"stroke-width:2\" />\n",
       "  <line x1=\"50\" y1=\"0\" x2=\"65\" y2=\"15\" />\n",
       "  <line x1=\"90\" y1=\"0\" x2=\"105\" y2=\"15\" />\n",
       "  <line x1=\"130\" y1=\"0\" x2=\"145\" y2=\"15\" style=\"stroke-width:2\" />\n",
       "\n",
       "  <!-- Colored Rectangle -->\n",
       "  <polygon points=\"10.0,0.0 130.0,0.0 145.58172784055762,15.581727840557626 25.581727840557626,15.581727840557626\" style=\"fill:#8B4903A0;stroke-width:0\"/>\n",
       "\n",
       "  <!-- Horizontal lines -->\n",
       "  <line x1=\"25\" y1=\"15\" x2=\"145\" y2=\"15\" style=\"stroke-width:2\" />\n",
       "  <line x1=\"25\" y1=\"39\" x2=\"145\" y2=\"39\" />\n",
       "  <line x1=\"25\" y1=\"64\" x2=\"145\" y2=\"64\" />\n",
       "  <line x1=\"25\" y1=\"88\" x2=\"145\" y2=\"88\" style=\"stroke-width:2\" />\n",
       "\n",
       "  <!-- Vertical lines -->\n",
       "  <line x1=\"25\" y1=\"15\" x2=\"25\" y2=\"88\" style=\"stroke-width:2\" />\n",
       "  <line x1=\"65\" y1=\"15\" x2=\"65\" y2=\"88\" />\n",
       "  <line x1=\"105\" y1=\"15\" x2=\"105\" y2=\"88\" />\n",
       "  <line x1=\"145\" y1=\"15\" x2=\"145\" y2=\"88\" style=\"stroke-width:2\" />\n",
       "\n",
       "  <!-- Colored Rectangle -->\n",
       "  <polygon points=\"25.581727840557626,15.581727840557626 145.58172784055762,15.581727840557626 145.58172784055762,88.36861308645928 25.581727840557626,88.36861308645928\" style=\"fill:#ECB172A0;stroke-width:0\"/>\n",
       "\n",
       "  <!-- Text -->\n",
       "  <text x=\"85.581728\" y=\"108.368613\" font-size=\"1.0rem\" font-weight=\"100\" text-anchor=\"middle\" >6832</text>\n",
       "  <text x=\"165.581728\" y=\"51.975170\" font-size=\"1.0rem\" font-weight=\"100\" text-anchor=\"middle\" transform=\"rotate(-90,165.581728,51.975170)\">4144</text>\n",
       "  <text x=\"7.790864\" y=\"100.577749\" font-size=\"1.0rem\" font-weight=\"100\" text-anchor=\"middle\" transform=\"rotate(45,7.790864,100.577749)\">85</text>\n",
       "</svg>\n",
       "        </td>\n",
       "    </tr>\n",
       "</table></div></li><li class='xr-var-item'><div class='xr-var-name'><span>ssm_noise</span></div><div class='xr-var-dims'>(time, lat, lon)</div><div class='xr-var-dtype'>float32</div><div class='xr-var-preview xr-preview'>dask.array&lt;chunksize=(1, 1382, 2278), meta=np.ndarray&gt;</div><input id='attrs-37fedc51-58e7-451d-a11e-47ad797ea45a' class='xr-var-attrs-in' type='checkbox' ><label for='attrs-37fedc51-58e7-451d-a11e-47ad797ea45a' title='Show/Hide attributes'><svg class='icon xr-icon-file-text2'><use xlink:href='#icon-file-text2'></use></svg></label><input id='data-d340ca55-769e-4c0f-833f-062bfd7e0ce9' class='xr-var-data-in' type='checkbox'><label for='data-d340ca55-769e-4c0f-833f-062bfd7e0ce9' title='Show/Hide data repr'><svg class='icon xr-icon-database'><use xlink:href='#icon-database'></use></svg></label><div class='xr-var-attrs'><dl class='xr-attrs'><dt><span>Class :</span></dt><dd>DATA</dd><dt><span>grid_mapping :</span></dt><dd>crs</dd><dt><span>flag_values :</span></dt><dd>[241 242 251 252 253]</dd><dt><span>flag_meanings :</span></dt><dd>ExceedingMin ExceedingMax WaterMask SensitivityMask SlopeMask</dd><dt><span>long_name :</span></dt><dd>Surface Soil Moisture Noise</dd><dt><span>units :</span></dt><dd>%</dd><dt><span>valid_range :</span></dt><dd>[  0 200]</dd></dl></div><div class='xr-var-data'><table>\n",
       "    <tr>\n",
       "        <td>\n",
       "            <table style=\"border-collapse: collapse;\">\n",
       "                <thead>\n",
       "                    <tr>\n",
       "                        <td> </td>\n",
       "                        <th> Array </th>\n",
       "                        <th> Chunk </th>\n",
       "                    </tr>\n",
       "                </thead>\n",
       "                <tbody>\n",
       "                    \n",
       "                    <tr>\n",
       "                        <th> Bytes </th>\n",
       "                        <td> 8.96 GiB </td>\n",
       "                        <td> 12.01 MiB </td>\n",
       "                    </tr>\n",
       "                    \n",
       "                    <tr>\n",
       "                        <th> Shape </th>\n",
       "                        <td> (85, 4144, 6832) </td>\n",
       "                        <td> (1, 1382, 2278) </td>\n",
       "                    </tr>\n",
       "                    <tr>\n",
       "                        <th> Dask graph </th>\n",
       "                        <td colspan=\"2\"> 765 chunks in 176 graph layers </td>\n",
       "                    </tr>\n",
       "                    <tr>\n",
       "                        <th> Data type </th>\n",
       "                        <td colspan=\"2\"> float32 numpy.ndarray </td>\n",
       "                    </tr>\n",
       "                </tbody>\n",
       "            </table>\n",
       "        </td>\n",
       "        <td>\n",
       "        <svg width=\"195\" height=\"138\" style=\"stroke:rgb(0,0,0);stroke-width:1\" >\n",
       "\n",
       "  <!-- Horizontal lines -->\n",
       "  <line x1=\"10\" y1=\"0\" x2=\"25\" y2=\"15\" style=\"stroke-width:2\" />\n",
       "  <line x1=\"10\" y1=\"24\" x2=\"25\" y2=\"39\" />\n",
       "  <line x1=\"10\" y1=\"48\" x2=\"25\" y2=\"64\" />\n",
       "  <line x1=\"10\" y1=\"72\" x2=\"25\" y2=\"88\" style=\"stroke-width:2\" />\n",
       "\n",
       "  <!-- Vertical lines -->\n",
       "  <line x1=\"10\" y1=\"0\" x2=\"10\" y2=\"72\" style=\"stroke-width:2\" />\n",
       "  <line x1=\"10\" y1=\"0\" x2=\"10\" y2=\"73\" />\n",
       "  <line x1=\"11\" y1=\"1\" x2=\"11\" y2=\"74\" />\n",
       "  <line x1=\"12\" y1=\"2\" x2=\"12\" y2=\"75\" />\n",
       "  <line x1=\"13\" y1=\"3\" x2=\"13\" y2=\"75\" />\n",
       "  <line x1=\"14\" y1=\"4\" x2=\"14\" y2=\"76\" />\n",
       "  <line x1=\"14\" y1=\"4\" x2=\"14\" y2=\"77\" />\n",
       "  <line x1=\"15\" y1=\"5\" x2=\"15\" y2=\"78\" />\n",
       "  <line x1=\"16\" y1=\"6\" x2=\"16\" y2=\"79\" />\n",
       "  <line x1=\"17\" y1=\"7\" x2=\"17\" y2=\"80\" />\n",
       "  <line x1=\"18\" y1=\"8\" x2=\"18\" y2=\"80\" />\n",
       "  <line x1=\"18\" y1=\"8\" x2=\"18\" y2=\"81\" />\n",
       "  <line x1=\"19\" y1=\"9\" x2=\"19\" y2=\"82\" />\n",
       "  <line x1=\"20\" y1=\"10\" x2=\"20\" y2=\"83\" />\n",
       "  <line x1=\"21\" y1=\"11\" x2=\"21\" y2=\"84\" />\n",
       "  <line x1=\"22\" y1=\"12\" x2=\"22\" y2=\"85\" />\n",
       "  <line x1=\"23\" y1=\"13\" x2=\"23\" y2=\"85\" />\n",
       "  <line x1=\"23\" y1=\"13\" x2=\"23\" y2=\"86\" />\n",
       "  <line x1=\"24\" y1=\"14\" x2=\"24\" y2=\"87\" />\n",
       "  <line x1=\"25\" y1=\"15\" x2=\"25\" y2=\"88\" style=\"stroke-width:2\" />\n",
       "\n",
       "  <!-- Colored Rectangle -->\n",
       "  <polygon points=\"10.0,0.0 25.581727840557626,15.581727840557626 25.581727840557626,88.36861308645928 10.0,72.78688524590164\" style=\"fill:#8B4903A0;stroke-width:0\"/>\n",
       "\n",
       "  <!-- Horizontal lines -->\n",
       "  <line x1=\"10\" y1=\"0\" x2=\"130\" y2=\"0\" style=\"stroke-width:2\" />\n",
       "  <line x1=\"10\" y1=\"0\" x2=\"130\" y2=\"0\" />\n",
       "  <line x1=\"11\" y1=\"1\" x2=\"131\" y2=\"1\" />\n",
       "  <line x1=\"12\" y1=\"2\" x2=\"132\" y2=\"2\" />\n",
       "  <line x1=\"13\" y1=\"3\" x2=\"133\" y2=\"3\" />\n",
       "  <line x1=\"14\" y1=\"4\" x2=\"134\" y2=\"4\" />\n",
       "  <line x1=\"14\" y1=\"4\" x2=\"134\" y2=\"4\" />\n",
       "  <line x1=\"15\" y1=\"5\" x2=\"135\" y2=\"5\" />\n",
       "  <line x1=\"16\" y1=\"6\" x2=\"136\" y2=\"6\" />\n",
       "  <line x1=\"17\" y1=\"7\" x2=\"137\" y2=\"7\" />\n",
       "  <line x1=\"18\" y1=\"8\" x2=\"138\" y2=\"8\" />\n",
       "  <line x1=\"18\" y1=\"8\" x2=\"138\" y2=\"8\" />\n",
       "  <line x1=\"19\" y1=\"9\" x2=\"139\" y2=\"9\" />\n",
       "  <line x1=\"20\" y1=\"10\" x2=\"140\" y2=\"10\" />\n",
       "  <line x1=\"21\" y1=\"11\" x2=\"141\" y2=\"11\" />\n",
       "  <line x1=\"22\" y1=\"12\" x2=\"142\" y2=\"12\" />\n",
       "  <line x1=\"23\" y1=\"13\" x2=\"143\" y2=\"13\" />\n",
       "  <line x1=\"23\" y1=\"13\" x2=\"143\" y2=\"13\" />\n",
       "  <line x1=\"24\" y1=\"14\" x2=\"144\" y2=\"14\" />\n",
       "  <line x1=\"25\" y1=\"15\" x2=\"145\" y2=\"15\" style=\"stroke-width:2\" />\n",
       "\n",
       "  <!-- Vertical lines -->\n",
       "  <line x1=\"10\" y1=\"0\" x2=\"25\" y2=\"15\" style=\"stroke-width:2\" />\n",
       "  <line x1=\"50\" y1=\"0\" x2=\"65\" y2=\"15\" />\n",
       "  <line x1=\"90\" y1=\"0\" x2=\"105\" y2=\"15\" />\n",
       "  <line x1=\"130\" y1=\"0\" x2=\"145\" y2=\"15\" style=\"stroke-width:2\" />\n",
       "\n",
       "  <!-- Colored Rectangle -->\n",
       "  <polygon points=\"10.0,0.0 130.0,0.0 145.58172784055762,15.581727840557626 25.581727840557626,15.581727840557626\" style=\"fill:#8B4903A0;stroke-width:0\"/>\n",
       "\n",
       "  <!-- Horizontal lines -->\n",
       "  <line x1=\"25\" y1=\"15\" x2=\"145\" y2=\"15\" style=\"stroke-width:2\" />\n",
       "  <line x1=\"25\" y1=\"39\" x2=\"145\" y2=\"39\" />\n",
       "  <line x1=\"25\" y1=\"64\" x2=\"145\" y2=\"64\" />\n",
       "  <line x1=\"25\" y1=\"88\" x2=\"145\" y2=\"88\" style=\"stroke-width:2\" />\n",
       "\n",
       "  <!-- Vertical lines -->\n",
       "  <line x1=\"25\" y1=\"15\" x2=\"25\" y2=\"88\" style=\"stroke-width:2\" />\n",
       "  <line x1=\"65\" y1=\"15\" x2=\"65\" y2=\"88\" />\n",
       "  <line x1=\"105\" y1=\"15\" x2=\"105\" y2=\"88\" />\n",
       "  <line x1=\"145\" y1=\"15\" x2=\"145\" y2=\"88\" style=\"stroke-width:2\" />\n",
       "\n",
       "  <!-- Colored Rectangle -->\n",
       "  <polygon points=\"25.581727840557626,15.581727840557626 145.58172784055762,15.581727840557626 145.58172784055762,88.36861308645928 25.581727840557626,88.36861308645928\" style=\"fill:#ECB172A0;stroke-width:0\"/>\n",
       "\n",
       "  <!-- Text -->\n",
       "  <text x=\"85.581728\" y=\"108.368613\" font-size=\"1.0rem\" font-weight=\"100\" text-anchor=\"middle\" >6832</text>\n",
       "  <text x=\"165.581728\" y=\"51.975170\" font-size=\"1.0rem\" font-weight=\"100\" text-anchor=\"middle\" transform=\"rotate(-90,165.581728,51.975170)\">4144</text>\n",
       "  <text x=\"7.790864\" y=\"100.577749\" font-size=\"1.0rem\" font-weight=\"100\" text-anchor=\"middle\" transform=\"rotate(45,7.790864,100.577749)\">85</text>\n",
       "</svg>\n",
       "        </td>\n",
       "    </tr>\n",
       "</table></div></li></ul></div></li><li class='xr-section-item'><input id='section-f5caba91-dc5b-47e4-acfd-44872b8df0c9' class='xr-section-summary-in' type='checkbox'  ><label for='section-f5caba91-dc5b-47e4-acfd-44872b8df0c9' class='xr-section-summary' >Indexes: <span>(3)</span></label><div class='xr-section-inline-details'></div><div class='xr-section-details'><ul class='xr-var-list'><li class='xr-var-item'><div class='xr-index-name'><div>lat</div></div><div class='xr-index-preview'>PandasIndex</div><input type='checkbox' disabled/><label></label><input id='index-facce53c-90aa-4d7d-8e93-a9a08cf29699' class='xr-index-data-in' type='checkbox'/><label for='index-facce53c-90aa-4d7d-8e93-a9a08cf29699' title='Show/Hide index repr'><svg class='icon xr-icon-database'><use xlink:href='#icon-database'></use></svg></label><div class='xr-index-data'><pre>PandasIndex(Index([ 71.99553571427731,  71.98660714284873,  71.97767857142017,\n",
       "        71.96874999999159,  71.95982142856303,  71.95089285713445,\n",
       "         71.9419642857059,  71.93303571427731,  71.92410714284875,\n",
       "        71.91517857142017,\n",
       "       ...\n",
       "        35.08482142857141,  35.07589285714284,  35.06696428571427,\n",
       "         35.0580357142857,  35.04910714285713,  35.04017857142856,\n",
       "        35.03124999999999,  35.02232142857142, 35.013392857142854,\n",
       "       35.004464285714285],\n",
       "      dtype=&#x27;float64&#x27;, name=&#x27;lat&#x27;, length=4144))</pre></div></li><li class='xr-var-item'><div class='xr-index-name'><div>lon</div></div><div class='xr-index-preview'>PandasIndex</div><input type='checkbox' disabled/><label></label><input id='index-67194e06-7845-4be5-ba8f-b6237bd2ef78' class='xr-index-data-in' type='checkbox'/><label for='index-67194e06-7845-4be5-ba8f-b6237bd2ef78' title='Show/Hide index repr'><svg class='icon xr-icon-database'><use xlink:href='#icon-database'></use></svg></label><div class='xr-index-data'><pre>PandasIndex(Index([-10.995535714285714, -10.986607142857142, -10.977678571428571,\n",
       "                 -10.96875, -10.959821428571429, -10.950892857142858,\n",
       "       -10.941964285714286, -10.933035714285715, -10.924107142857144,\n",
       "       -10.915178571428573,\n",
       "       ...\n",
       "         49.91517857142684,   49.92410714285541,   49.93303571428398,\n",
       "         49.94196428571255,   49.95089285714112,    49.9598214285697,\n",
       "        49.968749999998266,  49.977678571426836,   49.98660714285541,\n",
       "         49.99553571428398],\n",
       "      dtype=&#x27;float64&#x27;, name=&#x27;lon&#x27;, length=6832))</pre></div></li><li class='xr-var-item'><div class='xr-index-name'><div>time</div></div><div class='xr-index-preview'>PandasIndex</div><input type='checkbox' disabled/><label></label><input id='index-df34af1e-01bb-478d-9987-a5e45a051744' class='xr-index-data-in' type='checkbox'/><label for='index-df34af1e-01bb-478d-9987-a5e45a051744' title='Show/Hide index repr'><svg class='icon xr-icon-database'><use xlink:href='#icon-database'></use></svg></label><div class='xr-index-data'><pre>PandasIndex(DatetimeIndex([&#x27;2020-01-01&#x27;, &#x27;2020-01-02&#x27;, &#x27;2020-01-03&#x27;, &#x27;2020-01-04&#x27;,\n",
       "               &#x27;2020-01-05&#x27;, &#x27;2020-01-06&#x27;, &#x27;2020-01-07&#x27;, &#x27;2020-01-08&#x27;,\n",
       "               &#x27;2020-01-09&#x27;, &#x27;2020-01-10&#x27;, &#x27;2020-01-11&#x27;, &#x27;2020-01-12&#x27;,\n",
       "               &#x27;2020-01-13&#x27;, &#x27;2020-01-14&#x27;, &#x27;2020-01-15&#x27;, &#x27;2020-01-16&#x27;,\n",
       "               &#x27;2020-01-17&#x27;, &#x27;2020-01-18&#x27;, &#x27;2020-01-19&#x27;, &#x27;2020-01-20&#x27;,\n",
       "               &#x27;2020-01-21&#x27;, &#x27;2020-01-22&#x27;, &#x27;2020-01-23&#x27;, &#x27;2020-01-24&#x27;,\n",
       "               &#x27;2020-01-25&#x27;, &#x27;2020-01-26&#x27;, &#x27;2020-01-27&#x27;, &#x27;2020-01-28&#x27;,\n",
       "               &#x27;2020-01-29&#x27;, &#x27;2020-01-30&#x27;, &#x27;2020-01-31&#x27;, &#x27;2020-02-01&#x27;,\n",
       "               &#x27;2020-02-02&#x27;, &#x27;2020-02-03&#x27;, &#x27;2020-02-04&#x27;, &#x27;2020-02-05&#x27;,\n",
       "               &#x27;2020-02-06&#x27;, &#x27;2020-02-07&#x27;, &#x27;2020-02-08&#x27;, &#x27;2020-02-09&#x27;,\n",
       "               &#x27;2020-02-10&#x27;, &#x27;2020-02-11&#x27;, &#x27;2020-02-12&#x27;, &#x27;2020-02-13&#x27;,\n",
       "               &#x27;2020-02-14&#x27;, &#x27;2020-02-15&#x27;, &#x27;2020-02-16&#x27;, &#x27;2020-02-17&#x27;,\n",
       "               &#x27;2020-02-18&#x27;, &#x27;2020-02-19&#x27;, &#x27;2020-02-20&#x27;, &#x27;2020-02-21&#x27;,\n",
       "               &#x27;2020-02-22&#x27;, &#x27;2020-02-23&#x27;, &#x27;2020-02-24&#x27;, &#x27;2020-02-25&#x27;,\n",
       "               &#x27;2020-02-26&#x27;, &#x27;2020-02-27&#x27;, &#x27;2020-02-28&#x27;, &#x27;2020-02-29&#x27;,\n",
       "               &#x27;2020-03-01&#x27;, &#x27;2020-03-02&#x27;, &#x27;2020-03-03&#x27;, &#x27;2020-03-04&#x27;,\n",
       "               &#x27;2020-03-05&#x27;, &#x27;2020-03-06&#x27;, &#x27;2020-03-07&#x27;, &#x27;2020-03-08&#x27;,\n",
       "               &#x27;2020-03-09&#x27;, &#x27;2020-03-10&#x27;, &#x27;2020-03-11&#x27;, &#x27;2020-03-12&#x27;,\n",
       "               &#x27;2020-03-13&#x27;, &#x27;2020-03-14&#x27;, &#x27;2020-03-15&#x27;, &#x27;2020-03-16&#x27;,\n",
       "               &#x27;2020-03-17&#x27;, &#x27;2020-03-18&#x27;, &#x27;2020-03-19&#x27;, &#x27;2020-03-20&#x27;,\n",
       "               &#x27;2020-03-21&#x27;, &#x27;2020-03-22&#x27;, &#x27;2020-03-23&#x27;, &#x27;2020-03-24&#x27;,\n",
       "               &#x27;2020-03-25&#x27;],\n",
       "              dtype=&#x27;datetime64[ns]&#x27;, name=&#x27;time&#x27;, freq=None))</pre></div></li></ul></div></li><li class='xr-section-item'><input id='section-957cba9f-266e-478e-8e6c-ca03033587b1' class='xr-section-summary-in' type='checkbox'  ><label for='section-957cba9f-266e-478e-8e6c-ca03033587b1' class='xr-section-summary' >Attributes: <span>(26)</span></label><div class='xr-section-inline-details'></div><div class='xr-section-details'><dl class='xr-attrs'><dt><span>Conventions :</span></dt><dd>CF-1.6</dd><dt><span>archive_facility :</span></dt><dd>VITO</dd><dt><span>copyright :</span></dt><dd>Copernicus Service information 2020</dd><dt><span>geospatial_lat_max :</span></dt><dd>72.0</dd><dt><span>geospatial_lat_min :</span></dt><dd>35.0</dd><dt><span>geospatial_lon_max :</span></dt><dd>50.0</dd><dt><span>geospatial_lon_min :</span></dt><dd>-11.0</dd><dt><span>history :</span></dt><dd>2020-01-03 -- Near Real Time Production</dd><dt><span>identifier :</span></dt><dd>urn:cgls:global:ssm_v1_1km:SSM1km_202001010000_CEURO_S1CSAR_V1.1.1</dd><dt><span>institution :</span></dt><dd>TU Wien</dd><dt><span>long_name :</span></dt><dd>Surface Soil Moisture</dd><dt><span>model_parameter_baseline :</span></dt><dd>2015 - 2018</dd><dt><span>orbit_type :</span></dt><dd>LEO</dd><dt><span>parent_identifier :</span></dt><dd>urn:cgls:global:ssm_v1_1km</dd><dt><span>pixel_size :</span></dt><dd>0.0089285714 degrees</dd><dt><span>platform :</span></dt><dd>Sentinel-1 A+B</dd><dt><span>processing_level :</span></dt><dd>L2</dd><dt><span>processing_mode :</span></dt><dd>Near Real Time</dd><dt><span>product_version :</span></dt><dd>V1.1.1</dd><dt><span>references :</span></dt><dd>https://land.copernicus.eu/global/products/ssm</dd><dt><span>region_name :</span></dt><dd>CEURO</dd><dt><span>sensor :</span></dt><dd>CSAR</dd><dt><span>source :</span></dt><dd>Derived from EO radar observations</dd><dt><span>time_coverage_end :</span></dt><dd>2020-01-01T23:59:59Z</dd><dt><span>time_coverage_start :</span></dt><dd>2020-01-01T00:00:00Z</dd><dt><span>title :</span></dt><dd>Daily Surface Soil Moisture 1km: CEURO 2020-01-01T00:00:00Z</dd></dl></div></li></ul></div></div>"
      ],
      "text/plain": [
       "<xarray.Dataset> Size: 19GB\n",
       "Dimensions:    (time: 85, lat: 4144, lon: 6832)\n",
       "Coordinates:\n",
       "  * lat        (lat) float64 33kB 72.0 71.99 71.98 71.97 ... 35.02 35.01 35.0\n",
       "  * lon        (lon) float64 55kB -11.0 -10.99 -10.98 ... 49.98 49.99 50.0\n",
       "  * time       (time) datetime64[ns] 680B 2020-01-01 2020-01-02 ... 2020-03-25\n",
       "Data variables:\n",
       "    crs        (time) |S1 85B b'' b'' b'' b'' b'' b'' ... b'' b'' b'' b'' b''\n",
       "    ssm        (time, lat, lon) float32 10GB dask.array<chunksize=(1, 1382, 2278), meta=np.ndarray>\n",
       "    ssm_noise  (time, lat, lon) float32 10GB dask.array<chunksize=(1, 1382, 2278), meta=np.ndarray>\n",
       "Attributes: (12/26)\n",
       "    Conventions:               CF-1.6\n",
       "    archive_facility:          VITO\n",
       "    copyright:                 Copernicus Service information 2020\n",
       "    geospatial_lat_max:        72.0\n",
       "    geospatial_lat_min:        35.0\n",
       "    geospatial_lon_max:        50.0\n",
       "    ...                        ...\n",
       "    region_name:               CEURO\n",
       "    sensor:                    CSAR\n",
       "    source:                    Derived from EO radar observations\n",
       "    time_coverage_end:         2020-01-01T23:59:59Z\n",
       "    time_coverage_start:       2020-01-01T00:00:00Z\n",
       "    title:                     Daily Surface Soil Moisture 1km: CEURO 2020-01..."
      ]
     },
     "execution_count": 14,
     "metadata": {},
     "output_type": "execute_result"
    }
   ],
   "source": [
    "dataset"
   ]
  },
  {
   "cell_type": "code",
   "execution_count": 15,
   "id": "db6dd0e9-4e67-4e77-a7d6-33be2b122e87",
   "metadata": {},
   "outputs": [
    {
     "name": "stdout",
     "output_type": "stream",
     "text": [
      "CPU times: user 2.48 s, sys: 1.44 s, total: 3.91 s\n",
      "Wall time: 3.84 s\n"
     ]
    },
    {
     "data": {
      "text/plain": [
       "<matplotlib.collections.QuadMesh at 0x7b70909016a0>"
      ]
     },
     "execution_count": 15,
     "metadata": {},
     "output_type": "execute_result"
    },
    {
     "data": {
      "image/png": "[encoded data removed]",
      "text/plain": [
       "<Figure size 640x480 with 2 Axes>"
      ]
     },
     "metadata": {},
     "output_type": "display_data"
    }
   ],
   "source": [
    "%%time\n",
    "dataset.isel(time=0).ssm.plot(vmin=0, vmax=100)"
   ]
  }
 ],
 "metadata": {
  "kernelspec": {
   "display_name": "Python 3 (ipykernel)",
   "language": "python",
   "name": "python3"
  },
  "language_info": {
   "codemirror_mode": {
    "name": "ipython",
    "version": 3
   },
   "file_extension": ".py",
   "mimetype": "text/x-python",
   "name": "python",
   "nbconvert_exporter": "python",
   "pygments_lexer": "ipython3",
   "version": "3.13.3"
  }
 },
 "nbformat": 4,
 "nbformat_minor": 5
}
